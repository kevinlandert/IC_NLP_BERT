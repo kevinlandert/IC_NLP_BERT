{
  "nbformat": 4,
  "nbformat_minor": 0,
  "metadata": {
    "colab": {
      "name": "task_1_main.ipynb",
      "provenance": [],
      "collapsed_sections": [
        "njrVP6snx8Nt",
        "yK2KBrimGqjv",
        "eWtmu7anyLEd",
        "3e1fHh81AIUd",
        "f46AEn_3s1UJ",
        "3PxOsuS7Bi0g",
        "9eVLmkYwpnrH",
        "nftBwyNppl4J",
        "8hE_a2aiypgx",
        "7RDAIvnG4oXQ",
        "mJHjgo5XEELW",
        "huUfT43sLAmc",
        "y9brja9zLFR4",
        "Klgk-IngaRLa",
        "OTBXwqYqKIIB",
        "udJACzxtK1TG",
        "7I8pLd4JOtXQ",
        "uYSdwJ1XLVia"
      ],
      "toc_visible": true,
      "machine_shape": "hm"
    },
    "kernelspec": {
      "display_name": "Python 3",
      "language": "python",
      "name": "python3"
    },
    "language_info": {
      "codemirror_mode": {
        "name": "ipython",
        "version": 3
      },
      "file_extension": ".py",
      "mimetype": "text/x-python",
      "name": "python",
      "nbconvert_exporter": "python",
      "pygments_lexer": "ipython3",
      "version": "3.7.7"
    },
    "widgets": {
      "application/vnd.jupyter.widget-state+json": {
        "1a95fecb1b4a4dbbbd44e36ca9dbc21b": {
          "model_module": "@jupyter-widgets/controls",
          "model_name": "HBoxModel",
          "state": {
            "_view_name": "HBoxView",
            "_dom_classes": [],
            "_model_name": "HBoxModel",
            "_view_module": "@jupyter-widgets/controls",
            "_model_module_version": "1.5.0",
            "_view_count": null,
            "_view_module_version": "1.5.0",
            "box_style": "",
            "layout": "IPY_MODEL_536ea8e2ebf04992a462e752cb717019",
            "_model_module": "@jupyter-widgets/controls",
            "children": [
              "IPY_MODEL_d4165e152f654e178152e5c2482449da",
              "IPY_MODEL_55b2a7cca42847689dcbbb28ac2e1e1d"
            ]
          }
        },
        "536ea8e2ebf04992a462e752cb717019": {
          "model_module": "@jupyter-widgets/base",
          "model_name": "LayoutModel",
          "state": {
            "_view_name": "LayoutView",
            "grid_template_rows": null,
            "right": null,
            "justify_content": null,
            "_view_module": "@jupyter-widgets/base",
            "overflow": null,
            "_model_module_version": "1.2.0",
            "_view_count": null,
            "flex_flow": null,
            "width": null,
            "min_width": null,
            "border": null,
            "align_items": null,
            "bottom": null,
            "_model_module": "@jupyter-widgets/base",
            "top": null,
            "grid_column": null,
            "overflow_y": null,
            "overflow_x": null,
            "grid_auto_flow": null,
            "grid_area": null,
            "grid_template_columns": null,
            "flex": null,
            "_model_name": "LayoutModel",
            "justify_items": null,
            "grid_row": null,
            "max_height": null,
            "align_content": null,
            "visibility": null,
            "align_self": null,
            "height": null,
            "min_height": null,
            "padding": null,
            "grid_auto_rows": null,
            "grid_gap": null,
            "max_width": null,
            "order": null,
            "_view_module_version": "1.2.0",
            "grid_template_areas": null,
            "object_position": null,
            "object_fit": null,
            "grid_auto_columns": null,
            "margin": null,
            "display": null,
            "left": null
          }
        },
        "d4165e152f654e178152e5c2482449da": {
          "model_module": "@jupyter-widgets/controls",
          "model_name": "FloatProgressModel",
          "state": {
            "_view_name": "ProgressView",
            "style": "IPY_MODEL_41f43ad36677446aaf7fe5e7001ceac6",
            "_dom_classes": [],
            "description": "Downloading: 100%",
            "_model_name": "FloatProgressModel",
            "bar_style": "success",
            "max": 231508,
            "_view_module": "@jupyter-widgets/controls",
            "_model_module_version": "1.5.0",
            "value": 231508,
            "_view_count": null,
            "_view_module_version": "1.5.0",
            "orientation": "horizontal",
            "min": 0,
            "description_tooltip": null,
            "_model_module": "@jupyter-widgets/controls",
            "layout": "IPY_MODEL_8caac8a9f9be411ba7317c819bad2d2e"
          }
        },
        "55b2a7cca42847689dcbbb28ac2e1e1d": {
          "model_module": "@jupyter-widgets/controls",
          "model_name": "HTMLModel",
          "state": {
            "_view_name": "HTMLView",
            "style": "IPY_MODEL_b998666f69ae4a73b6114fe2f52ab949",
            "_dom_classes": [],
            "description": "",
            "_model_name": "HTMLModel",
            "placeholder": "​",
            "_view_module": "@jupyter-widgets/controls",
            "_model_module_version": "1.5.0",
            "value": " 232k/232k [00:00&lt;00:00, 311kB/s]",
            "_view_count": null,
            "_view_module_version": "1.5.0",
            "description_tooltip": null,
            "_model_module": "@jupyter-widgets/controls",
            "layout": "IPY_MODEL_ec3735061a944e7da8b6b357b411509b"
          }
        },
        "41f43ad36677446aaf7fe5e7001ceac6": {
          "model_module": "@jupyter-widgets/controls",
          "model_name": "ProgressStyleModel",
          "state": {
            "_view_name": "StyleView",
            "_model_name": "ProgressStyleModel",
            "description_width": "initial",
            "_view_module": "@jupyter-widgets/base",
            "_model_module_version": "1.5.0",
            "_view_count": null,
            "_view_module_version": "1.2.0",
            "bar_color": null,
            "_model_module": "@jupyter-widgets/controls"
          }
        },
        "8caac8a9f9be411ba7317c819bad2d2e": {
          "model_module": "@jupyter-widgets/base",
          "model_name": "LayoutModel",
          "state": {
            "_view_name": "LayoutView",
            "grid_template_rows": null,
            "right": null,
            "justify_content": null,
            "_view_module": "@jupyter-widgets/base",
            "overflow": null,
            "_model_module_version": "1.2.0",
            "_view_count": null,
            "flex_flow": null,
            "width": null,
            "min_width": null,
            "border": null,
            "align_items": null,
            "bottom": null,
            "_model_module": "@jupyter-widgets/base",
            "top": null,
            "grid_column": null,
            "overflow_y": null,
            "overflow_x": null,
            "grid_auto_flow": null,
            "grid_area": null,
            "grid_template_columns": null,
            "flex": null,
            "_model_name": "LayoutModel",
            "justify_items": null,
            "grid_row": null,
            "max_height": null,
            "align_content": null,
            "visibility": null,
            "align_self": null,
            "height": null,
            "min_height": null,
            "padding": null,
            "grid_auto_rows": null,
            "grid_gap": null,
            "max_width": null,
            "order": null,
            "_view_module_version": "1.2.0",
            "grid_template_areas": null,
            "object_position": null,
            "object_fit": null,
            "grid_auto_columns": null,
            "margin": null,
            "display": null,
            "left": null
          }
        },
        "b998666f69ae4a73b6114fe2f52ab949": {
          "model_module": "@jupyter-widgets/controls",
          "model_name": "DescriptionStyleModel",
          "state": {
            "_view_name": "StyleView",
            "_model_name": "DescriptionStyleModel",
            "description_width": "",
            "_view_module": "@jupyter-widgets/base",
            "_model_module_version": "1.5.0",
            "_view_count": null,
            "_view_module_version": "1.2.0",
            "_model_module": "@jupyter-widgets/controls"
          }
        },
        "ec3735061a944e7da8b6b357b411509b": {
          "model_module": "@jupyter-widgets/base",
          "model_name": "LayoutModel",
          "state": {
            "_view_name": "LayoutView",
            "grid_template_rows": null,
            "right": null,
            "justify_content": null,
            "_view_module": "@jupyter-widgets/base",
            "overflow": null,
            "_model_module_version": "1.2.0",
            "_view_count": null,
            "flex_flow": null,
            "width": null,
            "min_width": null,
            "border": null,
            "align_items": null,
            "bottom": null,
            "_model_module": "@jupyter-widgets/base",
            "top": null,
            "grid_column": null,
            "overflow_y": null,
            "overflow_x": null,
            "grid_auto_flow": null,
            "grid_area": null,
            "grid_template_columns": null,
            "flex": null,
            "_model_name": "LayoutModel",
            "justify_items": null,
            "grid_row": null,
            "max_height": null,
            "align_content": null,
            "visibility": null,
            "align_self": null,
            "height": null,
            "min_height": null,
            "padding": null,
            "grid_auto_rows": null,
            "grid_gap": null,
            "max_width": null,
            "order": null,
            "_view_module_version": "1.2.0",
            "grid_template_areas": null,
            "object_position": null,
            "object_fit": null,
            "grid_auto_columns": null,
            "margin": null,
            "display": null,
            "left": null
          }
        }
      }
    },
    "accelerator": "GPU"
  },
  "cells": [
    {
      "cell_type": "markdown",
      "metadata": {
        "id": "xNppdFiGaRLE"
      },
      "source": [
        "### Coursework coding instructions (please also see full coursework spec)\n",
        "\n",
        "Please choose if you want to do either Task 1 or Task 2. You should write your report about one task only.\n",
        "\n",
        "For the task you choose you will need to do two approaches:\n",
        "  - Approach 1, which can use use pre-trained embeddings / models\n",
        "  - Approach 2, which should not use any pre-trained embeddings or models\n",
        "We should be able to run both approaches from the same colab file\n",
        "\n",
        "#### Running your code:\n",
        "  - Your models should run automatically when running your colab file without further intervention\n",
        "  - For each task you should automatically output the performance of both models\n",
        "  - Your code should automatically download any libraries required\n",
        "\n",
        "#### Structure of your code:\n",
        "  - You are expected to use the 'train', 'eval' and 'model_performance' functions, although you may edit these as required\n",
        "  - Otherwise there are no restrictions on what you can do in your code\n",
        "\n",
        "#### Documentation:\n",
        "  - You are expected to produce a .README file summarising how you have approached both tasks\n",
        "\n",
        "#### Reproducibility:\n",
        "  - Your .README file should explain how to replicate the different experiments mentioned in your report\n",
        "\n",
        "Good luck! We are really looking forward to seeing your reports and your model code!"
      ]
    },
    {
      "cell_type": "markdown",
      "metadata": {
        "id": "B-oj4PMXnkSj"
      },
      "source": [
        "# README\n",
        "\n",
        "## Humor Regression Task\n",
        "\n",
        "This notebook contains different implementations of a regression to task to predict the funniness score of headline data in which one word of the headline has been replaced. \n",
        "\n",
        "There are 4 implementations which are separated by title in the notebook and are in the following order:\n",
        "1. Bi-LSTM with gloVe embedding\n",
        "2. BERT \n",
        "3. No pretrained representations using cosine distance regression\n",
        "4. No pretrained representations using Bi-LSTM\n",
        "\n",
        "### Installation\n",
        "All modules are imported at the top of the file and should be installed already when running on Google Colab, except for transformers. \n",
        "```python \n",
        "pip install transformers \n",
        "```\n",
        "is also included in the notebook, so make sure to run this. The data is downloaded through URLs so no other files are necessary to run this notebook, it is entirely self contained.\n",
        "\n",
        "### Running the notebook\n",
        "For ease of use, some of the code has been duplicated throughout the notebook so that one can very easily run the code from top to bottom. The code has been separated into titled sections. Sections can be skipped - i.e. one can directly run BERT without running Bi-LSTM in part 1, or directly go to part 2 with no pretrained embeddings, as long as the data is downloaded and preprocessed, such that the code up until the end of \"Data Preprocessing\" has run. \n"
      ]
    },
    {
      "cell_type": "markdown",
      "metadata": {
        "id": "njrVP6snx8Nt"
      },
      "source": [
        "### Setup Code"
      ]
    },
    {
      "cell_type": "code",
      "metadata": {
        "colab": {
          "base_uri": "https://localhost:8080/"
        },
        "id": "4WfDREnZaRLI",
        "outputId": "52650f1e-56b9-4fd7-bf4a-e6f5427f1da9"
      },
      "source": [
        "# You will need to download any word embeddings required for your code, e.g.:\n",
        "!wget http://nlp.stanford.edu/data/glove.6B.zip\n",
        "!unzip glove.6B.zip"
      ],
      "execution_count": 1,
      "outputs": [
        {
          "output_type": "stream",
          "text": [
            "--2021-02-25 09:14:43--  http://nlp.stanford.edu/data/glove.6B.zip\n",
            "Resolving nlp.stanford.edu (nlp.stanford.edu)... 171.64.67.140\n",
            "Connecting to nlp.stanford.edu (nlp.stanford.edu)|171.64.67.140|:80... connected.\n",
            "HTTP request sent, awaiting response... 302 Found\n",
            "Location: https://nlp.stanford.edu/data/glove.6B.zip [following]\n",
            "--2021-02-25 09:14:43--  https://nlp.stanford.edu/data/glove.6B.zip\n",
            "Connecting to nlp.stanford.edu (nlp.stanford.edu)|171.64.67.140|:443... connected.\n",
            "HTTP request sent, awaiting response... 301 Moved Permanently\n",
            "Location: http://downloads.cs.stanford.edu/nlp/data/glove.6B.zip [following]\n",
            "--2021-02-25 09:14:43--  http://downloads.cs.stanford.edu/nlp/data/glove.6B.zip\n",
            "Resolving downloads.cs.stanford.edu (downloads.cs.stanford.edu)... 171.64.64.22\n",
            "Connecting to downloads.cs.stanford.edu (downloads.cs.stanford.edu)|171.64.64.22|:80... connected.\n",
            "HTTP request sent, awaiting response... 200 OK\n",
            "Length: 862182613 (822M) [application/zip]\n",
            "Saving to: ‘glove.6B.zip’\n",
            "\n",
            "glove.6B.zip        100%[===================>] 822.24M  2.00MB/s    in 6m 51s  \n",
            "\n",
            "2021-02-25 09:21:35 (2.00 MB/s) - ‘glove.6B.zip’ saved [862182613/862182613]\n",
            "\n",
            "Archive:  glove.6B.zip\n",
            "  inflating: glove.6B.50d.txt        \n",
            "  inflating: glove.6B.100d.txt       \n",
            "  inflating: glove.6B.200d.txt       \n",
            "  inflating: glove.6B.300d.txt       \n"
          ],
          "name": "stdout"
        }
      ]
    },
    {
      "cell_type": "code",
      "metadata": {
        "colab": {
          "base_uri": "https://localhost:8080/"
        },
        "id": "D6XoHzG_bHDo",
        "outputId": "35d356f3-01d7-48a3-bba7-5cea4eab9be3"
      },
      "source": [
        "! pip install transformers"
      ],
      "execution_count": 2,
      "outputs": [
        {
          "output_type": "stream",
          "text": [
            "Collecting transformers\n",
            "\u001b[?25l  Downloading https://files.pythonhosted.org/packages/f9/54/5ca07ec9569d2f232f3166de5457b63943882f7950ddfcc887732fc7fb23/transformers-4.3.3-py3-none-any.whl (1.9MB)\n",
            "\u001b[K     |████████████████████████████████| 1.9MB 9.7MB/s \n",
            "\u001b[?25hRequirement already satisfied: regex!=2019.12.17 in /usr/local/lib/python3.7/dist-packages (from transformers) (2019.12.20)\n",
            "Collecting tokenizers<0.11,>=0.10.1\n",
            "\u001b[?25l  Downloading https://files.pythonhosted.org/packages/71/23/2ddc317b2121117bf34dd00f5b0de194158f2a44ee2bf5e47c7166878a97/tokenizers-0.10.1-cp37-cp37m-manylinux2010_x86_64.whl (3.2MB)\n",
            "\u001b[K     |████████████████████████████████| 3.2MB 36.5MB/s \n",
            "\u001b[?25hRequirement already satisfied: filelock in /usr/local/lib/python3.7/dist-packages (from transformers) (3.0.12)\n",
            "Requirement already satisfied: packaging in /usr/local/lib/python3.7/dist-packages (from transformers) (20.9)\n",
            "Collecting sacremoses\n",
            "\u001b[?25l  Downloading https://files.pythonhosted.org/packages/7d/34/09d19aff26edcc8eb2a01bed8e98f13a1537005d31e95233fd48216eed10/sacremoses-0.0.43.tar.gz (883kB)\n",
            "\u001b[K     |████████████████████████████████| 890kB 62.5MB/s \n",
            "\u001b[?25hRequirement already satisfied: importlib-metadata; python_version < \"3.8\" in /usr/local/lib/python3.7/dist-packages (from transformers) (3.4.0)\n",
            "Requirement already satisfied: requests in /usr/local/lib/python3.7/dist-packages (from transformers) (2.23.0)\n",
            "Requirement already satisfied: numpy>=1.17 in /usr/local/lib/python3.7/dist-packages (from transformers) (1.19.5)\n",
            "Requirement already satisfied: tqdm>=4.27 in /usr/local/lib/python3.7/dist-packages (from transformers) (4.41.1)\n",
            "Requirement already satisfied: pyparsing>=2.0.2 in /usr/local/lib/python3.7/dist-packages (from packaging->transformers) (2.4.7)\n",
            "Requirement already satisfied: six in /usr/local/lib/python3.7/dist-packages (from sacremoses->transformers) (1.15.0)\n",
            "Requirement already satisfied: click in /usr/local/lib/python3.7/dist-packages (from sacremoses->transformers) (7.1.2)\n",
            "Requirement already satisfied: joblib in /usr/local/lib/python3.7/dist-packages (from sacremoses->transformers) (1.0.1)\n",
            "Requirement already satisfied: zipp>=0.5 in /usr/local/lib/python3.7/dist-packages (from importlib-metadata; python_version < \"3.8\"->transformers) (3.4.0)\n",
            "Requirement already satisfied: typing-extensions>=3.6.4; python_version < \"3.8\" in /usr/local/lib/python3.7/dist-packages (from importlib-metadata; python_version < \"3.8\"->transformers) (3.7.4.3)\n",
            "Requirement already satisfied: chardet<4,>=3.0.2 in /usr/local/lib/python3.7/dist-packages (from requests->transformers) (3.0.4)\n",
            "Requirement already satisfied: urllib3!=1.25.0,!=1.25.1,<1.26,>=1.21.1 in /usr/local/lib/python3.7/dist-packages (from requests->transformers) (1.24.3)\n",
            "Requirement already satisfied: certifi>=2017.4.17 in /usr/local/lib/python3.7/dist-packages (from requests->transformers) (2020.12.5)\n",
            "Requirement already satisfied: idna<3,>=2.5 in /usr/local/lib/python3.7/dist-packages (from requests->transformers) (2.10)\n",
            "Building wheels for collected packages: sacremoses\n",
            "  Building wheel for sacremoses (setup.py) ... \u001b[?25l\u001b[?25hdone\n",
            "  Created wheel for sacremoses: filename=sacremoses-0.0.43-cp37-none-any.whl size=893262 sha256=532c85c220d3b0f845d3687bc1816cd7904c194b084c70487b3a4e423d086131\n",
            "  Stored in directory: /root/.cache/pip/wheels/29/3c/fd/7ce5c3f0666dab31a50123635e6fb5e19ceb42ce38d4e58f45\n",
            "Successfully built sacremoses\n",
            "Installing collected packages: tokenizers, sacremoses, transformers\n",
            "Successfully installed sacremoses-0.0.43 tokenizers-0.10.1 transformers-4.3.3\n"
          ],
          "name": "stdout"
        }
      ]
    },
    {
      "cell_type": "code",
      "metadata": {
        "id": "kFcC8gvDaRLI",
        "colab": {
          "base_uri": "https://localhost:8080/"
        },
        "outputId": "694c8ae7-2f4f-4226-c6a3-09dbf3ad6d5a"
      },
      "source": [
        "# Imports\n",
        "\n",
        "import torch\n",
        "import torch.nn as nn\n",
        "import torch.nn.functional as F\n",
        "import pandas as pd\n",
        "import numpy as np\n",
        "from sklearn.feature_extraction.text import CountVectorizer\n",
        "from torch.utils.data import Dataset, random_split\n",
        "from sklearn.feature_extraction.text import TfidfTransformer\n",
        "from sklearn.model_selection import train_test_split\n",
        "from sklearn.linear_model import LinearRegression\n",
        "import codecs\n",
        "from transformers import RobertaTokenizer, RobertaModel, BertTokenizer, BertModel, BertForSequenceClassification, AdamW, BertConfig, get_linear_schedule_with_warmup\n",
        "import spacy\n",
        "import nltk\n",
        "nltk.download('wordnet')\n",
        "from nltk.stem.porter import *\n",
        "from nltk.stem import WordNetLemmatizer\n",
        "from spacy.tokenizer import Tokenizer\n",
        "import re\n",
        "import pdb\n",
        "import random\n",
        "import csv\n",
        "import tqdm\n",
        "from tqdm import tqdm\n",
        "import multiprocessing\n",
        "import pickle\n",
        "from torch.utils.data import TensorDataset, random_split\n",
        "from torch.utils.data import DataLoader, RandomSampler, SequentialSampler\n",
        "import matplotlib.pyplot as plt\n",
        "import os\n",
        "\n"
      ],
      "execution_count": 3,
      "outputs": [
        {
          "output_type": "stream",
          "text": [
            "[nltk_data] Downloading package wordnet to /root/nltk_data...\n",
            "[nltk_data]   Unzipping corpora/wordnet.zip.\n"
          ],
          "name": "stdout"
        }
      ]
    },
    {
      "cell_type": "code",
      "metadata": {
        "colab": {
          "base_uri": "https://localhost:8080/"
        },
        "id": "84OyAVNSaRLJ",
        "outputId": "e2e36cfc-303b-43ab-bb9f-3ab75fa6ba0e"
      },
      "source": [
        "# Setting random seed and device\n",
        "SEED = 1\n",
        "\n",
        "torch.manual_seed(SEED)\n",
        "torch.cuda.manual_seed(SEED)\n",
        "torch.backends.cudnn.deterministic = True\n",
        "\n",
        "use_cuda = torch.cuda.is_available()\n",
        "device = torch.device(\"cuda:0\" if use_cuda else \"cpu\")\n",
        "device"
      ],
      "execution_count": 4,
      "outputs": [
        {
          "output_type": "execute_result",
          "data": {
            "text/plain": [
              "device(type='cuda', index=0)"
            ]
          },
          "metadata": {
            "tags": []
          },
          "execution_count": 4
        }
      ]
    },
    {
      "cell_type": "code",
      "metadata": {
        "colab": {
          "base_uri": "https://localhost:8080/"
        },
        "id": "2gxbblziaRLK",
        "outputId": "283f8d6a-62ef-4642-cc84-25bb577a1779"
      },
      "source": [
        "# Load data\n",
        "%mkdir ./data\n",
        "%cd ./data\n",
        "import os\n",
        "\n",
        "if not os.path.isfile('train.csv'):\n",
        "    !wget -O train.csv https://www.dropbox.com/s/utcewlslgwm278m/train.csv?dl=0\n",
        "if not os.path.isfile('dev.csv'):\n",
        "    !wget -O dev.csv https://www.dropbox.com/s/0bpqmpb009ay717/dev.csv?dl=0\n",
        "if not os.path.isfile('extra_train.csv'):\n",
        "    !wget -O extra_train.csv https://www.dropbox.com/s/6bptu62w4uvhtkf/extra_train_data-3.csv?dl=0\n",
        "if not os.path.isfile('truth_task_1.csv'):\n",
        "    !wget -O truth_task_1.csv https://www.dropbox.com/s/p29wv4075zrcd7n/truth_task_1.csv?dl=0\n",
        "\n",
        "%cd ..\n",
        "\n",
        "train_df = pd.read_csv('./data/train.csv')\n",
        "test_df = pd.read_csv('./data/dev.csv')\n",
        "extra_train = pd.read_csv('./data/extra_train.csv')\n",
        "test_data = pd.read_csv('./data/truth_task_1.csv')\n"
      ],
      "execution_count": 222,
      "outputs": [
        {
          "output_type": "stream",
          "text": [
            "mkdir: cannot create directory ‘./data’: File exists\n",
            "/content/data\n",
            "/content\n"
          ],
          "name": "stdout"
        }
      ]
    },
    {
      "cell_type": "code",
      "metadata": {
        "colab": {
          "base_uri": "https://localhost:8080/",
          "height": 424
        },
        "id": "fnndXla09YdD",
        "outputId": "fec4309e-2bb1-45d9-c9a5-1a663cb70106"
      },
      "source": [
        "test_data"
      ],
      "execution_count": 224,
      "outputs": [
        {
          "output_type": "execute_result",
          "data": {
            "text/html": [
              "<div>\n",
              "<style scoped>\n",
              "    .dataframe tbody tr th:only-of-type {\n",
              "        vertical-align: middle;\n",
              "    }\n",
              "\n",
              "    .dataframe tbody tr th {\n",
              "        vertical-align: top;\n",
              "    }\n",
              "\n",
              "    .dataframe thead th {\n",
              "        text-align: right;\n",
              "    }\n",
              "</style>\n",
              "<table border=\"1\" class=\"dataframe\">\n",
              "  <thead>\n",
              "    <tr style=\"text-align: right;\">\n",
              "      <th></th>\n",
              "      <th>id</th>\n",
              "      <th>original</th>\n",
              "      <th>edit</th>\n",
              "      <th>grades</th>\n",
              "      <th>meanGrade</th>\n",
              "    </tr>\n",
              "  </thead>\n",
              "  <tbody>\n",
              "    <tr>\n",
              "      <th>0</th>\n",
              "      <td>36</td>\n",
              "      <td>The Latest : Election tally shows &lt;Austria/&gt; t...</td>\n",
              "      <td>Cars</td>\n",
              "      <td>31110</td>\n",
              "      <td>1.2</td>\n",
              "    </tr>\n",
              "    <tr>\n",
              "      <th>1</th>\n",
              "      <td>2157</td>\n",
              "      <td>House Intel &lt;Republicans/&gt; Have Cleared Trump ...</td>\n",
              "      <td>onions</td>\n",
              "      <td>11000</td>\n",
              "      <td>0.4</td>\n",
              "    </tr>\n",
              "    <tr>\n",
              "      <th>2</th>\n",
              "      <td>9385</td>\n",
              "      <td>Christmas Is Canceled : Nazareth ’s Muslim &lt;Ma...</td>\n",
              "      <td>grump</td>\n",
              "      <td>11111</td>\n",
              "      <td>1.0</td>\n",
              "    </tr>\n",
              "    <tr>\n",
              "      <th>3</th>\n",
              "      <td>14434</td>\n",
              "      <td>White House says Trump 's legal &lt;team/&gt; suppor...</td>\n",
              "      <td>bozos</td>\n",
              "      <td>32210</td>\n",
              "      <td>1.6</td>\n",
              "    </tr>\n",
              "    <tr>\n",
              "      <th>4</th>\n",
              "      <td>9462</td>\n",
              "      <td>Election &lt;analysts/&gt; move Ryan seat toward Dem...</td>\n",
              "      <td>movers</td>\n",
              "      <td>11000</td>\n",
              "      <td>0.4</td>\n",
              "    </tr>\n",
              "    <tr>\n",
              "      <th>...</th>\n",
              "      <td>...</td>\n",
              "      <td>...</td>\n",
              "      <td>...</td>\n",
              "      <td>...</td>\n",
              "      <td>...</td>\n",
              "    </tr>\n",
              "    <tr>\n",
              "      <th>3019</th>\n",
              "      <td>3921</td>\n",
              "      <td>Sen. Bernie Sanders says he ’s “ sickened ” by...</td>\n",
              "      <td>mucus</td>\n",
              "      <td>33210</td>\n",
              "      <td>1.8</td>\n",
              "    </tr>\n",
              "    <tr>\n",
              "      <th>3020</th>\n",
              "      <td>12371</td>\n",
              "      <td>Trump Repeals Regulation Protecting &lt;Workers/&gt;...</td>\n",
              "      <td>Owners</td>\n",
              "      <td>30000</td>\n",
              "      <td>0.6</td>\n",
              "    </tr>\n",
              "    <tr>\n",
              "      <th>3021</th>\n",
              "      <td>6845</td>\n",
              "      <td>Spicer : We do n't regret repeating claim that...</td>\n",
              "      <td>licked</td>\n",
              "      <td>11000</td>\n",
              "      <td>0.4</td>\n",
              "    </tr>\n",
              "    <tr>\n",
              "      <th>3022</th>\n",
              "      <td>2902</td>\n",
              "      <td>Gunshots Fired Outside Houses of &lt;Parliament/&gt;...</td>\n",
              "      <td>dogs</td>\n",
              "      <td>0</td>\n",
              "      <td>0.0</td>\n",
              "    </tr>\n",
              "    <tr>\n",
              "      <th>3023</th>\n",
              "      <td>4440</td>\n",
              "      <td>Flynn has promised Special Counsel ' full &lt;coo...</td>\n",
              "      <td>monty</td>\n",
              "      <td>21100</td>\n",
              "      <td>0.8</td>\n",
              "    </tr>\n",
              "  </tbody>\n",
              "</table>\n",
              "<p>3024 rows × 5 columns</p>\n",
              "</div>"
            ],
            "text/plain": [
              "         id  ... meanGrade\n",
              "0        36  ...       1.2\n",
              "1      2157  ...       0.4\n",
              "2      9385  ...       1.0\n",
              "3     14434  ...       1.6\n",
              "4      9462  ...       0.4\n",
              "...     ...  ...       ...\n",
              "3019   3921  ...       1.8\n",
              "3020  12371  ...       0.6\n",
              "3021   6845  ...       0.4\n",
              "3022   2902  ...       0.0\n",
              "3023   4440  ...       0.8\n",
              "\n",
              "[3024 rows x 5 columns]"
            ]
          },
          "metadata": {
            "tags": []
          },
          "execution_count": 224
        }
      ]
    },
    {
      "cell_type": "code",
      "metadata": {
        "colab": {
          "base_uri": "https://localhost:8080/"
        },
        "id": "8-r3dfyH9imQ",
        "outputId": "c643c195-2957-4d52-f104-f442dd03a2eb"
      },
      "source": [
        "(test_df + test_data).reset_index(drop=True).duplicated().sum()"
      ],
      "execution_count": 226,
      "outputs": [
        {
          "output_type": "execute_result",
          "data": {
            "text/plain": [
              "604"
            ]
          },
          "metadata": {
            "tags": []
          },
          "execution_count": 226
        }
      ]
    },
    {
      "cell_type": "code",
      "metadata": {
        "id": "g3MIPbkgOlGE"
      },
      "source": [
        "#in case you want to run with extra training data, run this line\n",
        "train_df = pd.concat([train_df, extra_train], ignore_index=True)"
      ],
      "execution_count": 6,
      "outputs": []
    },
    {
      "cell_type": "code",
      "metadata": {
        "colab": {
          "base_uri": "https://localhost:8080/",
          "height": 485
        },
        "id": "lxwVcpdRDnu0",
        "outputId": "2bedff7b-18a6-4b14-e69e-f082a3c079a1"
      },
      "source": [
        "#Kevin\n",
        "#%cd /content/drive/MyDrive/Colab Notebooks/NLP_Coursework/ic_nlp_cw\n",
        "#train_df = pd.read_csv('./task-1/train.csv')\n",
        "#test_df = pd.read_csv('./task-1/dev.csv')\n",
        "#extra_train = pd.read_csv('./extra_train_data-3.csv')"
      ],
      "execution_count": 85,
      "outputs": [
        {
          "output_type": "stream",
          "text": [
            "[Errno 2] No such file or directory: '/content/drive/MyDrive/Colab Notebooks/NLP_Coursework/ic_nlp_cw'\n",
            "/content\n"
          ],
          "name": "stdout"
        },
        {
          "output_type": "error",
          "ename": "FileNotFoundError",
          "evalue": "ignored",
          "traceback": [
            "\u001b[0;31m---------------------------------------------------------------------------\u001b[0m",
            "\u001b[0;31mFileNotFoundError\u001b[0m                         Traceback (most recent call last)",
            "\u001b[0;32m<ipython-input-85-459849dbaa60>\u001b[0m in \u001b[0;36m<module>\u001b[0;34m()\u001b[0m\n\u001b[1;32m      1\u001b[0m \u001b[0;31m#Kevin\u001b[0m\u001b[0;34m\u001b[0m\u001b[0;34m\u001b[0m\u001b[0;34m\u001b[0m\u001b[0m\n\u001b[1;32m      2\u001b[0m \u001b[0mget_ipython\u001b[0m\u001b[0;34m(\u001b[0m\u001b[0;34m)\u001b[0m\u001b[0;34m.\u001b[0m\u001b[0mmagic\u001b[0m\u001b[0;34m(\u001b[0m\u001b[0;34m'cd /content/drive/MyDrive/Colab Notebooks/NLP_Coursework/ic_nlp_cw'\u001b[0m\u001b[0;34m)\u001b[0m\u001b[0;34m\u001b[0m\u001b[0;34m\u001b[0m\u001b[0m\n\u001b[0;32m----> 3\u001b[0;31m \u001b[0mtrain_df\u001b[0m \u001b[0;34m=\u001b[0m \u001b[0mpd\u001b[0m\u001b[0;34m.\u001b[0m\u001b[0mread_csv\u001b[0m\u001b[0;34m(\u001b[0m\u001b[0;34m'./task-1/train.csv'\u001b[0m\u001b[0;34m)\u001b[0m\u001b[0;34m\u001b[0m\u001b[0;34m\u001b[0m\u001b[0m\n\u001b[0m\u001b[1;32m      4\u001b[0m \u001b[0mtest_df\u001b[0m \u001b[0;34m=\u001b[0m \u001b[0mpd\u001b[0m\u001b[0;34m.\u001b[0m\u001b[0mread_csv\u001b[0m\u001b[0;34m(\u001b[0m\u001b[0;34m'./task-1/dev.csv'\u001b[0m\u001b[0;34m)\u001b[0m\u001b[0;34m\u001b[0m\u001b[0;34m\u001b[0m\u001b[0m\n\u001b[1;32m      5\u001b[0m \u001b[0mextra_train\u001b[0m \u001b[0;34m=\u001b[0m \u001b[0mpd\u001b[0m\u001b[0;34m.\u001b[0m\u001b[0mread_csv\u001b[0m\u001b[0;34m(\u001b[0m\u001b[0;34m'./extra_train_data-3.csv'\u001b[0m\u001b[0;34m)\u001b[0m\u001b[0;34m\u001b[0m\u001b[0;34m\u001b[0m\u001b[0m\n",
            "\u001b[0;32m/usr/local/lib/python3.6/dist-packages/pandas/io/parsers.py\u001b[0m in \u001b[0;36mread_csv\u001b[0;34m(filepath_or_buffer, sep, delimiter, header, names, index_col, usecols, squeeze, prefix, mangle_dupe_cols, dtype, engine, converters, true_values, false_values, skipinitialspace, skiprows, skipfooter, nrows, na_values, keep_default_na, na_filter, verbose, skip_blank_lines, parse_dates, infer_datetime_format, keep_date_col, date_parser, dayfirst, cache_dates, iterator, chunksize, compression, thousands, decimal, lineterminator, quotechar, quoting, doublequote, escapechar, comment, encoding, dialect, error_bad_lines, warn_bad_lines, delim_whitespace, low_memory, memory_map, float_precision)\u001b[0m\n\u001b[1;32m    686\u001b[0m     )\n\u001b[1;32m    687\u001b[0m \u001b[0;34m\u001b[0m\u001b[0m\n\u001b[0;32m--> 688\u001b[0;31m     \u001b[0;32mreturn\u001b[0m \u001b[0m_read\u001b[0m\u001b[0;34m(\u001b[0m\u001b[0mfilepath_or_buffer\u001b[0m\u001b[0;34m,\u001b[0m \u001b[0mkwds\u001b[0m\u001b[0;34m)\u001b[0m\u001b[0;34m\u001b[0m\u001b[0;34m\u001b[0m\u001b[0m\n\u001b[0m\u001b[1;32m    689\u001b[0m \u001b[0;34m\u001b[0m\u001b[0m\n\u001b[1;32m    690\u001b[0m \u001b[0;34m\u001b[0m\u001b[0m\n",
            "\u001b[0;32m/usr/local/lib/python3.6/dist-packages/pandas/io/parsers.py\u001b[0m in \u001b[0;36m_read\u001b[0;34m(filepath_or_buffer, kwds)\u001b[0m\n\u001b[1;32m    452\u001b[0m \u001b[0;34m\u001b[0m\u001b[0m\n\u001b[1;32m    453\u001b[0m     \u001b[0;31m# Create the parser.\u001b[0m\u001b[0;34m\u001b[0m\u001b[0;34m\u001b[0m\u001b[0;34m\u001b[0m\u001b[0m\n\u001b[0;32m--> 454\u001b[0;31m     \u001b[0mparser\u001b[0m \u001b[0;34m=\u001b[0m \u001b[0mTextFileReader\u001b[0m\u001b[0;34m(\u001b[0m\u001b[0mfp_or_buf\u001b[0m\u001b[0;34m,\u001b[0m \u001b[0;34m**\u001b[0m\u001b[0mkwds\u001b[0m\u001b[0;34m)\u001b[0m\u001b[0;34m\u001b[0m\u001b[0;34m\u001b[0m\u001b[0m\n\u001b[0m\u001b[1;32m    455\u001b[0m \u001b[0;34m\u001b[0m\u001b[0m\n\u001b[1;32m    456\u001b[0m     \u001b[0;32mif\u001b[0m \u001b[0mchunksize\u001b[0m \u001b[0;32mor\u001b[0m \u001b[0miterator\u001b[0m\u001b[0;34m:\u001b[0m\u001b[0;34m\u001b[0m\u001b[0;34m\u001b[0m\u001b[0m\n",
            "\u001b[0;32m/usr/local/lib/python3.6/dist-packages/pandas/io/parsers.py\u001b[0m in \u001b[0;36m__init__\u001b[0;34m(self, f, engine, **kwds)\u001b[0m\n\u001b[1;32m    946\u001b[0m             \u001b[0mself\u001b[0m\u001b[0;34m.\u001b[0m\u001b[0moptions\u001b[0m\u001b[0;34m[\u001b[0m\u001b[0;34m\"has_index_names\"\u001b[0m\u001b[0;34m]\u001b[0m \u001b[0;34m=\u001b[0m \u001b[0mkwds\u001b[0m\u001b[0;34m[\u001b[0m\u001b[0;34m\"has_index_names\"\u001b[0m\u001b[0;34m]\u001b[0m\u001b[0;34m\u001b[0m\u001b[0;34m\u001b[0m\u001b[0m\n\u001b[1;32m    947\u001b[0m \u001b[0;34m\u001b[0m\u001b[0m\n\u001b[0;32m--> 948\u001b[0;31m         \u001b[0mself\u001b[0m\u001b[0;34m.\u001b[0m\u001b[0m_make_engine\u001b[0m\u001b[0;34m(\u001b[0m\u001b[0mself\u001b[0m\u001b[0;34m.\u001b[0m\u001b[0mengine\u001b[0m\u001b[0;34m)\u001b[0m\u001b[0;34m\u001b[0m\u001b[0;34m\u001b[0m\u001b[0m\n\u001b[0m\u001b[1;32m    949\u001b[0m \u001b[0;34m\u001b[0m\u001b[0m\n\u001b[1;32m    950\u001b[0m     \u001b[0;32mdef\u001b[0m \u001b[0mclose\u001b[0m\u001b[0;34m(\u001b[0m\u001b[0mself\u001b[0m\u001b[0;34m)\u001b[0m\u001b[0;34m:\u001b[0m\u001b[0;34m\u001b[0m\u001b[0;34m\u001b[0m\u001b[0m\n",
            "\u001b[0;32m/usr/local/lib/python3.6/dist-packages/pandas/io/parsers.py\u001b[0m in \u001b[0;36m_make_engine\u001b[0;34m(self, engine)\u001b[0m\n\u001b[1;32m   1178\u001b[0m     \u001b[0;32mdef\u001b[0m \u001b[0m_make_engine\u001b[0m\u001b[0;34m(\u001b[0m\u001b[0mself\u001b[0m\u001b[0;34m,\u001b[0m \u001b[0mengine\u001b[0m\u001b[0;34m=\u001b[0m\u001b[0;34m\"c\"\u001b[0m\u001b[0;34m)\u001b[0m\u001b[0;34m:\u001b[0m\u001b[0;34m\u001b[0m\u001b[0;34m\u001b[0m\u001b[0m\n\u001b[1;32m   1179\u001b[0m         \u001b[0;32mif\u001b[0m \u001b[0mengine\u001b[0m \u001b[0;34m==\u001b[0m \u001b[0;34m\"c\"\u001b[0m\u001b[0;34m:\u001b[0m\u001b[0;34m\u001b[0m\u001b[0;34m\u001b[0m\u001b[0m\n\u001b[0;32m-> 1180\u001b[0;31m             \u001b[0mself\u001b[0m\u001b[0;34m.\u001b[0m\u001b[0m_engine\u001b[0m \u001b[0;34m=\u001b[0m \u001b[0mCParserWrapper\u001b[0m\u001b[0;34m(\u001b[0m\u001b[0mself\u001b[0m\u001b[0;34m.\u001b[0m\u001b[0mf\u001b[0m\u001b[0;34m,\u001b[0m \u001b[0;34m**\u001b[0m\u001b[0mself\u001b[0m\u001b[0;34m.\u001b[0m\u001b[0moptions\u001b[0m\u001b[0;34m)\u001b[0m\u001b[0;34m\u001b[0m\u001b[0;34m\u001b[0m\u001b[0m\n\u001b[0m\u001b[1;32m   1181\u001b[0m         \u001b[0;32melse\u001b[0m\u001b[0;34m:\u001b[0m\u001b[0;34m\u001b[0m\u001b[0;34m\u001b[0m\u001b[0m\n\u001b[1;32m   1182\u001b[0m             \u001b[0;32mif\u001b[0m \u001b[0mengine\u001b[0m \u001b[0;34m==\u001b[0m \u001b[0;34m\"python\"\u001b[0m\u001b[0;34m:\u001b[0m\u001b[0;34m\u001b[0m\u001b[0;34m\u001b[0m\u001b[0m\n",
            "\u001b[0;32m/usr/local/lib/python3.6/dist-packages/pandas/io/parsers.py\u001b[0m in \u001b[0;36m__init__\u001b[0;34m(self, src, **kwds)\u001b[0m\n\u001b[1;32m   2008\u001b[0m         \u001b[0mkwds\u001b[0m\u001b[0;34m[\u001b[0m\u001b[0;34m\"usecols\"\u001b[0m\u001b[0;34m]\u001b[0m \u001b[0;34m=\u001b[0m \u001b[0mself\u001b[0m\u001b[0;34m.\u001b[0m\u001b[0musecols\u001b[0m\u001b[0;34m\u001b[0m\u001b[0;34m\u001b[0m\u001b[0m\n\u001b[1;32m   2009\u001b[0m \u001b[0;34m\u001b[0m\u001b[0m\n\u001b[0;32m-> 2010\u001b[0;31m         \u001b[0mself\u001b[0m\u001b[0;34m.\u001b[0m\u001b[0m_reader\u001b[0m \u001b[0;34m=\u001b[0m \u001b[0mparsers\u001b[0m\u001b[0;34m.\u001b[0m\u001b[0mTextReader\u001b[0m\u001b[0;34m(\u001b[0m\u001b[0msrc\u001b[0m\u001b[0;34m,\u001b[0m \u001b[0;34m**\u001b[0m\u001b[0mkwds\u001b[0m\u001b[0;34m)\u001b[0m\u001b[0;34m\u001b[0m\u001b[0;34m\u001b[0m\u001b[0m\n\u001b[0m\u001b[1;32m   2011\u001b[0m         \u001b[0mself\u001b[0m\u001b[0;34m.\u001b[0m\u001b[0munnamed_cols\u001b[0m \u001b[0;34m=\u001b[0m \u001b[0mself\u001b[0m\u001b[0;34m.\u001b[0m\u001b[0m_reader\u001b[0m\u001b[0;34m.\u001b[0m\u001b[0munnamed_cols\u001b[0m\u001b[0;34m\u001b[0m\u001b[0;34m\u001b[0m\u001b[0m\n\u001b[1;32m   2012\u001b[0m \u001b[0;34m\u001b[0m\u001b[0m\n",
            "\u001b[0;32mpandas/_libs/parsers.pyx\u001b[0m in \u001b[0;36mpandas._libs.parsers.TextReader.__cinit__\u001b[0;34m()\u001b[0m\n",
            "\u001b[0;32mpandas/_libs/parsers.pyx\u001b[0m in \u001b[0;36mpandas._libs.parsers.TextReader._setup_parser_source\u001b[0;34m()\u001b[0m\n",
            "\u001b[0;31mFileNotFoundError\u001b[0m: [Errno 2] No such file or directory: './task-1/train.csv'"
          ]
        }
      ]
    },
    {
      "cell_type": "markdown",
      "metadata": {
        "id": "yK2KBrimGqjv"
      },
      "source": [
        "# Approach 1: Pretrained representations"
      ]
    },
    {
      "cell_type": "markdown",
      "metadata": {
        "id": "eWtmu7anyLEd"
      },
      "source": [
        "## Part 1 BILSTM"
      ]
    },
    {
      "cell_type": "markdown",
      "metadata": {
        "id": "3e1fHh81AIUd"
      },
      "source": [
        "### Data PreProcessing"
      ]
    },
    {
      "cell_type": "code",
      "metadata": {
        "id": "KZtwJ-3fm6LJ"
      },
      "source": [
        "#get array of grades as labels\n",
        "def get_grade_list(grades):\n",
        "  grade_list = []\n",
        "  for i, grade in enumerate(grades):\n",
        "    list_grade = list(str(grade))\n",
        "    grade_list.append(list(map(int, list_grade)))\n",
        "  return grade_list\n",
        "    "
      ],
      "execution_count": 7,
      "outputs": []
    },
    {
      "cell_type": "code",
      "metadata": {
        "id": "z_RDKi6mAK8_"
      },
      "source": [
        "#add to be replaced word and edited word to dataframe and adjust column 'original' by removing special tokens\n",
        "def add_columns_to_data(train_df, test_df):   \n",
        "    #instead of having two inputs out of preprocessing, edit the dataset, and add in columns which we can use as inputs\n",
        "    #we can also add an 'old' field which contains the original word \n",
        "    train_df['old'] = train_df.apply(lambda x:x['original'][x['original'].find('<')+1:x['original'].find('>')-1],axis=1)\n",
        "    test_df['old'] = test_df.apply(lambda x:x['original'][x['original'].find('<')+1:x['original'].find('>')-1],axis=1)\n",
        "\n",
        "    #first we add a field to the data which contains the edited headline\n",
        "    train_df['edited'] = train_df.apply(lambda x:x['original'].replace(x['original'][x['original'].find('<'):x['original'].find('>')+1],x['edit'] ) ,axis=1)\n",
        "    test_df['edited'] = test_df.apply(lambda x:x['original'].replace(x['original'][x['original'].find('<'):x['original'].find('>')+1], x['edit'] ) ,axis=1)\n",
        "\n",
        "    train_df['original'] = train_df.apply(lambda x:x['original'].replace(x['original'][x['original'].find('<'):x['original'].find('>')+1], x['old']) ,axis=1)\n",
        "    test_df['original'] = test_df.apply(lambda x:x['original'].replace(x['original'][x['original'].find('<'):x['original'].find('>')+1], x['old']),axis=1)\n",
        "\n",
        "    grades = train_df[\"grades\"].tolist()\n",
        "    grade_lists = get_grade_list(grades)\n",
        "    vars = [np.var(grade) for grade in grade_lists]\n",
        "    train_df[\"variance\"] = vars\n",
        "\n",
        "    return train_df, test_df"
      ],
      "execution_count": 8,
      "outputs": []
    },
    {
      "cell_type": "code",
      "metadata": {
        "id": "U-19KmczA6ST"
      },
      "source": [
        "train_df, test_df = add_columns_to_data(train_df, test_df)"
      ],
      "execution_count": 9,
      "outputs": []
    },
    {
      "cell_type": "code",
      "metadata": {
        "id": "HQbm--SyaRLL"
      },
      "source": [
        "# Number of epochs\n",
        "epochs = 80\n",
        "\n",
        "# Proportion of training data for train compared to dev\n",
        "train_proportion = 0.8"
      ],
      "execution_count": 28,
      "outputs": []
    },
    {
      "cell_type": "markdown",
      "metadata": {
        "id": "f46AEn_3s1UJ"
      },
      "source": [
        "### Creating Vocab and Tokenized Corpus"
      ]
    },
    {
      "cell_type": "code",
      "metadata": {
        "id": "VueP_-XX4zqb"
      },
      "source": [
        "#use spacy stop_words that will be removed\n",
        "nlp = spacy.load(\"en\")\n",
        "stop_words = spacy.lang.en.stop_words.STOP_WORDS"
      ],
      "execution_count": 12,
      "outputs": []
    },
    {
      "cell_type": "code",
      "metadata": {
        "id": "TSQ-36SdaRLO"
      },
      "source": [
        "# Custom tokenizer that removes punctuation\n",
        "def custom_tokenizer(nlp):\n",
        "    \n",
        "    replacement_re = re.compile(r'^<*/>') #do not split replacement format\n",
        "    prefix_re = re.compile(r'''^[\\[\\(\"]''')\n",
        "    suffix_re = re.compile(r''',[\\]\\)\"']$''')\n",
        "    infix_re = re.compile(r'''[-\\,.~]''')\n",
        "    \n",
        "    \n",
        "    return Tokenizer(nlp.vocab,\n",
        "                     token_match = replacement_re.match,\n",
        "                     prefix_search=prefix_re.search,\n",
        "                     suffix_search=suffix_re.search,\n",
        "                     infix_finditer = infix_re.finditer  \n",
        "                    )\n",
        "\n",
        "\n",
        "# Custom preprocessor that adds ??? token\n",
        "def preprocessor(data,edits):\n",
        "    \"\"\"\n",
        "    Creating a corpus of all the tokens used\n",
        "    \"\"\"\n",
        "    from nltk.stem import WordNetLemmatizer\n",
        "    wordnet_lemmatizer = WordNetLemmatizer()  \n",
        "\n",
        "    punctuation = \"\\\":\\.,\"\n",
        "    nlp = spacy.load(\"en_core_web_sm\")\n",
        "    nlp.tokenizer = custom_tokenizer(nlp)\n",
        "    \n",
        "    tokenized_corpus_1= [] # Let us put the tokenized corpus in a list\n",
        "    tokenized_corpus_2= []\n",
        "    \n",
        "    \n",
        "    for i, sentence in enumerate(data):\n",
        "\n",
        "        sentence = sentence.lower()\n",
        "        tokenized_sentence_1 = []\n",
        "        tokenized_sentence_2 = []\n",
        "\n",
        "        for token in nlp(sentence): # simplest split is\n",
        "\n",
        "            if token.text in punctuation:\n",
        "                continue\n",
        "            if token.text in stop_words:\n",
        "                continue\n",
        "            \n",
        "            else:\n",
        "                if token.text[0] == '<':\n",
        "                    tokenized_sentence_1.append(\"???\")\n",
        "                    tokenized_sentence_2.append(\"???\")\n",
        "                    \n",
        "                    tokenized_sentence_2.append(wordnet_lemmatizer.lemmatize(edits.iloc[i],  pos=\"v\"))\n",
        "\n",
        "                    lemmatized_token = wordnet_lemmatizer.lemmatize(token.text[1:-2], pos=\"v\")\n",
        "\n",
        "                    tokenized_sentence_1.append(lemmatized_token)\n",
        "                else:\n",
        "                    lemmatized_token = wordnet_lemmatizer.lemmatize(token.text, pos=\"v\")\n",
        "\n",
        "                    tokenized_sentence_2.append(lemmatized_token)\n",
        "                \n",
        "                    tokenized_sentence_1.append(lemmatized_token)\n",
        "\n",
        "\n",
        "        tokenized_corpus_1.append(tokenized_sentence_1)\n",
        "        tokenized_corpus_2.append(tokenized_sentence_2)\n",
        "\n",
        "    # Create single list of all vocabulary\n",
        "    vocabulary = []  \n",
        "    \n",
        "    for sentence in tokenized_corpus_1:\n",
        "\n",
        "        for token in sentence:\n",
        "\n",
        "            if token not in vocabulary:\n",
        "\n",
        "                if True:\n",
        "                    vocabulary.append(token)\n",
        "    \n",
        "    for token in edits:\n",
        "        \n",
        "        if token not in vocabulary:\n",
        "            \n",
        "            vocabulary.append(token)\n",
        "\n",
        "    return vocabulary, tokenized_corpus_1, tokenized_corpus_2"
      ],
      "execution_count": 13,
      "outputs": []
    },
    {
      "cell_type": "code",
      "metadata": {
        "id": "_JSWm-Q5nIxX",
        "colab": {
          "base_uri": "https://localhost:8080/"
        },
        "outputId": "d800429a-c670-4192-dc51-8686b3c94795"
      },
      "source": [
        "# We set our training data and test data\n",
        "training_data = train_df['original']\n",
        "test_data = test_df['original']\n",
        "\n",
        "# Creating word vectors\n",
        "training_vocab, training_tokenized_corpus_1,training_tokenized_corpus_2=  preprocessor(training_data,train_df['edit'])\n",
        "test_vocab, test_tokenized_corpus_1,test_tokenized_corpus_2=  preprocessor(test_data,test_df['edit'])\n",
        "\n",
        "print(\"Vocabulary individual creation - done\")\n",
        "\n",
        "# Creating joint vocab from test and train:\n",
        "joint_vocab, joint_tokenized_corpus_1,joint_tokenized_corpus_2 = preprocessor(pd.concat([training_data, test_data]),pd.concat([train_df['edit'],test_df['edit']],ignore_index = True))\n",
        "\n",
        "print(\"Vocabulary joined creation - done\")\n",
        "\n",
        "\n",
        "\n",
        "print(\"Vocab created.\")"
      ],
      "execution_count": 14,
      "outputs": [
        {
          "output_type": "stream",
          "text": [
            "Vocabulary individual creation - done\n",
            "Vocabulary joined creation - done\n",
            "Vocab created.\n"
          ],
          "name": "stdout"
        }
      ]
    },
    {
      "cell_type": "code",
      "metadata": {
        "id": "xeXy7v7dnQGq"
      },
      "source": [
        "# We create representations for our tokens\n",
        "wvecs = [] # word vectors\n",
        "word2idx = [] # word2index\n",
        "idx2word = []\n",
        "\n",
        "#Add special character -> embedding vector of ones \n",
        "wvecs.append(np.ones(100))\n",
        "\n",
        "# This is a large file, it will take a while to load in the memory!\n",
        "with codecs.open('glove.6B.100d.txt', 'r','utf-8') as f:\n",
        "  index = 1 #zero padding\n",
        "  for line in f.readlines():\n",
        "    # Ignore the first line - first line typically contains vocab, dimensionality\n",
        "    if len(line.strip().split()) > 3:\n",
        "      word = line.strip().split()[0]\n",
        "      if word in joint_vocab:\n",
        "          (word, vec) = (word,\n",
        "                     list(map(float,line.strip().split()[1:])))\n",
        "          wvecs.append(vec)\n",
        "          word2idx.append((word, index))\n",
        "          idx2word.append((index, word))\n",
        "          index += 1\n",
        "\n",
        "wvecs = np.array(wvecs)\n",
        "word2idx = dict(word2idx)\n",
        "idx2word = dict(idx2word)\n",
        "\n",
        "\n",
        "\n"
      ],
      "execution_count": 15,
      "outputs": []
    },
    {
      "cell_type": "code",
      "metadata": {
        "id": "0ze3glIrVMmj"
      },
      "source": [
        "#add <unk> token to dictionaries and set embedding to mean of vocab embedding (will be called OOV token later)\n",
        "word2idx['<unk>'] = 1\n",
        "idx2word[1] = '<unk>'\n",
        "mean = np.mean(wvecs, axis=0) # initialize unknown token as mean\n",
        "wvecs[0] = mean\n"
      ],
      "execution_count": 16,
      "outputs": []
    },
    {
      "cell_type": "code",
      "metadata": {
        "id": "BgcGpchbQOO-"
      },
      "source": [
        "#build vectorized sequence of tokenized corpus that replaces unknown words by <unk> token\n",
        "\n",
        "vectorized_seqs_1 = [[word2idx[tok] if tok in word2idx else word2idx['<unk>'] for tok in seq] for seq in training_tokenized_corpus_1]\n",
        "vectorized_seqs_2 = [[word2idx[tok] if tok in word2idx else word2idx['<unk>'] for tok in seq] for seq in training_tokenized_corpus_2]\n",
        "\n",
        "vectorized_seqs_1_test = [[word2idx[tok] if tok in word2idx else word2idx['<unk>'] for tok in seq] for seq in test_tokenized_corpus_1]\n",
        "vectorized_seqs_2_test = [[word2idx[tok] if tok in word2idx else word2idx['<unk>'] for tok in seq] for seq in test_tokenized_corpus_2]\n",
        "\n",
        "\n",
        "# To avoid any sentences being empty (if no words match to our word embeddings)\n",
        "vectorized_seqs_1 = [x if len(x) > 0 else [0] for x in vectorized_seqs_1]\n",
        "vectorized_seqs_2 = [x if len(x) > 0 else [0] for x in vectorized_seqs_2]\n",
        "\n",
        "vectorized_seqs_1_test = [x if len(x) > 0 else [0] for x in vectorized_seqs_1_test]\n",
        "vectorized_seqs_2_test = [x if len(x) > 0 else [0] for x in vectorized_seqs_2_test]\n",
        "\n"
      ],
      "execution_count": 144,
      "outputs": []
    },
    {
      "cell_type": "markdown",
      "metadata": {
        "id": "3PxOsuS7Bi0g"
      },
      "source": [
        "### Training for BILSTM"
      ]
    },
    {
      "cell_type": "code",
      "metadata": {
        "id": "BxhwWCz6aRLL"
      },
      "source": [
        "# We define our training loop\n",
        "def train(train_iter, dev_iter, model, number_epoch, bert=False):\n",
        "    \"\"\"\n",
        "    Training loop for the model, which calls on eval to evaluate after each epoch\n",
        "    \"\"\"\n",
        "\n",
        "    train_losses = np.zeros(number_epoch)\n",
        "    valid_losses = np.zeros(number_epoch)\n",
        "    train_rmses = []\n",
        "    valid_rmses = []\n",
        "    print(\"Training model.\")\n",
        "\n",
        "    for epoch in range(1, number_epoch+1):\n",
        "\n",
        "        model.train()\n",
        "        epoch_loss = 0\n",
        "        epoch_sse = 0\n",
        "        no_observations = 0  # Observations used for training so far\n",
        "        \n",
        "        for batch in train_iter:\n",
        "            optimizer.zero_grad()\n",
        "            feature, target = batch\n",
        "            feature_1= feature[0].to(device)\n",
        "            feature_2 = feature[1].to(device)\n",
        "            target = target.to(device)\n",
        "            # for RNN:\n",
        "            model.batch_size = target.shape[0]\n",
        "            no_observations = no_observations + target.shape[0]\n",
        "            model.hidden_1 = model.init_hidden()\n",
        "            model.hidden_2 = model.init_hidden()\n",
        "\n",
        "            feature = (feature_1, feature_2)\n",
        "            predictions = model(feature).squeeze(1)\n",
        "            \n",
        "            loss = loss_fn(predictions, target)\n",
        "                        \n",
        "            sse, __ = model_performance(predictions.detach().cpu().numpy(), target.detach().cpu().numpy()) \n",
        "            \n",
        "            loss.backward(retain_graph=True)\n",
        "            optimizer.step()\n",
        "\n",
        "            epoch_loss += loss.item()*target.shape[0]\n",
        "            epoch_sse += sse\n",
        "\n",
        "        valid_loss, valid_mse, preds, targs = eval(dev_iter, model)\n",
        "\n",
        "        epoch_loss, epoch_mse = epoch_loss / no_observations, epoch_sse / no_observations\n",
        "        train_losses[epoch-1] = epoch_loss\n",
        "        valid_losses[epoch-1] = valid_loss\n",
        "        train_rmses.append(epoch_mse**0.5)\n",
        "        valid_rmses.append(valid_mse**0.5)\n",
        "        print(f'| Epoch: {epoch:02} | Train Loss: {epoch_loss:.2f} | Train MSE: {epoch_mse:.2f} | Train RMSE: {epoch_mse**0.5:.2f} | \\\n",
        "        Val. Loss: {valid_loss:.2f} | Val. MSE: {valid_mse:.2f} |  Val. RMSE: {valid_mse**0.5:.3f} |')\n",
        "    return train_losses, valid_losses, preds, targs, train_rmses, valid_rmses"
      ],
      "execution_count": 75,
      "outputs": []
    },
    {
      "cell_type": "code",
      "metadata": {
        "id": "EAPacdgOaRLM"
      },
      "source": [
        "# We evaluate performance on our dev set\n",
        "def eval(data_iter, model):\n",
        "    \"\"\"\n",
        "    Evaluating model performance on the dev set\n",
        "    \"\"\"\n",
        "    model.eval()\n",
        "    epoch_loss = 0\n",
        "    epoch_sse = 0\n",
        "    pred_all = []\n",
        "    trg_all = []\n",
        "    no_observations = 0\n",
        "\n",
        "\n",
        "\n",
        "    with torch.no_grad():\n",
        "        for batch in data_iter:\n",
        "            feature, target = batch\n",
        "            feature_1= feature[0].to(device)\n",
        "            feature_2 = feature[1].to(device)\n",
        "            target = target.to(device)\n",
        "\n",
        "            feature = (feature_1, feature_2)\n",
        "\n",
        "            # for RNN:\n",
        "            model.batch_size = target.shape[0]\n",
        "            no_observations = no_observations + target.shape[0]\n",
        "            model.hidden_1 = model.init_hidden()\n",
        "            model.hidden_2 = model.init_hidden()\n",
        "\n",
        "            predictions = model(feature).squeeze(1)\n",
        "            #predictions.requires_grad = True\n",
        "            loss = loss_fn(predictions, target)\n",
        "\n",
        "            # We get the mse\n",
        "            pred, trg = predictions.detach().cpu().numpy(), target.detach().cpu().numpy()\n",
        "            sse, __ = model_performance(pred, trg)\n",
        "\n",
        "            epoch_loss += loss.item()*target.shape[0]\n",
        "            epoch_sse += sse\n",
        "            pred_all.extend(pred)\n",
        "            trg_all.extend(trg)\n",
        "\n",
        "    return epoch_loss/no_observations, epoch_sse/no_observations, np.array(pred_all), np.array(trg_all)"
      ],
      "execution_count": 76,
      "outputs": []
    },
    {
      "cell_type": "code",
      "metadata": {
        "id": "vcchQKtEaRLN"
      },
      "source": [
        "# How we print the model performance\n",
        "def model_performance(output, target, print_output=False):\n",
        "    \"\"\"\n",
        "    Returns SSE and MSE per batch (printing the MSE and the RMSE)\n",
        "    \"\"\"\n",
        "\n",
        "    sq_error = (output - target)**2\n",
        "\n",
        "    sse = np.sum(sq_error)\n",
        "    mse = np.mean(sq_error)\n",
        "    rmse = np.sqrt(mse)\n",
        "\n",
        "    if print_output:\n",
        "        print(f'| MSE: {mse:.2f} | RMSE: {rmse:.2f} |')\n",
        "\n",
        "    return sse, mse"
      ],
      "execution_count": 77,
      "outputs": []
    },
    {
      "cell_type": "code",
      "metadata": {
        "id": "aOOe3Ca7aRLP"
      },
      "source": [
        "#add padding\n",
        "def collate_fn_padd(batch):\n",
        "    \n",
        "    #We add padding to our minibatches and create tensors for our model\n",
        "    \n",
        "\n",
        "    batch_labels = [l for f, g, l in batch]\n",
        "    batch_features = [(f,g) for f, g, l in batch]\n",
        "    \n",
        "\n",
        "    batch_features_len = [len(f) for f, g, l in batch]\n",
        "\n",
        "\n",
        "    seq_tensor_1 = torch.zeros((len(batch), 50)).long()\n",
        "    seq_tensor_2 = torch.zeros((len(batch), 50)).long()\n",
        "\n",
        "    \n",
        "    for idx, (seq, seqlen) in enumerate(zip(batch_features, batch_features_len)):\n",
        "        seq_tensor_1[idx, :seqlen] = torch.LongTensor(seq[0])\n",
        "        seq_tensor_2[idx, :seqlen] = torch.LongTensor(seq[1])\n",
        "    batch_labels = torch.FloatTensor(batch_labels)\n",
        "    \n",
        "\n",
        "    return (seq_tensor_1, seq_tensor_2), batch_labels\n",
        "\n",
        "\n",
        "#class for representing data (adjusted to match two stream BILSTM)  \n",
        "class Task1Dataset_double(Dataset):\n",
        "\n",
        "    def __init__(self, train_data_1,train_data_2, labels):\n",
        "        self.x_train_1 = train_data_1\n",
        "        self.x_train_2 = train_data_2\n",
        "        self.y_train = labels\n",
        "\n",
        "    def __len__(self):\n",
        "        return len(self.y_train)\n",
        "\n",
        "    def __getitem__(self, item):\n",
        "        return self.x_train_1[item],self.x_train_2[item], self.y_train[item]    \n"
      ],
      "execution_count": 78,
      "outputs": []
    },
    {
      "cell_type": "code",
      "metadata": {
        "id": "8F1kXohWaRLR"
      },
      "source": [
        "#Model architecture\n",
        "class BiLSTM_double(nn.Module):\n",
        "\n",
        "    def __init__(self, embedding_dim, hidden_dim, vocab_size, batch_size, device):\n",
        "        super(BiLSTM_double, self).__init__()\n",
        "        self.hidden_dim = hidden_dim\n",
        "        self.embedding_dim = embedding_dim\n",
        "        self.device = device\n",
        "        self.batch_size = batch_size\n",
        "        self.embedding = nn.Embedding(vocab_size, embedding_dim, padding_idx=0)\n",
        "\n",
        "        # The LSTM takes word embeddings as inputs, and outputs hidden states\n",
        "        # with dimensionality hidden_dim.\n",
        "        self.lstm_1 = nn.LSTM(embedding_dim, hidden_dim, bidirectional=True)\n",
        "        self.lstm_2 = nn.LSTM(embedding_dim,hidden_dim, bidirectional = True)\n",
        "\n",
        "        # The linear layer that maps from hidden state space to tag space\n",
        "        self.fc = nn.Linear(2*55*100, hidden_dim*2)\n",
        "        #self.fc2 = nn.Linear(hidden_dim*2, hidden_dim//2)\n",
        "        #self.fc3 = nn.Linear(hidden_dim//2, hidden_dim//4)\n",
        "\n",
        "        self.hidden_1 = self.init_hidden()\n",
        "        self.hidden_2 = self.init_hidden()\n",
        "        self.hidden2label = nn.Linear(hidden_dim*2, 1)\n",
        "\n",
        "        self.d1 = nn.Dropout(0.5)\n",
        "        self.d2 = nn.Dropout(0.5)\n",
        "        self.d3 = nn.Dropout(0.5)\n",
        "        #self.d4 = nn.Dropout(0.3)\n",
        "        #self.d5 = nn.Dropout(0.3)\n",
        "\n",
        "    def init_hidden(self):\n",
        "        # Before we've done anything, we dont have any hidden state.\n",
        "        # Refer to the Pytorch documentation to see exactly why they have this dimensionality.\n",
        "        # The axes semantics are (num_layers * num_directions, minibatch_size, hidden_dim)\n",
        "        \n",
        "        return torch.zeros(2, self.batch_size, self.hidden_dim, requires_grad = True).to(self.device), \\\n",
        "               torch.zeros(2, self.batch_size, self.hidden_dim, requires_grad = True).to(self.device)\n",
        "\n",
        "    def forward(self, sentence):\n",
        "        self.embedded_1 = self.embedding(sentence[0])\n",
        "        self.embedded_1 = self.embedded_1.permute(1, 0, 2) #Needed for LSTMs\n",
        "\n",
        "        self.embedded_2 = self.embedding(sentence[1])\n",
        "        self.embedded_2 = self.embedded_2.permute(1, 0, 2) #Needed for LSTMs\n",
        "\n",
        "        #lstm_out : (seq_len,batch_size,num_directions (2) * hidden_size (50))\n",
        "        #hidden : (num_layers * num_directions, batch_size,hidden_size)\n",
        "        lstm_out_1, self.hidden_1 = self.lstm_1(\n",
        "            self.embedded_1.view(len(self.embedded_1), self.batch_size, self.embedding_dim), self.hidden_1)\n",
        "        \n",
        "        lstm_out_1 = F.leaky_relu(self.d1(lstm_out_1))\n",
        "\n",
        "        lstm_out_2, self.hidden_2 = self.lstm_2(\n",
        "            self.embedded_2.view(len(self.embedded_2), self.batch_size, self.embedding_dim), self.hidden_2)\n",
        "        \n",
        "        lstm_out_2 = F.leaky_relu(self.d2(lstm_out_2))\n",
        "        \n",
        "        #out : (1)\n",
        "        lstm_out_1 = lstm_out_1.permute(1,0,2)\n",
        "        lstm_out_2 = lstm_out_2.permute(1,0,2)\n",
        "\n",
        "        out1 = self.fc(torch.cat((lstm_out_1.reshape(self.batch_size, -1),lstm_out_2.reshape(self.batch_size, -1)), dim = 1))\n",
        "        out1 = F.leaky_relu(self.d3(out1))\n",
        "\n",
        "        #out2 = self.fc2(out1)\n",
        "        #out2 = F.leaky_relu(self.d4(out2))\n",
        "\n",
        "        #out3 = self.fc3(out2)\n",
        "        #out3 = F.leaky_relu(self.d5(out3))\n",
        "\n",
        "        out = self.hidden2label(out1)\n",
        "        out = torch.sigmoid(out)*3\n",
        "        return out"
      ],
      "execution_count": 191,
      "outputs": []
    },
    {
      "cell_type": "code",
      "metadata": {
        "id": "4XzJHcQ_aRLT",
        "scrolled": true,
        "colab": {
          "base_uri": "https://localhost:8080/"
        },
        "outputId": "f8c70221-ae75-4427-c3e7-df62dfbfa7ae"
      },
      "source": [
        "#Initialize model\n",
        "\n",
        "INPUT_DIM = len(word2idx)\n",
        "EMBEDDING_DIM = wvecs.shape[1]\n",
        "\n",
        "BATCH_SIZE = 128\n",
        "\n",
        "model = BiLSTM_double(EMBEDDING_DIM, 55, INPUT_DIM, BATCH_SIZE, device)\n",
        "\n",
        "params = sum(p.numel() for p in model.parameters() if p.requires_grad)\n",
        "print(params)\n",
        "#print(\"Total number of parameters is: {​​}​​\".format(params))\n",
        "\n",
        "print(model)\n",
        "\n",
        "print(\"Model initialised.\")\n",
        "\n",
        "model.to(device)\n",
        "\n",
        "model.embedding.weight.data.copy_(torch.from_numpy(wvecs))\n",
        "\n"
      ],
      "execution_count": 208,
      "outputs": [
        {
          "output_type": "stream",
          "text": [
            "2769481\n",
            "BiLSTM_double(\n",
            "  (embedding): Embedding(14211, 100, padding_idx=0)\n",
            "  (lstm_1): LSTM(100, 55, bidirectional=True)\n",
            "  (lstm_2): LSTM(100, 55, bidirectional=True)\n",
            "  (fc): Linear(in_features=11000, out_features=110, bias=True)\n",
            "  (hidden2label): Linear(in_features=110, out_features=1, bias=True)\n",
            "  (d1): Dropout(p=0.5, inplace=False)\n",
            "  (d2): Dropout(p=0.5, inplace=False)\n",
            "  (d3): Dropout(p=0.5, inplace=False)\n",
            ")\n",
            "Model initialised.\n"
          ],
          "name": "stdout"
        },
        {
          "output_type": "execute_result",
          "data": {
            "text/plain": [
              "tensor([[ 0.0027,  0.0846,  0.1260,  ..., -0.0692,  0.1462,  0.0768],\n",
              "        [-1.2557,  0.6104,  0.5679,  ..., -1.5877,  0.7698, -0.6500],\n",
              "        [-0.5426,  0.4148,  1.0322,  ..., -1.2969,  0.7622,  0.4635],\n",
              "        ...,\n",
              "        [ 0.0068,  0.0145, -0.3016,  ...,  0.5548, -0.1785,  0.0685],\n",
              "        [ 0.1981, -0.0991, -0.2745,  ...,  0.1796, -0.3175,  0.1357],\n",
              "        [ 0.1318,  0.0111, -0.1804,  ...,  0.1664, -0.2256,  0.3588]],\n",
              "       device='cuda:0')"
            ]
          },
          "metadata": {
            "tags": []
          },
          "execution_count": 208
        }
      ]
    },
    {
      "cell_type": "code",
      "metadata": {
        "id": "U8ovZX23ECX4"
      },
      "source": [
        "#function to plot train and validation loss over epochs\n",
        "def plot(train_losses,valid_losses,num_epochs):\n",
        "  epochs = list(range(num_epochs))\n",
        "  plt.plot(epochs,train_losses, label='train')\n",
        "  plt.plot(epochs,valid_losses, label='valid')\n",
        "  plt.legend()\n",
        "  plt.show()\n"
      ],
      "execution_count": 209,
      "outputs": []
    },
    {
      "cell_type": "code",
      "metadata": {
        "id": "p455ZPLrpkTS",
        "colab": {
          "base_uri": "https://localhost:8080/"
        },
        "outputId": "e68370c3-a53a-449c-9db8-bfeee785f08f"
      },
      "source": [
        "#setup for training the model (create dataloaders etc.)\n",
        "\n",
        "feature_1 = vectorized_seqs_1\n",
        "feature_2 = vectorized_seqs_2\n",
        "\n",
        "# 'feature' is a list of lists, each containing embedding IDs for word tokens\n",
        "train_and_dev = Task1Dataset_double(feature_1,feature_2, train_df['meanGrade'])\n",
        "#train_and_dev = Task1Dataset_double(feature_1,feature_2, train_df['variance'])\n",
        "\n",
        "train_examples = round(len(train_and_dev)*train_proportion)\n",
        "dev_examples = len(train_and_dev) - train_examples\n",
        "train_dataset, dev_dataset = random_split(train_and_dev,\n",
        "                                           (train_examples,\n",
        "                                            dev_examples))\n",
        "\n",
        "train_loader = torch.utils.data.DataLoader(train_dataset, shuffle=True, batch_size=BATCH_SIZE, collate_fn=collate_fn_padd)\n",
        "\n",
        "dev_loader = torch.utils.data.DataLoader(dev_dataset, batch_size=BATCH_SIZE, collate_fn=collate_fn_padd)\n",
        "\n",
        "\n",
        "\n",
        "print(\"Dataloaders created.\")\n",
        "\n",
        "loss_fn = nn.MSELoss()\n",
        "loss_fn = loss_fn.to(device)\n",
        "#optimizer = torch.optim.Adam(model.parameters())\n",
        "optimizer = torch.optim.SGD(model.parameters(), lr=0.008, momentum=0.9)\n"
      ],
      "execution_count": 210,
      "outputs": [
        {
          "output_type": "stream",
          "text": [
            "Dataloaders created.\n"
          ],
          "name": "stdout"
        }
      ]
    },
    {
      "cell_type": "markdown",
      "metadata": {
        "id": "9eVLmkYwpnrH"
      },
      "source": [
        "### Results when predicting meanGrade\n",
        "\n"
      ]
    },
    {
      "cell_type": "code",
      "metadata": {
        "id": "8kWhqnFEpbGe",
        "colab": {
          "base_uri": "https://localhost:8080/",
          "height": 1000
        },
        "outputId": "e2fe781e-17ad-4740-f7ae-ce1ff83838b8"
      },
      "source": [
        "#train model\n",
        "feature_1 = vectorized_seqs_1\n",
        "feature_2 = vectorized_seqs_2\n",
        "\n",
        "\n",
        "# 'feature' is a list of lists, each containing embedding IDs for word tokens\n",
        "train_and_dev = Task1Dataset_double(feature_1,feature_2, train_df['meanGrade'])\n",
        "#train_and_dev = Task1Dataset_double(feature_1,feature_2, train_df['variance'])\n",
        "\n",
        "train_examples = round(len(train_and_dev)*train_proportion)\n",
        "dev_examples = len(train_and_dev) - train_examples\n",
        "train_dataset, dev_dataset = random_split(train_and_dev,\n",
        "                                           (train_examples,\n",
        "                                            dev_examples))\n",
        "####Shuffle might need to be true. Check later\n",
        "train_loader = torch.utils.data.DataLoader(train_dataset, shuffle=True, batch_size=BATCH_SIZE, collate_fn=collate_fn_padd)\n",
        "\n",
        "dev_loader = torch.utils.data.DataLoader(dev_dataset, batch_size=BATCH_SIZE, collate_fn=collate_fn_padd)\n",
        "\n",
        "print(\"Dataloaders created.\")\n",
        "\n",
        "loss_fn = nn.MSELoss()\n",
        "loss_fn = loss_fn.to(device)\n",
        "#optimizer = torch.optim.Adam(model.parameters())\n",
        "optimizer = torch.optim.SGD(model.parameters(), lr=0.008, momentum=0.8)\n",
        "\n",
        "\n",
        "train_losses, valid_losses, preds, targs, train_rmses, valid_rmses = train(train_loader, dev_loader, model, 100)\n",
        "plt.title(\"Loss for LSTM Model\")\n",
        "plt.xlabel(\"Epochs\")\n",
        "plt.ylabel(\"Loss\")\n",
        "plot(train_rmses, valid_rmses, len(train_rmses))\n",
        "plt.scatter(preds, targs)\n",
        "plt.title(\"Predicting mean\")\n",
        "plt.xlabel(\"Predictions\")\n",
        "plt.ylabel(\"Target Labels\")\n",
        "plt.show()\n"
      ],
      "execution_count": 211,
      "outputs": [
        {
          "output_type": "stream",
          "text": [
            "Dataloaders created.\n",
            "Training model.\n",
            "| Epoch: 01 | Train Loss: 0.37 | Train MSE: 0.37 | Train RMSE: 0.61 |         Val. Loss: 0.35 | Val. MSE: 0.35 |  Val. RMSE: 0.591 |\n",
            "| Epoch: 02 | Train Loss: 0.36 | Train MSE: 0.36 | Train RMSE: 0.60 |         Val. Loss: 0.35 | Val. MSE: 0.35 |  Val. RMSE: 0.590 |\n",
            "| Epoch: 03 | Train Loss: 0.36 | Train MSE: 0.36 | Train RMSE: 0.60 |         Val. Loss: 0.35 | Val. MSE: 0.35 |  Val. RMSE: 0.589 |\n",
            "| Epoch: 04 | Train Loss: 0.36 | Train MSE: 0.36 | Train RMSE: 0.60 |         Val. Loss: 0.35 | Val. MSE: 0.35 |  Val. RMSE: 0.589 |\n",
            "| Epoch: 05 | Train Loss: 0.36 | Train MSE: 0.36 | Train RMSE: 0.60 |         Val. Loss: 0.35 | Val. MSE: 0.35 |  Val. RMSE: 0.589 |\n",
            "| Epoch: 06 | Train Loss: 0.35 | Train MSE: 0.35 | Train RMSE: 0.60 |         Val. Loss: 0.35 | Val. MSE: 0.35 |  Val. RMSE: 0.588 |\n",
            "| Epoch: 07 | Train Loss: 0.35 | Train MSE: 0.35 | Train RMSE: 0.60 |         Val. Loss: 0.35 | Val. MSE: 0.35 |  Val. RMSE: 0.588 |\n",
            "| Epoch: 08 | Train Loss: 0.35 | Train MSE: 0.35 | Train RMSE: 0.60 |         Val. Loss: 0.35 | Val. MSE: 0.35 |  Val. RMSE: 0.588 |\n",
            "| Epoch: 09 | Train Loss: 0.35 | Train MSE: 0.35 | Train RMSE: 0.59 |         Val. Loss: 0.34 | Val. MSE: 0.34 |  Val. RMSE: 0.587 |\n",
            "| Epoch: 10 | Train Loss: 0.35 | Train MSE: 0.35 | Train RMSE: 0.59 |         Val. Loss: 0.34 | Val. MSE: 0.34 |  Val. RMSE: 0.586 |\n",
            "| Epoch: 11 | Train Loss: 0.35 | Train MSE: 0.35 | Train RMSE: 0.59 |         Val. Loss: 0.34 | Val. MSE: 0.34 |  Val. RMSE: 0.586 |\n",
            "| Epoch: 12 | Train Loss: 0.35 | Train MSE: 0.35 | Train RMSE: 0.59 |         Val. Loss: 0.34 | Val. MSE: 0.34 |  Val. RMSE: 0.586 |\n",
            "| Epoch: 13 | Train Loss: 0.35 | Train MSE: 0.35 | Train RMSE: 0.59 |         Val. Loss: 0.34 | Val. MSE: 0.34 |  Val. RMSE: 0.585 |\n",
            "| Epoch: 14 | Train Loss: 0.35 | Train MSE: 0.35 | Train RMSE: 0.59 |         Val. Loss: 0.34 | Val. MSE: 0.34 |  Val. RMSE: 0.585 |\n",
            "| Epoch: 15 | Train Loss: 0.35 | Train MSE: 0.35 | Train RMSE: 0.59 |         Val. Loss: 0.34 | Val. MSE: 0.34 |  Val. RMSE: 0.585 |\n",
            "| Epoch: 16 | Train Loss: 0.35 | Train MSE: 0.35 | Train RMSE: 0.59 |         Val. Loss: 0.34 | Val. MSE: 0.34 |  Val. RMSE: 0.584 |\n",
            "| Epoch: 17 | Train Loss: 0.35 | Train MSE: 0.35 | Train RMSE: 0.59 |         Val. Loss: 0.34 | Val. MSE: 0.34 |  Val. RMSE: 0.584 |\n",
            "| Epoch: 18 | Train Loss: 0.35 | Train MSE: 0.35 | Train RMSE: 0.59 |         Val. Loss: 0.34 | Val. MSE: 0.34 |  Val. RMSE: 0.584 |\n",
            "| Epoch: 19 | Train Loss: 0.35 | Train MSE: 0.35 | Train RMSE: 0.59 |         Val. Loss: 0.34 | Val. MSE: 0.34 |  Val. RMSE: 0.585 |\n",
            "| Epoch: 20 | Train Loss: 0.35 | Train MSE: 0.35 | Train RMSE: 0.59 |         Val. Loss: 0.34 | Val. MSE: 0.34 |  Val. RMSE: 0.583 |\n",
            "| Epoch: 21 | Train Loss: 0.35 | Train MSE: 0.35 | Train RMSE: 0.59 |         Val. Loss: 0.34 | Val. MSE: 0.34 |  Val. RMSE: 0.583 |\n",
            "| Epoch: 22 | Train Loss: 0.35 | Train MSE: 0.35 | Train RMSE: 0.59 |         Val. Loss: 0.34 | Val. MSE: 0.34 |  Val. RMSE: 0.583 |\n",
            "| Epoch: 23 | Train Loss: 0.34 | Train MSE: 0.34 | Train RMSE: 0.59 |         Val. Loss: 0.34 | Val. MSE: 0.34 |  Val. RMSE: 0.583 |\n",
            "| Epoch: 24 | Train Loss: 0.35 | Train MSE: 0.35 | Train RMSE: 0.59 |         Val. Loss: 0.34 | Val. MSE: 0.34 |  Val. RMSE: 0.582 |\n",
            "| Epoch: 25 | Train Loss: 0.34 | Train MSE: 0.34 | Train RMSE: 0.59 |         Val. Loss: 0.34 | Val. MSE: 0.34 |  Val. RMSE: 0.582 |\n",
            "| Epoch: 26 | Train Loss: 0.34 | Train MSE: 0.34 | Train RMSE: 0.59 |         Val. Loss: 0.34 | Val. MSE: 0.34 |  Val. RMSE: 0.582 |\n",
            "| Epoch: 27 | Train Loss: 0.34 | Train MSE: 0.34 | Train RMSE: 0.59 |         Val. Loss: 0.34 | Val. MSE: 0.34 |  Val. RMSE: 0.581 |\n",
            "| Epoch: 28 | Train Loss: 0.34 | Train MSE: 0.34 | Train RMSE: 0.59 |         Val. Loss: 0.34 | Val. MSE: 0.34 |  Val. RMSE: 0.581 |\n",
            "| Epoch: 29 | Train Loss: 0.34 | Train MSE: 0.34 | Train RMSE: 0.59 |         Val. Loss: 0.34 | Val. MSE: 0.34 |  Val. RMSE: 0.582 |\n",
            "| Epoch: 30 | Train Loss: 0.34 | Train MSE: 0.34 | Train RMSE: 0.59 |         Val. Loss: 0.34 | Val. MSE: 0.34 |  Val. RMSE: 0.582 |\n",
            "| Epoch: 31 | Train Loss: 0.34 | Train MSE: 0.34 | Train RMSE: 0.58 |         Val. Loss: 0.34 | Val. MSE: 0.34 |  Val. RMSE: 0.581 |\n",
            "| Epoch: 32 | Train Loss: 0.34 | Train MSE: 0.34 | Train RMSE: 0.58 |         Val. Loss: 0.34 | Val. MSE: 0.34 |  Val. RMSE: 0.581 |\n",
            "| Epoch: 33 | Train Loss: 0.34 | Train MSE: 0.34 | Train RMSE: 0.58 |         Val. Loss: 0.34 | Val. MSE: 0.34 |  Val. RMSE: 0.580 |\n",
            "| Epoch: 34 | Train Loss: 0.34 | Train MSE: 0.34 | Train RMSE: 0.58 |         Val. Loss: 0.34 | Val. MSE: 0.34 |  Val. RMSE: 0.581 |\n",
            "| Epoch: 35 | Train Loss: 0.34 | Train MSE: 0.34 | Train RMSE: 0.58 |         Val. Loss: 0.34 | Val. MSE: 0.34 |  Val. RMSE: 0.580 |\n",
            "| Epoch: 36 | Train Loss: 0.34 | Train MSE: 0.34 | Train RMSE: 0.58 |         Val. Loss: 0.34 | Val. MSE: 0.34 |  Val. RMSE: 0.580 |\n",
            "| Epoch: 37 | Train Loss: 0.34 | Train MSE: 0.34 | Train RMSE: 0.58 |         Val. Loss: 0.34 | Val. MSE: 0.34 |  Val. RMSE: 0.581 |\n",
            "| Epoch: 38 | Train Loss: 0.34 | Train MSE: 0.34 | Train RMSE: 0.58 |         Val. Loss: 0.34 | Val. MSE: 0.34 |  Val. RMSE: 0.583 |\n",
            "| Epoch: 39 | Train Loss: 0.34 | Train MSE: 0.34 | Train RMSE: 0.58 |         Val. Loss: 0.34 | Val. MSE: 0.34 |  Val. RMSE: 0.580 |\n",
            "| Epoch: 40 | Train Loss: 0.34 | Train MSE: 0.34 | Train RMSE: 0.58 |         Val. Loss: 0.34 | Val. MSE: 0.34 |  Val. RMSE: 0.580 |\n",
            "| Epoch: 41 | Train Loss: 0.34 | Train MSE: 0.34 | Train RMSE: 0.58 |         Val. Loss: 0.34 | Val. MSE: 0.34 |  Val. RMSE: 0.580 |\n",
            "| Epoch: 42 | Train Loss: 0.34 | Train MSE: 0.34 | Train RMSE: 0.58 |         Val. Loss: 0.34 | Val. MSE: 0.34 |  Val. RMSE: 0.579 |\n",
            "| Epoch: 43 | Train Loss: 0.34 | Train MSE: 0.34 | Train RMSE: 0.58 |         Val. Loss: 0.34 | Val. MSE: 0.34 |  Val. RMSE: 0.579 |\n",
            "| Epoch: 44 | Train Loss: 0.33 | Train MSE: 0.33 | Train RMSE: 0.58 |         Val. Loss: 0.34 | Val. MSE: 0.34 |  Val. RMSE: 0.580 |\n",
            "| Epoch: 45 | Train Loss: 0.33 | Train MSE: 0.33 | Train RMSE: 0.58 |         Val. Loss: 0.33 | Val. MSE: 0.33 |  Val. RMSE: 0.579 |\n",
            "| Epoch: 46 | Train Loss: 0.33 | Train MSE: 0.33 | Train RMSE: 0.58 |         Val. Loss: 0.33 | Val. MSE: 0.33 |  Val. RMSE: 0.579 |\n",
            "| Epoch: 47 | Train Loss: 0.33 | Train MSE: 0.33 | Train RMSE: 0.58 |         Val. Loss: 0.33 | Val. MSE: 0.33 |  Val. RMSE: 0.578 |\n",
            "| Epoch: 48 | Train Loss: 0.33 | Train MSE: 0.33 | Train RMSE: 0.58 |         Val. Loss: 0.33 | Val. MSE: 0.33 |  Val. RMSE: 0.579 |\n",
            "| Epoch: 49 | Train Loss: 0.33 | Train MSE: 0.33 | Train RMSE: 0.58 |         Val. Loss: 0.33 | Val. MSE: 0.33 |  Val. RMSE: 0.578 |\n",
            "| Epoch: 50 | Train Loss: 0.33 | Train MSE: 0.33 | Train RMSE: 0.58 |         Val. Loss: 0.33 | Val. MSE: 0.33 |  Val. RMSE: 0.578 |\n",
            "| Epoch: 51 | Train Loss: 0.33 | Train MSE: 0.33 | Train RMSE: 0.57 |         Val. Loss: 0.33 | Val. MSE: 0.33 |  Val. RMSE: 0.578 |\n",
            "| Epoch: 52 | Train Loss: 0.33 | Train MSE: 0.33 | Train RMSE: 0.57 |         Val. Loss: 0.33 | Val. MSE: 0.33 |  Val. RMSE: 0.578 |\n",
            "| Epoch: 53 | Train Loss: 0.33 | Train MSE: 0.33 | Train RMSE: 0.57 |         Val. Loss: 0.33 | Val. MSE: 0.33 |  Val. RMSE: 0.578 |\n",
            "| Epoch: 54 | Train Loss: 0.33 | Train MSE: 0.33 | Train RMSE: 0.57 |         Val. Loss: 0.34 | Val. MSE: 0.34 |  Val. RMSE: 0.580 |\n",
            "| Epoch: 55 | Train Loss: 0.33 | Train MSE: 0.33 | Train RMSE: 0.57 |         Val. Loss: 0.33 | Val. MSE: 0.33 |  Val. RMSE: 0.578 |\n",
            "| Epoch: 56 | Train Loss: 0.33 | Train MSE: 0.33 | Train RMSE: 0.57 |         Val. Loss: 0.33 | Val. MSE: 0.33 |  Val. RMSE: 0.578 |\n",
            "| Epoch: 57 | Train Loss: 0.33 | Train MSE: 0.33 | Train RMSE: 0.57 |         Val. Loss: 0.33 | Val. MSE: 0.33 |  Val. RMSE: 0.577 |\n",
            "| Epoch: 58 | Train Loss: 0.32 | Train MSE: 0.32 | Train RMSE: 0.57 |         Val. Loss: 0.33 | Val. MSE: 0.33 |  Val. RMSE: 0.578 |\n",
            "| Epoch: 59 | Train Loss: 0.32 | Train MSE: 0.32 | Train RMSE: 0.57 |         Val. Loss: 0.33 | Val. MSE: 0.33 |  Val. RMSE: 0.577 |\n",
            "| Epoch: 60 | Train Loss: 0.32 | Train MSE: 0.32 | Train RMSE: 0.57 |         Val. Loss: 0.33 | Val. MSE: 0.33 |  Val. RMSE: 0.577 |\n",
            "| Epoch: 61 | Train Loss: 0.32 | Train MSE: 0.32 | Train RMSE: 0.57 |         Val. Loss: 0.33 | Val. MSE: 0.33 |  Val. RMSE: 0.578 |\n",
            "| Epoch: 62 | Train Loss: 0.32 | Train MSE: 0.32 | Train RMSE: 0.57 |         Val. Loss: 0.33 | Val. MSE: 0.33 |  Val. RMSE: 0.578 |\n",
            "| Epoch: 63 | Train Loss: 0.32 | Train MSE: 0.32 | Train RMSE: 0.57 |         Val. Loss: 0.33 | Val. MSE: 0.33 |  Val. RMSE: 0.577 |\n",
            "| Epoch: 64 | Train Loss: 0.32 | Train MSE: 0.32 | Train RMSE: 0.57 |         Val. Loss: 0.33 | Val. MSE: 0.33 |  Val. RMSE: 0.578 |\n",
            "| Epoch: 65 | Train Loss: 0.32 | Train MSE: 0.32 | Train RMSE: 0.57 |         Val. Loss: 0.33 | Val. MSE: 0.33 |  Val. RMSE: 0.577 |\n",
            "| Epoch: 66 | Train Loss: 0.32 | Train MSE: 0.32 | Train RMSE: 0.57 |         Val. Loss: 0.33 | Val. MSE: 0.33 |  Val. RMSE: 0.577 |\n",
            "| Epoch: 67 | Train Loss: 0.32 | Train MSE: 0.32 | Train RMSE: 0.57 |         Val. Loss: 0.33 | Val. MSE: 0.33 |  Val. RMSE: 0.577 |\n",
            "| Epoch: 68 | Train Loss: 0.32 | Train MSE: 0.32 | Train RMSE: 0.56 |         Val. Loss: 0.33 | Val. MSE: 0.33 |  Val. RMSE: 0.576 |\n",
            "| Epoch: 69 | Train Loss: 0.32 | Train MSE: 0.32 | Train RMSE: 0.56 |         Val. Loss: 0.33 | Val. MSE: 0.33 |  Val. RMSE: 0.576 |\n",
            "| Epoch: 70 | Train Loss: 0.32 | Train MSE: 0.32 | Train RMSE: 0.56 |         Val. Loss: 0.33 | Val. MSE: 0.33 |  Val. RMSE: 0.576 |\n",
            "| Epoch: 71 | Train Loss: 0.32 | Train MSE: 0.32 | Train RMSE: 0.56 |         Val. Loss: 0.33 | Val. MSE: 0.33 |  Val. RMSE: 0.576 |\n",
            "| Epoch: 72 | Train Loss: 0.32 | Train MSE: 0.32 | Train RMSE: 0.56 |         Val. Loss: 0.33 | Val. MSE: 0.33 |  Val. RMSE: 0.576 |\n",
            "| Epoch: 73 | Train Loss: 0.31 | Train MSE: 0.31 | Train RMSE: 0.56 |         Val. Loss: 0.33 | Val. MSE: 0.33 |  Val. RMSE: 0.577 |\n",
            "| Epoch: 74 | Train Loss: 0.32 | Train MSE: 0.32 | Train RMSE: 0.56 |         Val. Loss: 0.33 | Val. MSE: 0.33 |  Val. RMSE: 0.578 |\n",
            "| Epoch: 75 | Train Loss: 0.31 | Train MSE: 0.31 | Train RMSE: 0.56 |         Val. Loss: 0.33 | Val. MSE: 0.33 |  Val. RMSE: 0.576 |\n",
            "| Epoch: 76 | Train Loss: 0.31 | Train MSE: 0.31 | Train RMSE: 0.56 |         Val. Loss: 0.33 | Val. MSE: 0.33 |  Val. RMSE: 0.576 |\n",
            "| Epoch: 77 | Train Loss: 0.31 | Train MSE: 0.31 | Train RMSE: 0.56 |         Val. Loss: 0.33 | Val. MSE: 0.33 |  Val. RMSE: 0.576 |\n",
            "| Epoch: 78 | Train Loss: 0.31 | Train MSE: 0.31 | Train RMSE: 0.56 |         Val. Loss: 0.33 | Val. MSE: 0.33 |  Val. RMSE: 0.577 |\n",
            "| Epoch: 79 | Train Loss: 0.31 | Train MSE: 0.31 | Train RMSE: 0.55 |         Val. Loss: 0.34 | Val. MSE: 0.34 |  Val. RMSE: 0.579 |\n",
            "| Epoch: 80 | Train Loss: 0.31 | Train MSE: 0.31 | Train RMSE: 0.56 |         Val. Loss: 0.33 | Val. MSE: 0.33 |  Val. RMSE: 0.576 |\n",
            "| Epoch: 81 | Train Loss: 0.31 | Train MSE: 0.31 | Train RMSE: 0.56 |         Val. Loss: 0.33 | Val. MSE: 0.33 |  Val. RMSE: 0.576 |\n",
            "| Epoch: 82 | Train Loss: 0.31 | Train MSE: 0.31 | Train RMSE: 0.55 |         Val. Loss: 0.33 | Val. MSE: 0.33 |  Val. RMSE: 0.576 |\n",
            "| Epoch: 83 | Train Loss: 0.31 | Train MSE: 0.31 | Train RMSE: 0.55 |         Val. Loss: 0.33 | Val. MSE: 0.33 |  Val. RMSE: 0.578 |\n",
            "| Epoch: 84 | Train Loss: 0.31 | Train MSE: 0.31 | Train RMSE: 0.55 |         Val. Loss: 0.33 | Val. MSE: 0.33 |  Val. RMSE: 0.576 |\n",
            "| Epoch: 85 | Train Loss: 0.31 | Train MSE: 0.31 | Train RMSE: 0.55 |         Val. Loss: 0.33 | Val. MSE: 0.33 |  Val. RMSE: 0.576 |\n",
            "| Epoch: 86 | Train Loss: 0.31 | Train MSE: 0.31 | Train RMSE: 0.55 |         Val. Loss: 0.33 | Val. MSE: 0.33 |  Val. RMSE: 0.576 |\n",
            "| Epoch: 87 | Train Loss: 0.30 | Train MSE: 0.30 | Train RMSE: 0.55 |         Val. Loss: 0.33 | Val. MSE: 0.33 |  Val. RMSE: 0.576 |\n",
            "| Epoch: 88 | Train Loss: 0.31 | Train MSE: 0.31 | Train RMSE: 0.55 |         Val. Loss: 0.33 | Val. MSE: 0.33 |  Val. RMSE: 0.577 |\n",
            "| Epoch: 89 | Train Loss: 0.30 | Train MSE: 0.30 | Train RMSE: 0.55 |         Val. Loss: 0.33 | Val. MSE: 0.33 |  Val. RMSE: 0.576 |\n",
            "| Epoch: 90 | Train Loss: 0.30 | Train MSE: 0.30 | Train RMSE: 0.55 |         Val. Loss: 0.33 | Val. MSE: 0.33 |  Val. RMSE: 0.576 |\n",
            "| Epoch: 91 | Train Loss: 0.30 | Train MSE: 0.30 | Train RMSE: 0.55 |         Val. Loss: 0.33 | Val. MSE: 0.33 |  Val. RMSE: 0.577 |\n",
            "| Epoch: 92 | Train Loss: 0.30 | Train MSE: 0.30 | Train RMSE: 0.55 |         Val. Loss: 0.33 | Val. MSE: 0.33 |  Val. RMSE: 0.576 |\n",
            "| Epoch: 93 | Train Loss: 0.30 | Train MSE: 0.30 | Train RMSE: 0.54 |         Val. Loss: 0.33 | Val. MSE: 0.33 |  Val. RMSE: 0.577 |\n",
            "| Epoch: 94 | Train Loss: 0.30 | Train MSE: 0.30 | Train RMSE: 0.55 |         Val. Loss: 0.33 | Val. MSE: 0.33 |  Val. RMSE: 0.575 |\n",
            "| Epoch: 95 | Train Loss: 0.30 | Train MSE: 0.30 | Train RMSE: 0.55 |         Val. Loss: 0.33 | Val. MSE: 0.33 |  Val. RMSE: 0.576 |\n",
            "| Epoch: 96 | Train Loss: 0.30 | Train MSE: 0.30 | Train RMSE: 0.54 |         Val. Loss: 0.33 | Val. MSE: 0.33 |  Val. RMSE: 0.576 |\n",
            "| Epoch: 97 | Train Loss: 0.30 | Train MSE: 0.30 | Train RMSE: 0.54 |         Val. Loss: 0.33 | Val. MSE: 0.33 |  Val. RMSE: 0.576 |\n",
            "| Epoch: 98 | Train Loss: 0.29 | Train MSE: 0.29 | Train RMSE: 0.54 |         Val. Loss: 0.33 | Val. MSE: 0.33 |  Val. RMSE: 0.577 |\n",
            "| Epoch: 99 | Train Loss: 0.29 | Train MSE: 0.29 | Train RMSE: 0.54 |         Val. Loss: 0.33 | Val. MSE: 0.33 |  Val. RMSE: 0.577 |\n",
            "| Epoch: 100 | Train Loss: 0.29 | Train MSE: 0.29 | Train RMSE: 0.54 |         Val. Loss: 0.33 | Val. MSE: 0.33 |  Val. RMSE: 0.577 |\n"
          ],
          "name": "stdout"
        },
        {
          "output_type": "display_data",
          "data": {
            "image/png": "[encoded data removed]",
            "text/plain": [
              "<Figure size 432x288 with 1 Axes>"
            ]
          },
          "metadata": {
            "tags": [],
            "needs_background": "light"
          }
        },
        {
          "output_type": "display_data",
          "data": {
            "image/png": "[encoded data removed]",
            "text/plain": [
              "<Figure size 432x288 with 1 Axes>"
            ]
          },
          "metadata": {
            "tags": [],
            "needs_background": "light"
          }
        }
      ]
    },
    {
      "cell_type": "code",
      "metadata": {
        "colab": {
          "base_uri": "https://localhost:8080/",
          "height": 294
        },
        "id": "YyBvofgTsCm6",
        "outputId": "528aec46-4f7e-4371-bc5a-6cc3cf83baad"
      },
      "source": [
        "plt.scatter(preds, targs)\n",
        "mean = np.mean(train_df[\"meanGrade\"].tolist())\n",
        "plt.title(\"Target vs. Predictions\")\n",
        "plt.vlines(mean, ymin = 0, ymax = 3, label=\"Mean\", color = \"green\")\n",
        "plt.legend()\n",
        "plt.xlabel(\"Predictions\")\n",
        "plt.ylabel(\"Target Labels\")\n",
        "plt.show()\n"
      ],
      "execution_count": 212,
      "outputs": [
        {
          "output_type": "display_data",
          "data": {
            "image/png": "[encoded data removed]",
            "text/plain": [
              "<Figure size 432x288 with 1 Axes>"
            ]
          },
          "metadata": {
            "tags": [],
            "needs_background": "light"
          }
        }
      ]
    },
    {
      "cell_type": "code",
      "metadata": {
        "id": "4kfa_W17xve1"
      },
      "source": [
        "test_dataset = Task1Dataset_double(vectorized_seqs_1_test,vectorized_seqs_2_test, train_df.meanGrade)\n",
        "test_loader = torch.utils.data.DataLoader(test_dataset, shuffle=False, batch_size=len(test_df), collate_fn=collate_fn_padd)"
      ],
      "execution_count": 213,
      "outputs": []
    },
    {
      "cell_type": "code",
      "metadata": {
        "id": "RObzqWeA6LQE"
      },
      "source": [
        "test_loss, test_mse, predictions, targets = eval(test_loader, model)\n",
        "mse = np.mean((predictions - targets)**2)\n",
        "rmse = mse ** 0.5\n",
        "print('Test rmse is {}'.format(rmse))"
      ],
      "execution_count": null,
      "outputs": []
    },
    {
      "cell_type": "code",
      "metadata": {
        "id": "dOHO7FB57m2q"
      },
      "source": [
        "plt.scatter(predictions, targets)\n",
        "plt.title(\"Target vs. Predictions - Test set\")\n",
        "\n",
        "plt.legend()\n",
        "plt.xlabel(\"Predictions\")\n",
        "plt.ylabel(\"Target Labels\")\n",
        "plt.show()"
      ],
      "execution_count": null,
      "outputs": []
    },
    {
      "cell_type": "code",
      "metadata": {
        "colab": {
          "base_uri": "https://localhost:8080/"
        },
        "id": "FMYuHesark77",
        "outputId": "a445859b-1ac6-4673-f7c1-eca31e3dbbef"
      },
      "source": [
        "model.eval()\n",
        "\n",
        "with torch.no_grad():\n",
        "    for batch in test_loader:\n",
        "        feature, target = batch\n",
        "        feature_1= feature[0].to(device)\n",
        "        feature_2 = feature[1].to(device)\n",
        "\n",
        "        feature = (feature_1, feature_2)\n",
        "\n",
        "        # for RNN:\n",
        "        model.batch_size = target.shape[0]\n",
        "        model.hidden_1 = model.init_hidden()\n",
        "        model.hidden_2 = model.init_hidden()\n",
        "\n",
        "        predictions = model(feature).squeeze(1)\n",
        "\n",
        "        #predictions_plot.append(predictions.detach().cpu().numpy())\n",
        "        #target_plot.append(target.detach().cpu().numpy())\n",
        "\n",
        "predictions"
      ],
      "execution_count": 214,
      "outputs": [
        {
          "output_type": "execute_result",
          "data": {
            "text/plain": [
              "tensor([0.8115, 1.3345, 1.1184,  ..., 1.2887, 1.0883, 1.0830], device='cuda:0')"
            ]
          },
          "metadata": {
            "tags": []
          },
          "execution_count": 214
        }
      ]
    },
    {
      "cell_type": "code",
      "metadata": {
        "colab": {
          "base_uri": "https://localhost:8080/",
          "height": 298
        },
        "id": "vTLpL7XQ3c03",
        "outputId": "ea7a64ea-4b29-42a8-f2f0-6efe084afc10"
      },
      "source": [
        "plt.hist(predictions.cpu().numpy(), bins = 20)\n",
        "\n",
        "plt.title(\"Predictions on test set\")\n",
        "\n",
        "plt.show"
      ],
      "execution_count": 219,
      "outputs": [
        {
          "output_type": "execute_result",
          "data": {
            "text/plain": [
              "<function matplotlib.pyplot.show>"
            ]
          },
          "metadata": {
            "tags": []
          },
          "execution_count": 219
        },
        {
          "output_type": "display_data",
          "data": {
            "image/png": "[encoded data removed]",
            "text/plain": [
              "<Figure size 432x288 with 1 Axes>"
            ]
          },
          "metadata": {
            "tags": [],
            "needs_background": "light"
          }
        }
      ]
    },
    {
      "cell_type": "markdown",
      "metadata": {
        "id": "J-6sAbOO0WFK"
      },
      "source": [
        "### Further exploration with Variance"
      ]
    },
    {
      "cell_type": "markdown",
      "metadata": {
        "id": "nftBwyNppl4J"
      },
      "source": [
        "#### Predicting the Variance"
      ]
    },
    {
      "cell_type": "code",
      "metadata": {
        "id": "un9wo5TPyN9L",
        "colab": {
          "base_uri": "https://localhost:8080/",
          "height": 733
        },
        "outputId": "ff3e0269-ea1a-4269-87c3-77d0cce9375e"
      },
      "source": [
        "#train model when only predicting variance\n",
        "feature_1 = vectorized_seqs_1\n",
        "feature_2 = vectorized_seqs_2\n",
        "\n",
        "\n",
        "# 'feature' is a list of lists, each containing embedding IDs for word tokens\n",
        "#train_and_dev = Task1Dataset_double(feature_1,feature_2, train_df['meanGrade'])\n",
        "train_and_dev = Task1Dataset_double(feature_1,feature_2, train_df['variance'])\n",
        "\n",
        "train_examples = round(len(train_and_dev)*train_proportion)\n",
        "dev_examples = len(train_and_dev) - train_examples\n",
        "train_dataset, dev_dataset = random_split(train_and_dev,\n",
        "                                           (train_examples,\n",
        "                                            dev_examples))\n",
        "\n",
        "train_loader = torch.utils.data.DataLoader(train_dataset, shuffle=True, batch_size=BATCH_SIZE, collate_fn=collate_fn_padd)\n",
        "\n",
        "dev_loader = torch.utils.data.DataLoader(dev_dataset, batch_size=BATCH_SIZE, collate_fn=collate_fn_padd)\n",
        "\n",
        "print(\"Dataloaders created.\")\n",
        "\n",
        "loss_fn = nn.MSELoss()\n",
        "loss_fn = loss_fn.to(device)\n",
        "#optimizer = torch.optim.Adam(model.parameters())\n",
        "optimizer = torch.optim.SGD(model.parameters(), lr=0.001, momentum=0.9)\n",
        "\n",
        "\n",
        "train_losses, valid_losses, preds, targs = train(train_loader, dev_loader, model, epochs)\n",
        "plot(train_losses, valid_losses, len(train_losses))\n",
        "plt.scatter(preds, targs)\n",
        "plt.title(\"Predicting variance\")\n",
        "plt.show()\n"
      ],
      "execution_count": null,
      "outputs": [
        {
          "output_type": "stream",
          "text": [
            "Dataloaders created.\n",
            "Training model.\n",
            "| Epoch: 01 | Train Loss: 0.40 | Train MSE: 0.40 | Train RMSE: 0.63 |         Val. Loss: 0.29 | Val. MSE: 0.29 |  Val. RMSE: 0.54 |\n",
            "| Epoch: 02 | Train Loss: 0.24 | Train MSE: 0.24 | Train RMSE: 0.49 |         Val. Loss: 0.20 | Val. MSE: 0.20 |  Val. RMSE: 0.45 |\n",
            "| Epoch: 03 | Train Loss: 0.20 | Train MSE: 0.20 | Train RMSE: 0.44 |         Val. Loss: 0.18 | Val. MSE: 0.18 |  Val. RMSE: 0.43 |\n",
            "| Epoch: 04 | Train Loss: 0.19 | Train MSE: 0.19 | Train RMSE: 0.43 |         Val. Loss: 0.18 | Val. MSE: 0.18 |  Val. RMSE: 0.43 |\n",
            "| Epoch: 05 | Train Loss: 0.19 | Train MSE: 0.19 | Train RMSE: 0.43 |         Val. Loss: 0.18 | Val. MSE: 0.18 |  Val. RMSE: 0.43 |\n",
            "| Epoch: 06 | Train Loss: 0.19 | Train MSE: 0.19 | Train RMSE: 0.43 |         Val. Loss: 0.18 | Val. MSE: 0.18 |  Val. RMSE: 0.43 |\n",
            "| Epoch: 07 | Train Loss: 0.19 | Train MSE: 0.19 | Train RMSE: 0.43 |         Val. Loss: 0.18 | Val. MSE: 0.18 |  Val. RMSE: 0.43 |\n",
            "| Epoch: 08 | Train Loss: 0.19 | Train MSE: 0.19 | Train RMSE: 0.43 |         Val. Loss: 0.18 | Val. MSE: 0.18 |  Val. RMSE: 0.43 |\n",
            "| Epoch: 09 | Train Loss: 0.19 | Train MSE: 0.19 | Train RMSE: 0.43 |         Val. Loss: 0.18 | Val. MSE: 0.18 |  Val. RMSE: 0.43 |\n",
            "| Epoch: 10 | Train Loss: 0.19 | Train MSE: 0.19 | Train RMSE: 0.43 |         Val. Loss: 0.18 | Val. MSE: 0.18 |  Val. RMSE: 0.43 |\n"
          ],
          "name": "stdout"
        },
        {
          "output_type": "display_data",
          "data": {
            "image/png": "[encoded data removed]",
            "text/plain": [
              "<Figure size 432x288 with 1 Axes>"
            ]
          },
          "metadata": {
            "tags": [],
            "needs_background": "light"
          }
        },
        {
          "output_type": "display_data",
          "data": {
            "image/png": "[encoded data removed]",
            "text/plain": [
              "<Figure size 432x288 with 1 Axes>"
            ]
          },
          "metadata": {
            "tags": [],
            "needs_background": "light"
          }
        }
      ]
    },
    {
      "cell_type": "markdown",
      "metadata": {
        "id": "8hE_a2aiypgx"
      },
      "source": [
        "#### Predicting the mean with high variance data"
      ]
    },
    {
      "cell_type": "code",
      "metadata": {
        "id": "KydvnvNrz-OO"
      },
      "source": [
        "#drop low variance\n",
        "indexNames = train_df[(train_df['variance'] < 0.3)].index\n",
        "# Delete these row indexes from dataFrame\n",
        "high_v_train = train_df.drop(indexNames, inplace=False)\n",
        "high_v_train = high_v_train.reset_index(inplace=False,drop=True)"
      ],
      "execution_count": null,
      "outputs": []
    },
    {
      "cell_type": "code",
      "metadata": {
        "id": "ZGZvaWqz2GO3",
        "colab": {
          "base_uri": "https://localhost:8080/",
          "height": 419
        },
        "outputId": "321e68dc-eab7-407f-fede-52e19b672d1f"
      },
      "source": [
        "high_v_train"
      ],
      "execution_count": null,
      "outputs": [
        {
          "output_type": "execute_result",
          "data": {
            "text/html": [
              "<div>\n",
              "<style scoped>\n",
              "    .dataframe tbody tr th:only-of-type {\n",
              "        vertical-align: middle;\n",
              "    }\n",
              "\n",
              "    .dataframe tbody tr th {\n",
              "        vertical-align: top;\n",
              "    }\n",
              "\n",
              "    .dataframe thead th {\n",
              "        text-align: right;\n",
              "    }\n",
              "</style>\n",
              "<table border=\"1\" class=\"dataframe\">\n",
              "  <thead>\n",
              "    <tr style=\"text-align: right;\">\n",
              "      <th></th>\n",
              "      <th>id</th>\n",
              "      <th>original</th>\n",
              "      <th>edit</th>\n",
              "      <th>grades</th>\n",
              "      <th>meanGrade</th>\n",
              "      <th>old</th>\n",
              "      <th>edited</th>\n",
              "      <th>variance</th>\n",
              "    </tr>\n",
              "  </thead>\n",
              "  <tbody>\n",
              "    <tr>\n",
              "      <th>0</th>\n",
              "      <td>13034</td>\n",
              "      <td>Pentagon claims 2,000 % increase in Russian tr...</td>\n",
              "      <td>bowling</td>\n",
              "      <td>33110</td>\n",
              "      <td>1.6</td>\n",
              "      <td>Syria</td>\n",
              "      <td>Pentagon claims 2,000 % increase in Russian tr...</td>\n",
              "      <td>1.44</td>\n",
              "    </tr>\n",
              "    <tr>\n",
              "      <th>1</th>\n",
              "      <td>8731</td>\n",
              "      <td>Iceland PM Calls Snap Vote as Pedophile Furor ...</td>\n",
              "      <td>party</td>\n",
              "      <td>22100</td>\n",
              "      <td>1.0</td>\n",
              "      <td>Coalition</td>\n",
              "      <td>Iceland PM Calls Snap Vote as Pedophile Furor ...</td>\n",
              "      <td>0.80</td>\n",
              "    </tr>\n",
              "    <tr>\n",
              "      <th>2</th>\n",
              "      <td>76</td>\n",
              "      <td>In an apparent first , Iran and Israel engage ...</td>\n",
              "      <td>slap</td>\n",
              "      <td>20000</td>\n",
              "      <td>0.4</td>\n",
              "      <td>engage</td>\n",
              "      <td>In an apparent first , Iran and Israel slap ea...</td>\n",
              "      <td>0.64</td>\n",
              "    </tr>\n",
              "    <tr>\n",
              "      <th>3</th>\n",
              "      <td>8832</td>\n",
              "      <td>All 22 promises Trump made in his speech to Co...</td>\n",
              "      <td>sounds</td>\n",
              "      <td>22200</td>\n",
              "      <td>1.2</td>\n",
              "      <td>promises</td>\n",
              "      <td>All 22 sounds Trump made in his speech to Cong...</td>\n",
              "      <td>0.96</td>\n",
              "    </tr>\n",
              "    <tr>\n",
              "      <th>4</th>\n",
              "      <td>12174</td>\n",
              "      <td>New DOJ alert system will flag crimes against ...</td>\n",
              "      <td>laughter</td>\n",
              "      <td>32100</td>\n",
              "      <td>1.2</td>\n",
              "      <td>crimes</td>\n",
              "      <td>New DOJ alert system will flag laughter agains...</td>\n",
              "      <td>1.36</td>\n",
              "    </tr>\n",
              "    <tr>\n",
              "      <th>...</th>\n",
              "      <td>...</td>\n",
              "      <td>...</td>\n",
              "      <td>...</td>\n",
              "      <td>...</td>\n",
              "      <td>...</td>\n",
              "      <td>...</td>\n",
              "      <td>...</td>\n",
              "      <td>...</td>\n",
              "    </tr>\n",
              "    <tr>\n",
              "      <th>6297</th>\n",
              "      <td>7544</td>\n",
              "      <td>This Is What Happens When You Let Trump Be Trump</td>\n",
              "      <td>orange</td>\n",
              "      <td>33211</td>\n",
              "      <td>2.0</td>\n",
              "      <td>Trump</td>\n",
              "      <td>This Is What Happens When You Let Trump Be ora...</td>\n",
              "      <td>0.80</td>\n",
              "    </tr>\n",
              "    <tr>\n",
              "      <th>6298</th>\n",
              "      <td>12770</td>\n",
              "      <td>Among Republicans , Trump is more popular than...</td>\n",
              "      <td>interns</td>\n",
              "      <td>21100</td>\n",
              "      <td>0.8</td>\n",
              "      <td>leaders</td>\n",
              "      <td>Among Republicans , Trump is more popular than...</td>\n",
              "      <td>0.56</td>\n",
              "    </tr>\n",
              "    <tr>\n",
              "      <th>6299</th>\n",
              "      <td>1781</td>\n",
              "      <td>Protesters Rally for Refugees Detained at JFK ...</td>\n",
              "      <td>stewardesses</td>\n",
              "      <td>20000</td>\n",
              "      <td>0.4</td>\n",
              "      <td>Refugees</td>\n",
              "      <td>Protesters Rally for stewardesses Detained at ...</td>\n",
              "      <td>0.64</td>\n",
              "    </tr>\n",
              "    <tr>\n",
              "      <th>6300</th>\n",
              "      <td>5628</td>\n",
              "      <td>Cruise line Carnival Corp. joins the fight aga...</td>\n",
              "      <td>raisin</td>\n",
              "      <td>21000</td>\n",
              "      <td>0.6</td>\n",
              "      <td>marriage</td>\n",
              "      <td>Cruise line Carnival Corp. joins the fight aga...</td>\n",
              "      <td>0.64</td>\n",
              "    </tr>\n",
              "    <tr>\n",
              "      <th>6301</th>\n",
              "      <td>14483</td>\n",
              "      <td>Columbia police hunt woman seen with gun near ...</td>\n",
              "      <td>cake</td>\n",
              "      <td>32200</td>\n",
              "      <td>1.4</td>\n",
              "      <td>gun</td>\n",
              "      <td>Columbia police hunt woman seen with cake near...</td>\n",
              "      <td>1.44</td>\n",
              "    </tr>\n",
              "  </tbody>\n",
              "</table>\n",
              "<p>6302 rows × 8 columns</p>\n",
              "</div>"
            ],
            "text/plain": [
              "         id  ... variance\n",
              "0     13034  ...     1.44\n",
              "1      8731  ...     0.80\n",
              "2        76  ...     0.64\n",
              "3      8832  ...     0.96\n",
              "4     12174  ...     1.36\n",
              "...     ...  ...      ...\n",
              "6297   7544  ...     0.80\n",
              "6298  12770  ...     0.56\n",
              "6299   1781  ...     0.64\n",
              "6300   5628  ...     0.64\n",
              "6301  14483  ...     1.44\n",
              "\n",
              "[6302 rows x 8 columns]"
            ]
          },
          "metadata": {
            "tags": []
          },
          "execution_count": 334
        }
      ]
    },
    {
      "cell_type": "code",
      "metadata": {
        "id": "SXmuYylCyouU",
        "colab": {
          "base_uri": "https://localhost:8080/",
          "height": 733
        },
        "outputId": "0d02d274-af66-4ed5-d349-03cfb2300166"
      },
      "source": [
        "#train model on high variance data\n",
        "feature_1 = vectorized_seqs_1\n",
        "feature_2 = vectorized_seqs_2\n",
        "\n",
        "\n",
        "# 'feature' is a list of lists, each containing embedding IDs for word tokens\n",
        "train_and_dev = Task1Dataset_double(feature_1,feature_2, high_v_train['meanGrade'])\n",
        "#train_and_dev = Task1Dataset_double(feature_1,feature_2, train_df['variance'])\n",
        "\n",
        "train_examples = round(len(train_and_dev)*train_proportion)\n",
        "dev_examples = len(train_and_dev) - train_examples\n",
        "train_dataset, dev_dataset = random_split(train_and_dev,\n",
        "                                           (train_examples,\n",
        "                                            dev_examples))\n",
        "####Shuffle might need to be true. Check later\n",
        "train_loader = torch.utils.data.DataLoader(train_dataset, shuffle=True, batch_size=BATCH_SIZE, collate_fn=collate_fn_padd)\n",
        "\n",
        "dev_loader = torch.utils.data.DataLoader(dev_dataset, batch_size=BATCH_SIZE, collate_fn=collate_fn_padd)\n",
        "\n",
        "print(\"Dataloaders created.\")\n",
        "\n",
        "loss_fn = nn.MSELoss()\n",
        "loss_fn = loss_fn.to(device)\n",
        "#optimizer = torch.optim.Adam(model.parameters())\n",
        "optimizer = torch.optim.SGD(model.parameters(), lr=0.001, momentum=0.9)\n",
        "\n",
        "\n",
        "train_losses, valid_losses, preds, targs = train(train_loader, dev_loader, model, epochs)\n",
        "plot(train_losses, valid_losses, len(train_losses))\n",
        "plt.scatter(preds, targs)\n",
        "plt.title(\"Predicting the mean with high variance data\")\n",
        "plt.show()\n"
      ],
      "execution_count": null,
      "outputs": [
        {
          "output_type": "stream",
          "text": [
            "Dataloaders created.\n",
            "Training model.\n",
            "| Epoch: 01 | Train Loss: 1.03 | Train MSE: 1.03 | Train RMSE: 1.01 |         Val. Loss: 0.77 | Val. MSE: 0.77 |  Val. RMSE: 0.88 |\n",
            "| Epoch: 02 | Train Loss: 0.56 | Train MSE: 0.56 | Train RMSE: 0.75 |         Val. Loss: 0.40 | Val. MSE: 0.40 |  Val. RMSE: 0.63 |\n",
            "| Epoch: 03 | Train Loss: 0.32 | Train MSE: 0.32 | Train RMSE: 0.56 |         Val. Loss: 0.26 | Val. MSE: 0.26 |  Val. RMSE: 0.51 |\n",
            "| Epoch: 04 | Train Loss: 0.25 | Train MSE: 0.25 | Train RMSE: 0.50 |         Val. Loss: 0.23 | Val. MSE: 0.23 |  Val. RMSE: 0.48 |\n",
            "| Epoch: 05 | Train Loss: 0.23 | Train MSE: 0.23 | Train RMSE: 0.48 |         Val. Loss: 0.22 | Val. MSE: 0.22 |  Val. RMSE: 0.47 |\n",
            "| Epoch: 06 | Train Loss: 0.23 | Train MSE: 0.23 | Train RMSE: 0.48 |         Val. Loss: 0.22 | Val. MSE: 0.22 |  Val. RMSE: 0.47 |\n",
            "| Epoch: 07 | Train Loss: 0.23 | Train MSE: 0.23 | Train RMSE: 0.48 |         Val. Loss: 0.22 | Val. MSE: 0.22 |  Val. RMSE: 0.47 |\n",
            "| Epoch: 08 | Train Loss: 0.23 | Train MSE: 0.23 | Train RMSE: 0.48 |         Val. Loss: 0.22 | Val. MSE: 0.22 |  Val. RMSE: 0.47 |\n",
            "| Epoch: 09 | Train Loss: 0.23 | Train MSE: 0.23 | Train RMSE: 0.48 |         Val. Loss: 0.22 | Val. MSE: 0.22 |  Val. RMSE: 0.47 |\n",
            "| Epoch: 10 | Train Loss: 0.23 | Train MSE: 0.23 | Train RMSE: 0.48 |         Val. Loss: 0.22 | Val. MSE: 0.22 |  Val. RMSE: 0.47 |\n"
          ],
          "name": "stdout"
        },
        {
          "output_type": "display_data",
          "data": {
            "image/png": "[encoded data removed]",
            "text/plain": [
              "<Figure size 432x288 with 1 Axes>"
            ]
          },
          "metadata": {
            "tags": [],
            "needs_background": "light"
          }
        },
        {
          "output_type": "display_data",
          "data": {
            "image/png": "[encoded data removed]",
            "text/plain": [
              "<Figure size 432x288 with 1 Axes>"
            ]
          },
          "metadata": {
            "tags": [],
            "needs_background": "light"
          }
        }
      ]
    },
    {
      "cell_type": "markdown",
      "metadata": {
        "id": "7RDAIvnG4oXQ"
      },
      "source": [
        "#### Predicting the mean with low variance data"
      ]
    },
    {
      "cell_type": "code",
      "metadata": {
        "id": "Ov8Kko604Nyv"
      },
      "source": [
        "#drop high variance data\n",
        "indexNames = train_df[(train_df['variance'] > 1)].index\n",
        "# Delete these row indexes from dataFrame\n",
        "low_v_train = train_df.drop(indexNames, inplace=False)\n",
        "low_v_train = low_v_train.reset_index(inplace=False,drop=True)"
      ],
      "execution_count": null,
      "outputs": []
    },
    {
      "cell_type": "code",
      "metadata": {
        "id": "UDFiJ-HZ42aJ",
        "colab": {
          "base_uri": "https://localhost:8080/",
          "height": 733
        },
        "outputId": "b38db250-91e8-4289-9607-f5244d52e28e"
      },
      "source": [
        "#train model on low variance data\n",
        "feature_1 = vectorized_seqs_1\n",
        "feature_2 = vectorized_seqs_2\n",
        "\n",
        "\n",
        "# 'feature' is a list of lists, each containing embedding IDs for word tokens\n",
        "train_and_dev = Task1Dataset_double(feature_1,feature_2, low_v_train['meanGrade'])\n",
        "#train_and_dev = Task1Dataset_double(feature_1,feature_2, train_df['variance'])\n",
        "\n",
        "train_examples = round(len(train_and_dev)*train_proportion)\n",
        "dev_examples = len(train_and_dev) - train_examples\n",
        "train_dataset, dev_dataset = random_split(train_and_dev,\n",
        "                                           (train_examples,\n",
        "                                            dev_examples))\n",
        "####Shuffle might need to be true. Check later\n",
        "train_loader = torch.utils.data.DataLoader(train_dataset, shuffle=True, batch_size=BATCH_SIZE, collate_fn=collate_fn_padd)\n",
        "\n",
        "dev_loader = torch.utils.data.DataLoader(dev_dataset, batch_size=BATCH_SIZE, collate_fn=collate_fn_padd)\n",
        "\n",
        "print(\"Dataloaders created.\")\n",
        "\n",
        "loss_fn = nn.MSELoss()\n",
        "loss_fn = loss_fn.to(device)\n",
        "#optimizer = torch.optim.Adam(model.parameters())\n",
        "optimizer = torch.optim.SGD(model.parameters(), lr=0.001, momentum=0.9)\n",
        "\n",
        "\n",
        "train_losses, valid_losses, preds, targs = train(train_loader, dev_loader, model, epochs)\n",
        "plot(train_losses, valid_losses, len(train_losses))\n",
        "plt.scatter(preds, targs)\n",
        "plt.title(\"Predicting the mean with high variance data\")\n",
        "plt.show()\n"
      ],
      "execution_count": null,
      "outputs": [
        {
          "output_type": "stream",
          "text": [
            "Dataloaders created.\n",
            "Training model.\n",
            "| Epoch: 01 | Train Loss: 0.99 | Train MSE: 0.99 | Train RMSE: 0.99 |         Val. Loss: 0.46 | Val. MSE: 0.46 |  Val. RMSE: 0.68 |\n",
            "| Epoch: 02 | Train Loss: 0.39 | Train MSE: 0.39 | Train RMSE: 0.63 |         Val. Loss: 0.35 | Val. MSE: 0.35 |  Val. RMSE: 0.60 |\n",
            "| Epoch: 03 | Train Loss: 0.37 | Train MSE: 0.37 | Train RMSE: 0.61 |         Val. Loss: 0.35 | Val. MSE: 0.35 |  Val. RMSE: 0.59 |\n",
            "| Epoch: 04 | Train Loss: 0.36 | Train MSE: 0.36 | Train RMSE: 0.60 |         Val. Loss: 0.35 | Val. MSE: 0.35 |  Val. RMSE: 0.59 |\n",
            "| Epoch: 05 | Train Loss: 0.36 | Train MSE: 0.36 | Train RMSE: 0.60 |         Val. Loss: 0.35 | Val. MSE: 0.35 |  Val. RMSE: 0.59 |\n",
            "| Epoch: 06 | Train Loss: 0.36 | Train MSE: 0.36 | Train RMSE: 0.60 |         Val. Loss: 0.35 | Val. MSE: 0.35 |  Val. RMSE: 0.59 |\n",
            "| Epoch: 07 | Train Loss: 0.36 | Train MSE: 0.36 | Train RMSE: 0.60 |         Val. Loss: 0.35 | Val. MSE: 0.35 |  Val. RMSE: 0.59 |\n",
            "| Epoch: 08 | Train Loss: 0.36 | Train MSE: 0.36 | Train RMSE: 0.60 |         Val. Loss: 0.35 | Val. MSE: 0.35 |  Val. RMSE: 0.59 |\n",
            "| Epoch: 09 | Train Loss: 0.36 | Train MSE: 0.36 | Train RMSE: 0.60 |         Val. Loss: 0.35 | Val. MSE: 0.35 |  Val. RMSE: 0.59 |\n",
            "| Epoch: 10 | Train Loss: 0.36 | Train MSE: 0.36 | Train RMSE: 0.60 |         Val. Loss: 0.35 | Val. MSE: 0.35 |  Val. RMSE: 0.59 |\n"
          ],
          "name": "stdout"
        },
        {
          "output_type": "display_data",
          "data": {
            "image/png": "[encoded data removed]",
            "text/plain": [
              "<Figure size 432x288 with 1 Axes>"
            ]
          },
          "metadata": {
            "tags": [],
            "needs_background": "light"
          }
        },
        {
          "output_type": "display_data",
          "data": {
            "image/png": "[encoded data removed]",
            "text/plain": [
              "<Figure size 432x288 with 1 Axes>"
            ]
          },
          "metadata": {
            "tags": [],
            "needs_background": "light"
          }
        }
      ]
    },
    {
      "cell_type": "markdown",
      "metadata": {
        "id": "mJHjgo5XEELW"
      },
      "source": [
        "## Part 1 BERT "
      ]
    },
    {
      "cell_type": "markdown",
      "metadata": {
        "id": "huUfT43sLAmc"
      },
      "source": [
        "### Bert Preprocessing"
      ]
    },
    {
      "cell_type": "code",
      "metadata": {
        "id": "_WFKfFOHqyPi"
      },
      "source": [
        "#convert dataframe to list function\n",
        "def data_to_list(data, training = True):  \n",
        "  og_headline_list = data['original'].tolist()\n",
        "  edited_headline_list = data['edited'].tolist()\n",
        "  edited_word_list = data['edit'].tolist()\n",
        "  labels_list = None\n",
        "\n",
        "  if training:\n",
        "    labels_list = data['meanGrade'].tolist()\n",
        "  \n",
        "\n",
        "  return og_headline_list, edited_headline_list, edited_word_list, labels_list"
      ],
      "execution_count": null,
      "outputs": []
    },
    {
      "cell_type": "code",
      "metadata": {
        "id": "Iwe8nrN0zW0x"
      },
      "source": [
        "train_og_headlines, train_edited_headlines, train_edited_words, labels = data_to_list(train_df)\n",
        "test_og_headlines, test_edited_headlines, test_edited_words, test_labels = data_to_list(test_df, training=True)"
      ],
      "execution_count": null,
      "outputs": []
    },
    {
      "cell_type": "code",
      "metadata": {
        "id": "XC7yLY8L0LHr"
      },
      "source": [
        "#preprocessing function for BERT\n",
        "def preprocessing(data_list):\n",
        "  preprocessed_data = []\n",
        "\n",
        "  for sentence in data_list:\n",
        "\n",
        "    sentence = re.sub(r'[^\\w\\s\\?\\!]', '', sentence)\n",
        "    sentence = sentence.lower()\n",
        "    preprocessed_data.append(sentence)\n",
        "    \n",
        "  return preprocessed_data\n",
        "\n",
        "train_og_headlines_p = preprocessing(train_og_headlines)\n",
        "train_edited_headlines_p = preprocessing(train_edited_headlines)\n",
        "train_edited_words_p = preprocessing(train_edited_words)\n",
        "\n",
        "test_og_headlines_p = preprocessing(test_og_headlines)\n",
        "test_edited_headlines_p = preprocessing(test_edited_headlines)\n",
        "test_edited_words_p = preprocessing(test_edited_words)"
      ],
      "execution_count": null,
      "outputs": []
    },
    {
      "cell_type": "code",
      "metadata": {
        "id": "IUoiGvGvz7te",
        "colab": {
          "base_uri": "https://localhost:8080/",
          "height": 66,
          "referenced_widgets": [
            "1a95fecb1b4a4dbbbd44e36ca9dbc21b",
            "536ea8e2ebf04992a462e752cb717019",
            "d4165e152f654e178152e5c2482449da",
            "55b2a7cca42847689dcbbb28ac2e1e1d",
            "41f43ad36677446aaf7fe5e7001ceac6",
            "8caac8a9f9be411ba7317c819bad2d2e",
            "b998666f69ae4a73b6114fe2f52ab949",
            "ec3735061a944e7da8b6b357b411509b"
          ]
        },
        "outputId": "59eb81f1-9585-405d-ace1-156c52eb41f8"
      },
      "source": [
        "#Load pretrained BERT tokenizer\n",
        "tokenizer = BertTokenizer.from_pretrained('bert-base-uncased', do_lower_case=True)\n",
        "# the version that concatenates original sentences and new sentences\n",
        "train_encoded_inputs = tokenizer(train_og_headlines_p, train_edited_headlines_p, padding='max_length', max_length=90, truncation=True, return_tensors=\"pt\")\n",
        "test_encoded_inputs = tokenizer(test_og_headlines_p, test_edited_headlines_p, padding='max_length', max_length=90, truncation=True, return_tensors=\"pt\")"
      ],
      "execution_count": null,
      "outputs": [
        {
          "output_type": "display_data",
          "data": {
            "application/vnd.jupyter.widget-view+json": {
              "model_id": "1a95fecb1b4a4dbbbd44e36ca9dbc21b",
              "version_minor": 0,
              "version_major": 2
            },
            "text/plain": [
              "HBox(children=(FloatProgress(value=0.0, description='Downloading', max=231508.0, style=ProgressStyle(descripti…"
            ]
          },
          "metadata": {
            "tags": []
          }
        },
        {
          "output_type": "stream",
          "text": [
            "\n"
          ],
          "name": "stdout"
        }
      ]
    },
    {
      "cell_type": "code",
      "metadata": {
        "colab": {
          "base_uri": "https://localhost:8080/",
          "height": 88
        },
        "id": "ebgbzfrm4idz",
        "outputId": "9662182d-572a-4002-e6d5-780b00123e14"
      },
      "source": [
        "#assign specific columns to arrays\n",
        "train_input_ids = train_encoded_inputs['input_ids']\n",
        "train_attention_mask = train_encoded_inputs['attention_mask']\n",
        "train_token_type_ids = train_encoded_inputs['token_type_ids']\n",
        "train_labels = torch.tensor(labels)\n",
        "\n",
        "train_token_type_ids[0]\n",
        "tokenizer.decode(train_input_ids.tolist()[1])"
      ],
      "execution_count": null,
      "outputs": [
        {
          "output_type": "execute_result",
          "data": {
            "application/vnd.google.colaboratory.intrinsic+json": {
              "type": "string"
            },
            "text/plain": [
              "'[CLS] pentagon claims 2000 increase in russian trolls after syria strikes what does that mean? [SEP] pentagon claims 2000 increase in russian trolls after bowling strikes what does that mean? [SEP] [PAD] [PAD] [PAD] [PAD] [PAD] [PAD] [PAD] [PAD] [PAD] [PAD] [PAD] [PAD] [PAD] [PAD] [PAD] [PAD] [PAD] [PAD] [PAD] [PAD] [PAD] [PAD] [PAD] [PAD] [PAD] [PAD] [PAD] [PAD] [PAD] [PAD] [PAD] [PAD] [PAD] [PAD] [PAD] [PAD] [PAD] [PAD] [PAD] [PAD] [PAD] [PAD] [PAD] [PAD] [PAD] [PAD] [PAD] [PAD] [PAD] [PAD] [PAD] [PAD] [PAD] [PAD] [PAD] [PAD] [PAD]'"
            ]
          },
          "metadata": {
            "tags": []
          },
          "execution_count": 30
        }
      ]
    },
    {
      "cell_type": "markdown",
      "metadata": {
        "id": "y9brja9zLFR4"
      },
      "source": [
        "### Bert Training/Eval\n"
      ]
    },
    {
      "cell_type": "code",
      "metadata": {
        "id": "IeKy-eWjF9BB"
      },
      "source": [
        "#Hyperparameters\n",
        "train_proportion = 0.8\n",
        "batch_size = 16\n",
        "lr = 5e-5\n",
        "eps = 1e-8\n",
        "epochs = 2"
      ],
      "execution_count": null,
      "outputs": []
    },
    {
      "cell_type": "code",
      "metadata": {
        "id": "1l6PAI0t4Fbq"
      },
      "source": [
        "#Bert dataset class \n",
        "class BERT_Dataset(torch.utils.data.Dataset):\n",
        "    def __init__(self, x1, x2, x3, y1):\n",
        "        self.len = x1.shape[0]\n",
        "\n",
        "        self.x1_data = x1.to(device)\n",
        "        self.x2_data = x2.to(device)\n",
        "        self.x3_data = x3.to(device)\n",
        "        self.y1_data = y1.to(device)\n",
        "\n",
        "\n",
        "    def __getitem__(self, index):\n",
        "        return self.x1_data[index], self.x2_data[index], self.x3_data[index], self.y1_data[index]\n",
        "\n",
        "\n",
        "    def __len__(self):\n",
        "        return self.len"
      ],
      "execution_count": null,
      "outputs": []
    },
    {
      "cell_type": "code",
      "metadata": {
        "id": "cSlXJEGPQlhn"
      },
      "source": [
        "#create Bert dataloaders\n",
        "train_and_dev = BERT_Dataset(train_input_ids, train_attention_mask, train_token_type_ids, train_labels)\n",
        "train_examples = round(len(train_and_dev)*train_proportion)\n",
        "dev_examples = len(train_and_dev) - train_examples\n",
        "train_dataset, dev_dataset = random_split(train_and_dev,(train_examples,dev_examples))\n",
        "\n",
        "\n",
        "train_iter = DataLoader(\n",
        "            train_dataset, \n",
        "            sampler = RandomSampler(train_dataset), \n",
        "            batch_size = batch_size\n",
        "        )\n",
        "\n",
        "\n",
        "eval_iter = DataLoader(\n",
        "            dev_dataset, \n",
        "            sampler = SequentialSampler(dev_dataset), # Pull out batches sequentially.\n",
        "            batch_size = batch_size \n",
        "        )"
      ],
      "execution_count": null,
      "outputs": []
    },
    {
      "cell_type": "code",
      "metadata": {
        "id": "sp32mtbV8Xfg"
      },
      "source": [
        "test_input_ids = test_encoded_inputs['input_ids']\n",
        "test_attention_mask = test_encoded_inputs['attention_mask']\n",
        "test_token_type_ids = test_encoded_inputs['token_type_ids']\n",
        "test_labels = torch.tensor(labels)\n",
        "test_dataset = BERT_Dataset(train_input_ids, train_attention_mask, train_token_type_ids, train_labels)"
      ],
      "execution_count": null,
      "outputs": []
    },
    {
      "cell_type": "code",
      "metadata": {
        "colab": {
          "base_uri": "https://localhost:8080/"
        },
        "id": "NvvC0JgPFRyU",
        "outputId": "4f9e4abd-7835-44ec-c290-d4639043809f"
      },
      "source": [
        "#initialize model\n",
        "model = BertForSequenceClassification.from_pretrained(\n",
        "    'bert-base-uncased', # the 12-layer BERT model, with an uncased vocab.\n",
        "    num_labels = 1,  \n",
        "    output_attentions = False, # don't return attention weights or hidden states\n",
        "    output_hidden_states = False, \n",
        ")\n",
        "model.cuda()\n",
        "#store double values\n",
        "model = model.double()"
      ],
      "execution_count": null,
      "outputs": [
        {
          "output_type": "stream",
          "text": [
            "Some weights of the model checkpoint at bert-base-uncased were not used when initializing BertForSequenceClassification: ['cls.predictions.bias', 'cls.predictions.transform.dense.weight', 'cls.predictions.transform.dense.bias', 'cls.predictions.decoder.weight', 'cls.seq_relationship.weight', 'cls.seq_relationship.bias', 'cls.predictions.transform.LayerNorm.weight', 'cls.predictions.transform.LayerNorm.bias']\n",
            "- This IS expected if you are initializing BertForSequenceClassification from the checkpoint of a model trained on another task or with another architecture (e.g. initializing a BertForSequenceClassification model from a BertForPreTraining model).\n",
            "- This IS NOT expected if you are initializing BertForSequenceClassification from the checkpoint of a model that you expect to be exactly identical (initializing a BertForSequenceClassification model from a BertForSequenceClassification model).\n",
            "Some weights of BertForSequenceClassification were not initialized from the model checkpoint at bert-base-uncased and are newly initialized: ['classifier.weight', 'classifier.bias']\n",
            "You should probably TRAIN this model on a down-stream task to be able to use it for predictions and inference.\n"
          ],
          "name": "stderr"
        }
      ]
    },
    {
      "cell_type": "code",
      "metadata": {
        "id": "B6kGoEa-RQn7"
      },
      "source": [
        "#setup optimizer and scheduler\n",
        "optimizer = AdamW(model.parameters(), lr = lr, eps = eps)\n",
        "\n",
        "total_steps = len(train_iter) * epochs\n",
        "# The scheduler can actually learn the best learning rate throughout tranining\n",
        "scheduler = get_linear_schedule_with_warmup(optimizer, num_warmup_steps = 0, num_training_steps = total_steps)"
      ],
      "execution_count": null,
      "outputs": []
    },
    {
      "cell_type": "code",
      "metadata": {
        "id": "0TrotOmSEG-n"
      },
      "source": [
        "# We define our training loop\n",
        "def train(train_iter, dev_iter, model, number_epoch):\n",
        "    \"\"\"\n",
        "    Training loop for the model, which calls on eval to evaluate after each epoch\n",
        "    \"\"\"\n",
        "\n",
        "    train_losses = np.zeros(number_epoch)\n",
        "    valid_losses = np.zeros(number_epoch)\n",
        "    rmses = np.zeros(number_epoch)\n",
        "    print(\"Training model.\")\n",
        "\n",
        "\n",
        "    for epoch in range(1, number_epoch+1):\n",
        "\n",
        "        model.train()\n",
        "        epoch_loss = 0\n",
        "        epoch_sse = 0\n",
        "        epoch_mse = 0\n",
        "        no_observations = 0  # Observations used for training so far\n",
        "\n",
        "        for input_ids_batch, attention_mask_batch, token_type_ids_batch, target in train_iter:\n",
        "            optimizer.zero_grad()\n",
        "\n",
        "            # get the output\n",
        "            outputs = model(input_ids_batch,\n",
        "                            attention_mask=attention_mask_batch,\n",
        "                            token_type_ids=token_type_ids_batch)\n",
        "            \n",
        "            \n",
        "            predictions = outputs[0].squeeze(1)\n",
        "            loss = torch.sqrt(((predictions - target)**2).mean())\n",
        "\n",
        "\n",
        "            no_observations = no_observations + target.shape[0]\n",
        "         \n",
        "            sse, mse, _ = model_performance(predictions.detach().cpu().numpy(), target.detach().cpu().numpy()) \n",
        "            \n",
        "            loss.backward()\n",
        "            optimizer.step()\n",
        "            #Update the learning rate.\n",
        "            scheduler.step()\n",
        "\n",
        "            epoch_loss += loss.item()*target.shape[0]\n",
        "            epoch_sse += sse \n",
        "            epoch_mse += mse * target.shape[0]\n",
        "\n",
        "        valid_loss, valid_mse, preds, targs = eval(dev_iter, model)\n",
        "\n",
        "        epoch_loss, epoch_mse = epoch_loss / no_observations, epoch_mse / no_observations\n",
        "\n",
        "        train_losses[epoch-1] = epoch_loss\n",
        "        valid_losses[epoch-1] = valid_loss\n",
        "        rmses[epoch-1] = np.sqrt(epoch_mse)\n",
        "        print(f'| Epoch: {epoch:02} | Train Loss: {epoch_loss:.2f} | Train MSE: {epoch_mse:.2f} | Train RMSE: {np.sqrt(epoch_mse):.2f} | \\\n",
        "        Val. Loss: {valid_loss:.2f} | Val. MSE: {valid_mse:.2f} |  Val. RMSE: {np.sqrt(valid_mse):.2f} |')\n",
        "    return train_losses, valid_losses, rmses, preds, targs"
      ],
      "execution_count": null,
      "outputs": []
    },
    {
      "cell_type": "code",
      "metadata": {
        "id": "XYoIP1F3EW6W"
      },
      "source": [
        "from sklearn.metrics import mean_squared_error\n",
        "# We evaluate performance on our dev set\n",
        "def eval(dev_iter, model):\n",
        "    \"\"\"\n",
        "    Evaluating model performance on the dev set\n",
        "    \"\"\"\n",
        "    model.eval()\n",
        "    epoch_loss = 0\n",
        "    epoch_sse = 0\n",
        "    epoch_mse = 0\n",
        "    pred_all = []\n",
        "    trg_all = []\n",
        "    no_observations = 0\n",
        "    total_eval_loss = 0\n",
        "\n",
        "\n",
        "    with torch.no_grad():\n",
        "        for input_ids_batch, attention_mask_batch, token_type_ids_batch, target in dev_iter:\n",
        "\n",
        "            no_observations = no_observations + target.shape[0]\n",
        "\n",
        "            outputs = model(input_ids_batch,\n",
        "                            attention_mask=attention_mask_batch,\n",
        "                            token_type_ids=token_type_ids_batch)\n",
        "            \n",
        "            #loss, predictions = outputs[:2] \n",
        "            predictions = outputs[0].squeeze(1)\n",
        "            loss = torch.sqrt(((predictions - target)**2).mean())\n",
        " \n",
        "            # Accumulate the validation loss.\n",
        "            total_eval_loss += loss.item()\n",
        "\n",
        "            # We get the mse\n",
        "            pred, trg = predictions.detach().cpu().numpy(), target.detach().cpu().numpy()\n",
        "            sse, mse, rmse = model_performance(pred, trg)\n",
        "\n",
        "            epoch_loss += loss.item()*target.shape[0]\n",
        "            epoch_sse += sse\n",
        "            epoch_mse += mse*target.shape[0]\n",
        "            pred_all.extend(pred)\n",
        "            trg_all.extend(trg)\n",
        "    \n",
        "\n",
        "    return epoch_loss/no_observations, epoch_mse/no_observations, np.array(pred_all), np.array(trg_all)"
      ],
      "execution_count": null,
      "outputs": []
    },
    {
      "cell_type": "code",
      "metadata": {
        "id": "QMwsi9MZEkaT"
      },
      "source": [
        "# How we print the model performance\n",
        "def model_performance(output, target, print_output=False):\n",
        "    \"\"\"\n",
        "    Returns SSE and MSE per batch (printing the MSE and the RMSE)\n",
        "    \"\"\"\n",
        "\n",
        "    sq_error = (output - target)**2\n",
        "\n",
        "    sse = np.sum(sq_error)\n",
        "    mse = np.mean(sq_error)\n",
        "    rmse = np.sqrt(mse)\n",
        "\n",
        "    if print_output:\n",
        "        print(f'| MSE: {mse:.2f} | RMSE: {rmse:.2f} |')\n",
        "\n",
        "    return sse, mse, rmse"
      ],
      "execution_count": null,
      "outputs": []
    },
    {
      "cell_type": "code",
      "metadata": {
        "id": "RvkEIrZJctw8"
      },
      "source": [
        "#will be used as loss\n",
        "def calculate_rmse(predictions, labels):\n",
        "    loss = torch.sqrt(((predictions - labels)**2).mean())\n",
        "\n",
        "    return loss"
      ],
      "execution_count": null,
      "outputs": []
    },
    {
      "cell_type": "code",
      "metadata": {
        "id": "JCArikM9cwG4"
      },
      "source": [
        "#plot helper function\n",
        "def plot(num_epochs, train_rmses, valid_rmses):\n",
        "  epochs = list(range(num_epochs))\n",
        "  plt.plot(epochs,train_rmses, label='train')\n",
        "  plt.plot(epochs,valid_rmses, label='valid')\n",
        "  plt.legend()\n",
        "  plt.title(\"BERT Loss Curve\")\n",
        "  plt.xlabel(\"Epochs\")\n",
        "  plt.ylabel(\"RMSE Loss\")\n",
        "  plt.show()"
      ],
      "execution_count": null,
      "outputs": []
    },
    {
      "cell_type": "code",
      "metadata": {
        "colab": {
          "base_uri": "https://localhost:8080/"
        },
        "id": "2gwAy-noir9I",
        "outputId": "9db74254-960d-4ad6-9ea9-b1cdc4b92426"
      },
      "source": [
        "# Set the seed value all over the place to make this reproducible.\n",
        "random_seed = 42\n",
        "random.seed(random_seed)\n",
        "np.random.seed(random_seed)\n",
        "torch.manual_seed(random_seed)\n",
        "torch.cuda.manual_seed_all(random_seed)\n",
        "torch.backends.cudnn.deterministic = True\n",
        "\n",
        "train_losses, valid_losses, rmses, preds, targs= train(train_iter, eval_iter, model, epochs)\n",
        " "
      ],
      "execution_count": null,
      "outputs": [
        {
          "output_type": "stream",
          "text": [
            "Training model.\n",
            "| Epoch: 01 | Train Loss: 0.58 | Train MSE: 0.34 | Train RMSE: 0.59 |         Val. Loss: 0.53 | Val. MSE: 0.28 |  Val. RMSE: 0.53 |\n",
            "| Epoch: 02 | Train Loss: 0.46 | Train MSE: 0.22 | Train RMSE: 0.47 |         Val. Loss: 0.52 | Val. MSE: 0.28 |  Val. RMSE: 0.53 |\n"
          ],
          "name": "stdout"
        }
      ]
    },
    {
      "cell_type": "code",
      "metadata": {
        "colab": {
          "base_uri": "https://localhost:8080/",
          "height": 294
        },
        "id": "HzD2lQAbypSO",
        "outputId": "5d7bbf5c-bae1-4c6d-bd9a-16d1c5bd3afe"
      },
      "source": [
        "plot(2, [0.59,0.49], [0.55,0.53])\n"
      ],
      "execution_count": null,
      "outputs": [
        {
          "output_type": "display_data",
          "data": {
            "image/png": "[encoded data removed]",
            "text/plain": [
              "<Figure size 432x288 with 1 Axes>"
            ]
          },
          "metadata": {
            "tags": [],
            "needs_background": "light"
          }
        }
      ]
    },
    {
      "cell_type": "code",
      "metadata": {
        "colab": {
          "base_uri": "https://localhost:8080/",
          "height": 312
        },
        "id": "CWCscC86sg8d",
        "outputId": "9c8cca03-1e71-4d30-e5ad-66024352af33"
      },
      "source": [
        "#plot predictions vs target labels\n",
        "plt.scatter(preds,targs)\n",
        "plt.title(\"Predictions versus Target Labels\")\n",
        "plt.xlabel(\"Predictions\")\n",
        "plt.ylabel(\"Target Labels\")\n",
        "mean = np.mean(train_df[\"meanGrade\"].tolist())\n",
        "plt.vlines(mean, ymin = 0, ymax = 2.5, color = 'green', label = \"mean\")\n",
        "plt.legend()\n",
        "print(np.max(preds) - mean)"
      ],
      "execution_count": null,
      "outputs": [
        {
          "output_type": "stream",
          "text": [
            "1.087227701929302\n"
          ],
          "name": "stdout"
        },
        {
          "output_type": "display_data",
          "data": {
            "image/png": "[encoded data removed]",
            "text/plain": [
              "<Figure size 432x288 with 1 Axes>"
            ]
          },
          "metadata": {
            "tags": [],
            "needs_background": "light"
          }
        }
      ]
    },
    {
      "cell_type": "markdown",
      "metadata": {
        "id": "Klgk-IngaRLa"
      },
      "source": [
        "\n",
        "# Approach 2: No pre-trained representations"
      ]
    },
    {
      "cell_type": "markdown",
      "metadata": {
        "id": "OTBXwqYqKIIB"
      },
      "source": [
        "## Building a word embedding - Gutenberg"
      ]
    },
    {
      "cell_type": "code",
      "metadata": {
        "colab": {
          "base_uri": "https://localhost:8080/",
          "height": 36
        },
        "id": "xuyJefx54KQ_",
        "outputId": "c9dc1eb4-2683-4789-a1a2-1e5c27cc468d"
      },
      "source": [
        "#Setup\n",
        "nlp = spacy.load(\"en\")\n",
        "#GUTENBERG_DIR = \"/content/drive/MyDrive/Colab Notebooks/NLP_Coursework/ic_nlp_cw/gutenberg\"\n",
        "#Consti\n",
        "GUTENBERG_DIR = \"/content/drive/MyDrive/Imperial_College/NLP_CW/ic_nlp_cw/gutenberg\"\n",
        "\n",
        "#Kevin\n",
        "#%cd /content/drive/MyDrive/Colab Notebooks/NLP_Coursework/ic_nlp_cw\n",
        "#train_df = pd.read_csv('./task-1/train.csv')\n",
        "#test_df = pd.read_csv('./task-1/dev.csv')\n",
        "#extra_train = pd.read_csv('./extra_train_data-3.csv')\n",
        "\n",
        "lemma = True\n",
        "stemming = False\n",
        "\n",
        "wordnet_lemmatizer = WordNetLemmatizer()\n",
        "\n",
        "%pwd"
      ],
      "execution_count": 89,
      "outputs": [
        {
          "output_type": "execute_result",
          "data": {
            "application/vnd.google.colaboratory.intrinsic+json": {
              "type": "string"
            },
            "text/plain": [
              "'/content'"
            ]
          },
          "metadata": {
            "tags": []
          },
          "execution_count": 89
        }
      ]
    },
    {
      "cell_type": "code",
      "metadata": {
        "id": "GBwYVhx6Qdkd"
      },
      "source": [
        "#Preprocess headlines\n",
        "\n",
        "#get pre preprocessing for BILSTM later\n",
        "train_embedding_df_pre, dev_embedding_df_pre = train_test_split(train_df, test_size=0.2)\n",
        "\n",
        "train_embedding_df_pre = train_embedding_df_pre.reset_index()\n",
        "dev_embedding_df_pre = dev_embedding_df_pre.reset_index()\n",
        "\n",
        "train_embedding_df, dev_embedding_df = train_embedding_df_pre.copy(), dev_embedding_df_pre.copy()\n",
        "\n",
        "train_embedding_df['old'] = train_embedding_df.apply(lambda x:x['original'][x['original'].find('<')+1:x['original'].find('>')-1],axis=1)\n",
        "train_embedding_df['original'] = train_embedding_df.apply(lambda x:x['original'].replace(x['original'][x['original'].find('<'):x['original'].find('>')+1], x['old']) ,axis=1)\n",
        "\n",
        "dev_embedding_df['old'] = dev_embedding_df.apply(lambda x:x['original'][x['original'].find('<')+1:x['original'].find('>')-1],axis=1)\n",
        "dev_embedding_df['original'] = dev_embedding_df.apply(lambda x:x['original'].replace(x['original'][x['original'].find('<'):x['original'].find('>')+1], x['old']) ,axis=1)\n"
      ],
      "execution_count": 90,
      "outputs": []
    },
    {
      "cell_type": "code",
      "metadata": {
        "colab": {
          "base_uri": "https://localhost:8080/"
        },
        "id": "zHbR38n3XrKu",
        "outputId": "87f7d10c-a1b8-4a6b-da3e-8a67e72122a6"
      },
      "source": [
        "#Using 18 books Gutenberg Corpus\n",
        "gutenberg_books = []\n",
        "for i, book_name in enumerate(os.listdir(GUTENBERG_DIR)):\n",
        "    book_file = open(os.path.join(\n",
        "        GUTENBERG_DIR, book_name), encoding=\"latin-1\")\n",
        "    book = book_file.read()\n",
        "    gutenberg_books.append(book)\n",
        "    book_file.close()\n",
        "    #if i == 1:\n",
        "    #    break\n",
        "\n",
        "gutenberg_book_lines = []\n",
        "for book in gutenberg_books:\n",
        "    book_lines = book.split(\"\\n\")\n",
        "    book_lines = list(filter(lambda x: x != \"\", book_lines))\n",
        "    #print(book_lines)\n",
        "    gutenberg_book_lines.append(book_lines)\n",
        "    \n",
        "print(gutenberg_book_lines[:5])"
      ],
      "execution_count": 11,
      "outputs": [
        {
          "output_type": "stream",
          "text": [
            "IOPub data rate exceeded.\n",
            "The notebook server will temporarily stop sending output\n",
            "to the client in order to avoid crashing it.\n",
            "To change this limit, set the config variable\n",
            "`--NotebookApp.iopub_data_rate_limit`.\n",
            "\n",
            "Current values:\n",
            "NotebookApp.iopub_data_rate_limit=1000000.0 (bytes/sec)\n",
            "NotebookApp.rate_limit_window=3.0 (secs)\n",
            "\n"
          ],
          "name": "stderr"
        }
      ]
    },
    {
      "cell_type": "code",
      "metadata": {
        "colab": {
          "base_uri": "https://localhost:8080/"
        },
        "id": "Eloh_PpEaORC",
        "outputId": "4c303d25-cdaa-4881-e85b-2144d7767a57"
      },
      "source": [
        "#Takes Gutenberg books and tokenizes corpus\n",
        "tokenized_corpus = []\n",
        "for book_line in tqdm(gutenberg_book_lines):\n",
        "    for line in book_line:\n",
        "        doc = nlp(line)\n",
        "        tokenized_corpus.append([token.text.lower() for token in doc if not token.is_punct])\n",
        "print(tokenized_corpus[:3])\n",
        "\n",
        "#Use pickle to save corpus to disk\n",
        "pickle.dump(tokenized_corpus, open(\"tokenized_corpus_gutenberg.pkl\", \"wb\"))\n"
      ],
      "execution_count": 12,
      "outputs": [
        {
          "output_type": "stream",
          "text": [
            "100%|██████████| 19/19 [27:16<00:00, 86.13s/it]\n"
          ],
          "name": "stderr"
        },
        {
          "output_type": "stream",
          "text": [
            "[['the', 'tragedie', 'of', 'macbeth', 'by', 'william', 'shakespeare', '1603'], ['actus', 'primus', 'scoena', 'prima'], ['thunder', 'and', 'lightning', 'enter', 'three', 'witches']]\n"
          ],
          "name": "stdout"
        }
      ]
    },
    {
      "cell_type": "code",
      "metadata": {
        "id": "DrkwjoYEaol4"
      },
      "source": [
        "#Load corpus from disk if previously pickled\n",
        "tokenized_corpus = pickle.load(open(\"tokenized_corpus_gutenberg.pkl\", \"rb\"))"
      ],
      "execution_count": 91,
      "outputs": []
    },
    {
      "cell_type": "code",
      "metadata": {
        "colab": {
          "base_uri": "https://localhost:8080/"
        },
        "id": "mZx4OvVrO9_t",
        "outputId": "8ef6ed09-a84e-456a-a3cf-05a3cfef1cb4"
      },
      "source": [
        "#Remove stopwords from corpus\n",
        "spacy_stop_words = spacy.lang.en.stop_words.STOP_WORDS\n",
        "stemmer = PorterStemmer()\n",
        "\n",
        "tokenized_corpus_rmSW = []\n",
        "for sentence in tqdm(tokenized_corpus):\n",
        "  if stemming:\n",
        "    tokenized_corpus_rmSW.append([stemmer.stem(token) for token in sentence if token not in spacy_stop_words])\n",
        "  elif lemma:\n",
        "    tokenized_corpus_rmSW.append([wordnet_lemmatizer.lemmatize(token) for token in sentence if token not in spacy_stop_words])\n",
        "  else: \n",
        "    tokenized_corpus_rmSW.append([token for token in sentence if token not in spacy_stop_words])\n",
        "tokenized_corpus = tokenized_corpus_rmSW\n",
        "print(tokenized_corpus[:3])\n",
        "print(len(tokenized_corpus))\n",
        "\n",
        "if stemming:\n",
        "  pickle.dump(tokenized_corpus, open(\"tokenized_corpus_gutenberg_SW_stemmed.pkl\", \"wb\"))\n",
        "elif lemma:\n",
        "  pickle.dump(tokenized_corpus, open(\"tokenized_corpus_gutenberg_SW_lemma.pkl\", \"wb\"))\n",
        "else:\n",
        "  pickle.dump(tokenized_corpus, open(\"tokenized_corpus_gutenberg_SW.pkl\", \"wb\"))"
      ],
      "execution_count": 92,
      "outputs": [
        {
          "output_type": "stream",
          "text": [
            "100%|██████████| 266179/266179 [00:05<00:00, 46353.80it/s]\n"
          ],
          "name": "stderr"
        },
        {
          "output_type": "stream",
          "text": [
            "[['tragedie', 'macbeth', 'william', 'shakespeare', '1603'], ['actus', 'primus', 'scoena', 'prima'], ['thunder', 'lightning', 'enter', 'witch']]\n",
            "266179\n"
          ],
          "name": "stdout"
        }
      ]
    },
    {
      "cell_type": "code",
      "metadata": {
        "colab": {
          "base_uri": "https://localhost:8080/"
        },
        "id": "xWVpTmLUduJE",
        "outputId": "235113fd-cc50-429a-909c-a54efaa6a4b2"
      },
      "source": [
        "#Remove stop words from Headlines\n",
        "spacy_stop_words = spacy.lang.en.stop_words.STOP_WORDS\n",
        "\n",
        "tokenized_headlines = []\n",
        "for headline in tqdm(train_embedding_df.original):\n",
        "\n",
        "  tokenized_sentence = []\n",
        "  doc = nlp(headline)\n",
        "  for token in doc:\n",
        "    if token.text not in spacy_stop_words and not token.is_punct:\n",
        "\n",
        "      if stemming:\n",
        "        tokenized_sentence.append(stemmer.stem(token.text.lower()))\n",
        "      elif lemma:\n",
        "        tokenized_sentence.append(wordnet_lemmatizer.lemmatize(token.text.lower())) \n",
        "      else:\n",
        "        tokenized_sentence.append(token.text.lower())\n",
        "  tokenized_headlines.append(tokenized_sentence)\n",
        "print(len(tokenized_headlines))\n",
        "print(tokenized_headlines[:3])\n",
        "\n",
        "if stemming:\n",
        "  pickle.dump(tokenized_headlines, open(\"tokenized_corpus_headlines_stemmed.pkl\", \"wb\"))\n",
        "elif lemma:\n",
        "  pickle.dump(tokenized_headlines, open(\"tokenized_corpus_headlines_lemma.pkl\", \"wb\"))\n",
        "else:\n",
        "  pickle.dump(tokenized_headlines, open(\"tokenized_corpus_headlines.pkl\", \"wb\"))"
      ],
      "execution_count": 93,
      "outputs": [
        {
          "output_type": "stream",
          "text": [
            "100%|██████████| 7721/7721 [01:06<00:00, 116.63it/s]\n"
          ],
          "name": "stderr"
        },
        {
          "output_type": "stream",
          "text": [
            "7721\n",
            "[['three', 'gangster', 'killed', 'moscow', 'courthouse', 'firefight'], ['north', 'korea', 'call', 'u', 'aircraft', 'carrier', 'dispatch', 'outrageous'], ['russian', 'prime', 'minister', 'slam', 'trump', 'administration', 'weakness', 'over', 'u.s.', 'sanction']]\n"
          ],
          "name": "stdout"
        }
      ]
    },
    {
      "cell_type": "code",
      "metadata": {
        "id": "b1YwV4YAKcQz",
        "colab": {
          "base_uri": "https://localhost:8080/"
        },
        "outputId": "c11d676d-3846-4fc9-8ad5-73c3dfa8f859"
      },
      "source": [
        "\n",
        "#Leave this out -> network would otherwise learn that edit is part of the embedding\n",
        "edit_corpus = []\n",
        "for word in tqdm(train_embedding_df.edit):\n",
        "    doc = nlp(word)\n",
        "    if stemming:\n",
        "      edit_corpus.append(stemmer.stem(doc.text.lower())) \n",
        "    elif lemma:\n",
        "      edit_corpus.append(wordnet_lemmatizer.lemmatize(doc.text.lower())) \n",
        "    else:\n",
        "      edit_corpus.append(doc.text.lower())\n",
        "\n",
        "if stemming:\n",
        "  pickle.dump(edit_corpus, open(\"tokenized_edit_corpus_stemmed.pkl\", \"wb\"))\n",
        "elif lemma:\n",
        "  pickle.dump(edit_corpus, open(\"tokenized_edit_corpus_lemma.pkl\", \"wb\"))\n",
        "else:\n",
        "  pickle.dump(edit_corpus, open(\"tokenized_edit_corpus.pkl\", \"wb\"))"
      ],
      "execution_count": 94,
      "outputs": [
        {
          "output_type": "stream",
          "text": [
            "100%|██████████| 7721/7721 [00:54<00:00, 142.90it/s]\n"
          ],
          "name": "stderr"
        }
      ]
    },
    {
      "cell_type": "code",
      "metadata": {
        "colab": {
          "base_uri": "https://localhost:8080/"
        },
        "id": "1B8jM8fLLv23",
        "outputId": "b708eab8-840e-4e65-cc7c-980fefca873c"
      },
      "source": [
        "#load corresponding corpi\n",
        "if stemming:\n",
        "  tokenized_corpus = pickle.load(open(\"tokenized_corpus_gutenberg_SW_stemmed.pkl\", \"rb\"))\n",
        "  tokenized_headlines = pickle.load(open(\"tokenized_corpus_headlines_stemmed.pkl\", \"rb\"))\n",
        "  edit_corpus = pickle.load(open(\"tokenized_edit_corpus_stemmed.pkl\", \"rb\"))\n",
        "elif lemma:\n",
        "  tokenized_corpus = pickle.load(open(\"tokenized_corpus_gutenberg_SW_lemma.pkl\", \"rb\"))\n",
        "  tokenized_headlines = pickle.load(open(\"tokenized_corpus_headlines_lemma.pkl\", \"rb\"))\n",
        "  edit_corpus = pickle.load(open(\"tokenized_edit_corpus_lemma.pkl\", \"rb\"))\n",
        "\n",
        "else:\n",
        "  tokenized_corpus = pickle.load(open(\"tokenized_corpus_gutenberg_SW.pkl\", \"rb\"))\n",
        "  tokenized_headlines = pickle.load(open(\"tokenized_corpus_headlines.pkl\", \"rb\"))\n",
        "  edit_corpus = pickle.load(open(\"tokenized_edit_corpus.pkl\", \"rb\"))\n",
        "\n",
        "print(len(tokenized_corpus))\n",
        "print(len(tokenized_headlines))"
      ],
      "execution_count": 95,
      "outputs": [
        {
          "output_type": "stream",
          "text": [
            "266179\n",
            "7721\n"
          ],
          "name": "stdout"
        }
      ]
    },
    {
      "cell_type": "code",
      "metadata": {
        "id": "EEZJh-R-8Jbd"
      },
      "source": [
        "#Combine corpus\n",
        "tokenized_corpus = tokenized_corpus + tokenized_headlines #+  edit_corpus"
      ],
      "execution_count": 96,
      "outputs": []
    },
    {
      "cell_type": "code",
      "metadata": {
        "id": "8jj9zwZRf7Ql"
      },
      "source": [
        "#Save full corpus\n",
        "if stemming:\n",
        "  pickle.dump(tokenized_corpus, open(\"tokenized_corpus_gutenberg_full_stemmed.pkl\", \"wb\"))\n",
        "elif lemma:\n",
        "  pickle.dump(tokenized_corpus, open(\"tokenized_corpus_gutenberg_full_lemma.pkl\", \"wb\"))\n",
        "else:\n",
        "  pickle.dump(tokenized_corpus, open(\"tokenized_corpus_gutenberg_full.pkl\", \"wb\"))"
      ],
      "execution_count": 97,
      "outputs": []
    },
    {
      "cell_type": "code",
      "metadata": {
        "id": "VVbYV-czMDiH"
      },
      "source": [
        "#Load full corpus from pickle\n",
        "if stemming:\n",
        "  tokenized_corpus = pickle.load(open(\"tokenized_corpus_gutenberg_full_stemmed.pkl\", \"rb\"))\n",
        "elif lemma:\n",
        "  tokenized_corpus = pickle.load(open(\"tokenized_corpus_gutenberg_full_lemma.pkl\", \"rb\"))\n",
        "else:\n",
        "  tokenized_corpus = pickle.load(open(\"tokenized_corpus_gutenberg_full.pkl\", \"rb\"))"
      ],
      "execution_count": 98,
      "outputs": []
    },
    {
      "cell_type": "code",
      "metadata": {
        "id": "eQ1zM475SKXG"
      },
      "source": [
        "#add special token for BILSTM\n",
        "for i in range(3):\n",
        "  tokenized_corpus.append('???')\n",
        "    \n",
        "pickle.dump(tokenized_corpus, open(\"tokenized_corpus_gutenberg.pkl\", \"wb\"))\n"
      ],
      "execution_count": 99,
      "outputs": []
    },
    {
      "cell_type": "code",
      "metadata": {
        "colab": {
          "base_uri": "https://localhost:8080/"
        },
        "id": "xotsPqJ8ayrx",
        "outputId": "4f63e22a-eaf9-493d-cbb2-38e974c53e1c"
      },
      "source": [
        "#maybe change cut off frequency (all words less than cutoff not relevant -> too many unknowns in this case)\n",
        "def get_vocabulary(tokenized_corpus, cutoff_frequency=1):\n",
        "    vocab_freq_dict = dict()\n",
        "    for sentence in tokenized_corpus:\n",
        "        for token in sentence:\n",
        "\n",
        "            if token not in vocab_freq_dict.keys():\n",
        "                vocab_freq_dict[token] = 0\n",
        "\n",
        "            vocab_freq_dict[token] += 1\n",
        "\n",
        "    vocabulary = set()\n",
        "    for sentence in tokenized_corpus:\n",
        "        for token in sentence:\n",
        "\n",
        "            if vocab_freq_dict[token] > cutoff_frequency:\n",
        "                vocabulary.add(token)\n",
        "                \n",
        "    return vocabulary\n",
        "\n",
        "vocabulary = get_vocabulary(tokenized_corpus)\n",
        "print(\"LENGTH OF VOCAB:\", len(vocabulary), \"\\nVOCAB:\", vocabulary)\n",
        "#No stemming or lemmatization, just punc removal\n",
        "#Before stop word removal 32670\n",
        "#With stop words removal 32393"
      ],
      "execution_count": 100,
      "outputs": [
        {
          "output_type": "stream",
          "text": [
            "LENGTH OF VOCAB: 31438 \n",
            "VOCAB: {'mcgahn', 'unwarranted', 'derick', 'milling', '3:47', 'forme', \"corner'd\", 'fleet', 'y.', 'swalloweth', '33:24', 'appropriated', 'destroyed', '59:7', 'lord', 'timbrel', 'attributed', 'conceivable', '7:54', 'ammon', 'trotting', 'goad', 'o', 'straightforward', 'goeth', 'strategic', 'urgent', 'spiro', 'playground', 'sammy', '51:8', 'booby', 'surmised', 'irregular', 'contributed', 'camillo', '234', 'atlantica', 'layer', 'norm', 'obedience', 'rusty', 'springeth', 'trouble', 'devolved', 'plaine', 'nobah', 'a.', 'imaginative', 'young', 'single', 'rub', 'eshton', 'agility', 'dane', '25:17', 'persian', 'huntest', 'lacketh', 'azore', '547', 'succeed', 'marseille', 'interposed', 'ancestor', 'impunity', 'deuce', 'pick', 'menlo', 'admirant', 'blacksmith', 'mushites', '52:2', 'fallout', 'prune', 'inexpressible', 'hardy', 'plaister', '66:2', 'jennings', 'crownprince', 'sanctified', 'tickled', 'molested', \"allow'd\", 'lightning', 'plentiful', 'celebration', 'blanket', 'common', 'infer', 'stoutly', 'thanos', 'barring', 'hypocrite', 'antenna', 'excellence', 'marry', 'seedsman', 'convenience', 'puppyism', 'tighter', 'slink', 'sociable', 'wright', 'discus', '20:44', 'grigory', 'remonstrated', 'mere', 'blair', 'shrouded', '7:31', 'worthinesse', '8:44', 'smoke', 'unleashes', 'convent', 'manoeuvred', 'adroop', 'hoppity', 'irresistible', 'maggot', 'exclaiming--', 'dethroned', 'shittim', '40:31', 'stork', 'poked', 'ponders', '4:12', 'literary', 'lighted', 'peaceably', 'processing', 'snapping', 'unrighteous', 'befits', 'c.i.a.', 'vulgarity', 'gorgeous', 'educated', 'ithran', 'tournament', 'memphian', 'discover', 'deterred', 'providential', 'banner', 'ceiling', 'packaged', 'thereout', 'watery', 'sackbut', 'habitant', 'grosse', 'hish', 'thrasher', 'mobilize', 'senior', '38:12', '50:9', 'circled', '31:42', 'added', 'blight', 'oblige', 'flogging', 'matured', 'evidently', 'dizziness', 'ailed', 'bespeaking', 'square', 'allowance', 'disclosure', 'aggression', 'simeonites', 'fight', 'andersen', 'subpoenaing', 'thummim', 'northwest', 'encreased', 'dango', 'swallowed', 'discharged', 'doj', '54:2', '110', 'hillary', 'torture', 'fahrenthold', 'oboth', 'letting', 'kindest', 'pausing', 'enlistee', 'entire', 'moving', 'learned', 'dinghy', '8:39', '104', 'underling', 'nobleman', 'nicety', 'pembroke', 'grander', 'luhnow', 'tingle', 'reinhold', 'scythe', 'intercept', 'overpast', 'dilate', 'zedad', 'sang', 'beam', 'partying', '7:19', 'shipworm', 'latina', 'coney', 'vnderstand', 'priti', 'farmer', 'composedly', 'cleave', 'coaster', 'orientation', 'suddenness', 'sentence', 'gripping', '4:5', 'savour', 'passant', 'series', 'strap', 'seba', 'watercourse', 'globule', 'herd', 'iliad', 'apple', 'touched', 'reverend', 'reckon', 'dingell', 'secondary', 'decide', 'engage', '28:27', 'hart', 'flauius', 'frequented', '7:44', 'underfunded', 'grunted', 'oligarchy', 'injurious', 'lawfully', 'predicts', 'inhaled', \"convuls'd\", 'directive', 'hitting', 'unworthy', 'uphold', 'aboveboard', 'sleepest', 'telecommunication', 'said', 'trout', 'furthest', 'chartered', 'attacked', 'disproportion', 'jersey', 'bulwark', 'spews', 'macduffe', 'manor', 'scourge', '28:8', '14:44', '50:12', 'sartain', 'inimical', 'franchise', 'outlining', 'was!--', 'cognizant', 'letter', 'industry', 'heedful', 'investigative', 'feline', 'scrutiny', 'startlingly', 'razor', 'sourcing', 'maltese', 'buyest', 'choler', 'height', 'unquestionably', 'hire', 'gothic', 'find', 'piled', 'strapped', 'gerrit', 'michaiah', 'magnificence', 'retraced', 'rephaims', 'kinswoman', 'puh', 'snub', 'detonation', 'heathenish', 'level', 'malachi', 'eglah', 'seraph', 'chase', 'scottish', 'jake', 'jabbok', 'originated', 'issued', 'nero', 'korean', 'secures', '30:29', 'uncommonly', 'spit', 'jussie', 'voyage', 'stolen', 'stastny', 'framer', 'movie', 'reinforced', 'introduced', 'cardboard', 'notebook', 'board', 'lodge', 'subsidize', 'rude', 'raced', 'elliots', 'casual', 'doctrine', '5:41', '12:35', 'macnabs', 'unaccredited', 'expects', 'hasten', 'pop', 'albino', 'legatee', 'deemed', 'cock', 'seethings', 'threatened', 'mcgrath', 'rouge', \"listen'd\", 'backsliding', 'id', 'mint', 'dismembering', 'hulu', 'baggage', 'seething', 'hypocritical', '23:1', 'contributor', 'irrational', 'embodiment', 'appoints', 'stallion', 'amen', 'dejection', 'apprehend', 'somers', 'rebellest', 'was--', 'indulgence', 'use', 'welsh', \"hee'l\", 'musketry', 'unsuspicious', '5:37', 'thousandth', 'el', \"whil'st\", 'extremest', 'tekoite', 'amramites', 'deliuer', 'banke', '31:54', 'centurion', 'neighboring', 'endeavor', 'premise', 'pol', 'twixt', 'janitor', 'twill', 'prevailed', 'thread', 'honk', 'recusal', 'vashti', 'boweth', 'loggerhead', 'concentrated', 'hempen', 'hormah', 'eveningtide', 'octauius', 'rankes', 'grossing', 'expressed', 'louers', 'rainforest', 'off!--', 'drug', '52:10', 'indistinctly', 'flirt', 'landrieu', 'dropped', 'dust', 'machine', '19:6', 'clogged', 'today', 'isinglass', 'romania', 'selah', 'hornbill', 'hallowed', 'viciousness', 'ahistorical', 'graded', 'ineffable', '28:36', 'private', 'righteousness', 'softened', 'leviathan', 'cite', 'fogerty', 'preliminary', \"combin'd\", '32:27', 'paler', 'rational', 'haul', 'zoned', '6:60', 'canada', 'risked', '36:28', 'malady', 'austrian', 'brakest', '14:18', '19:47', 'zoetrope', 'jokneam', 'bestial', '19:45', 'rocke', 'unlucky', 'expectancy', 'detention', 'delos', '35:4', 'sprinkling', 'margin', 'savage', 'delta', '7:18', 'aided', 'throughly', 'tune', 'dynamic', 'destitute', 'burger', 'retaineth', 'electricity', 'gallic', 'caulking', '3:36', 'beverage', '9:27', 'retentive', 'idleness', 'superstitiousness', 'trolled', 'inquiry', 'darabont', 'bluish', 'orb', 'seventy', 'caused', 'delayed', 'fully', 'opium', \"pour'd\", 'defecating', 'participant', 'norma', 'veep', 'uthai', '13.5', 'flown', 'concession', 'indubitably', 'gloomy', '20:45', 'available', 'whiff', 'buyeth', 'pamphylia', 'troas', 'john', 'oshea', 'scraping', 'strict', 'potentate', 'rammed', 'pell', 'navajo', 'waterward', 'yourself--', 'jack', 'lovely', 'anyrate', 'horrid', 'billes', 'elaborate', \"can't\", 'princeling', 'right', 'class', 'correspond', 'thailand', 'serpentine', 'nervousness', '29:8', 'currant', '1.7', '37', 'regale', 'goon', '48:1', 'reversing', 'warre', 'nixon', 'eo', 'yu', 'faithfulest', 'iustly', 'michigan', 'dune', 'hovel', 'subject', 'more', 'user', '13:1', 'plum', 'prided', \"could'st\", 'prouoke', '43:20', 'feeler', 'flirting', 'willoughby', 'excused', 'baalhanan', 'dinhabah', 'orchard', 'blending', 'realizes', 'catholicism', 'hesitatingly', 'overthrown', 'honourable', 'yes', 'something', 'sherry', 'virulent', 'threadripper', 'surveils', 'dardanelles', 'recondite', 'azgad', '17:3', '34:17', 'bright', 'nurse', 'cordage', 'jaddua', 'solemnity', 'sundial', 'jostle', 'christened', 'bethanath', 'napkin', 'heyer', 'roused', 'giulio', '4:40', 'wikileaks', 'fain', 'fencer', 'victorian', '31:19', 'floor', '17:20', 'ronan', 'nicolaitanes', '29:20', 'extent', 'meticulous', 'hilted', 'cere', 'cephas', 'foul', 'highwayman', 'naught', 'banker', 'footprint', 'decode', 'abashed', 'bill', 'tangling', 'drummer', 'agenda', 'politically', 'intellect', 'merriment', 'stouthearted', '`', 'paine', 'caucasus', 'porter', 'ashnah', 'forgetful', 'troubled', 'nuptial', '25:22', 'encountered', '6:17', \"pull'd\", 'attendant', 'zambia', 'gazzam', '22:17', 'fringe', 'flannel', 'svechnikov', 'crashed', 'insensibly', 'progression', 'unflinching', 'indenture', 'unmistakable', 'glutted', '13:2', 'stoven', 'giant', 'farrow', 'physicke', 'info', 'dependent', 'megapixel', 'relatively', 'pressured', 'wachowski', 'ancient', 'haram', 'tortoise', 'forum', 'matted', '21', 'plentifully', \"y'are\", 'draw', 'emblazoned', 'gilead', 'oddest', 'pilgrimage', 'philosophical', 'joktan', 'prepare', 'runnes', 'rapport', 'argent', 'extended', 'scatter', 'solidly', 'rosenstein', 'mao', 'swinging', 'setting', 'praised', 'backstay', 'unfounded', 'formall', 'artful', 'deported', 'sadiq', 'impossible', 'thirteenth', 'extol', \"express'd\", '49:31', 'reference', 'african', 'bernice', 'science', 'stilly', 'eurosceptic', '45:17', 'referencing', 'subsides', 'indicate', '11:43', 'interpretation', 'courted', '12:13', 'competitive', 'quicke', 'choi', 'xviii', 'condense', 'etam', 'correct', \"don't\", 'genially', 'urge', 'defendant', 'unelectable', '14:27', 'exclaim', 'longingly', 'spreadeth', 'contributing', 'implication', 'regardless', \"tooth'd\", 'patch', 'sabre', 'waterspout', 'capable', 'pre', 'elaborately', 'righted', 'pugh', 'ziha', 'motherly', 'touchy', \"reach'd\", 'horims', 'juno', 'busily', 'tire', 'immorality', 'freighted', 'mounttop', 'forgetfull', 'jesus', 'vesuvius', 'spartan', 'lapland', 'lennon', 'unspeakable', 'kanadian', 'murmuring', 'accomplishment', 'despising', 'reformer', '16:32', '16:29', 'mellow', 'him;--but', 'loines', 'prague', 'dong', 'console', 'trowel', 'ak-47', '2', 'entrailes', 'shortly', 'wolfish', 'digital', 'leeway', 'sundry', 'brayed', 'peloton', 'heedlessness', '1:26', '1:38', 'feedest', 'brick', 'donate', 'worthless', 'spermaceti', 'burton', 'stiffest', 'coordinating', 'cote', 'foolish', 'stacey', 'heaped', 'cloudy', 'unrighteousness', 'badinage', \"ebb'd\", 'pair', 'willed', 'parching', 'sicknesse', 'herculean', '1:37', 'blushing', 'mistook', 'clown', '23:20', 'vouch', 'semicircular', 'background', 'embarrassing', 'philosopher', 'chaldee', 'auspicious', 'hazarenan', 'uninjured', '44:2', 'tenaciously', 'slay', 'corroborate', 'remington', 'ossifrage', 'preparing', 'walkout', 'adoption', 'banister', 'antic', '5:2', 'aviv', 'prophecy', 'prodigall', 'bolton', 'sight', 'cray', 'betray', 'jubile', 'urbanity', \"if't\", 'mahanaim', 'across', '24:13', \"prison'd\", 'thinner', 'phillip', 'arabian', 'elhanan', 'saying,--', 'genuinely', 'cathedral', 'you', 'despiseth', 'dispute', 'waxed', 'istanbul', 'behold', 'harp', 'crane', 'ioyes', 'foure', 'ozem', 'pugnacious', 'cathey', 'madeira', 'measles', 'bier', 'thebez', 'furnished', 'arrive', 'kiriathaim', 'robed', 'trumpenomics', 'musgrove', 'gruff', 'walrus', '31:8', 'manifesto', 'sweareth', 'unreasoning', 'bulk', 'ebronah', 'salome', 'unfearing', 'jamal', 'poetic', 'entirely', 'ritual', 'zalmunna', '17:34', 'indulgent', 'ahithophel', 'charged', 'saucer', 'occupies', 'boosting', 'ticklish', 'overhead', 'fellowservant', 'firework', 'foolerie', 'ribbon', 'unduly', 'spy', 'infamy', 'clarita', 'goldfish', 'craftsman', 'appear', 'tile', 'same', 'consume', 'indispensably', 'sheeted', 'hued', 'appearance', 'otto', 'pernicious', 'whereat', 'blain', 'untold', 'tapering', 'stumping', 'grapegatherers', 'despotism', '12:39', 'satisfieth', '5:47', 'drifting', 'cuomo', 'wrestle', 'terminus', 'marianne', 'unmanufactured', 'killedst', 'hies', 'shed', 'cinder', '70-year', 'impeachable', 'general', 'ballot', 'corroborated', 'emptier', 'scallop', 'chast', 'unique', 'enduring', 'debouch', 'mourned', 'victoria', 'shift', 'vnder', 'budded', 'reluctant', 'clit', 'job', '3:34', 'tilted', 'triumphantly', 'spider', 'complacency', 'dismantled', 'apostleship', 'modernized', 'indicted', '100mph', 'jung', 'iim', 'upheaving', 'woodhouse--', '950', 'maugre', 'differ', 'shrugging', 'hebronites', 'escape', '10,000', 'shadowy', 'jokshan', 'heauens', 'lender', 'dashing', 'scoot', 'sara', 'incantation', '64:10', 'surpassed', 'philemon', 'enticing', 'renewal', 'sleepes', 'officio', 'maze', 'messenger', 'sprawl', 'heightening', 'wherewith', 'belteshazzar', 'lost', 'trap', 'writest', 'friday', '45:25', 'coupling', 'hauran', 'abolishing', '7.9', 'coyote', 'enlivened', 'map', 'augmented', 'forwardness', 'hushai', 'able', 'kelly', 'six', '8:41', 'alternative', 'girdle', \"pierc'd\", 'thankfully', 'hashmonah', 'consternation', 'dental', 'parlor', 'drowse', 'weakening', 'hor', 'kine', 'omit', 'guest', 'skirmish', 'think--', 'delicious', \"ear'd\", 'goodly', 'yamaha', 'power', 'tarry', 'f.b.i.', 'denver', 'mirage', 'cashier', 'diadem', 'commotion', 'arrogancy', 'funeral', 'epical', '64:2', 'chocolate', 'preet', '10:42', 'penitence', 'interchange', 'theology', 'howsoever', 'otway', 'rodchenkov', 'defense', 'rew', 'eld', 'deferential', '17:15', 'buckled', 'mature', 'dispraise', 'teeing', 'cobb', 'bathe', 'weekend', 'impure', 'lunchtime', 'generous', 'rug', '35b', 'master', 'breastwork', 'arena', 'halt', 'scornful', 'playfully', 'worthy', 'indifferent', 'greefes', 'update', 'maurice', 'domesticity', 'triumphing', 'madrid', 'snuff', '22:12', 'mahlon', 'denmarke', 'unseasonable', 'silliest', 'unqualified', 'expell', '200', 'manifestly', 'logician', 'nefarious', 'withdraw', 'obvious', 'dc', 'convalescence', 'breathes', \"warm'd\", 'disorder', 'fisher', 'friendliness', '30:27', 'obstructing', 'dignified', 'annihilated', '22:42', 'pizzagate', 'lurked', 'scarecrow', 'acton', 'strayed', 'ham', 'measureless', 'certaine', 'recline', 'confines', '29:13', 'teen', '13:6', 'resignation', 'token', 'streamer', 'gather', 'billiard', 'cheapside', 'cocoa', 'misrephothmaim', 'agnew', 'calming', 'homan', 'to', 'patrick', 'piping', 'demeanor', 'indifference', 'raked', 'manipulate', 'fallon', 'humanitarian', 'hannukah', 'jahath', 'deposition', 'chanting', 'buriall', '10:19', 'dwarfish', 'cleverly', 'download', 'returnest', 'denies', 'teamster', 'economical', 'plantedst', 'phrenology', 'northeast', 'personnel', 'presidency', 'upstairs', 'terrific', 'lama', 'whirr', \"o'malley\", '10:33', 'hoping', 'fat', '21:27', '8:12', 'gazing', 'define', 'melchishua', 'establisheth', 'obligation', 'carue', 'egyptian', 'dress', 'attachment--', 'gettest', 'prophesie', '26:61', 'bedfordshire', 'intend', '16:9', 'trieth', 'leonardo', 'solicitous', 'rachel', 'unbeliever', 'terrorist', 'boulnois', 'straine', 'capitulation', 'paternity', 'gaal', 'palter', 'ruth', 'weaver', 'vow', '32:35', 'atlas', '5:42', 'burgum', 'year', 'gras', 'charred', 've', 'papadopoulos', 'tanked', 'utilitarian', 'expecting', 'basically', 'lounge', 'firstlings', 'bellied', 'abraham', 'syllable', 'gleaming', 'unthinkable', 'anaconda', 'firefighting', 'illegally', 'sniffed', 'seised', 'husbandry', 'gown', 'ee', 'excursion', 'timidly', \"i'th\", 'plaudit', 'layest', 'arisaig', 'actus', 'usaa', 'roasted', '22:22', 'levee', 'into', 'chusing', '35:12', 'robbed', 'dream', 'beatest', 'fitly', 'charging', 'p.', 'perseus', 'haggard', 'kidnap', 'indefatigable', 'tempts', 'anchor', 'toiling', 'thundering', 'somthing', 'unintentionally', 'blurring', 'tiptoe', 'notify', 'reorganized', '46:25', 'haggith', 'undertaking', 'bored', 'jar', 'kindness', 'mandrake', 'steamer', 'heart', 'splc', 'lipped', 'rudiment', '12:1', 'soiree', 'becalmed', '44:11', 'benumbed', 'immoral', 'reveal', '47:6', 'passed', 'bout', 'miguel', 'latent', 'gileadite', 'chew', 'married', 'cohering', 'affair', 'orphan', 'clarion', 'vaxx', 'guantánamo', 'airbnb', 'geba', 'objectless', 'elliott', 'whereof', 'proposed', 'irremediable', 'foaming', 'ain', 'balustrade', \"consider'd\", 'feminism', 'eloping', 'hue', 'phenice', 'depicts', 'enoch', 'tediousness', 'pavilion', 'company', 'eternal', 'potential', 'fleece', 'incommode', 'employed', 'compatible', 'immunization', 'kolaiah', 'etham', '10:13', 'skipper', 'depart', 'revive', 'tkachuk', 'brexit', 'bowd', 'dimon', 'bedfellow', 'cleaveth', 'surfaced', 'allowed', 'draining', 'inattentive', '30:26', 'relenting', 'specialist', 'fastest', 'omar', 'hotel', 'percy', 'falzone', 'peacefully', 'enact', 'cargo', 'fount', 'bowsprit', 'experiencing', 'spectrum', '14:8', 'abase', 'forgiven', 'mutely', 'difficult', 'ruder', 'jumper', 'pampered', 'scene', 'slush', 'shadrach', '13:17', 'depleted', 'industrious', 'sheepcote', 'taiwanese', 'transom', 'watchfull', 'israel', 'hindustan', 'protective', 'lubber', 'heresy', 'afire', 'oxford', '5:16', 'windward', \"o'-shanter\", 'exclude', 'familiarized', 'vertical', 'fuck', 'fraudulent', 'undismayed', \"a'th\", 'potato', '12:10', 'jael', 'kolbe', 'abatement', 'tempering', 'pitcher', 'rubbing', 'larry', 'hopped', 'efficiency', 'interdiction', 'growth', 'awkward', 'qualification', 'coronet', 'surely', 'assignment', 'effaced', '22:38', 'jargon', 'patient', 'notoriety', 'japan', 'tigris', 'emolument', 'gaseous', 'shelah', 'summons', 'angular', 'tane', 'famously', 'amend', 'lapierre', 'thrifty', 'seriously', 'bafta', 'compassed', 'taunton', 'lesson', '47:20', 'intervening', 'will.i.am', 'better', 'recreational', 'defeated', 'shewest', 'jakupovic', 'admiring', 'thereat', 'maria', 'orchestra', 'lowering', 'methinks', 'kept', 'accrue', 'slumberer', 'disagreement', 'necessitate', 'candy', 'sniff', 'errant', 'hattush', 'virus', 'solomon', 'savanna', '27:15', 'titinius', 'elealeh', 'goose', 'epistle', 'spain', 'discard', 'shit', 'greatly', 'performer', 'depressing', 'blush', 'recruit', '21:42', 'hedge', 'clawed', 'fainter', 'notification', 'diminution', 'glencore', 'entered', '35:30', 'sheet', 'population', 'pistol', 'passe', 'steepest', 'sinite', 'adelphi', 'heyday', 'ledge', 'slaue', 'enumerate', 'stept', '63:7', 'petraeus', 'avites', 'boughes', 'verdict', 'baleful', 'snare', 'travelled', 'ta', '2:54', \"unblam'd\", 'amon', 'gregarious', 'deportation', 'justin', 'fruitage', 'cocoanut', 'pointing', 'creature', 'contestant', 'sucked', 'rig', 'dissipate', \"cur'ous\", 'marshal', 'serving', 'exhort', 'bluer', 'savans', 'dr.', 'bates', 'joes', 'dismembered', 'saw--', 'rian', 'contented', 'embouchure', '34:32', 'digge', 'resettlement', 'department', 'still', 'multitudinously', 'eyeservice', 'non', 'curled', 'priscilla', 'imploded', 'bye', 'citron', 'distort', 'ringstraked', 'allemaine', '49:12', 'ankers', \"charg'd\", '31:23', 'gavel', 'defection', 'appeased', 'resident', 'saner', 'almug', 'elle', 'doubling', 'reiterates', 'help', 'approue', 'compromising', 'unvitiated', 'flattered', 'incur', '38:6', 'grime', 'wineglass', 'employ', 'connecting', 'uncomely', 'escort', 'caress', 'badness', 'county', 'brett', \"leaven'd\", '14:29', 'cambodia', 'jechonias', 'redouble', 'fizzle', 'sail', 'gorbachev', 'cetology', 'approbation', 'maturest', 'lance', 'flaunting', 'assails', 'scullion', 'loosed', 'preface', 'slavery', 'fueled', 'bloud', 'thames', 'fiber', 'ahio', '31:29', 'volatile', 'reigneth', 'shredding', 'taint', 'fluttering', 'clergy', 'clothed', 'weaned', 'romish', 'irad', 'affectation', 'everyday', 'vetting', 'angie', 'contested', 'belated', 'glove', 'pot', 'assassination', 'rehearsed', 'destroys', 'mink', 'giuliani', 'slothful', 'mccarthy', 'bitterness', 'acorn', 'weaker', 'scrupled', 'fatiguing', '4:36', 'projection', 'obed', 'gesture', 'jehoiakim', 'elite', 'freedom', 'unwarrantably', 'andre', '26b', 'mettlesome', 'drift', 'forbid', 'coastal', '36:17', 'corporation', 'lesko', 'backwoods', 'masterson', 'indigence', 'yeare', 'ti', 'mehida', 'franscisco', 'pichai', 'buckskin', 'ahead', '24:12', 'wist', 'traded', 'role', '52:8', 'supply', 'wager', 'trailed', '2:35', 'harass', 'darwin', 'ramoth', 'flourishing', 'priority', 'benz', 'urging', 'ordering', 'polluting', 'comprehension', 'tumor', '8:34', 'succor', 'perverseness', 'decorative', 'endor', 'naturally', 'fished', 'teares', 'slumber', 'comparison', 'scowl', 'januarius', 'established', '8:50', 'ozias', 'obstinacy', 'piedro', 'handed', 'greeue', 'pedaiah', 'knit', 'foule', 'nameless', 'mantel', 'drafted', 'chicha', 'stile', 'prompt', 'suffused', 'thunderer', 'jungfrau', 'bay', 'impersonated', 'subdued', 'bladed', 'czar', 'fitted', 'ugh', 'shore--', '7:34', 'syme--', 'punctual', 'dumber', '36:35', 'gnashed', 'cohort', 'obnoxious', 'strangeness', 'devoid', 'smallridge', 'larceny', 'intoxication', 'ur', 'erected', 'shave', 'ceti', 'afloat', '79-yard', 'weale', 'hanging', 'golgotha', '28:17', 'contracted', 'forked', 'leathern', 'reacts', 'reprogram', '115', 'retweeted', 'churn', 'skype', \"for't\", 'staring', '62:10', 'tamara', '40,000', 'aroused', 'hypo', 'iroquois', 'amount', '7:14', 'bur', 'resounded', 'unearthed', 'tanned', '24:19', 'tipoff', 'charter', 'libya', 'yearn', 'optimist', 'withal', 'filled', 'colhozeh', 'dot', '46:17', 'sirius', 'babylon', 'lawful', 'ennui', 'chunk', 'lovingly', 'mincing', 'jill', 'standing', 'pig', 'charmouth', 'index', 'withholden', 'hander', 'dashwoods', 'turtledove', 'malignity', 'stretch', 'satirical', '22:43', 'parable', 'contributes', 'perspective', 'mountaineer', '22:39', 'uniform', 'lusty', 'moshpit', 'tracker', \"gain'd\", '18:11', '49:8', 'luckily', 'chaffetz', 'disputed', 'reflecting', 'drinker', 'ungraciously', 'kedar', 'criminal', 'fanning', 'tenderness', 'residing', 'frowning', 'sincerest', 'resigns', 'pleasure', 'decries', 'lauer', 'parchment', '30-day', 'shower', 'irritable', 'candour', 'independence', 'israelite', 'blot', 'heaviest', 'edifieth', 'redland', '4:13', 'himself', 'honest', 'arises', 'maternal', 'loosely', 'angeles', 'impotent', 'manfully', 'adorable', 'cleft', 'environment', 'elbe', 'patchwork', 'idealistic', 'cup', 'farrakhan', 'assemble', 'indoor', 'aery', 'mockingbird', 'attribute', 'oat', 'bristle', 'astonished', 'rebuking', 'inspired', 'hamill', \"dream'd\", 'aram', 'dq', 'quadrille', 'boehner', 'appointee', 'gurgle', 'hatefulness', 'blesse', 'bait', '46:21', 'observed', 'abimelech', '20:6', 'zelophehad', 'birthrate', 'syria', 'behind', 'division', 'treating', 'pending', 'warn', 'sexist', \"hallow'd\", 'jeiel', 'impervious', 'armstrong', '9:51', 'majesty', 'mirrour', 'fellowprisoner', 'unawares', 'stray', 'lyon', 'baptize', 'freely', 'sustaining', 'protested', 'sinnes', 'nod', 'treacherous', '14:19', '26:1', '26:57', 'discontented', 'firearm', 'vanish', 'costa', 'deter', 'accused', 'bedchamber', 'restrained', '20:23', 'mccaffrey', '39:30', 'cockney', 'oscillating', 'backfire', 'maachathites', 'lettest', 'pique', 'laborer', 'filleted', 'adonis', 'manner', 'lavish', 'hideth', 'circumcised', 'rememberest', '4:3', 'argument', 'economic', 'bigness', 'stunningly', 'helmet', 'baptizeth', 'catherine', 'arrogant', 'evilmerodach', 'exhausted', 'worryingly', 'formally', 'drumbeat', 'evangelical', 'concourse', 'champion', 'shilling', 'children.--', 'folk', 'responsive', 'moment', 'cheating', 'tended', 'brendan', 'brainwashing', 'witnessed', 'gnat', 'proceed', 'ghost', 'forbore', 'superintend', 'corker', 'respond', '14:41', 'bahrain', 'astonishing', 'thresher', 'evgeny', 'midst', 'estate', 'bunch', 'hama', 'edified', \"do'st\", 'sulphurous', 'fainted', 'hitler', 'descending', 'adjure', 'moorish', 'defeating', 'outlying', 'parson', 'heightened', '47:1', '8:29', 'misty', 'ake', 'commune', 'robert', 'crosswise', 'sharpened', 'abstractedly', 'ishmael', 'easterly', 'leave--', 'unacquainted', 'taller', 'requesting', 'rut', 'flipping', 'penguin', '37:18', 'dancer', 'kernel', 'bough', 'mutter', 'briny', 'ukrainian', 'equalled', 'pouch', 'vastly', '39:7', 'persuasively', 'divineness', 'recognised', 'discretion', 'comprehending', '25:6', 'chowder', '26:50', 'jemima', 'out', 'moor', \"blacken'd\", '13:53', 'gulf', \"scorch'd\", 'fraud', 'calah', 'participating', 'uneasily', 'piss', 'decamp', 'improvement', '35:10', 'recalling', 'murkowski', 'hoo', 'protracted', 'ready', 'gelatin', 'relented', 'misdemeanor', 'pessimist', 'overall', 'largely', '1.play', 'endless', '30:33', 'reasonableness', 'arc', 'inelegant', 'beckoning', 'leadership', 'shuffling', 'raved', 'nephewes', '26:35', 'millennial', 'perchance', 'realignment', 'ikata', 'employment', 'fooles', 'oathes', \"drown'd\", 'acceptation', 'fake', \"stain'd\", 'bilgah', 'governs', 'zip', 'posen', 'wheeze', 'gin', 'dicaprio', 'tempt', 'morasthite', 'grooming', 'lionel', 'bought', 'plymouth', '                   ', 'deacon', 'fabulous', 'braided', 'join', 'in--', 'amplest', 'profundity', 'truce', 'health', 'wildfire', 'believeth', '7:63', 'throate', 'deck', 'grieveth', 'moonrise', '33:16', 'congress', 'excutive', 'knop', '63:4', 'reminder', 'pa', '22:53', 'spade', 'disputation', 'shrewdly', 'persuadable', 'necktie', 'flapper', 'runoff', '6:52', '27:27', 'linking', 'riled', 'outpace', 'calumnious', 'munition', 'dicotyledonous', 'protecting', 'relapse', 'hinted', 'crouched', '10:45', 'imputable', 'fryingpan', 'comprised', 'hunt', 'resolve', 'management', 'asshur', 'fiercer', 'muttering', 'titan', 'marine', 'cleanly', 'chappell', 'lecherie', 'nomadic', 'slovenia', '16:7', 'u.s', '54', 'foal', 'confection', 'doubter', 'rescuing', 'simultaneously', 'molest', 'benefit', 'postponing', '7:70', 'fossil', 'spasmodic', 'free', 'si', 'prioritizing', 'balancing', '23:37', 'kink', 'tattoo', '29:39', 'marrying', 'express', 'merged', 'despondent', 'distressing', 'than--', 'recouer', 'evolved', 'consistent', 'discouragement', 'milk', 'lured', 'achaz', 'murray', 'uefa', 'messa', 'mlk', 'envelope', 'threw', 'lagoon', 'motif', 'lastingly', 'sanely', 'geological', '45:7', '7.2', 'signify', 'apologetically', 'charger', 'burning', 'secreted', 'gutierrez', 'surer', 'fasten', 'foment', 'unpaid', 'surfeit', 'bewitching', 'gushing', 'inappropriate', '45:4', 'bubblingly', 'bespeak', 'wannacry', 'immigrant', 'mat', 'practise', 'solved', 'stomacke', 'spin', 'gowne', 'irresponsible', 'olive', 'citadel', 'affluence', 'adhesiveness', 'humpbacked', 'longsuffering', 'farage', 'holyday', 'molotov', 'vnkindnesse', 'noiselessly', 'avoiding', 'cassi', 'midterm', 'merrie', 'charlottesville', '40:25', 'slate', 'cheese', 'encompassed', 'exiled', 'iv', 'romamtiezer', '66:18', 'thickens', 'baalim', 'merman', 'negotiate', 'summary', 'principal', 'arson', 'bondwoman', 'scholarship', 'honeycomb', 'duel', '62:12', 'wad', 'baalath', 'laudanum', \"pick'd\", 'quickened', 'corruptible', 'didst', 'siberian', 'needfull', 'lithium', 'mind', 'mommy', 'great-', 'ribband', 'mufti', 'burdened', '10:9', 'grossly', '10:17', 'masquerade', 'avowal', '10:3', 'footing', 'geranium', 'apologised', 'ocran', 'ye', 'recluse', 'planted', '23:5', 'rex', 'omnipresence', 'agabus', 'propels', \"one's\", 'buffalo', 'bedclothes', 'froze', 'spousal', '37:14', 'ingeniously', 'arras', 'dealest', 'lou', 'belong', 'frowningly', 'enlightened', 'bocheru', 'indonesian', 'extend', 'cobble', 'gambol', 'hey', 'vein', 'spindle', 'infinitude', '41.5', 'organiser', 'secured', \"turn'd\", 'soft', 'malware', 'fife', 'counterfeit', 'thankfulness', 'nutriment', '24:1', 'talent', 'diminish', 'flat', 'abstain', 'jahaziel', 'momentous', 'forgive', 'inconsiderable', 'vigorous', 'risking', 'banquet', 'lib', 'hamas', 'nbc', 'burnes', 'vx', 'therewith', 'tabbaoth', 'illuminate', 'entry', 'somersault', 'sulfur', 'official', 'cogent', '12:9', 'blowing', 'skirmisher', 'cutlet', 'lovingkindnesses', 'confers', 'philanthropy', 'nowise', '79', 'morphed', 'mcconnell', 'rameses', 'overturn', 'overcharged', 'examine', 'beget', 'yeeld', 'forging', '53:4', 'ephraimites', 'clout', 'cheney', 'liable', 'unwillingly', 'audit', 'dodanim', 'fragrance', 'meanes', 'quivering', 'deafened', 'marcher', 'bali', 'muddle', 'maketh', 'hears', 'vaunted', '9:16', 'implore', 'donavan', 'serbian', '28:38', 'dullness', 'manikin', 'maon', 'soho', 'sown', 'morne', 'bid', 'unclear', 'skunk', 'elasticity', 'shy', 'wrote', 'near', 'pathological', 'casuistry', 'trimmed', 'lest', '18:42', 'sim', 'headline', 'premier', 'shunem', 'ren', 'proselyte', 'grumpy', 'vindman', 'whichever', 'awakened', 'recrimination', 'clew', 'raillery', '18:27', 'vest', 'beersheba', 'beyonce', 'inaccessible', 'led', 'trait', 'tragic', 'approval', '14:46', 'ought', '64:3', 'plaited', 'planting', 'devos', 'forte', 'ovarian', 'pasture', \"d'souza\", 'curate', 'relentless', 'douma', 'tripod', 'backpage', 'practicable', 'jerimoth', 'desantis', 'unannounced', 'heth', 'dershowitz', 'attachment', 'troy', 'risk', 'saga', 'indolent', 'total', 'reservoir', 'pliant', 'sleight', 'laughingstock', 'gamesome', 'moodily', 'tough', 'skulked', 'exclusion', '59:4', 'negativity', 'quitting', 'thanking', 'stingy', 'lori', 'sloppy', 'duodecimo', 'germany', 'sculptured', 'oregon', '10.7', 'administered', 'leant', 'blossom', 'beat', 'conformed', 'freeze', 'doddering', 'discoursing', 'chemistry', 'wonderously', 'unarmed', 'brake', 'nasty', 'prank', 'thank', '16:8', '11:47', 'lamented', 'tip', 'eliashib', '12:18', 'finny', 'pic', 'controul', 'warns', 'doused', 'heel', 'anon', 'introduction', 'zelda', \"conceal'd\", 'necessitates', 'anticipating', 'donalbaine', 'identifying', 'blamed', '26:18', 'century', 'armed', 'fidelity', 'piercing', 'jakim', '27:4', 'pony', 'ananiah', 'blinked', 'transcendent', 'yup', 'relating', 'lotus', '25:37', \"distemper'd\", 'drank', 'encrypt', 'fireplace', 'lodger', 'representing', 'signalled', 'trencher', 'teetotaller', 'genitals', '28:16', 'hungrily', 'parrot', 'infantile', 'christie', 'disincline', 'browsing', 'jub', 'frown', 'jeanine', 'chronicler', 'concave', 'leaden', 'significance', '59:14', '8:16', 'specter', 'arnhold', 'sprawling', 'terribly', 'scotty', 'cursing', 'isi', \"conquer'd\", 'hired', 'ishmaelites', 'narwhale', 'curtly', 'spectacularly', '57:4', 'bobridge', 'from', 'scorching', 'authority', 'trumpeter', 'anchorage', 'mizzen', 'impact', 'nymph', 'atom', '29:37', 'canoe', 'zipporah', 'inwardly', 'hill', 'whitwell', 'berry', '35:28', 'union', 'roareth', 'brightening', 'offshore', 'pilaster', 'gihon', 'circumfused', 'relinquish', 'triumphal', 'convolution', 'chaotic', 'necessarily', 'active', 'swerve', 'counted', 'premeditated', '47:11', 'started', 'encourage', 'nipper', 'raged', 'shalmai', 'direct', 'beeri', 'ski', 'impressive', 'sniffing', 'reuters', 'perambulator', 'relieved', 'dennis', 'flu', 'understood', 'mourns', 'frontispiece', 'effected', 'u.k.', '92', 'intimate', 'cto', 'silken', 'her!--', 'flopped', 'referee', 'busks', 'blustering', 'sharp', 'listlessly', 'upward', 'comrade', 'bridging', '7:8', '40:38', 'showy', 'alike', 'combing', 'imprecate', 'award', 'handler', 'ript', 'frowardness', 'scrawl', 'heroism', 'distance', 'rot', 'structure', 'concluded', '29:15', 'nh', 'resound', 'barrier', '38:3', 'betide', 'do?--how', 'quadruped', '58:2', 'pshaw', 'lapse', 'hosed', 'continuation', 'ware', 'drawer', 'esper', 'linkin', 'craze', '38:19', 'alloy', 'exclamation', 'mueller', 'reba', '46:15', 'faileth', 'intensify', 'immediately', 'lefthand', 'mistrust', 'waketh', 'sparing', 'intimately', 'revisiting', 'penetrated', 'brought', 'tackle', 'dromedary', 'buoyant', 'port', 'mais', 'apologetic', '13:18', 'millennials', 'signature', 'shual', 'grape', 'eater', 'guarding', 'invariably', 'caes', 'eager', 'contradictory', 'wee', 'hosea', 'enviable', 'undeviating', 'wishers', '24:40', 'mahli', 'regulation', 'trumped', '1:9', 'possessing', 'shattering', 'demetrius', 'reclines', 'bitten', 'ideology', 'unspeakably', 'tool', 'wandering', 'recount', 'sedge', 'behn', 'fortress', 'pertaineth', 'retracing', 'query', 'cummin', 'cherokee', 'shuhite', 'question--', '7:12', 'soared', 'edging', 'counterproductive', 'dedicate', 'derision', 'gallim', 'backstabbing', 'andrei', 'uttermost', 'recklessly', 'blackguard', 'bidden', \"i've\", 'cosmic', 'agitation', 'predict', 'riot', 'whore', 'diuell', 'pornhub', 'or', '11:40', '36:11', 'breed', '                          ', 'provision', '23:17', 'committee', 'slayeth', 'ko', 'luminary', '1:51', 'covetousness', 'eternall', '16:30', 'scaena', '9:54', 'calles', 'premature', 'mideast', 'tacit', 'dormouse', 'cultivate', 'spacey', 'statistic', 'slayer', 'conflict', 'heaviness', 'densmore', 'ordinance', 'art', '48:15', 'oriental', '2:29', 'massachusetts', 'snivel', 'unpitied', 'hesitate', 'minded', '51:19', 'tourism', 'enforced', '38:2', 'sela', '146', '34:6', 'liest', 'goody', '27:34', 'coon', 'point', 'housebreaker', 'quicker', 'cleanse', 'ankara', 'tehran', 'fail', '7:29', '         ', 'shovel', 'shooes', '20:22', 'resigned', 'opacous', 'rascally', 'it?--i', 'cardinal', '10,800', 'grown', 'lysias', 'cleare', 'sayst', 'impress', '31:27', 'unaffected', 'urgently', 'nebat', 'grotto', 'houseless', 'fals', 'jester', 'visibly', 'breast', 'perfect', 'skulk', 'franken', 'better.--', '36:36', 'hananiah', 'unconvincing', \"nam'd\", 'crackling', 'stonest', 'boasted', 'modestie', 'presume', 'corrupting', 'protects', 'timid', '57:10', 'ornate', 'unwieldy', 'phrygia', 'thoughtless', 'm', 'orly', '45:9', 'typifies', 'agone', 'refusing', '66:4', '19:17', 'finish', 'outpost', 'mounted', '9:8', 'tds', 'cleanliness', 'living', 'chibok', 'providence', 'esteemed', 'funerall', 'regained', 'olympia', 'fetched', 'stella', 'renewed', 'peruvian', 'ruler', '6:63', 'patriotic', 'delilah', 'faculty', 'woke', 'coveredst', 'unoccupied', 'jasper', 'columnist', 'woodpecker', 'avowed', 'basking', \"remain'd\", 'uk', '13:8', 'defamation', 'gudgodah', 'xerox', 'payment', 'haires', 'landlord', 'winebibber', 'kellyanne', 'effect', 'jaguar', 'impressively', 'predominant', '34:35', 'attain', \"too't\", 'overturneth', 'invests', 'cleaved', 'lengthened', 'daboll', 'swimming', 'cordially', 'lived', '58:3', 'squash', '17:28', 'hoed', 'kenezite', 'goodnesse', 'bonus', 'masterless', '22:10', 'coat', 'accumulated', 'reconciling', 'jeconiah', 'cruise', 'ointment', 'unclad', 'eclipsed', 'armageddon', '150', 'name', 'sealed', 'talbotite', 'dainty', 'noteworthy', 'scaling', 'garnish', 'breathless', 'combustion', 'invalid', 'persecution', 'persisted', 'purple', \"unperform'd\", 'doubtfull', 'indure', 'troubling', 'preluding', 'scratching', '52:6', 'hoot', 'camden', '23:2', 'symptom', 'varying', 'autocratic', 'nighest', 'circulates', 'spd', 'thicker', '35:1', 'referral', 'hirsch', 'hum', 'migdol', 'greenwald', '48:2', 'withhold', 'giving', 'bewailed', '34:28', 'aftermath', 'romanian', 'becher', 'fusing', 'declare', 'jetheth', 'scampered', 'cried--', 'chamber', '1.98', 'insignificant', 'pisgah', 'nietzsche', 'atheistical', 'lore', \"won't\", '29:7', 'kohl', '38:10', 'oligarch', 'separating', 'dining', 'feature', 'admissible', 'becharmed', 'eyrie', 'seyton', 'hopefully', 'rue', 'enclosing', 'constructed', 'ephraim', 'relax', 'arranging', '16:23', 'possessed', 'adulting', 'dishan', 'satiety', 'waile', 'unclouded', '26:43', 'cucumber', 'coma', 'tenement', 'superstorm', \"return'd\", 'hatter', 'evolution', 'iota', 'exasperation', 'your', 'abijah', 'kittim', 'tartarus', '11:10', 'administering', 'companied', '8:55', 'whitaker', 'believest', '27:44', 'girds', '7:69', 'legendary', 'affayres', 'extracting', 'sausage', 'riotous', 'she.--', 'eliphaz', 'fawne', 'sorcery', 'benignity', 'bacon', 'together.--', 'even', '22', 'united', 'fatherless', 'utter', 'delaford', 'winne', 'tetrarch', 'advice', 'penance', 'wrecked', 'enthusiast', 'prestige', '32', 'avalanche', 'chart', 'ucla', 'investiture', 'receives', 'intrude', 'purr', 'brilliant', '32:20', 'shadow', 'during', 'situate', 'veda', 'seashore', 'serug', 'victorious', 'fishing', 'nicola', 'laboured', 'slaughterhouse', 'vanquisher', 'slovak', 'del', 'lurking', 'caska', 'digged', 'peepe', 'forgotten', 'galahad', 'ember', '31:10', 'elegancies', 'pantry', 'penelope', 'laughter', 'botnet', 'grunt', 'paseah', 'truely', '51:14', 'behring', 'sodomite', 'mizpeh', 'accordance', 'ahimelech', 'guildensterne', 'amy', 'gangway', 'us', 'parental', 'confound', 'waxe', 'levy', 'contemned', 'lulled', 'making', 'hundredth', 'europe', 'drumming', 'depends', 'declassify', 'moab', 'destined', 'snake', '28:11', 'rigger', 'sanctimonious', 'prospect', \"hush'd\", 'ultrasonic', 'timing', 'mysia', 'busie', 'interruption', 'wailed', 'accounting', '29:34', 'hara', 'warres', 'suppress', 'legitimately', 'suddenly', 'hayle', 'court', 'boyle', '17:35', 'moss', 'chapel', 'discovering', 'disgusting', 'catch', 'encourages', 'höglander', 'quietness', 'currently', '60:7', 'passion', 'leper', 'economy', 'provides', 'allotment', 'constitutes', 'oder', 'trackless', 'reverberation', 'helter', 'scratch', 'melancholy', 'anatomist', 'cragness', 'woodhouse', 'manasses', 'blissful', 'marched', 'individually', 'commend', 'portrays', '57:11', 'willes', 'disc', 'published', '12:37', '8:3', 'before', 'artificer', 'chuck', 'bonkers', 'trundle', '34:19', 'sings', 'mite', 'incalculable', 'clamorous', '7:65', 'animating', 'launchest', 'open', 'dieth', 'shaalbim', 'moat', 'gurgling', 'satisfying', 'woof', 'lucy', 'barrister', '227', '26:28', 'truly', 'ice', 'childish', '49ers', 'obliquity', 'happiest', 'righteous', 'ghastly', \"camp'd\", 'extreme', 'contact', 'orontes', 'banning', '9:44', 'patroness', 'nielsen', 'k.', 'drafter', 'baroni', 'beneath', 'denounces', 'accelerates', 'blatant', 'whine', 'devoutly', '20:46', 'wavered', 'strato', '14:1', 'casement', 'affectedly', 'offall', 'mahazioth', 'evade', 'nursery', 'diyarbakir', 'wield', '25:36', '11:11', 'scuttle', 'dicotyledon', 'glade', '27:38', 'documentary', 'foe', '11:54', 'starbuck', 'fierie', 'australia', 'envelop', 'picturesqueness', 'ballistic', 'dreadfully', 'gehazi', 'heath', 'surrounded', 'swan', '21:20', 'rigidly', 'miamin', 'gigantic', 'glancing', 'owe', 'antony', 'ravished', 'landlady', 'onely', 'eloth', 'subdues', 'lorry', 'operator', 'housing', 'smoothe', 'spinney', 'expels', 'repented', '8:53', '10:32', 'stole', 'enabling', '45:21', 'blinde', 'fatter', 'brutus', 'anarch', 'cinna', 'dinner', 'district', 'remaliah', 'booz', 'battlefield', 'trembleth', 'painkiller', 'satellite', 'exchanging', 'auoyd', 'centrally', 'deliciousness', 'nile', 'deserting', '27:6', 'karen', '  ', '3:38', 'blackstone', 'shrewsbury', 'preternatural', 'epaulet', 'laying', 'intoxicated', 'followed', 'receipt', 'churlish', 'gradually', 'schoolboy', 'cushi', 'drie', 'disapproval', 'thirtieth', '49:20', 'alacke', 'grinding', 'grimm', 'giloh', 'privy', 'clo', 'unbiased', '11:18', 'curio', 'withdrawal', 'bittern', 'hourly', 'earthquake', 'pierce', 'cried,--', 'saving', 'greet', 'fiercest', 'psychometric', 'calledst', 'polynesian', 'kissing', 'means--', 'returned', '23:10', 'unmanageable', 'rauen', 'pope', 'seductive', 'saluation', 'cream', '51:2', 'pelt', 'coventry', 'sugar', '44:29', '56:8', 'exercising', 'saline', 'perquisite', 'emigrant', \"sail'd\", '51:9', 'merciless', '36:32', 'litter', 'capricious', '52:1', 'cabinet', 'sean', 'credibility', 'navarro', 'franklin', 'ob', '32:28', '7:51', 'multitudinous', 'perez', 'sunda', 'angry', 'naioth', 'singeth', 'jolly', 'bookseller', 'cringed', 'spirituality', 'officer', 'designedly', 'lizard', 'pave', 'taped', 'capture', 'de', 'behaving', 'giuen', 'momentum', 'dissipated', 'unopposed', 'heerein', '55', 'lawsuit', 'lebron', 'dawning', 'kaine', 'possesion', 'jeroboam', 'much', 'indissoluble', 'pommel', 'aforethought', 'uriel', 'wechat', 'northerly', 'germ', 'contrivance', 'twer', \"gouern'd\", 'evans', 'glide', \"stay'd\", 'saved', 'november', 'meaning', 'confine', 'equilibrium', 'revelled', 'thickly', 'suspicion', 'breakfast', 'muchness', 'branded', 'electric', 'aul', 'worshipping', 'comey', 'absolute', 'town', 'jahzeel', 'drawest', 'violence', 'hail', 'bolivia', 'doer', 'backing', 'macey', 'poacher', 'etc', 'bankrupt', 'kneaded', 'executed', 'spight', 'consented', 'bohemian', 'bowling', 'cerimony', 'redefining', 'cadence', 'punctilious', 'fallest', 'dishon', 'ebay', 'hunch', 'sphinx', 'manoeuvring', 'maduro', 'whit', '19:44', 'sketch', '12:22', 'spotify', 'rocking', 'unrolling', 'storehouse', 'falcon', 'gainsay', \"employ'd\", 'nantucket', 'converting', 'greg', 'reed', 'betty', 'riddle', 'uncompromised', '1b', 'archippus', 'ridge', 'mutiny', 'streak', 'forswear', 'edify', '€', 'naue', 'frigid', 'blended', 'convert', 'clerical', 'fonder', 'vain', '82', 'professionally', 'daughter', 'illaudable', 'fleetness', 'alive', 'metaphor', 'tractor', 'twitched', 'ananias', 'intensified', 'honour', 'prospereth', 'twinkled', 'linnaeus', 'inventor', 'imperiously', 'haire', 'ruinous', 'peek', 'trumper', 'corroborating', 'zophar', 'divide', '66:14', 'manent', 'extradited', 'scathing', 'criticizing', 'sandberg', '1:54', 'gor', 'corporeal', 'corded', 'bombardment', 'visitest', 'nemuel', 'priam', 'longing', 'straw', 'ezbon', 'way--', 'soaring', 'helpmate', 'donating', 'furlong', 'imply', 'guillen', 'condemning', 'reigniting', 'teach', 'field', 'killing', 'create', 'foreigner', '14:9', 'incoming', 'stealeth', '51:10', 'koboo', 'philip', 'defending', 'mildness', 'captivity', 'cowardly', 'thinnest', 'rebel', 'displaced', 'preferre', '56', 'goldthwait', \"foil'd\", 'disfigure', 'billboard', 'maiden', 'shure', '40:27', 'wanton', 'shutting', '30:9', 'sarid', 'perizzite', 'bezer', 'redemption', 'dam', 'xi', '56:10', \"unreach'd\", 'recital', 'jet', 'best', 'commanding', 'reversed', 'wonderfull', 'manure', 'desktop', 'describeth', 'noisy', 'waken', 'cosin', 'slid', 'hermit', 'busy', 'toast', 'neatness', '22:4', 'plume', 'multiply', 'dealeth', 'omitting', 'daft', 'sacrifice', 'ariel', 'wandereth', 'maachathite', 'sleepeth', 'heldai', 'jeffrey', '48:28', 'grisly', 'himself,--it', 'prim', 'operative', 'ironclad', '13:44', 'chilian', 'guni', 'gay', 'winketh', 'prudential', 'laundered', 'engaging', 'rehoboam', 'mildest', 'abednego', '--goldsmith', '40:35', 'width', 'symmetrical', 'used', 'rider', 'cancellation', 'islam', 'ahimaaz', 'regulator', 'azekah', 'humane', 'avaricious', 'aright', 'wood', 'unpersuaded', 'cannibal', 'injunction', \"vpon't\", 'bush', 'symbolize', 'gaza', 'of?--', '44:15', 'tatnai', 'analysis', 'closed', 'tacitly', 'marah', 'polished', 'woeful', 'likeminded', 'revolving', 'iconic', 'registration', 'curd', 'influencers', 'newes', 'lakers', 'baalzebub', 'u.s.', 'noblesville', '13:20', 'miserably', 'manifestation', 'sensation', 'presumed', 'accept', 'sleeper', 'shrub', 'york', '24:14', 'silversmith', 'den', 'longest', 'buckwheat', 'revenge', 'awe', 'prosecuted', 'wildness', 'misconstrued', 'pip', 'around', '66:20', '38:29', 'chop', 'shorter', 'argentine', 'roxette', 'samos', 'plaiting', 'noways', 'approach', 'scall', 'hollyweed', 'mephaath', 'unaccustomed', 'rhythmic', '35:21', 'snoring', 'cheeked', 'spectator', 'beggar', 'c.', 'trigonometry', 'limitation', 'auoid', 'ditchers', 'disclaims', 'callous', 'blower', 'recollect', 'plase', 'blackness', '22:14', 'cheerily', 'caterpillers', '19:30', '38:4', 'gracefully', '50:5', 'infatuated', 'you?--i', 'kingdom', 'sheepfold', 'mr', 'medallist', '10:25', 'elect', 'transact', 'bookstore', 'occasion', 'coolness', 'unreproved', 'sheaf', 'halo', 'privation', 'insurgent', 'thankless', 'maritime', 'turbotax', 'bellona', 'croker', 'n.c.', 'believing', 'prouide', 'perceiue', 'nurtured', 'heraldry', 'hangman', 'subtilly', 'commiseration', 'conquering', 'assayed', 'proclaim', 'course', 'dine', 'hushed', 'horn', 'arbor', 'bequeathing', 'beginning', 'retracted', 'hartshorn', 'disbanded', 'rejected', 'deceiving', 'terrified', 'zelensky', 'tantalizing', 'unlading', 'jib', 'inheritance', 'poker', 'jug', 'heavier', 'providing', 'awaking', 'brotherly', 'ransomed', 'snodhead', 'nazarites', 'flashed', 'revenged', 'healed', 'burqa', '13:39', 'railed', 'aesthete', 'snuffer', 'neanderthal', 'playedst', '6:38', 'rode', 'ambushment', 'reined', 'daresay', 'poorer', 'indictment', 'strawberry', 'extracted', 'villany', 'muskiness', 'emerged', 'dippeth', 'hk', 'nutella', 'portending', 'dependant', 'silicon', 'wakanda', 'saturday', 'presumptive', 'religionist', 'thitherward', 'abomination', 'est', 'exhaustion', '3.5', 'unavoidable', 'hongkongers', 'indigenous', 'massive', 'nam', 'enlarges', 'avenue', 'curb', 'juvenile', 'faithfull', 'salathiel', 'abased', 'mandarin', 'loitering', 'mysticetus', '9:52', 'damnable', 'shaaph', 'eyeful', 'sir--', 'deceive', 'absurdly', '75,000', '5-hour', 'frosty', 'attention', 'precipice', 'money', 'spelling', 'waitest', 'embassy', 'pinion', '35:31', 'impute', 'changed', 'belgian', 'praying', 'jewelry', 'earner', 'cozbi', 'forward', 'singleness', 'architecture', 'ambition', \"usher'd\", 'resembling', 'bolt', '38:20', 'murtherers', 'comfort', 'existing', 'soules', 'eatest', 'reaiah', 'obscure', 'slippeth', 'forgettest', 'freckled', 'rouhani', '68', '41:17', 'impetuously', 'debased', 'aircraft', 'liberality', '21:28', '1:22', 'victor', 'livestock', 'upturn', 'totality', 'freezer', 'wretch', '17:9', 'leyden', 'applauded', 'multitude', 'ithiel', 'cato', 'object', 'incidentally', 'forbidden', 'hatted', 'yeun', 'sunshine', 'remains', 'powdering', 'dutie', 'salad', 'received', 'arba', 'spherical', 'blasted', '46:13', 'stelter', 'december', 'usmca', 'delayeth', 'embalmed', 'bertha', 'housekeeping', 'carbon', 'linguist', 'quaker', 'brigand', 'mustering', 'cordial', 'braced', 'replying', 'infowars', 'theatre', '46:6', 'overladen', 'halted', 'quakerish', 'testifying', 'sportsman', 'ending', 'espy', 'bordered', 'wa', 'melenchon', 'crab', '36:10', 'inability', \"deferr'd\", 'scuttled', 'unperturbed', 'zelah', 'casket', 'tendency', 'barouche', '39:28', 'aggressive', 'motive', 'winsome', 'kehelathah', 'beneficial', 'coca', 'imprint', 'gorka', '15:27', 'cheerfully', 'paradox', 'u', '2:25', \"o'th\", 'waite', 'inquiringly', '59:10', 'gander', '31:4', 'uncivilized', 'funniest', 'delete', 'abuse', 'sane', 'exotic', 'impatiently', 'choir', '10:38', 'champagne', 'pal', 'trebble', 'miniature', 'dis', 'unacceptable', 'beltway', '41:34', 'swap', \"command'ment\", 'decapolis', 'hunk', 'couched', 'zealous', '60:1', 'uneducated', 'debra', '100', 'jediael', 'hype', 'postman', 'fitter', 'williams', 'wielding', 'swaddled', 'perry', 'honorable', '6:47', 'mabel', 'ingenious', 'dried', 'unperceived', 'excusable', 'tempest', 'amusement', 'fairer', 'banding', 'uniting', 'chef', 'zibiah', 'attestation', 'irs', 'revolted', 'jocund', 'maddening', 'tottering', 'noe', '14:13', 'outing', 'compel', 'scientist', 'perth', 'housemaid', 'challenging', 'dreamer', 'gala', 'wagging', 'empyrean', '30:15', 'dibongad', 'rudely', 'judging', 'said--', 'deepe', 'lifted', 'spirt', 'declareth', 'worsens', 'abbas', 'desired', 'hatchet', 'assaying', 'mend', '3:16', 'eichenwald', 'scheme', 'colicky', '62', 'stealth', \"wander'd\", 'sion', '340', 'godfrey', 'this', 'infirm', '14:48', 'humoredly', 'beatitude', 'foreknew', 'unbar', 'expence', '14:15', '31,000', 'faced', 'pined', 'beleefe', 'hypocrisy', 'thou', 'constitutionally', \"enamour'd\", 'fec', 'hopeless', 'hashub', 'colossus', 'explorer', '47:5', '20:25', '64-character', 'balk', 'prodigious', 'throwing', 'comet', 'sect', 'arch', '23:35', 'gave', 'tu', \"call'st\", 'white', 'cub', 'gemini', 'spacex', 's.', 'fix', 'reach', 'eliah', '19:11', 'suffering', 'concludes', '26:2', \"d'ye\", 'battersby', 'gnaw', 'tencent', 'bomb', 'goblin', 'secunda', 'heardest', 'nunberg', 'guarantee', 'whited', 'deathly', 'outwit', 'lakeman', '4:32', 'quick', 'arouses', 'constabulary', '10:11', 'prometheus', '8:54', '28-year', 'crappy', 'abhorring', 'clime', '41:26', 'dozen', 'austin', 'diatribe', 'lieu', 'milke', 'achish', 'manhattan', 'dumbly', 'philippian', 'founded', 'lighting', \"guess'd\", '40:15', \"unexpress'd\", 'lonesome', 'grasping', '440', 'are--', 'disengaged', 'gary', 'pekka', 'sixe', 'cambric', 'chorazin', 'gambolled', 'grief', 'jeush', 'glittering', '13', 'jago', 'obiects', 'sheddeth', 'bushfires', 'trash', 'transferred', 'scent', 'gat', 'sparkling', 'rwc', 'kit', 'prevail', 'prominence', 'lust', 'gubernatorial', 'younger', 'reserve', 'scheming', 'keep', 'coursing', 'tucked', 'elevation', 'recut', 'predicted', 'lime', 'jerusalem', 'variety', 'perilous', 'covetous', 'unsophisticated', 'appropriately', 'hideously', 'efron', '32:19', 'cove', 'lewdness', 'dention', 'ordered', 'saluteth', 'blemish', 'recommend', 'respiratory', 'confusedly', 'should', 'levite', 'firmament', 'organ', 'asahiah', 'worlds--', 'browne', 'mottled', 'historically', 'deceptively', 'complication', 'crave', '3:33', '28:3', 'cherry', 'scenario', 'evenly', \"stabb'd\", '6:32', 'unpoetical', 'sunbeam', 'remarkable', 'deserves', 'moby', 'begrimed', 'hurdle', 'christine', '36:2', 'puffing', 'clattered', 'conversation', 'classic', 'requiring', 'toe', 'cow', '18:33', 'dazed', 'ward', 'chiefest', 'regeneration', 'giveaway', 'macaroni', 'simpleton', 'hole', 'reaper', 'exaggeration', 'affecting', 'tattooing', 'bundling', 'nhl', 'violate', 'stained', 'oxygen', '37:11', 'funk', 'urbane', 'benevolent', 'watchtower', 'gloved', 'barton', 'godly', 'revolutionise', 'ease', 'farthest', 'indoors', 'heedfulness', 'zillah', 'disport', 'carve', '44', 'aquiline', 'hivite', 'unreasonable', 'phrensy', 'inclose', 'wipeth', '46:22', 'restorer', 'tribe', 'lgbti', 'kerchief', 'gathrimmon', 'advise', 'dominance', 'wrest', 'commits', 'shrieked', 'google', 'assassin', 'rested', '65:10', 'accompanied', '2:3', 'reading', 'fur', 'together', 'hag', 'seam', 'sighing', '32:33', 'diagram', 'excelled', 'atmospheric', 'stage', 'balance', '23:46', 'overthrow', 'rapture', 'cohn', 'cals', 'bottle', 'steadiest', 'facing', 'whistled', 'downtown', 'whaleships', '43:21', 'thoroughly', 'excluded', 'wrung', 'cavuto', 'fagggots', 'ethnicity', '23:40', '10:24', 'loom', 'va', \"watch'd\", 'people', 'airley', '           ', 'dancing', 'pageviews', 'don', 'extricate', 'outermost', 'lamech', 'advertise', 'do?--', '20:4', \"scap'd\", '27:45', 'viii', 'nonce', 'rep.', '41:21', 'aforetime', 'future', 'northern', 'tranquil', 'anna', 'cherishing', 'gastronomic', 'mccabe', 'supercomputer', 'radically', 'chisel', 'barometer', 'gentiloni', 'hymenaeus', 'michmas', 'closset', 'behead', 'penitent', 'inferiority', 'genteelly', 'extinction', 'ungrown', 'cleat', 'commonest', 'qatari', 'aimlessly', '211', 'defenced', 'gutenberg', 'starring', 'presented', 'zebulun', '44:4', 'forbade', 'getteth', 'sponsor', 'harper', 'nahath', 'tightening', 'gerahs', 'imperturbable', 'omnipotent', 'mustered', 'inattention', 'count', 'obliquely', 'silent', 'phony', 'rustle', '40:23', 'remark', 'singularly', 'replete', 'flute', 'strengthened', 'broaddrick', 'comprise', 'little', 'expletive', '23:43', 'developed', 'hindered', 'maiesties', 'riband', 'whelp', 'taxman', 'unresting', 'conspirator', 'brim', 'adde', 'marcus', 'assad', 'litigate', 'blocking', 'hovers', 'ceaseth', 'delivering', 'arching', 'staple', 'booker', 'unearthly', 'imagine', 'taste', '2010', '48:29', '2:21', 'preferment', 'transport', 'melchisedec', \"dispel'd\", 'rat', '34:23', 'venting', 'ulam', 'comer', 'ignorance', 'clasped', 'emotionally', 'equinox', 'lit', 'blockading', '22:8', '2:36', \"see'st\", 'gendarmerie', 'wander', 'befalleth', 'ahava', 'rebuttal', 'hymning', 'luff', 'sicken', 'crust', 'sill', 'glided', 'i--', 'digested', 'full', 'worsening', 'cilicia', 'elizabeth', 'assiduous', '29:25', 'remembrancer', 'idolater', 'entitle', 'chilling', 'bethel', 'bakbukiah', '24:37', 'ducroix', 'bonfire', 'shared', 'flip', 'wallace', 'accusation', '52', 'eternize', 'fahrenheit', 'crank', 'unapologetic', 'outcome', 'incognita', '9:21', 'antibiotic', 'obscurity', 'printing', 'son', 'missouri', 'achbor', 'freight', 'encamped', 'incorruptible', 'usually', 'luc', 'laburnum', 'versus', 'stereotype', 'shocker', 'taberah', 'rad', 'tach', 'vermin', 'turnest', 'fuse', 'tread', 'dorsetshire', 'zodiac', 'sate', 'consistency', 'swiftness', 'buffeted', 'delighteth', 'soothings', 'upholds', 'unthinkingly', 'vnckle', 'colnett', 'elia', '12:31', 'mimicking', 'explanatory', 'penthouse', 'alpha', 'veering', 'spotlight', 'suitable', 'terre', 'bernard', 'pate', 'cyclades', 'wearing', 'unpent', 'kanye', 'competitor', 'stampede', '20:14', 'cecilia', 'foiled', 'catcheth', 'acknowledges', 'tookest', 'fetich', 'perplex', 'converge', 'surveyed', 'ledyard', 'grand', 'cush', 'sale', 'persevered', 'similitude', 'dodging', 'inheritor', 'extorted', 'throne', '11:32', 'splendor', 'pethor', 'mountain', 'etta', 'reside', 'pornography', '49:25', 'eleve', 'election', 'sunk', 'includes', 'libni', 'feast', 'prop', 'pitying', 'bbc', 'dangerous', 'friesland', 'anguish', 'ingulfed', 'hephzibah', 'symmetry', 'panted', 'comparative', 'glen', 'learnedly', 'condemns', 'epigram', 'waltz', 'reapest', 'subsisted', 'ladder', 'gadget', 'shunammite', 'capability', 'inhabitant', 'vassal', 'classed', 'lothario', 'trading', 'commemorates', '37:7', 'welfare', 'knockes', 'grappling', 'last', 'despairing', 'phase', 'fejee', 'vegetation', 'cheeke', 'cavalcade', 'plough', 'putting', 'hinder', 'wreathed', 'decoration', 'hiv', '16:2', 'exudes', 'obdured', 'unpersuadable', 'bethinking', 'speedily', 'changest', 'scotland', 'progressing', '21:15', 'clot', 'match', 'selection', 'testing', 'microcosm', 'tartan', 'thanked', 'irritated', '29:4', 'surprising', 'bribing', 'sparkled', 'accidental', '18:14', 'cringing', '6:64', '63:10', 'mislead', 'cortana', 'chock', 'pathetically', 'listening', 'humbled', 'protect', 'wharf', 'endured', 'introduces', 'feasted', 'saffron', 'constrained', 'hydrogen', 'comely', 'astonish', \"affear'd\", 'galaxy', 'epaulette', 'is--', '2:13', 'selleth', '122', 'wile', '3:11', 'sealing', 'unfolded', 'buckingham', 'drain', 'thessalonica', 'moralist', 'squeezing', 'eerie', 'but', 'distress', 'fireside', 'construe', 'suffrage', 'strengthening', 'upwind', 'rhythmus', 'stay', 'blacklist', 'horatio', 'ophel', 'bow', 'contemplate', 'convulsively', 'religious', 'furniture', 'archy', 'unfulfilled', 'bared', 'saboteur', '37:8', \"crown'd\", 'hoby', 'dissolute', 'document', 'cherith', 'drinking', 'thereto', 'fasted', '47:19', 'caver', 'reckless', 'crier', 'marin', 'oar', 'demure', 'brunswick', 'venezuela', 'ejaculated', 'detest', 'ky', 'merest', 'jungle', '3:48', 'disastrous', 'nogah', 'imbibed', 'ditty', \"obseru'd\", 'laish', 'tormenting', 'parrying', 'outlast', 'calculating', 'honoring', 'discouraged', 'quarry', 'america', 'howle', 'accomplice', 'denieth', 'terrace', 'animal', 'belmont', 'dangle', 'panting', 'heterogeneous', 'hear', 'tweezer', 'ramah', 'wroth', 'publicity', 'resource', 'banged', 'roughest', 'slantingly', 'unfeigned', 'coffee', 'bloated', 'curved', 'waleed', 'faire', 'unmasking', 'jabez', 'caw', 'corrupters', 'shad', 'suit', 'rewriting', 'refinement', 'sparkle', 'unreasonably', \"o'that\", 'lucky', '4.0', 'arresting', 'framing', 'pedophile', 'widely', 'prophet', 'kirjathsepher', 'kangaroo', 'sunken', 'hereabout', 'gritted', 'doctor', 'jr.', 'eateth', 'reasonable', 'potipherah', '12:38', 'likeness', '20:31', 'recognizing', 'spectacle', 'alaska', 'gilding', 'wriggle', 'ranged', 'reveals', 'tempered', 'very', 'soldier', 'assures', 'widened', 'ont', 'meat', 'thirsteth', 'xix', '1380', 'foreshortened', 'tear', 'kronos', 'congenital', 'chastisement', 'searchest', 'gayety', 'start', 'owns', 'thickest', 'foundering', 'gazez', 'boot', 'scandalous', 'holiest', 'ironical', 'slender', 'biscuit', 'uzal', 'doric', '10:41', 'tentacle', 'reducing', 'bloodshed', 'crown', 'unremoved', 'ruined', 'ripped', '32-billion', 'maxine', 'piratical', 'eat', 'ambassadorship', 'golan', 'celebrating', 'tracking', 'forcing', 'upstart', 'hang', 'creaking', 'billionaire', 'accidentall', 'libertad', 'crispus', 'vermilion', 'superbly', 'welding', 'contraceptive', 'ferocious', 'manhattanese', 'partaking', 'inarticulate', 'kneele', 'took', 'ao', 'fork', 'inspires', 'keepes', 'philanthropic', 'macy', 'whorish', 'maute', 'tistig', \"o'ryan\", '10.6', 'peaking', 'outset', 'moist', 'vestibule', 'deepens', 'authentick', 'unhappiness', 'kee', 'mypillow', 'mare', 'coiled', 'pecking', 'nearest', 'gloom', '39:24', 'precedes', 'loatheth', 'cole', 'jam', 'ensign', 'allurement', 'shealtiel', 'stonewall', 'vouchsafed', 'alternatively', 'spectre', 'cornered', 'apronful', 'time', 'obstacle', 'covering', 'congrats', 'topic', 'apnewsbreak', 'bursal', '7:59', 'kohathites', 'tharshish', 'wheat', 'yeomanry', 'listened', 'commendeth', 'lofty', 'durham', 'contrary', 'leisure', 'relation', 'giles', 'uprisen', 'bon', 'lima', '27:1', 'anymore', 'submitted', 'hardware', 'clitus', '28:14', 'grappled', '73', 'refrained', 'forecastle', 'sweeter', 'soldiours', 'centenary', 'eliakim', 'reply', 'barnardo', 'topple', 'moose', 'elbow', 'queerest', 'touted', 'soprano', 'tying', 'practically', 'checked', '23:32', 'scrap', 'bouton', 'law', '38:18', 'rim', 'monica', 'nc', 'invoked', 'whooping', 'poised', 'jay', '10:46', 'unfeeling', '4:48', 'toyota', 'pipe', 'ozzy', '91', 'jotbathah', 'digesting', 'fra', 'bronze', 'composing', 'volubility', 'fatally', 'involuntary', 'hirah', 'pelonite', '                                              ', 'primrose', 'moulded', 'partaker', 'filial', \"caress'd\", 'preached', 'experienced', 'tranquilly', 'averts', 'worry', 'flew', 'abishur', 'leahy', 'pedee', 'vitality', 'encampment', 'nonviolent', '11:6', 'pan', 'spitefully', '1:27', 'thrush', 'posset', 'dogged', 'joy', 'inured', 'youngster', 'barbed', 'restlessness', 'sentest', 'j.', 'frantic', 'snatched', \"harden'd\", 'clover', 'balmy', 'material', 'cuckow', 'corpulent', 'allusion', 'incoherent', 'censure', 'seminal', 'florida', 'reinstate', 'limber', 'e', 'cinnamon', 'deluge', '21:7', 'unload', 'eligibility', 'reward', 'dislocated', 'outrider', 'cantabella', '15:53', 'magnificent', 'radar', 'retrospect', 'walt', 'clipped', 'iealousie', 'inconvenience', 'lamb', 'triumphed', 'apologise', \"detain'd\", 'gilboa', 'friend', 'sojourn', 'peskov', 'fortune', 'contralto', 'revery', 'consults', 'unsound', 'preparation', '1851', 'helam', 'spleen', 'fascist', 'customer', 'brindled', 'analytica', 'dandified', 'falles', 'wheugh', 'kindles', '2:26', 'murderous', 'maitland', 'venetian', 'clockwork', 'reviled', 'allah', 'prolonging', 'courtyard', 'stuns', 'big', 'thinking', '32:36', 'output', 'publike', 'dramatic', 'abbey', 'continue', 'arrowroot', 'untying', 'pomona', 'nba', 'outstretching', 'snared', '18:21', 'skrimshander', 'disclaiming', 'balaam', 'stupidest', '46:28', 'vnsanctified', 'elasah', 'dictated', 'drowsiness', 'descended', 'deborah', 'lunacy', 'veritas', 'battaile', 'soothe', 'terrorism', 'elicits', 'b.', 'plowdon', 'complimented', '25:30', 'cillizza', 'pallor', 'decision', 'hacking', 'neck', 'lambe', 'almanac', 'transient', 'fitting', 'jehoshaphat', 'clicked', 'toth', 'circumnavigation', 'afraid', 'nineteenth', '52:4', 'pace', '43:17', 'ferocity', 'grecian', 'justly', 'atmosphere', 'manassites', 'thewes', 'doting', 'inhabiteth', 'surface', '301', 'guardian', 'salah', 'xinjiang', 'whew', 'grisham', 'gileadites', 'sticky', 'weather', 'rejoice', 'seedes', 'growled', 'therefrom', 'nears', '2005', 'richard', 'impetus', 'gathered', 'watching', 'hallow', 'unsuccessfully', 'conceal', 'macduff', 'saddle', 'theorist', 'telegram', 'anchored', 'shema', 'psychiatrist', 'fema', \"o're\", 'punitive', 'gusto', 'holder', '138,000', 'splitting', 'brush', 'giggle', 'direst', 'greenpeace', 'picking', 'fearest', 'emphasis', 'affording', 'member', 'premonitory', 'exasperating', 'suffocate', 'condemneth', 'cope', 'hop', 'greenspan', 'tubal', 'peak', 'affrighted', 'calais', 'hieroglyphic', 'yellow', 'knowist', 'jephthah', 'dispatched', 'prospered', 'retaining', '26:17', 'dissembled', 'melchi', 'clapped', 'searchable', 'creepeth', 'n.', 'eternity', 'gard', 'advancement', 'resteth', 'habaiah', 'duc', 'bannister', 'hair', 'scaffolding', 'accepted', 'false', 'dismal', 'meehan', 'lease', 'exoneration', 'electioneering', 'noble', 'soften', 'cadwallader', 'gosar', 'careless', 'presidential', 'fitbit', 'monday', 'delay', 'twentieth', 'bestir', 'dre', 'omnibus', 'hie', 'engrossed', 'thiel', 'handmaiden', 'reprobating', 'magnetic', 'climate', 'nonsensical', 'frequently', 'convict', 'patrimony', '94', 'altered', 'hul', 'landskip', 'requited', 'vocation', 'oliveyards', 'instantaneously', 'restoring', 'subscriber', 'tiller', 'interim', 'register', 'bask', 'route', 'laughably', 'n.korea', 'gloss', 'absently', 'neighed', 'confrontation', 'majestic', 'record', 'blackish', 'postponed', 'acquire', 'parkland', 'taking', 'keystone', 'ahasuerus', 'hysterical', 'student', 'impartially', 'upgrading', 'domestic', '10:4', 'treaty', 'spreading', 'traitor', 'twitter', 'throat', 'connoisseur', 'elder', 'ran', 'relied', 'rash', 'refugee', 'queerer', 'netting', 'venezuelan', 'plight', \"roll'd\", 'migron', '3:40', 'fleeting', 'fruitful', 'plowman', 'annulment', 'alias', 'cavil', 'wheelerite', 'shoddy', 'communed', 'giues', 'byrnan', '101', 'subtlety', 'inclement', 'exhortation', 'assignes', 'alexa', 'trench', 'stilled', 'torre', 'shriek', 'binnui', 'valour', \"lull'd\", 'drawes', 'fondest', 'cornelius', 'somewhere', 'carrying', '33:6', 'hoboyes', '230', 'alienated', 'quoth', 'reactivated', \"linger'd\", 'wiretapped', '2:50', 'strewn', 'demy', 'foster', 'artemidorus', 'unlearned', 'durand', 'newfoundland', 'graveyard', 'vhs', 'cordiality', 'twinning', 'signaling', 'stopped.--emma', 'tabitha', '59:6', 'exploitation', 'reason', 'desirous', 'relates', 'craues', 'despise', 'derides', 'vnbraced', 'indomitableness', 'destructive', 'greefe', 'uncovereth', 'bake', 'seiu', 'sooth', 'wearieth', 'pox', 'girt', 'cautiousness', '1870', 'nominated', 'deepfake', '17:6', 'swift', '4:33', 'engrossing', 'mattithiah', 'reshaping', 'rerunning', 'shortage', 'grindr', 'zabdiel', 'crawl', 'heere', 'applied', 'paratrooper', 'waved', '13:54', 'menace', 'benevolently', 'construction', 'guzzling', 'utterly', 'draft', 'samson', 'ioyfull', 'planed', 'papa', 'jamming', 'cuckoo', 'devastated', 'relearn', 'adult', 'spectacular', 'climax', 'abusive', 'ann', 'needlessly', 'humph', '15,000', 'locust', 'manger', 'salcah', 'dy', 'admonished', 'article', 'inkhorn', 'mistris', 'inactive', 'database', 'demolishing', 'imlah', 'asserted', 'stemmed', 'arrival', 'resembled', '48:8', 'loveliest', 'accord', 'danced', 'delighted', 'malcolme', 'transformation', 'excrement', 'arsenal', 'slave', 'peddle', \"ceas'd\", 'somewhat', 'rice', 'launching', 'governed', 'senaah', 'older', 'dependence', 'cosy', 'unaccountable', 'armourbearer', 'conscientiously', 'watereth', 'seated', 'teaching', 'raspberry', 'ints', '              ', 'heareth', 'bloodiest', 'desireth', 'newer', 'suing', 'aiah', 'comparable', 'bethbarah', 'hating', '        ', '23:4', 'cooper', 'sycamore', 'biography', 'blesseth', 'relaxed', 'mapple', 'adequately', 'martha', 'hansom', 'wooded', 'slide', 'valley', 'firmly', 'rabbath', 'icelandic', 'hyena', 'variously', 'bosnia', 'medeba', 'nepheg', 'certainly', '30:30', 'hospital', 'mahath', 'breached', 'ewe', '15:55', 'mutual', '1,055', 'my', 'it.--', 'discord', 'homage', 'chilean', 'dante', 'dedicated', 'excellently', 'fringed', 'custodian', 'scorn', 'steamship', 'mealtime', 'conway', '2008', 'teazing', 'coppola', 'ethiopia', 'demigod', 'bulge', 'yesty', 'whereunto', 'constellation', 'kedemoth', 'likelier', 'audibly', 'inaudibly', 'unsightly', 'peaceful', 'fortunately', 'pierced', 'basis', 'bashaw', 'hello', 'valerie', 'expounded', 'bethhoglah', 'baseball', 'dunghill', 'binding', 'hughes', 'feeble', 'antarctica', 'enacted', 'humming', 'intertwined', 'neighbour', '451', 'hethlon', 'deprive', 'twopence', 'sturdily', 'toad', '1988', 'olfactories', 'bishop', 'truncheon', 'bind', 'miscreant', 'bucket', 'firefox', 'shobab', 'instinctive', 'civilly', 'matter--', 'teazed', 'rejecting', 'lint', 'keeping', 'instructs', 'contemptibly', 'almighty', 'intensifies', 'weston--', 'mower', '27:32', 'erik', \"unreturn'd\", 'bullied', 'breathing', 'panel', 'spicer', \"should'st\", 'commendable', 'oho', 'warmed', 'mushi', 'inventing', \"lean'd\", 'inquire', 'appetite', 'squad', 'prophesieth', 'holon', '32:32', 'padon', 'face', 'chuse', 'house', 'wantest', 'mitigate', 'blueprint', 'traverse', 'conspiracie', 'booing', 'pooley', 'registry', 'complexity', 'gainst', ' ', \"unsurpass'd\", 'vex', 'allegation', 'dexterous', 'newspaper', 'harosheth', 'backfiring', 'senor', 'ishtob', 'distension', 'donned', 'appealed', 'portal', 'peal', 'infuriate', 'tranquo', 'armes', '6:68', 'undulates', 'responsible', 'fie', 'exalted', 'were', 'gaff', 'credit', '11:33', '22:50', 'perceive', '4:24', '26:20', 'anarchist', 'routing', 'innovative', 'liued', 'poem', 'forsaketh', 'rebuilding', 'sedate', 'matriarch', 'caddy', 'd.', '66:9', '17:37', 'wavering', 'unethical', 'governing', 'civil', 'paunch', 'brightened', '11', 'delusion', 'rethink', 'powres', 'parsley', 'betharabah', 'falne', 'guile', 'tepid', 'vividly', 'knave', 'carlo', 'whet', 'huffington', 'manchon', 'dropsy', 'halter', 'instrument', 'incessantly', 'necessitie', 'done', 'swearing', 'vastness', 'serjeant', 'mightest', 'harpooning', 'ascend', 'trey', 'choller', 'shawshank', 'mission', '37:16', 'nasal', 'appellation', 'hell', 'swamp', 'alone', 'solvent', 'stripe', 'sposo', 'e.r.a.', 'dislodged', 'consuming', 'recounted', 'bethjeshimoth', 'synagogue', 'average', 'him;--and', '36:37', 'disturbing', 'rolled', 'deep', '12:21', 'cider', 'rebuts', '48:26', 'challenged', 'sweetly', 'jane', 'euclid', 'chrysalis', 'humiliate', 'filming', '12:8', 'backchannel', 'swoop', 'purporting', '11:36', 'lock', 'stomping', 'villars', 'jeopardy', 'manet', 'hungering', 'eshcol', 'stooping', 'defective', 'maintain', 'here?--', 'belched', 'conformity', 'brahmin', '49:26', 'sprightly', 'out--', 'jihadist', 'abandoning', 'tawny', 'chafed', 'subsequent', 'era', 'undoing', 'zerahiah', 'tola', 'nibbling', 'aholibamah', 'garden', 'copy', 'spoiling', 'producer', 'dixon', '32:16', '56:4', 'cabby', 'zenith', 'resurgence', 'endangering', '8:13', 'grim', 'drenched', 'watchdog', 'atrocity', 'unpatriotic', 'abstracted', 'sylph', 'amusing', 'leprosy', 'span', 'schoolmaster', 'resolutely', 'bloodie', 'sparkes', 'yoest', 'oscar', 'ungracious', 'fretted', 'pekee', 'sagaciously', '3.6', 'thing.--', 'frieze', '44:1', 'gamming', 'miletus', 'lucillius', '140', 'bosome', 'xx', 'photographer', 'miss', '7:53', 'cormorant', 'bun', 'twisting', 'weakly', 'falleth', 'aholibah', 'pith', 'shuddering', 'mounting', '25:38', 'pollution', 'sorted', 'rind', 'stephen', '39:23', 'hereof', 'twined', 'blooded', '15:28', 'stability', '7:38', 'combine', 'revival', 'sweepe', 'slipped', 'picker', 'upbraid', 'graue', 'inland', 'knitted', \"ha't\", 'convulsion', 'nakedly', 'meah', 'spurres', 'chaste', '15:7', 'trainee', 'durst', 'lane', 'kremlin', 'blacke', 'clutch', 'tarrying', 'frontrunner', 'lewis', 'gerar', 'norway', 'unilateralism', 'ivah', 'samoa', 'cnn', 'beamed', 'tlaib', \"fear'd\", 'vice', 'weepest', 'liverpool', '20:15', 'paved', 'himselfe', 'coriander', '16:46', 'bridewell', 'plagued', 'diurnal', 'calendula', 'narragansett', '35:6', 'thrust', 'lowd', 'weeps', 'silence--', 'awakening', 'airline', 'exploded', 'pay', 'democracy', 'zac', 'claret', 'strictest', 'b', 'elijah', 'tory', 'tenth', '11:19', 'leanness', 'tranque', 'sentimentally', 'joint', 'qui', '15:1', 'daniel', 'firme', 'thaddaeus', 'mayest', 'puerto', 'venturing', '45:11', 'desmarest', 'civilization', 'momentary', 'schedule', '22:20', 'temp', '39:1', '2,000', 'whistle', 'provident', 'swalwell', 'crafty', 'senselesse', 'fooling', 'outlet', '65:8', 'canaan', 'joosy', 'reprove', 'written', '1-on-1', 'narrating', 'stagger', 'legitimate', 'margaret', 'makeup', 'fray', 'un', 'careworn', 'necklace', 'coleman', 'grupello', 'intricacy', '100k', 'earnings', 'cyclist', 'maelstrom', 'page', 'dreamily', 'familiarly', 'euerie', 'dolphin', '38:31', 'negro', 'sneaked', 'mischievous', 'assorted', 'sheweth', 'rulest', '15:50', 'beast', 'gentleness', 'malfunction', 'ravenous', 'wray', 'minnesota', 'intermits', 'catalonia', 'stolne', 'sure', 'healeth', '42:15', 'sympathise', 'slant', 'keith', '7:39', 'puppet', 'nuclear', 'deliriously', '41:4', 'austere', 'godhead', 'panicking', 'abishag', 'jaazaniah', 'zeboim', 'bogus', 'profile', 'qatar', '8:30', 'line', 'poore', 'penetrating', 'formless', 'flax', \"untouch'd\", 'naive', 'warred', '8:19', 'resurrection', 'maxim', 'abuser', 'sick', 'lemonade', 'mp', 'attract', 'harboring', 'throttle', 'promised', 'absurdity', 'geologist', 'desultory', 'ryan', 'basketful', 'bodyguard', 'valiant', 'oracle', 'skinnes', 'ki', 'lapsed', 'cube', 'acknowledging', 'persecutest', 'spends', 'quarrel', 'draper', 'untidy', 'visiting', 'gazer', 'unexpected', 'fleshy', 'knell', 'flickering', 'turnpike', 'sinned', 'rondure', 'canariensis', 'claudia', 'inflating', 'fellowsoldier', 'overtime', 'impregnable', 'nothingness', '20-year', 'damaging', 'easier', 'annual', 'xiaomi', 'shield', 'adria', \"poyson'd\", 'imago', 'tartarean', 'so?--', 'traceable', 'original', 'dnc', 'reich', 'desirest', 'went', 'contusion', 'sternest', 'adummim', 'loiter', 'sevenpence', 'morning', 'morbidness', 'repenteth', 'onpolitics', 'abelbethmaachah', 'notre', 'reminds', 'breaking', 'initiate', 'brexiteers', 'shaved', 'delicacy', 'leisurely', 'tampering', 'mused', 'slackness', 'z', '10,872', 'communicated', 'bennington', 'florid', 'stiff', 'uttering', 'deign', 'ned', '22:33', '37:12', 'aggravate', 'explosion', 'differently', '7:32', 'fly', 'awl', 'alarmed', 'ahaziah', 'collective', 'owned', 'vse', 'houshold', 'rottenness', 'fillest', 'probable', 'longed', 'jahazah', '12:17', 'aimed', '41:32', 'ambush', 'brother', 'uncompleted', 'redoubled', 'gina', 'mexico', '9:25', 'studious', '14:42', 'nightgown', \"arous'd\", 'altitude', 'professe', 'dramatist', 'nickelodeon', 'firm', '27:26', 'inflicted', 'recede', 'sedentary', 'louisianian', 'murmur', 'perverse', 'catarrh', '17:11', '26:34', 'ambitious', '15:10', 'preferable', 'snipe', 'cooked', 'breakdown', 'undivided', 'feeding', 'globe', 'cautioning', 'ives', 'implicitly', 'churned', 'iron', 'barb', 'mercifully', 'dishonestly', 'eyewitness', 'size', 'mouthed', 'kingship', '@cnn', 'missionary', 'weakened', 'widow', 'dawned', '13:57', 'worcestershire', 'rarity', '16:34', 'france', '27:31', 'justified', 'darken', 'dystopia', 'at&t', 'pinkett', 'scorch', 'blows!--there', 'grappler', 'fisherman', 'trusty', '38', 'hawkins', 'hero', 'noted', 'zuberi', 'venial', \"honour'd\", 'spaniel', 'ornament', 'unharming', 'send', 'attacking', 'admin', 'fiercely', 'euents', 'serenity', 'aggravation', 'flourisheth', 'gonzalez', 'anybody', 'rabbi', 'adoration', 'tush', 'mouthes', 'ragged', 'attended', 'shakespere', 'nicole', 'roger', 'oftentimes', 'edited', 'whoremonger', 'schooling', \"was't\", 'neriah', '2002', 'reorganization', 'fretful', 'spurning', 'galeed', 'glory', 'at', '4:27', 'politely', 'conclusive', '25:44', 'eber', 'lb', \"refus'd\", 'barron', \"wip'd\", 'resent', 'coupled', '55:6', 'pete', 'baboon', '8:14', 'joby', 'the', 'obtains', 'spired', \"soil'd\", 'upstage', 'distinguished', '3:20', 'iniquity', 'valueless', 'electrical', 'designate', 'shewn', '787', 'retreating', 'modern', 'pitiful', 'surged', 'happened', 'accommodation', 'rigidity', 'creative', 'hereditary', 'alphabet', 'naughtiness', 'poison', 'poorest', 'benevolence', 'rehob', 'opposed', 'tyranny', 'cursed', 'assented', 'flare', '29:35', 'elk', 'rushy', 'dived', 'screamed', 'running', 'nectar', 'toilsome', 'blessing', 'spacious', '59', 'knocke', 'opposition', 'antisemitism', 'squirrel', 'ouercame', 'cruiser', 'strolling', 'coronation', 'agagite', 'disgraceful', 'symbolised', 'sudden', 'fresher', 'urania', 'pallace', 'tantrum', 'drooled', '50:17', 'centaur', \"drugg'd\", 'oversaw', 'ligarius', 'entangled', 'kylo', 'hollen', 'yo', 'post-9', 'jawed', '7:22', 'magic', 'speck', 'wistful', '4:20', '8:10', 'divulged', 'doatingly', 'secessionist', 'albert', 'except--', 'g-7', 'thrilling', 'switzerland', 'killer', 'scratched', 'soda', 'survey', 'fellowservants', 'enthusiasm', '47-year', 'obeyeth', '16:38', '14:5', 'aijalon', '7:24', '17:32', 'hariph', 'nomination', 'gabriel', 'uncaught', 'ventriloquist', 'bacteria', 'striving', 'romanza', 'swooned', 'dominating', 'peter', 'gingerbread', 'trumpet', 'guantรกnamo', 'ithrite', 'set', 'indestructible', 'pottery', 'deadly', '98.5', 'shockingly', 'captivate', 'counsell', 'threaded', 'whisked', \"seiz'd\", 'puttest', 'graduation', 'grievance', 'santos', '49:16', 'september', 'poll', 'quake', 'approving', 'empowered', 'advocacy', 'astley', 'learner', 'rave', 'abnormal', 'derbe', 'buttoning', 'hanged', 'wise', '9:2', 'reborn', 'pissed', '50:4', 'ronald', 'strain', 'anyone', 'tweed', 'copeland', 'truer', 'vp', 'oft', 'offspring', 'bee', 'cadiz', 'gilt', 'commandingly', \"renew'd\", 'blasphemy', 'upend', 'swiss', 'sallied', \"saunter'd\", 'waning', 'hemlock', 'hypothesis', 'unconstitutional', 'prosing', 'cobbling', 'panteth', 'kavanaugh', 'muddy', 'groped', 'pesant', 'desist', 'grease', 'stumble', 'hangeth', 'alleging', 'unwell', 'giver', 'shipmaster', 'restrain', 'reefed', 'manipulation', 'dwellingplace', 'ma', 'nudge', 'meeting', 'knoll', 'gem', 'reddish', 'vintage', 'gentlemanly', 'foresight', 'kathmandu', 'restricts', 'wenzel', 'oblong', 'story', 'split', 'now----', 'spouter', 'mining', 'yeares', 'plateau', 'slippery', 'stallone', 'immunity', 'vestige', '41:20', 'broker', 'inforced', 'marred', 'nautical', 'variable', 'fowl', 'dealing', 'canallers', 'ernani', 'press', 'uncertainty', '2:44', 'prouokes', 'desperately', 'floundered', 'barn', 'cordon', 'meadow', 'sticking', 'passive', 'finer', 'blundered', 'taliban', 'technically', '49:6', 'pedestrian', '64:1', 'north', 'usurp', 'shewedst', 'eziongaber', 'impertinent', 'naarah', 'grasped', 'properest', 'baalah', 'nethinims', 'bawling', 'accumulating', 'upland', 'revengeth', 'berkshire', 'confounds', 'flogged', 'disrupt', 'army', 'hinnom', '1825', 'uprightly', 'poncho', 'fourfold', 'supported', 'proudly', 'misuse', 'loth', '65:2', 'descend', 'takest', 'seoul', 'malaysia', 'marchant', 'invalidate', 'prophetic', 'associate', 'pendulous', 'blue', 'punishing', 'yazidi', 'unfriendly', 'vindictively', 'ignoring', 'chest', 'veers', 'guadalajara', '1:46', 'jeremiah', 'conduit', 'degree', 'deale', 'proved', 'bateses', 'benhadad', 'disposable', 'insincerity', 'arsacides', 'repealing', 'psychologically', 'eighty', '32:42', 'briar', 'greeted', 'osha', 'concentric', 'computed', 'dimension', 'lone', 'jerking', 'lep', 'fiendish', 'lurch', 'dewdrop', 'feminist', 'chosen', 'mahalath', 'hostile', 'dumb', '8:1', 'chaperon', 'avenge', 'with', 'dogge', 'marking', 'afar', 'sneaking', 'taketh', 'saveth', 'oleg', 'contrasted', 'her', 'selectest', 'licence', '44:18', 'interviewed', 'keleti', 'overspreading', 'lendeth', 'liked', 'ironwork', 'stardust', 'grounded', 'daycare', 'payuphollywood', 'physic', 'downright', 'coined', 'multiplied', 'backwoodsman', 'banked', 'proportion', 'rough', 'let', 'dejected', 'languish', 'continuance', 'grenfell', 'coax', 'combative', 'unreleased', 'robocalls', 'indented', 'oblation', 'impossibility', 'pondering', 'sarai', 'holdout', 'kovrig', '19:25', 'circumstantial', 'advanced', 'biofuel', 'gamesmanship', 'budge', 'kedemah', 'successfully', 'brow', 'linked', 'asserts', 'slumbering', 'loses', '1,800', 'scrambled', \"deseru'd\", 'cavalry', 'forged', 'elevate', '47:22', 'eliud', 'hairy', '10:5', '24:38', 'nazi', 'smooth', 'lazar', 'confusingly', \"help'd\", 'chinaman', 'finsb', 'fault', 'greenly', 'freshened', 'mystick', 'tricke', 'volley', 'decrease', 'unkempt', 'guileful', 'inaugurate', 'gale', 'annum', 'wine', 'regular', 'attendance', 'always', 'pensive', 'etna', 'inaccurate', 'stirring', 'time--', 'confession', '31:28', 'implicating', 'outlaw', 'presage', 'enclose', '44:20', 'gripe', 'civics', 'horonite', 'arcturus', 'fainteth', '2:10', 'skylark', 'infectious', 'withinside', 'talb', 'exuberant', 'swede', '5:33', 'glint', '2:38', '7:27', 'wayfaring', 'pepe', 'comming', 'prepared', 'tack', 'scan', 'noontide', '23:45', 'parcel', 'whirlpool', 'redeeming', 'serried', 'macron', 'barke', 'zaccur', 'deem', 'involve', 'meete', 'controuersie', '15:57', 'thug', 'dapper', 'shilonite', '34:34', 'evermore', 'unalterable', 'jehoshabeath', 'montaigne', 'after', 'chairwoman', 'fewest', 'forefather', 'indefinite', 'shoaling', 'henchman', 'him--', 'revolver', 'death', 'sctv', 'inconsiderately', 'stimulus', 'specious', 'spool', '18:16', 'flutter', 'meere', 'adamantine', '3.2', '2:19', 'accursed', 'leading', '61:3', 'flake', '33:13', \"clear'd\", 'excluding', 'prythee', '4:28', '23:31', 'generic', 'indiaman', 'admit', 'acquainted', 'spurnes', 'salvation', 'taunt', 'amariah', 'killeth', '5:32', 'targeting', 'larboard', 'debut', \"buoy'd\", '2019', '50:1', 'sister', 'playfellow', 'ajalon', 'jerubbaal', 'fedallah', '23', 'walke', 'fool', 'intends', 'o’riordan', 'joyous', 'dart', 'manned', 'airport', 'uranium', '15:39', 'babe', 'securing', 'escalation', 'steele', 'tormented', 'pronouncing', 'temporary', 'relevant', 'laden', 'zobah', 'stout', 'unspoken', 'gent', 'coverlet', 'shelomith', 'whaleboat', '2:18', '4:23', 'plummet', 'falconroy', 'zoba', 'randomly', 'quota', 'nill', 'flapped', 'dardanius', 'legality', 'nineveh', 'cryptocurrency', 'demonstration', 'intense', 'sickening', 'texture', 'seraphims', 'ghosn', 'upsetting', 'degenerate', 'sprain', '25:23', 'lily', 'lancet', 'indulge', 'warlord', 'clue', '29:26', 'fulfilment', 'preuent', 'speculative', 'swaddling', 'tiptop', 'meerely', '5:3', 'analyse', '8:26', 'thud', 'engraven', 'goodman', 'embankment', 'edible', 'unappalled', 'editorial', 'provender', '6:40', 'phenicia', 'ipads', 'ottoman', 'ehang', 'flush', '1:30', 'buoyancy', 'orderly', 'pang', 'guilty', '39:19', 'rosemary', 'lack', 'schoolfellow', 'mistreatment', 'slanderer', 'metaphysical', 'bubbling', 'purifieth', 'paphos', 'adherent', 'beggers', 'emerald', 'beleeue', 'sawn', 'mid', 'renew', 'corkscrew', 'milliner', '27:35', 'putnam', 'illinois', 'wince', 'poure', 'rid', 'vtter', 'liketh', 'promisedst', 'reluctantly', 'sendest', 'riblah', 'vornado', 'gaiety', 'singed', 'deathbed', 'blasphemous', 'strung', 'cool', '47', 'cath', 'boiled', 'rainy', 'tit', 'despite', 'feel', '58:1', 'dirtied', 'minced', 'towing', 'overpowers', 'shelby', 'deliverance', 'trice', 'ebb', 'harping', 'jogged', 'reynol', 'devours', 'shly', 'anyways', 'humid', 'executioner', 'prominently', 'magnify', 'chris', 'jacket', 'asking', 'strive', 'borrowing', 'forfeiture', 'diligent', 'paper', 'gully', '8:6', 'sofa', 'dismiss', 'revel', 'revelation', 'brilliancy', 'concert', 'thereunto', 'guiltiest', 'apartment', 'abandonment', 'pressuring', 'enjoyment', 'sultry', 'outed', 'steep', 'joker', 'playbook', 'snugly', 'how', 'caterpiller', 'westworld', 'enrage', 'preach', 'knocketh', 'boycotting', \"o'reilly\", 'physicist', 'robinson', 'coverup', 'postscript', 'avenging', '35:16', 'pennsylvania', 'similarly', 'modest', 'insensibility', '36:9', 'one', '26:60', 'collins', '7:43', 'telegraph', 'sweden', 'enchanter', 'maintained', 'durable', 'bother', 'cunning', 'distempered', 'ripple', 'cleansed', 'prostitute', 'independently', 'order', 'possibility', '1828', 'neighbor', 'wilfulness', 'puzder', 'honored', 'mibsam', 'tracked', 'fumble', 'marijuana', 'truant', 'zidon', '66:6', 'fairy', 'epilepsy', 'eaglet', 'sinew', 'gloried', 'debated', '71', '51:6', 'emmet', 'perisheth', 'shobach', 'package', 'honor', 'belial', 'man!--and', 'care,--_but', 'axe', 'excuse', 'antipathy', 'gig', 'drums!--blow', 'glazed', 'pleated', 'troll', 'placeless', 'respected', \"dispos'd\", 'mcconaughey', \"refresh'd\", 'meditate', 'perjury', '48:3', '34:27', \"they'l\", 'amphitheatre', 'issue', 'shop', 'swarming', 'mummery', '66:12', 'eschylus', 'congratulations.--', '66:7', 'hussey', 'deliverer', \"c'est\", 'sandy', 'blackmailer', 'soleimaini', 'aluminum', 'dominica', 'hinge', 'horsepond', 'wiretap', 'crozetts', '10:23', 'vanquished', 'mistress', '31:30', 'waistcoat', 'synod', 'hardened', 'terrible', 'songwriter', 'enforce', 'sufficiently', 'sweete', 'frequent', 'spencer', 'grossness', 'determined', 'eccentricity', 'carriest', 'huffpo', 'michaelmas', 'assuming', 'commonalty', 'frederick', '44:28', 'unfavourable', '30:24', 'greyhound', 'embargo', 'bastille', '9:41', 'rioter', 'chile', 'sand', 'smuggle', 'huddled', 'raping', 'unemployed', 'chimney-', 'technology', 'companion', 'bosomes', 'liue', 'incomprehensible', 'handsomest', '29:17', 'bewail', 'guarded', 'describes', 'gluten', 'quarter', 'collapse', 'natal', 'ignited', 'suppression', 'crowding', 'begin', 'x.', '1:2', 'augurers', 'gayly', 'aaliyah', 'friendly', 'revenger', 'handy', 'war', 'traffick', 'archibald', 'smarting', 'farwell', 'doth', 'vttered', 'amplitude', 'remembrance', 'concealeth', 'branch', '49:24', 'lehabim', 'routine', 'temperance', 'justling', \"bestow'd\", 'heroically', 'hiring', 'yojo', 'despicable', 'grew', 'lofgren', 'dakota', 'magnifying', 'satiate', '18:4', 'ellen', 'leuies', 'column', 'tactic', 'bowed', 'bled', 'lyric', 'undiscoverable', 'fragmentary', 'tartar', 'tenney', 'inimitable', '44:27', 'ton', 'kirheres', 'undignified', 'digression', 'vulnerability', 'conclusion', 'train--', 'begs', 'deciding', 'literal', 'sony', 'heauenly', 'grinning', 'our', 'latchet', 'herodians', 'pleiades', '17:25', 'plighted', 'addeth', 'absolutely', 'suspended', 'enjoyed', 'malvoli', '43:19', 'compiles', 'candidly', 'procreant', 'doobie', 'richmond', 'obelisk', 'antothite', 'rearing', 'ser', 'louing', 'broughtest', 'driuen', 'susan', 'fraternal', 'chaff', \"purg'd\", 'graham', 'energy', 'disdainfully', 'ahira', 'craziest', '26:49', 'sylvan', 'retirement', 'graceful', 'equating', 'cheerfulness', 'album', 'paralyze', 'perished', 'thresh', 'irrepressible', 'spred', 'saddled', 'appertained', 'look', 'turned', 'jailbird', 'agrees', 'maga', 'retailer', \"strew'd\", 'dandy', 'christmas', 'littleness', 'five', 'click', 'fun', 'detached', 'mellower', 'pretended', '42:24', 'cieled', 'footstool', '3:23', 'unemployment', 'capitalism', \"bear't\", '27:24', 'girth', 'coachman', '22:25', 'simpler', \"embalm'd\", \"stirr'd\", 'tendinous', 'commodious', 'remorse', 'liquor', 'wearying', 'footloose', 'pershing', 'tibni', 'priestly', 'producing', 'hapless', 'muscular', '9:40', 'unthankful', 'resolving', 'disclosed', 'teacher', 'speech', 'mayor', 'unobtrusive', 'ranging', '40:9', 'disgustingly', 'emptied', 'information', 'participation', 'f-35s', 'melanie', \"splinter'd\", 'endanger', 'chargeable', 'rebuketh', 'gorgeously', 'diploma', 'island', 'truck', 'insinuation', 'micha', 'tumult', 'moonshine', 'cicatrice', 'alice', 'windrows', 'clattering', 'reauthorization', 'spud', 'code', 'doct', 'sibbald', 'rejoiceth', 'keanaissance', '52:5', 'specksynder', 'jaywalking', 'search', 'compromise', 'nash', 'finalist', 'sauce', '22:11', 'briefing', 'separateth', 'racking', 'alexandrian', 'interminably', 'faltered', 'disdained', 'solving', 'ides', 'ordinary', 'ditto', 'trapper', 'azzah', 'jozabad', '5:35', 'swears', 'forecast', 'filter', 'investigated', 'puissant', 'bloodshot', 'mercifull', 'plodding', 'smith', 'referring', 'happen', 'hauteur', '4', 'assaulting', 'shorn', 'restraining', 'unluckily', 'exonerated', 'crag', 'cartload', 'sho', 'romeo', 'fertiliser', 'serviceable', 'nom', '17:13', '42:12', 'slimy', 'scrapped', 'writhed', 'unit', 'refill', 'coniure', 'galilee', 'tusk', 'zephyr', 'countess', 'posture', 'successful', 'attuned', 'desolation', 'voltumand', 'brat', '23:29', 'soueraigne', 'money--', 'pioneer', '8:51', 'jacobite', 'kaluuya', 'haran', 'partiality', 'mystified', 'gerrymandered', 'pirate', 'enrichment', 'presently', 'overhear', 'obliterated', 'core', 'it;--but', 'peculiarly', 'spout', 'encloses', '11:9', \"preserv'd\", 'breaker', 'contrition', 'broidered', 'deafening', '23:8', 'statue', 'islander', 'arrives', 'lung', 'gilbert', 'retract', 'disease', 'significant', 'raven', 'ended', 'collusion', 'football', 'smoked', 'venereal', 'meronothite', '24:21', 'strew', 'mocked', 'alights', 'responsibility', 'seldom', 'bank', '9:48', 'comfit', 'change', 'corpse', 'hip', 'beard', 'train', 'immovable', 'firepans', 'snorted', 'meeke', 'takeoff', 'sycophant', 'ruin', '16:49', 'gob', 'eddy', 'shopkeeper', '34:7', 'brigade', \"bak'd\", 'loue', 'roasteth', 'nomad', 'monotonously', 'inconceivable', 'communicating', 'penis', 'feud', 'flowing', 'but--', 'kindnesse', 'jared', 'thirsted', 'moonlit', 'knowing', 'incited', 'popillius', 'disturbance', 'beguiled', '14:24', 'notified', 'canvas', 'tripadvisor', 'directs', 'forcibly', 'na', 'tuft', '50:6', 'edifying', 'heigh', 'stunted', 'mastering', 'heavily', 'scattered', 'goe', 'scar', 'aptitude', 'decease', 'annulled', 'lara', 'uninsuredrepublican', 'honeysuckle', 'it--', 'rose', '24:36', 'azores', 'hummed', 'shephatiah', 'bursting', 'nt', 'sneeze', 'fog', 'toiled', 'ireton', 'exchanged', 'wef', 'gennesaret', 'ziklag', 'octagon', 'counter', 'apparation', 'bench', 'feverish', 'judge', 'convicted', '44:8', 'filledst', 'gravely', 'backstory', 'addressing', 'seraiah', 'propontis', 'carried', 'bankruptcy', \"thank'e\", 'gouerne', '10:36', '6:24', 'quentin', 'goodwin', 'featureless', 'bribery', 'weave', 'betrays', 'autumnal', 'anticke', 'bulkington', 'resist', 'obededom', 'swisserland', 'barnacled', 'ru', 'unimportant', 'uncouth', '44:16', '13:50', 'scream', '28:30', 'aminadab', 'brook', 'ingratitude', 'piling', 'graver', 'sorting', 'briskness', 'slack', 'markle', 'livelong', '19:46', 'pounded', 'geshurites', 'feele', 'sheeny', 'harbour', 'cart', 'cromer', 'buzzfeed', '39:15', '10:14', '--holland', 'shuffle', 'unanimously', 'gaffe', 'ebook', 'preceding', 'anarchy', 'enlisted', 'tumultuously', '7:13', 'paternal', 'crookedly', 'rosamond', 'serial', 'considered', 'piebald', 'incurring', 'quells', 'enamelled', 'larkins', '15:22', 'mcsally', 'palate', 'doomsday', 'sibley', 'pike', 'lordship', 'immer', 'traumatized', 'wildely', '50:11', 'bamboo', '11:17', 'dauntless', 'shading', 'cinque', 'october', '800', 'mafia', 'barren', 'inconsiderate', 'betokening', 'vnderstood', 'inequality', \"vrg'd\", 'vax', 'pathetic', 'prevails', 'collected', 'encrease', 'tuned', 'surrealist', '1:41', 'fair', 'tucker', 'qualcomm', 'smartphones', 'criticised', 'feeder', 'rapped', 'merchandise', 'bedlam', 'thoughtful', 'dick', 'desertion', 'uphill', 'thereabouts', 'smyrna', '57:9', 'collecting', 'quench', 'fleshly', 'winning', 'habitable', 'towering', 'visitor', 'chuckle', 'davis', 'hemisphere', 'unserious', 'dmz', 'conniving', 'brut', 'bulldozer', 'altamahaw', 'criminalizing', 'con', 'contiguous', 'demeaning', '1:50', '48:27', 'thomas', 'cloth', 'alms', 'doubted', 'fleeth', 'now;--', 'only', 'this?--what', '13:49', 'mansoul', 'seneca', 'her.--this', 'tweetstorm', 'resisteth', 'bharara', 'quiver', 'vineyarder', '25:45', 'humouredly', 'frog', 'boarded', 'jumping', 'faithless', 'hamper', 'legges', 'dynasty', 'zabad', 'wel', 'princess', 'allee', 'venture', 'meek', 'cemetery', 'hammered', 'nz', 'rebell', 'credited', 'fareed', 'downwards', 'fermented', '7:47', 'settee', 'desperado', 'vntill', 'battled', 'custard', 'sukur', 'villa', 'surest', 'ribai', 'geofence', 'debbie', 'fleecy', 'reeking', 'kuo', 'zinke', \"depress'd\", 'peanut', 'performance', 'leftist', 'normal', 'nibbled', 'wench', 'entrails', 'conspired', '14:4', '39:8', 'negligent', 'afflicting', 'burdensome', 'need', 'enormously', 'penknife', 'offensively', 'reviling', 'brag', 'diddled', 'rinsed', 'puck', '17:22', 'taxing', 'jump', 'hurtful', 'daintiest', 'theron', 'gleaned', 'chalice', 'traversed', 'aladdin', 'gooseberry', 'pudding', 'exhilaration', 'tob', 'warble', 'fern', \"whate'er\", 'instrumental', 'new', 'shorten', 'breastplate', 'howard', 'detains', 'wasteth', 'laertes', 'nez', 'rapier', 'high', 'esquimaux', 'turf', 'forsaking', 'treated', 'rideth', 'proximity', 'rebound', 'spiritless', 'undesignedly', 'crossly', 'curiouser', 'way:--', 'scamper', 'dryad', 'triple', 'wealthiest', '84', 'navigation', 'pursues', 'a--', 'confidence', 'busied', 'bandit', 'coral', 'booth', 'censor', 'nostril', 'sheba', 'moth', 'tinder', 'monitor', 'extremely', 'overdoses', 'persuasion', 'clung', 'deceitful', 'savest', 'disgorging', 'onesimus', 'laugh', 'risen', 'rotten', 'worketh', '24:26', 'advocate', 'presidentiad', '65:11', 'profoundly', 'riphath', 'lighthearted', '31:33', '202', 'enviest', 'besiege', 'sal', 'coolly', 'gallipagos', 'drugger', 'sophereth', 'tossed', 'boisterous', 'newshour', 'disappearing', 'arphad', 'edit', 'dairy', 'ceylon', 'russet', 'patiently', '24:34', 'withered', 'unlawful', 'advance', 'insane', '16:50', \"endear'd\", 'whatsapp', 'peaked', 'sake', 'solicited', 'slumbered', 'deserved', 'beor', 'hygienic', 'owing', 'visitant', 'starship', 'tired', 'rubbish', 'felix', '18:12', '6:62', 'pluckt', 'vapor', 'lobbyist', 'gunmaker', 'political', 'beate', 'combining', 'amasa', 'quo', 'averred', 'tranquillity', 'mystical', 'hawaii', 'believe', 'wreath', 'cheerfuller', 'quarantine', 'explicit', 'dragging', 'professes', 'transcendentalism', 'abhor', '--thomas', 'marrow', 'slime', 'unbarred', 'subiect', 'offend', 'eliza', 'griefes', 'purring', 'gray', 'abounding', 'saipan', 'ultimately', 'unmethodically', 'lengthen', 'railroad', '2:7', 'assassinated', 'connector', 'asketh', 'exerted', '7:58', 'indorsement', 'servility', 'dime', 'rudimental', 'weeding', 'swiftest', 'shrunk', \"pois'd\", 'gazette', 'earthen', 'slump', 'shetland', '26:38', 'conuert', 'slouched', 'dedan', 'assumption', 'intricate', 'tobijah', 'flourish', 'labrador', 'williamson', 'bengal', '24,473', 'hind', 'archbishop', 'bestseller', 'wink', 'shipped', 'presentable', 'dispossessed', 'insinuating', 'rbg', 'asher', 'plain', 'approve', '49:28', 'lam', 'sovereign', 'bathroom', 'establishing', 'satisfaction', 'provincial', 'countryman', 'volt', 'overhearing', 'dragged', 'detective', 'cruelest', 'tactful', 'meribah', 'ratify', 'blackface', 'reioyce', '48:22', 'lucil', 'hud', 'assay', 'bethzur', 'walk', 'cancer', 'popped', 'serene', 'abundantly', 'peopled', 'soweth', 'cologne', 'helped', '20:1', 'musky', 'buffet', '7:56', 'richer', '54:4', 'spokesman', 'iceberg', 'invulnerable', 'reserved', 'greasy', 'fanshaw', 'jingling', 'redress', 'gluttonous', 'kuwait', 'gathering', 'shunning', 'charmingly', 'beauty', 'handing', 'horse', 'doat', 'tourist', 'crazy', 'pated', 'equiuocation', 'wronged', 'brine', 'villaines', 'zealand', 'temper', 'beareth', 'elon', 'landau', 'ignore', 'cly', 'ivory', 'walla', 'pretext', 'kemuel', 'unactive', 'rep', 'yemen', 'stale', 'vowest', 'devouring', 'squid', 'unruly', 'indeed!--i', '5:36', \"travel'd\", 'treasonous', 'incarnate', 'grammar', 'overhanging', 'streep', '61:2', 'ephesian', 'taskmaster', 'andrew', 'famed', 'taanach', 'effeminate', 'amoz', '50:15', 'sensibly', 'sincere', 'galilaean', 'buttigieg', 'odin', 'ophrah', 'gorse', 'sentimental', 'gaol', 'overflowed', 'entreaty', 'dinosaur', 'rory', 'lambent', 'exert', 'manna', 'bodily', '3:14', 'spilled', 'p.m.', 'mock', 'bondman', 'burying', 'habitan', 'kaspersky', 'expands', 'pluck', '22:5', 'pitteous', 'knot', 'fetching', 'cota', '4.7', 'refreshed', 'juryman', 'mercy', 'missourian', 'homestead', 'sloth', 'swoon', '22:44', 'dearer', 'web', 'emailing', 'whoredom', 'massacre', 'fye', 'exclusiveness', 'assassinate', 'impendent', '21:26', '21:24', 'antagonist', 'rehab', '41:8', 'goodness', 'convinced', '3:19', 'gateshead', 'remoue', 'creating', 'originate', 'owl', 'epstein', 'chose', 'kensington', 'replace', 'cleanseth', 'shaking', 'unsolvable', 'l.', 'advertiser', 'jesty', 'hanameel', 'jarred', 'bombay', 'unkindly', 'lustful', 'prompting', 'jashub', 'baser', 'prosperous', '                                             ', 'rereward', 'frequenting', 'shemer', 'gallied', 'fancied', 'joiner', 'tolerating', 'studio', 'oman', 'popups', 'dover', 'crook', 'fuel', 'illuminating', 'lap', 'stealthily', 'wrap', 'successively', 'dasheth', 'convicting', 'lineament', 'flattening', \"weather'd\", 'dedicating', '34:5', 'hurricane', 'ruinationed', 'sanctuary', 'exclaimed--', 'inclined', 'ocean', 'severely', 'qualifier', 'illuminated', 'insincere', 'no', 'livingly', 'buttressed', 'conservation', 'execrable', 'upturned', '5:13', 'writhing', 'enderby', 'pry', 'ecuador', 'closure', 'loss', 'altogether', 'concerneth', 'them,--', 'xiaobo', 'overpowering', 'disguise', 'oregonese', 'novelty', 'samaritan', 'distributed', 'denny', 'castle', 'nationwide', 'jehoiachin', '36:25', 'sincerity', 'maker', 'crescent', 'seemly', 'brightly', 'flexible', 'both', 'destroyeth', 'viscount', 'haue', 'reduce', 'seating', 'circumference', 'shulamite', 'lefthanded', 'distinctive', 'womanly', 'selfies', 'buildest', 'populace', 'whitebait', 'coal', 'ouercome', 'unholy', 'pleasanter', '11:50', 'effrontery', 'resettle', 'kellen', 'servest', 'permission', 'bichri', \"mad'st\", 'infringement', 'brigandine', 'affection', 'unloose', 'stoical', 'seethe', 'reddening', 'bearer', 'music', 'cowboy', 'chasteneth', 'see', 'supernal', 'reluctance', 'policing', 'scripture', 'marlborough', 'topless', 'display', 'insufficient', 'comfort!--', 'boko', 'zebul', '32:22', 'weare', 'parliament', 'beverly', 'summer', 'treatment', 'me!--oh', 'gratefully', '21:35', 'milano', 'belittle', 'pow', 'blowout', 'pap', \"disclos'd\", 'believer', 'recoiled', 'asphaltic', 'busby', 'twoedged', 'endeavour', 'just', 'gallows', 'untrodden', 'soros', 'squeezed', 'iealous', 'ari', 'crumpled', 'spelt', '24:32', 'tidiness', 'pained', 'deference', 'fbi', 'sequel', 'regional', 'cornell', 'churning', 'igniting', 'introducing', 'mattock', 'memorie', 'returnes', 'apoplexy', 'whatsoever', 'brokenhearted', 'rebuke', 'obstinately', 'dave', 'path', 'midway', 'evening', 'stricken', 'phallic', 'boxing', 'boil', 'consistence', '5:23', 'sobbing', 'broadband', 'adaiah', 'thoughtlessness', 'legislature', 'a24', '17:2', 'revolution', '19,000', 'sol', 'compulsion', 'splash', 'rolling', 'oppidan', 'happening', \"wee'l\", 'shakespeare', '24:22', 'hyperborean', 'elise', 'lunge', 'awkwardness', 'unwanted', 'emblazonings', 'embellished', 'dating', 'correspondence', 'hookah', 'godlike', 'morrow', 'ministring', 'starboard', 'occasionally', 'bulky', 'allured', 'immature', 'dissertation', 'depicting', 'doomesday', 'irradiate', 'wisher', '32:6', '590', 'motioned', 'oxycontin', 'tube', 'organisation', 'fatality', 'chenaniah', 'laura', 'quid', 'ahaz', '1', 'squat', 'unobserved', 'livery', 'jeopardizes', 'teachest', 'shropshire', 'congratulatory', '31:22', 'carmelite', 'thirtyfold', 'abolish', 'reproveth', 'introduce', 'despatched', 'businessmen', 'soone', 'dalrymple', 'sword', 'cruelly', 'seventeen', 'halloo', 'commends', 'exult', 'compete', 'fictional', 'undertone', 'lookalikes', 'mop', '36:23', '430', 'broadminded', 'mule', 'nguyen', 'grampus', 'adopting', 'sisera', 'senseless', 'palest', 'isolate', 'hadar', 'comicall', 'proposal', \"air'd\", '23:14', 'ala', 'walker', 'mount', 'bigotry', 'eloquence', 'combination', 'disannul', 'grecia', 'publican', '500th', 'soap', '24:51', 'really', 'slothfulness', 'possession', 'eminent', 'bequeathed', 'agreeably', 'style', 'zoology', 'dryness', 'fluffy', 'undressing', 'promiscuously', 'catcher', 'undesirable', 'overcoat', \"ruin'd\", 'disappoint', 'seuen', '1,100', 'pinckwerts', 'admission', 'overlooking', 'leaner', 'vertebra', 'tilleth', 'buy', 'despaired', 'formulate', 'succour', 'dray', 'mound', '3:24', 'tortuous', 'probe', 'phineas', 'jonadab', 'membership', 'peacock', 'muffled', '32:5', 'elated', 'aft', 'opec', 'steyer', 'readie', 'shatters', 'investor', 'wert', 'unimpaired', 'rampant', 'accepting', 'optimized', 'bartholomew', 'weird', '7:36', 'restoration', 'cankerous', 'centrifugal', 'colbert', 'bustling', 'fourfooted', 'questioning', 'qanon', 'erdogan', 'spermacetti', 'filament', 'greeting', 'family', 'manufacturer', 'selfsame', 'pent', 'rainbowed', '21:19', 'porridge', 'shrivel', 'schmidt', 'ligature', 'threatening', 'fabled', 'dere', 'blinding', 'immutable', 'threatenings', 'feelings--', \"alarm'd\", 'putin', 'privately', 'portion', 'parisian', 'secundus', 'flaw', 'yonnondio', 'rendred', 'wesson', 'autopsy', '43', 'sequent', 'lovingkindness', '5:8', 'endlessly', 'matthan', 'unc', 'frenchman', 'potency', 'stand', 'shifted', '39:26', \"may'st\", 'breathe', '28:5', '29:28', 'decides', 'pourtrayed', 'ablution', 'jagged', 'onset', 'home', 'buz', 'mastectomy', 'purim', \"wish'd\", 'picturesque', 'acte', 'growne', 'porn', 'escaped', 'secluded', 'impassioned', 'parmacetty', 'leaveneth', 'bend', 'stash', 'increasingly', 'of.--', 'sympathising', 'athens', 'babyish', 'superficial', 'planing', '46:8', '6:43', '42:16', 'shamir', 'revealeth', 'prickt', 'erreth', 'poo', 'fathomless', 'fronting', 'hanani', 'portsmouth', 'elizaphan', 'resorting', 'uncreate', 'shoeless', 'jumble', 'hackluyt', '6:27', 'embarrass', 'ginnethon', '21.2', 'danites', '8:48', 'inlet', '8:38', 'francis', 'enjoins', 'leer', 'carved', 'preceded', '1865', 'try', 'parnas', 'fellow', 'command', 'commoner', 'strength', 'hofeller', 'mended', 'hearkened', 'mumps', 'migration', 'shewes', 'float', 'brie', 'upwards', 'upholdeth', 'magnet', 'brewed', '47:15', 'shabaab', 'panelled', 'with--', 'puffeth', 'pigeon', '34:29', 'waving', 'language', 'reuel', 'bemoans', 'gryphon', 'buttered', 'hairless', 'thought,--', 'ev', 'pulpit', 'beachy', 'guiding', 'noxious', 'merry', 'affability', 'mistaken', \"thrill'd\", 'yangtze', 'pat', '6:66', 'psychotic', 'foremast', 'dismasted', '9:18', 'four', 'magnanimity', 'flicker', 'o’keefe', 'gentile', 'priuate', 'bashemath', \"press'd\", '19:13', '176', 'slunk', '3,045', 'scant', 'hartfield--', 'acute', 'yearly', '6-year', 'rosincrane', 'amativeness', 'merrick', 'belongs', 'juliet', 'elected', 'phantasm', 'portfolio', 'part', 'methodic', 'tame', 'nutrition', 'membrane', 'lehi', 'sweeper', 'crib', 'familiar', 'abode', 'hormuz', 'differed', 'simplicity', 'outskirt', 'neatly', 'ignored', 'igal', 'embarrassed', \"conceiv'd\", 'outfit', 'blizzard', 'languished', 'mesut', 'answereth', 'broward', 'planner', '15:3', '4000', 'malchiel', 'economist', 'insatiable', 'reprehensible', 'leverage', '3:41', 'leaped', 'discontent', 'meditating', 'arming', '36:30', 'sadducee', 'sheshach', 'smartly', 'pirro', 'northward', 'adah', 'approximately', 'wilkinson', 'lowness', '43:22', 'beaver', 'croquet', '49:19', 'sphere', 'imponderable', 'sprung', \"receiv'd\", 'conservatism', 'protestant', 'bringer', 'hightened', 'wearily', '350', 'profounder', 'tahan', 'forefinger', \"fashion'd\", 'complains', 'hoar', 'inquisitive', 'berlin', 'pharaohnechoh', 'proverb', '$', 'madai', 'afrin', 'swarthy', 'degrading', '15:13', 'obeys', 'copiously', 'chi', 'breathest', '48:24', 'talked', '20:27', 'obsessed', 'malay', 'readiest', 'embalm', '41:15', 'colouring', 'modified', 'degrade', 'champing', 'askew', 'palsy', 'wit', '36:15', 'jeshua', '31:31', 'shaphat', 'struggling', 'adin', 'passenger', 'vlcerous', 'booze', 'oath', 'fourscore', 'cloister', 'central', 'promotion', 'amber', 'aclu', 'helpless', 'representation', 'discloses', 'knaue', 'rigour', 'heretic', 'partisanship', 'stinking', 'strenuous', 'gaudy', 'eden', 'recused', '32:2', 'sanitary', 'heaved', 'freedome', 'writ', 'overlaid', 'discoloured', 'frankely', '60:4', 'waterest', 'searched', 'iudicious', 'outspoken', 'instability', '59:1', 'contriving', \"distill'd\", 'exultingly', \"pardon'd\", '23:12', '12:49', 'inevitably', 'rail', 'stem', 'creed', 'shadowed', 'ravishment', 'manahethites', 'depose', 'icon', 'fining', 'freeman', 'radiation', 'possum', 'siberia', 'that--', 'portable', 'trampling', 'ducked', 'settling', 'afric', 'husband', 'lizza', \"o'rourke\", 'fell', 'euery', 'exhibited', 'jem', 'charming', 'generously', 'enterest', 'rhetoric', 'surcharged', 'wished', 'corrected', 'manager', 'coin', 'garnished', 'wilderness', 'olde', 'intervene', 'obeisance', 'braugher', 'mournfully', 'congratulate', '17:1', 'likened', 'duelling', 'peep', 'hushathite', 'n.y.', 'refers', 'minde', 'adopt', \"condemn'd\", 'ave', 'eton', '43:10', 'wretched', 'clothes', 'discipline', '29:1', 'martyrdom', 'imitating', 'interrupted', 'nitre', 'chill', 'refraction', 'flex', 'citigroup', 'withdrawn', 'edomites', 'harmful', 'intensely', 'agonizingly', 'tied', 'mahlah', 'shaky', 'pardon', 'souvenir', 'scalded', '52:3', 'foreknowing', 'changeth', 'isidore', 'attached', 'samlah', 'strucke', 'deserving', 'federico', 'imbecility', 'poly', 'fauours', 'bred', 'crucifixion', '33:18', 'dotty', 'supercharged', 'delude', 'louder', 'wework', 'typhoon', 'tilde', 'rage', 'colourless', 'procuring', '36:19', 'pursued', 'rebelled', 'imparts', '37:33', 'land', 'flees', '53:1', \"rul'd\", 'masonry', 'insanity', 'amp', 'he', 'vestment', 'hullabaloo', 'racket', '51:1', 'kishon', 'delineate', 'reappeared', 'kayleigh', 'word', 'aromatic', 'ramothgilead', 'corrupted', 'sobered', 'worrisome', '19:8', 'displeased', 'audacity', 'crossed', 'armour', '46:27', \"ribb'd\", 'scaled', 'tarshish', 'fallacy', 'slouching', 'monstrosity', 'agreeth', 'sh*t', 'dazzlingly', 'foam', 'stronger', 'massy', 'wrapt', 'bent', 'flashing', 'shuppim', 'righ', 'salmon', '23:41', 'defends', 'hearke', 'demand', 'celebrity', 'calved', 'lydda', 'phoo', 'loft', 'blumenthal', 'addiction', '26:27', 'alistair', 'brute', 'remaineth', 'beckham', 'all!--you', 'warding', 'gospel', 'rheumatic', 'previous', 'great', 'justice', 'allons', 'coasting', 'zso', 'fishy', 'employing', 'revilings', 'chanter', 'gaba', 'rinne', 'prettiest', '20:34', 'joiada', 'padrona', 'pb', 'benaiah', 'improperly', 'prepossessing', 'misinformation', 'enmity', '~', 'are', 'sped', 'skin', 'inch', 'recognized', 'cuvier', 'dismissing', 'played', 'ineffably', 'parish', 'banish', 'waggish', 'desart', 'deified', 'discordant', '43:9', 'breakwater', 'wheeler', 'unwounded', 'dignity', '24:48', 'contingency', 'blubber', 'lank', 'bandaged', \"unclaim'd\", 'playoff', 'forerunning', '462', 'idiot', 'integrative', 'fiona', 'bowel', 'oaken', 'intermix', 'boycott', 'magicke', 'encompass', '40:14', 'hailed', 'fellowlabourer', 'sbirri', 'needlework', 'expediency', 'british', 'oded', 'remembers', 'equine', 'mean--', 'sylvester', 'hilt', 'tutor', 'socially', 'play', 'calling', 'iustice', 'retiring', 'ensample', 'muse', 'threadbare', 'recovered', 'ould', 'frustration', 'endow', 'chafing', 'pail', 'telleth', 'lunged', 'unforced', 'agency', 'naasson', 'dawlish', '3:7', 'chorus', 'voice--', 'plunged', 'knowes', 'washing', 'pod', 'autumn', 'hateful', 'influencer', 'continues', 'cabin', 'unionization', 'aboord', 'unused', 'tassel', '16:44', 'extort', 'enticed', 'exposing', 'dryly', '35:13', 'gainsaid', 'windowes', 'izhar', 'melting', 'tumble', 'vista', 'weak', 'genetic', 'sorely', '11:14', \"ow'd\", 'lethe', 'hungary', 'boy', 'o’reilly', 'contenting', 'renewable', 'renting', 'contempt', 'pimple', 'initiative', 'waxen', 'wittier', 'myrrh', 'harpoon', 'shipmate', '21-year', 'energetic', 'kidney', 'sudanese', \"did'st\", 'colony', 'bros.', 'ebenezer', 'feuillage', 'movement', 'envious', '170', 'doeth', 'legislate', 'heavyweight', 'disfavour', 'thick', 'morn', 'slim', 'monstrous', 'personal', 'parentage', 'enjeti', '7:46', 'splutter', 'decreed', 'statute', 'caressed', 'weleakinfo', '10:31', '                       ', 'tribal', 'assai', 'rebrand', 'procured', 'council', 'reared', 'brilliantly', 'stefanik', 'roku', '18:37', 'heapeth', 'wane', 'sinne', '38:1', 'sitar', 'prow', 'mcmaster', 'erickson', 'mget', 'chronicle', 'programme', 'adopts', 'absents', 'peta', 'wilmore', 'ashtaroth', 'grating', 'reconciled', 'restricted', 'sadoc', 'ponder', '3:12', 'goggles', 'sorrowed', 'affinity', '14', 'dominant', 'shithole', 'bobbing', 'splendid', '19:48', 'swordsman', 'taxed', 'peremptory', 'walsh', 'popil', 'training', 'conjuring', 'tonne', '20:40', 'alertness', 'elector', 'steale', 'contentious', 'conspicuously', 'pincer', 'variation', 'deplorable', 'stretcht', 'bragge', 'hararite', 'practice', '2017', 'natur', 'handmaid', 'yarmouth', 'ugliness', 'traced', 'esculent', 'shortsighted', 'axios', 'washerwoman', \"seal'd\", 'ecstatic', '29:29', 'indescribably', 'hanun', 'audrey', 'potion', 'undocumented', 'overlooked', 'nominates', 'daggoo', 'clinking', '34:8', 'stood', 'frustrated', 'delegate', 'so', 'commentator', 'fumed', 'canelo', 'admeasurements', '31:34', 'mulligan', 'rewrite', 'care', 'minister', 'cataract', 'turbulence', 'branching', 'crutch', 'camille', 'matsushima', 'staging', 'tel', '4:30', 'chaplain', 'mosque', '30th', 'armhole', '5-time', 'icloud', 'wot', 'detect', 'basement', 'townsend', 'dwarf', 'insulated', 'amash', 'stealthy', 'dobbs', 'waded', 'subsided', 'trolling', 'emerods', '36:14', 'flexibility', 'defiance', 'crowbar', 'bard', 'coordinated', 'gabbard', 'flop', 'assume', 'volum', 'budget', 'gunfire', 'courteously', 'gibeonite', 'canary', 'proprietary', 'esarhaddon', 'gory', 'wang', 'revolters', 'breezy', 'steroid', 'troway', \"fix'd\", 'accomplish', 'enhances', 'unconditional', 'jackass', 'relative', 'bezos', '<', 'geshuri', 'pillow', \"unsurvey'd\", 'presentment', 'mesopotamian', 'prudent', 'succeeds', 'checkered', 'delicate', 'whomsoever', 'shake', 'portici', 'thyself', 'tarah', 'savory', 'reliably', 'occupant', 'rhea', 'leviathanic', 'indisputable', 'problem', 'tampon', '8:7', 'habit', 'corporal', 'been', 'unsolicited', 'ccp', \"remember'd\", 'resorted', '21:22', 'winslow', 'widen', 'instinct', 'abigail', 'elapsed', 'comfortable', '16:33', 'cleverness', 'returne', 'westward', '30:7', 'achaia', 'magistrate', 'stationary', '35:11', 'backward', 'carefulness', 'sulphur', 'maternity', '40:13', 'sadly', 'copestone', 'sidney', '435', 'doorless', 'purely', 'joke', 'source', 'haggai', 'kossabone', 'referred', 'hindu', 'rape', 'buzzing', 'sajid', 'finishing', 'cartel', 'conservative', 'dome', 'consider', 'meaneth', 'macbeth', 'signet', 'distantly', 'hiram', 'obedient', 'rooke', 'predominance', 'victress', \"belov'd\", 'steny', 'alt', 'maidservant', 'strip', 'pr', 'ecological', 'grossenmark', 'unaccountably', 'homewards', 'exerting', 'myriad', 'hec', 'alehouse', 'rhenish', 'jaw', 'siddim', 'cooky', 'lever', '2:22', 'bound', 'citoyens', 'essential', 'hyde', 'would', 'lightest', 'doing', 'coarse', 'charted', 'repatriated', 'suspense', 'lipinski', 'million', 'unsolved', 'deviation', 'encouraging', 'reciprocal', 'lioness', '25:9', '36:38', 'utterance', 'breasting', 'baton', 'eric', 'performing', 'draweth', 'unlocked', 'peru', '3-d', 'cathaian', 'rifle', 'falsified', 'octa', \"deceiu'd\", 'gideon', 'cyber', 'sayes', 'biggest', 'tramping', 'stock', 'disapproved', 'reprover', '16:36', '180-degree', 'fulham', 'drake', 'landscaper', 'vessel', 'jehoiada', 'weapon', 'libidinous', 'jacob', 'ashantee', 'microscopic', 'repaire', 'slowly', \"plac'd\", '17:31', '29th', 'vindictive', 'texan', 'knauish', 'postpones', 'gore', 'contemplating', '1.ple', 'abhorrence', 'portentous', 'clinch', 'dimmer', 'thaw', 'signed', 'ballet', 'delectable', 'file', 'metrical', 'odd', '9:47', 'algiers', 'sandusky', 'mladic', 'placard', 'pendant', 'abimael', 'event', 'exterminated', 'nonpolitical', 'preside', 'mithredath', 'finality', 'wild', 'calendar', 'satan', 'stronghold', 'baltic', 'deathless', 'craven', 'snuffed', 'disbelieve', 'knoweth', 'lookes', 'remission', '17:33', 'instructor', 'pul', 'conceived', '24:7', 'buries', 'nowadays', 'usurping', 'outsider', 'unsatisfactory', 'tasting', 'dispersing', 'ezza', 'antisemitic', 'pureness', 'stiffened', 'me,--it', 'panelling', 'meeteth', 'sunlight', 'haggle', 'unapparent', 'unreal', 'respite', 'priebus', 'riven', 'tag', 'curiously', 'ramp', 'horribly', '15:8', 'totok', 'hooking', 'lippes', 'quack', 'procure', '30:22', 'frankly', '14:37', 'peleth', 'botched', 'claudio', 'employee', \"handcuff'd\", 'wollemi', 'gentleman', 'seize', 'ford', 'hesperus', 'chambermaid', 'greenhouse', 'say', 'devin', 'unbecoming', 'shaster', 'solander', 'er', 'jezreelite', 'opposes', 'recognise', '26:19', 'unsounded', 'hospitalized', 'transcend', 'wallis', '6:26', 'yesternight', 'wilde', 'memphis', 'interlude', '31:2', \"damn'd\", 'omen', 'elsonower', 'socoh', 'seekest', 'aspire', 'halved', 'asylum', 'parking', 'ill', 'ivy', 'maple', 'loathsome', 'expansion', 'roving', 'anab', 'besieged', 'ruled', 'boundless', 'interpol', 'extasie', 'succoured', 'feelest', '29:2', 'melt', 'teargas', 'handwritten', 'scaramouch', 'mindedly', 'elishua', 'vote', 'higher', 'brooklyn', 'hesitated', 'adoniram', 'roof', 'h.', 'plowed', 'receptacle', 'cobl', 'anthem', 'constituent', 'stein', 'eludes', 'thronging', 'randy', 'transgression', '24:46', 'rwc2019', 'defyingly', 'disconcerted', '629', 'burne', 'waned', 'contriuer', 'mu', 'spammer', 'dismisses', \"ne're\", 'mountaines', 'broke', 'baleen', 'there', 'shone', 'turning', 'dey', 'oven', \"sat'st\", 'publish', 'crowing', 'showing', 'gopers', 'romance', 'cutteth', 'pittsburgh', 'milton', 'airth', 'fighteth', 'appealing', 'sapphire', 'gold', 'gardening', 'diverse', 'bushel', '4:1', 'bounding', 'harvard', '14:28', '4.8', 'stirre', '2010s', '32:31', 'erelong', 'wending', \"rack'd\", 'diverted', 'surlily', 'sensibility', '14:21', 'woken', 'trailing', 'incompatible', 'privacy', 'purposely', 'ventilation', 'barrowful', 'psalmody', 'amputation', 'city', 'pooh', 'player', 'aliment', 'fellowship', 'withholdeth', 'atrocious', 'brushed', 'indomitable', 'inflaming', 'menpleasers', 'hearest', 'pebble', '39:10', '400', 'forsooth', '33:32', 'ray', 'smocking', 'begets', 'jewellery', '20:33', 'quits', 'amalekite', 'farm', 'demolition', 'rigging', 'alarm', 'possibly', 'throated', 'lameness', 'phoenix', 'undetected', 'josedech', 'hin', 'cnbc', '32:1', 'mortall', 'launch', 'solicitously', 'irritably', 'pricke', 'rattled', 'serue', 'proceeding', 'heat', '6:30', 'headland', 'rico', 'jerahmeel', 'moloch', 'persevering', 'probability', 'antioch', 'abundance', 'telephone', 'promptly', 'wonderous', 'arcade', 'kore', 'betoken', '55:9', '15:54', 'unintelligent', 'fritter', 'vertically', 'mizzah', 'cook', 'intermission', 'organized', 'recording', 'served', 'witted', 'dreaming', 'ascertaining', 'proclamation', 'physician', 'starry', 'dawdling', 'explores', 'goodbye', 'blackmail', 'satisfied', 'save', 'infallible', 'disappears', 'manhandled', 'withdrawing', 'pilotless', 'oarsman', '235', 'flounder', 'milder', 'wicker', '50:21', 'broadly', 'tearful', '4th', 'valor', 'tolling', 'soon', '21:39', '41:3', 'staircase', 'cholera', 'profaned', 'dripping', 'doores', 'prayses', 'flee', 'kirsten', 'magdalene', 'doublet', '32:10', 'mete', 'congratulating', 'expressive', 'harvesting', 'fainting', 'situation', 'mouthful', 'gen.', '26:26', '16:26', 'opal', 'eleasah', 'distributing', 'extorting', 'vault', 'indicited', 'ode', 'mayst', 'wolff', 'dodger', 'show', 'bleak', 'demoralized', 'nodding', 'repay', 'tawn', 'norland', 'immersed', 'startled', 'allied', 'dominates', 'coterie', 'josias', 'truculent', 'olympic', 'emit', 'upholden', 'expeditiously', 'nazarene', '41:16', 'trifling', 'pharez', 'faultless', '36:3', 'trampled', 'sojourned', 'adapted', 'feares', 'wrinkle', 'stander', 'estimation', 'rodrigo', 'weazell', 'influenced', 'schiavone', 'worm', '7:35', 'supping', 'paralyzed', 'sumptuously', 'charmer', 'professed', 'despatch', 'sew', 'metled', 'bubble', 'participated', 'chick', '57:5', 'gederoth', 'glad', '65:13', 'desirable', \"perform'd\", 'christianity', 'literature', 'exile', 'jethro', 'speedy', \"'em\", 'developer', 'steam', 'winefat', 'mishandling', 'burial', 'ballad', '2:41', 'jocularity', 'abject', 'lot', 'subduing', 'playfulness', 'lifetime', 'sitter', 'cornaro', 'grizzly', '31:46', 'heartily', 'could', 'shemiramoth', 'fertile', 'elihu', 'stablisheth', 'lurching', 'defining', 'unionize', 'argued', 'fashioned', 'homeowner', 'fossiliferous', 'dccc', 'sinning', 'cadaverous', 'lexicon', 'bytedance', 'coincide', 'extoller', 'devastating', 'rascall', 'aha', 'daunting', 'ayatollah', 'champaign', 'vamp', 'antitrust', 'hailstone', 'birnane', 'amazon', 'quaff', 'nervously', 'cottage', 'kisse', 'advert', 'assailed', 'hakan', 'minion', 'academy', 'visible', 'eilidh', 'lowered', 'not', 'ant', 'steve', 'consumes', 'shirtless', 'formed', 'chug', 'sultanism', 'aduantage', 'wife', 'ascendeth', \"sinn'd\", 'inscrutable', 'halyard', 'booke', 'bash', 'lose', 'monarch', 'uzzielites', 'electronically', 'main', 'dissolved', 'rifled', \"awak'd\", 'proposest', 'clanking', 'inexpressibly', 'blasio', '23:25', 'bridled', 'listlessness', 'pharma', 'choice', 'designe', 'donation', 'azmaveth', 'defibrillator', 'lepidus', 'conquest', 'garner', 'affirmed', 'scarred', 'church', 'fury', 'regularly', 'purging', 'phantom', 'journalistic', 'birch', 'conflagration', 'colder', 'lockdown', 'reader', 'crispy', 'belied', 'rhodes', 'rosette', 'sawce', 'paralytic', 'obtain', 'lunatic', 'equator', 'backtracks', 'permitting', 'blacker', 'belongest', 'mastercard', 'froome', 'liberation', 'trebonius', 'disability', 'azaziah', 'plowshare', 'londoner', '40:8', 'misconduct', 'supplicating', 'disappointed', 'monologue', '1:34', 'rung', 'blear', 'povelson', 'abidan', 'lecture', 'solid', 'seeth', 'cowering', 'dreadful', '6:8', 'nassar', '44,000-year', 'tan', 'kingdome', 'studiously', 'gorsuch', \"shew'd\", 'conor', 'broadcast', 'geshur', 'prior', 'glorify', 'amounting', 'curtsied', 'punished', '17:18', 'carted', 'ringed', 'squabble', 'claude', 'cin', 'expunge', 'queerness', 'incurable', 'growing', 'topped', 'aria', 'arrived', '250', 'magazine', 'bang', 'campbell', 'leonora', 'peddling', 'largest', 'gilonite', 'exactness', 'auction', 'martial', 'whiter', 'broaden', '39:21', 'cage', 'simultaneous', 'shekel', 'legislator', 'toothpick', 'extenuation', 'journal', 'jewish', 'pyrrhus', 'attyre', 'trustee', 'urim', 'impenetrable', 'defilement', 'disturbed', 'abiel', 'thanke', 'obstruction', 'soaked', 'perfidious', 'galatian', 'xiii', 'rapturously', 'duncan', '12:2', 'zellweger', 'intrusted', 'spue', 'comforting', 'wendy', 'homeless', 'owest', 'wholesale', \"incens'd\", 'eyesight', 'pause', 'unpack', 'funny', 'screenplay', 'enthusiastic', 'ride', '28:19', 'divined', 'virility', 'substitute', 'soar', 'watch', 'turtle', '11:48', 'ring', 'keepeth', 'batman', 'skyward', 'physical', 'scupper', 'hollowly', '19:22', \"curv'd\", 'amputee', 'marble', 'tech', 'parading', 'uncalled', '59:16', 'visual', '19:21', 'kir', 'g', 'iest', '36:26', 'imbecile', '26:59', 'eagerness', 'surviving', 'intimidate', 'prescription', 'wahlberg', 'abhorreth', '14:34', 'weld', 'tirhakah', 'louis', 'forcible', 'strangely', 'farewell', '60,000', 'incubus', 'heavenly', 'greed', 'colorado', 'unite', '98', 'to--', 'scarborough', 'anointed', 'builded', 'famous', '4:2', 'crayfish', 'triggered', 'hardly', 'ekronites', 'brewing', 'savor', 'louisa', '23:27', 'glanced', 'sina', 'lapwing', 'inoffensive', 'myanmar', 'labelled', 'partake', 'disgraced', 'didymus', 'tanning', 'shulkin', 'opiate', 'hanover', 'alexei', 'this--', 'inward', 'appears', 'amiability', 'inter', '25:4', '--so', 'tare', 'e.p.a.', '15:33', 'gasped', 'sharif', 'burnout', 'trillion', 'diuers', \"follow'd\", 'pen', 'captor', 'bahurim', 'meraioth', 'ayde', 'foreshadowing', 'broadens', '2030', 'icrc', '31:21', 'staying', 'cullest', 'unequal', '53:6', 'paye', '33:30', 'sichuan', 'maiestie', 'bn', '                                               ', '22:52', 'frexit', 'heber', 'cheltenham', 'trustest', 'friendlier', 'motherless', 'atad', 'automaker', 'popularly', 'disinterested', 'tomlin', \"unloos'd\", 'judicious', 'subconsciousness', 'wrestler', 'insolently', 'vppon', '17:7', 'circumventing', 'polite', 'glittered', 'blend', 'aeneas', 'by', 'unwary', '30:1', 'michah', 'bald', \"trellis'd\", 'roared', 'sponge', 'sleeue', 'discriminating', 'tillage', 'duke', 'tolerate', 'particular', 'spurned', 'obsequious', 'unconnected', 'blunted', 'beest', 'satisfie', 'materially', 'commodore', 'tiphsah', 'debase', 'fresh', 'dew', 'scour', 'navigator', 'elegance', 'augustus', 'chimpanzee', 'onan', 'comcast', 'vnto', 'careering', 'bethmaachah', 'orgy', 'mental', 'incoherently', 'aside', '14:43', 'ponderings', 'mazy', 'gebal', 'preacher', '2:45', 'johanan', 'warning', 'flour', 'contemplated', '1,000', 'astros', 'dunst', 'regime', 'hastening', 'shapeless', 'trottoirs', 'supposing', 'delicatesse', 'infixed', 'delaiah', 'furnace', 'skirra', 'getaway', 'platter', 'suffice', 'transcription', 'sweet', 'dismally', '24:6', 'stabbing', 'miriam', 'fukushima', 'raging', 'avlon', 'cutter', 'on.--', 'jaffa', 'tranquillised', 'attempt', 'relate', 'arabia', '34:18', 'nab', '31:3', 'caste', 'birmingham', 'javid', 'table', 'enshemesh', 'dauntlessness', 'tent', 'arid', 'fails', 'kubrick', 'fancying', 'combatant', 'openeth', 'crowning', 'print', 'restores', 'camouflage', 'nursed', 'feat', 'aileth', 'freshly', 'lessen', 'cybercom', 'presseth', 'kenites', 'revised', 'hath', 'decayeth', 'shedding', 'writer', 'totally', 'algorithm', 'pennon', 'narrowly', 'makheloth', 'reignites', 'emphatic', 'persistent', 'intrigue', 'spangling', 'legislative', 'hoarsely', 'lade', '34:33', 'fallen', '1795', 'audition', 'unable', 'international', 'rapid', 'nativity', 'learning', 'chided', \"blabb'd\", 'averse', 'norwey', 'strategy', '38:14', 'galal', 'battery', 'junior', 'cistern', 'fewer', 'raphaelite', 'unsteadily', 'punctuation', 'unpleasantness', 'shoulder', 'entering', 'tillerson', 'conspiracy', 'sojourner', '9:20', 'loued', 'devious', 'lyest', 'agh', 'undulate', '1.murth', 'extremity', '1599', '33:17', 'packet', 'rule', '28:2', 'appeareth', 'daca', 'sisterly', 'adjunct', 'flying', 'slum', 'sacrificing', 'valencourt', 'arithmetic', 'reflects', 'reigned', 'aerosol', '35:22', 'apology', 'defers', 'low', 'cloak', 'euro', 'mortified', 'throughout', '51:13', 'eshtaol', 'circulation', 'citizen', 'befalls', 'stewed', 'spluttering', 'medalist', 'jehoaddan', 'stall', 'monongahela', 'spilt', 'morality', 'unanswerable', '33:14', 'commit', 'outraged', 'saide', 'scamp', 'starvation', 'vaunt', 'census', 'lingering', 'impotus', 'dayes', 'pathogen', 'pathos', 'findes', 'headlong', 'pentecost', \"march'd\", 'known', 'profitable', '36:12', 'studieth', 'capsized', 'acquirement', 'dropping', 'reporter', 'aspie', 'assur', 'project', 'hone', 'fearefull', 'cuttle', 'shee', 'take', 'fuelled', 'unclothed', 'scientology', 'vnnaturall', 'slighting', 'root', 'till', \"practis'd\", '42:1', 'evanescent', 'speeding', 'calleth', 'rivet', 'spraying', 'business', 'grande', 'careening', 'handrail', 'ephod', 'beaked', 'jettison', 'dressed', 'abroad', 'unselfish', 'whitewashed', 'usest', 'adorning', '11:27', 'southward', 'debunked', 'rekem', '6th', 'asa', 'oak', \"cal'd\", 'changeful', 'row', 'alight', 'depresses', 'contradicting', 'thorough', 'watergate', '23:39', 'vertue', 'yiannopoulos', 'succeeding', 'heroic', 'clock', 'northumberland', 'graunt', 'encroaching', 'kurt', 'snugness', 'interest', 'simmons', 'illustrious', 'terra', 'barbarism', 'schooner', 'te', 'nazareth', 'vishnoo', 'ween', 'abyss', 'curre', 'ethel', 'sheva', 'depression', 'superstitious', 'tucking', \"ripen'd\", 'garrulous', '37:9', 'beseech', '26:58', 'retreated', 'conspicuous', 'needing', 'rightwing', 'edmontonians', 'dale', 'reckoned', 'gm', 'youngest', 'expired', '22:16', 'headsman', 'fore', \"to'th\", 'ducking', 'hamath', 'upcoming', 'latino', 'answer', 'mediterranean', 'list', 'sojourning', 'camel', 'dinesh', 'impersonator', 'dip', 'bourgeois', 'gainer', 'consummate', 'crowded', 'consent', 'maw', 'inked', 'bearest', 'halfhearted', 'bead', 'fighter', 'blaming', 'granted', '22:19', 'shamgar', 'rencontre', 'betted', 'stevedore', 'niphon', 'endowed', 'mar', 'nice', 'scrupulous', 'sawing', 'illustrative', 'explain', 'techdirt', 'funding', '42', 'shallum', 'sapience', 'boaz', 'abundant', 'remember', 'strumpet', '22:34', '25:13', 'withstanding', 'loathed', 'productivity', 'superbest', 'peruse', 'equanimity', 'betake', 'striveth', '47:14', 'crow', 'eschewed', 'absolve', 'rising', 'fondly', 'flinging', 'benedictine', 'puritan', 'booty', 'welcome', 'cetus', 'thought', 'slovakia', 'tom', 'ravaged', 'seriousness', 'conciliatory', '21:4', 'taylor', 'demerit', 'physiognomically', 'seclude', 'attendee', 'churchill', 'wooden', 'conceive', 'dirt', 'connect', 'earlier', 'stamping', 'bumped', 'easie', 'episode', 'ayme', 'habitude', 'conjured', 'oppressive', 'defect', 'libertine', 'stunsail', 'greece', 'presaging', 'stinky', 'regardeth', 'assiduity', 'subdueth', 'objection', 'infant', 'commissioner', 'sends', 'fulfil', 'pumping', 'vividness', 'underwent', \"can'st\", 'tantamount', 'pity', '2022', 'greave', 'dandled', 'disliked', 'nkorea', 'bulb', '41:25', 'contrive', 'impelled', 'alleghanian', \"paus'd\", 'down', 'heating', 'sepsis', '12:7', 'indelible', 'nigeria', '7:48', '18:34', 'intercessour', 'availing', 'nosegay', 'possible', 'dram', 'foothold', 'ashore', 'abruptness', 'elizabethan', 'temperament', 'pleadeth', 'accessible', 'lasciviousness', 'unnecessarily', 'metropolis', 'turnout', 'enablers', 'distinction', 'evacuate', 'twirl', 'mutable', 'cypress', 'scary', 'staff', '43:8', 'enquiry', 'animate', \"know'st\", 'angering', 'contemplative', 'primitive', 'togarmah', 'asia', 'pitchy', 'gozan', 'peacekeeping', '19:15', 'disputing', 'shammua', 'shtone', 'unnecessary', 'prudence', 'paul', 'hosah', 'placidly', 'emission', 'conducted', 'coveted', 'deform', 'sourse', 'jenny', 'coordinate', \"forc'd\", 'jumbled', 'spared', '23:30', 'corrects', 'readiness', 'condo', 'falter', 'lurk', 'turmoil', 'newness', 'fatlings', 'quarrelled', 'radical', 'circumstanced', 'agonized', 'tamerlane', 'jezaniah', 'icy', 'broadcloth', 'hummer', 'starving', 'baanah', 'consulate', 'moisture', 'brahma', 'pose', 'q&a', 'hunting', 'telmelah', 'tokyo', 'shapely', 'epicurean', 'negation', 'conceives', '5:14', 'disservice', 'loafing', 'expelling', 'grievously', 'worshippeth', 'taiwan', 'clau', 'georgia', \"banish'd\", 'goldman', 'unavoidably', 'crownes', 'poetry', 'called', 'precipitous', 'appropriate', 'clan', 'basket', 'cowardice', 'opponent', \"prou'd\", 'optimism', 'forewarning', 'graciously', 'justus', 'garland', 'ptsd', 'cask', 'gibraltar', 'gunwale', 'mozilla', 'sudan', 'sen', 'plow', 'incinerator', 'scholar', 'inaction', 'shyness', 'gresham', 'extending', 'defile', 'sanna', 'blent', 'amaziah', 'valparaiso', 'yoke', 'nebaioth', 'sanity', 'listed', 'fairfax.--', 'baited', 'musically', 'sendeth', 'koz', 'underline', 'polanski', 'choicest', 'gripped', 'parmacetti', 'presumably', 'damage', 'swing', 'hereunto', 'bethhoron', 'butter', 'grey', 'zarah', 'placed', 'hatch', 'iudge', 'definition', 'noun', 'fixing', 'primal', 'hustle', 'appointment', 'wauing', 'wagga', 'improve', 'har', '1.2', 'worshipper', '28:24', 'outgoings', 'larolles', '--\"the', 'checking', 'rie', 'doore', 'outlook', 'strike', 'having', '10:43', 'settle', 'sobriety', 'la.', '40:18', 'acknowledged', 'resounding', 'gnasheth', 'biotronik', 'bustle', 'royall', 'darkly', 'earliest', 'wellspring', 'facile', 'disappointing', 'artistic', 'taciturn', 'quickeneth', 'feigning', 'teman', '52:7', '2:02', 'tubalcain', 'forceful', 'concurrence', 'occurrence', 'messing', 'performeth', 'agitated', 'emerson', 'village', 'ringlet', 'partridge', 'when', 'thereon', '28:42', 'distraught', 'wound', 'go', 'furnishes', 'tart', \"prick'd\", 'nivir', 'glowed', 'tincture', '15:35', 'newsletter', 'gymnasium', 'timetable', '14:36', 'pore', '32:7', 'romane', '46:10', 'vertuous', '36:1', 'rounded', 'vesture', 'deserve', 'congenial', 'tamer', '32:43', 'monmouth', '28:43', 'ostensible', 'electronic', 'reverent', 'fleddest', 'hammer', '51:18', 'undergrowth', 'blister', 'tahitian', 'arkansas', 'trove', 'heeva', 'wo', 'scandel', 'autism', 'punch', 'communism', 'picked', 'harvilles', '26:8', 'night', 'paddle', 'publication', 'disengaging', 'articulate', \"confin'd\", 'mainlanders', 'candelabra', 'extravagant', 'survived', 'dod', 'oily', 'parteth', 'jehoiarib', 'mathematics', '3:21', '46:9', 'escapeth', 'upset', 'popeyes', 'lotan', '15:47', 'jew', 'bespoke', 'flora', 'ironworker', 'marching', 'paint', 'peerless', 'crushing', 'brady', '2:14', 'freshest', 'prouder', 'smother', 'ill-', 'basketball', 'pitt', 'ghislaine', 'deede', '46:19', 'donated', 'tail', 'indecipherable', 'exact', 'compass', 'kabzeel', 'tolerated', 'encumbrance', 'differeth', 'instant', 'ashtoreth', 'speed', 'jeroham', 'whaler', 'vince', 'obamas', 'meane', 'sooty', 'courtesy', 'skate', 'unhappy', 'agen', 'drinketh', 'acquaintance', 'navvy', '57:8', 'adverse', 'trenched', 'geography', 'flog', 'therapy', 'buckle', 'poland', \"bequeath'd\", 'fateful', 'dimly', 'die', 'exporting', 'wreathen', 'indicative', 'twelfth', 'skewer', 'jingle', 'mark', 'peace', 'escapade', 'bloweth', 'paralysed', 'destabilizing', '25:11', 'bathsheba', 'advantageous', 'shouldst', 'infused', 'spiraling', 'chiswick', 'tearing', 'bore', 'cruse', 'obeyed', 'kind', 'here.--', 'scampering', 'yeoman', 'despot', 'unjustly', '12:45', 'eilish', 'consumeth', 'segub', 'mediation', '61:4', 'wiser', '37:32', 'lading', 'viciously', 'haile', '59:3', 'reaching', 'overshot', 'dylann', 'uneasiness', 'theame', 'testify', 'tutored', 'factious', 'engineer', 'soot', 'risest', 'sorrie', 'customary', '17', 'melted', 'correcteth', 'chevron', \"train'd\", 'conveys', 'sarve', 'impeached', 'directv', 'repeating', 'suggest', \"you'l\", 'prelude', 'gored', 'roboticists', 'toyles', 'workmanship', 'half-', 'waxing', 'waifing', '24:42', 'extermination', 'murmansk', 'ment', 'committing', 'get', 'absence', 'cannoneer', 'harnessed', '34:30', 'maiesticall', 'mullen', 'survives', 'direction', 'sank', 'unreality', '39:9', 'ralph', 'firstripe', 'somerset', 'raid', 'willis', 'imbued', 'liberally', 'quenched', 'argob', 'heiligwaldenstein', 'sir', 'suitor', '46:14', 'genital', 'squatting', 'fb', 'strucken', 'keynote', '11:12', 'fagged', 'blum', 'keeper', '25:31', 'wondering', 'retweets', 'leddest', 'tallied', 'immortal', 'chant', 'hen', 'trustworthy', 'behest', 'ron', 'magnetism', 'niagara', 'disarmament', 'bigger', 'submarine', 'breaching', 'required', 'unfruitful', 'companionship', 'pawnbroker', 'frontage', 'wanted', 'ing', '36:31', 'viewer', 'suspect', 'flesh', 'erroneous', 'collateral', 'include', 'torpedo', 'fraught', 'int', 'worn', 'charmed', 'heroine', 'unveil', 'peña', 'loosen', 'rented', 'fracture', 'godliness', 'echoed', '16:16', 'camera', '33:20', 'connexion', '47:8', 'casting', 'moses', 'january', 'existential', 'rejoinder', 'facebook', 'johnny', 'respectably', 'intellectually', '9:37', 'stubbs', 'substance', 'syracuse', 'incrustation', 'continueth', '9:33', 'entailed', \"where'er\", 'naval', 'harmed', 'restriction', 'stammering', '43:11', 'decline', 'shuah', 'arpaio', 'openly', 'attested', 'fidget', 'devilry', 'awaked', 'fold', 'louer', 'por', 'associated', 'telem', 'scorneth', 'good', 'prudently', 'envy', '1:11', '38:22', 'aroma', 'peradventure', 'eve', 'pretending', 'goal', 'undecipherable', '140,000', 'repentance', 'shillem', 'minstrel', 'sonne', 'phrenologist', 'mire', 'emerge', 'strained', 'unredacted', 'deprecated', 'combatting', 'festive', 'hungarian', 'earshot', 'agnostic', 'contemn', 'dorian', 'owen', 'engross', 'isaac', 'jozadak', 'stephanas', 'perception', 'bochim', 'betook', 'process', 'oberon', 'peleg', 'populism', 'terminating', 'it?--where', 'french', 'carmi', 'daffodil', 'humbly', '29:22', 'entree', 'vineyard', '65:12', 'ruining', 'bashee', 'bringeth', 'smell', 'mineral', 'president', '28:26', 'handbag', 'sensitive', 'medan', 'jered', 'shabbiest', 'inquired', 'it', 'menteth', 'oooo', 'thoroughfare', 'judged', 'ikkesh', \"peril'd\", 'aligning', 'indecision', 'scabbed', 'redundant', 'highlander', 'rope', 'dissatisfaction', 'overtaken', 'ataroth', 'tape', 'jiffy', 'debris', 'transcending', 'untaught', 'merab', 'ephron', 'silly', 'london', 'commandedst', 'crack', '11:37', 'tremendously', 'long', 'chiefly', 'stockinged', 'objective', 'government', 'slew', 'cowper', 'armoury', 'inspect', 'cure', 'cough', 'his.--', 'ardern', 'moronic', 'moseroth', 'emirati', 'abuja', 'reasoned', 'sour', 'argo', 'epicure', 'peggy', 'vnlesse', 'cai', 'unweeting', 'wired', 'feudal', 'beach', 'spirit', 'unmerciful', '51:20', 'rustled', 'bewildering', 'contending', 'fee', '25th', 'compound', 'waking', 'hun', 'poking', 'insight', 'sinai', 'javan', '7:61', 'turkish', 'informal', 'ousts', 'volition', 'implies', 'headed', 'whoop', 'ringleader', 'latest', 'autocracy', 'nourisher', 'discount', 'faggot', 'masse', 'tellin', 'thunderous', 'highbury', 'mainsail', 'focus', 'mammy', 'virtue', 'pestilence', 'allenham', 'couch', 'charran', 'internment', 'appertain', 'veritable', 'chuckled', 'auto', 'belonging', '     ', 'benjamite', 'deposited', 'fundamental', 'adherence', 'tradition', 'threshingfloor', 'recoyle', 'junk', 'storytelling', 'primary', 'hower', 'unsavoury', 'outsourcing', 'stab', 'realm', 'aesthetically', '46', 'middle', 'hasty', 'homepage', 'man', 'slashing', 'dizzy', '44:25', 'restorative', 'convey', 'colonnade', 'ideality', 'period', \"murder'd\", 'sinister', 'kashmir', '12:46', 'luck', 'mundane', '36:24', 'pulling', 'bravest', '32:25', 'damned', 'sosthenes', 'coffin', 'frayed', '52:12', 'barest', 'flea', 'fearlessness', '30-year', 'churl', 'crocodile', 'bothered', 'conjectured', 'flamboyant', 'normandy', '27:10', 'fudge', 'truster', 'unnatural', 'hetty', 'ensures', 'retarded', '40-year', 'croaking', 'finite', 'balak', 'breakout', 'longstanding', 'pancras', 'ephratah', 'constraineth', 'subsidy', 'presuming', 'naming', 'sceptical', 'clod', 'hawkins--', 'subtil', 'gild', 'wilkerson', 'quorum', 'recipient', 'whensoever', '6:35', 'supposed', 'fancy', 'surveyor', 'lineman', '20:16', 'lyca', 'officiating', 'eliminated', \"e'er\", 'gb', 'tympan', 'timotheus', 'palmed', '1:48', 'peddler', 'militarily', 'gaped', 'kelson', 's[aint', '33:1', 'unfortunate', 'sedona', 'admitted', 'personally', 'owneth', 'weltering', 'plenteous', '34', 'forwarding', 'actually', 'strangled', 'moody', '49:30', 'ensigne', 'ineffaceable', 'brawling', 'claiming', 'blacky', 'forgiue', 'co', 'gendarme', 'untie', '86', 'georgian', 'fuller', \"chanc'd\", 'evasion', 'octavo', \"mean'st\", 'mishap', 'avows', 'spiritual', 'trowsers', 'light', 'supplied', 'argus', 'as', 'hesitation', 'shortest', 'fleans', 'namibia', 'meddling', 'stifle', 'undiscerning', 'womb', 'jaalam', 'biteth', 'notch', 'behindhand', 'parenthood', 'siemens', 'scahill', 'zuph', 'fifa', '65:1', 'gemariah', 'exemption', 'arbathite', 'chancellor', 'bosh', '49:22', 'invested', '16:48', 'eloi', 'barbaric', 'benign', 'howl', 'topsail', 'dummy', 'could--', 'rosincrance', 'overmuch', 'factory', 'travis', 'remedie', 'pruning', 'fondness', 'kohath', '47:13', 'twisted', '35:9', 'altuve', 'mit', 'trust', '8:24', 'collation', 'reel', 'excess', 'scrambling', 'thing--', 'feare', 'earthly', 'sociably', 'creditable', 'unsung', 'prejudice', 'heighten', 'u.n.', 'finely', '17:30', 'conjunction', 'surprized', 'timidity', 'larger', 'plotting', 'hunted', 'grabber', 'iephta', 'slowness', 'paused', 'hotline', 'g20', '28:4', 'undervalue', 'misrule', 'misunderstanding', 'dusty', 'middleton', 'harshly', 'congressional', 'scapegoat', 'clever', 'animator', 'hector', '60:2', 'circlings', 'hadadezer', '48:14', 'leech', 'rod', 'sheeran', 'roman', 'harbinger', 'flagon', 'corresponding', 'powerless', 'inextricable', '47:21', 'scorched', 'rissah', 'plaster', 'recuse', 'poohed', 'deployed', 'tester', 'graft', 'constitution', 'seise', 'hissing', '24:41', '27:42', 'santorum', 'spittle', 'showered', 'confront', 'weymouth', 'muslim', 'kanada', 'schlapp', 'innermost', 'intentionally', 'delivereth', 'heir', 'impaled', 'woodstock', '2001', 'disrespectfully', 'stank', 'herdmen', 'thy', 'sidewalk', 'pretence', 'charnel', 'lucianus', 'nigger', 'accuracy', 'completed', 'enforcement', 'curse', 'stupidly', 'surprised', 'isabel', 'dictionary', 'sage', 'whilest', 'crypto', 'platonist', 'wade', 'usher', 'esau', 'pursueth', 'reputation', 'june', 'michmash', 'doomed', 'behalf', 'slobbering', 'sprig', 'soothsayer', 'gad', 'countrey', 'steadying', 'clearance', '28:23', 'sowed', 'unpopular', 'penn', 'ultimate', 'concise', 'sherd', 'manuel', '16th', 'vertu', 'racist', 'iudgement', 'pointed', 'streetes', 'echo', 'sway', 'suckled', 'kenaz', 'bison', 'stabbed', 'mastership', 'trudeau', 'stagnation', 'estimating', '32:30', '21:9', 'skald', 'unfrequently', 'unmindful', 'speak--', 'shepard', '2:12', 'hornet', 'retribution', 'proclaimes', 'chancing', 'adrammelech', 'norwegian', 'thirdly', 'betroth', 'mimic', 'towed', 'seed', 'youtube', 'sputter', 'grapple', '-i', 'her.--the', 'snoop', 'casualty', 'eliminate', 'butler', 'collides', 'hounded', 'outgrown', 'first', '16:1', '36:5', 'satest', 'confoundedly', 'wedge', 'neskyeuna', 'dorcas', '35:24', 'curl', 'meme', 'remaining', 'hurry', 'comical', 'kasper', 'blaspheming', \"brandish'd\", 'deliberation', 'shrieking', 'sheshai', 'disobeys', 'serenade', 'valentine', 'marling', 'gait', 'indonesia', '₂', 'word--', 'seest', 'legalizing', '26', 'collectedness', 'naomi', '20:21', 'vi', 'underfoot', 'epaminondas', 'appeared', 'shedeur', 'simultaneousness', 'vehement', 'brevity', 'blest', 'askest', '20:5', 'languisheth', 'pathway', 'amraphel', 'scraggy', 'stiffly', \"shee'l\", 'starting', '14:20', 'infernally', 'privileged', 'cetacea', 'hugging', 'riser', 'horowitz', 'occurrent', 'schoolgirl', 'reckoning', 'grant', 'mustard', 'ethan', 'ashan', 'sink', 'abba', 'recreate', 'equall', 'proxy', 'raw', '97', '50:3', 'end', 'against', 'chooses', 'glorying', 'exempts', 'tyro', 'weake', 'detaining', 'seconded', 'painting', 'insurance', 'aristocrat', 'blood', \"ol'\", 'pass', 'marechal', 'troup', 'hew', 'thornberry', 'steven', '44:7', 'diminute', 'commandest', 'hay', '41:10', 'repulsive', 'desperation', 'inflexibly', 'absenting', 'message--', 'inclusive', \"elton's\", 'coastguard', 'correlative', 'sidelong', 'esq', 'integral', \"arm'd\", 'beset', 'polishing', 'scale', 'cassia', 'sur', 'luiz', 'whisper', 'warmbier', 'cymbal', 'scribble', 'weepes', 'hijacked', 'uprightness', 'solace', 'prevents', 'bearded', 'archway', '13:24', 'royal', 'browes', 'promoting', 'olympian', 'flint', '26:24', '15,413', 'tumbling', '999', 'aye', 'countermemo', 'why', 'strode', 'merchant', '3:37', 'extraordinary!--and', 'mossy', 'plaintively', 'hyacinth', 'apostate', 'discernment', 'thwarted', 'gohmert', 'jesting', 'kushner', 'dramatically', 'limelight', 'curtain', '8:28', '23:16', 'leveraged', 'declineth', 'beaten', '3:39', 'htin', 'algum', 'bandy', 'basic', 'enter', 'text', 'happeneth', 'bradley', 'card', 'ardent', 'cancelled', 'bolder', 'finger', 'diminished', 'appliance', 'precaution', 'eidolons', 'breake', 'application', 'sekulow', 'injured', 'ii', 'wantonly', 'alumnus', 'draught', '1775', 'jahaz', 'plato', 'grinned', 'misinformed', 'shunned', 'spiral', 'isolation', 'mania', 'coniah', 'lethargic', 'fascination', 'scattershot', 'gaze', 'reconcilement', '27:36', 'damaged', 'perusal', 'place', 'assembling', 'dispensed', 'fireboard', 'gibeonites', 'doubloon', 'fairest', 'vigil', 'offence', 'superstition', 'schiff', 'skulking', 'flock', 'fountain', 'juniper', 'consulting', 'dump', 'citing', 'forget', 'contemptuously', 'driver', 'supremacy', '30:6', 'silver', 'kislyak', '11:4', 'absorbing', '53:2', 'jamie', 'fellowes', 'meditation', 'improved', 'sculpture', 'diagnosis', '18:17', 'virginity', 'infowars.com', 'clemson', 'zelek', 'jason', 'toasted', 'toss', 'whistleblower', '56:3', 'poisoned', 'gestation', 'unveils', 'dictate', 'shear', 'protestors', 'mutually', 'before.--', 'control', 'suez', 'perceiveth', '12:5', 'abbreviation', 'relies', 'spotless', 'mic', 'uplifting', 'bell', 'prosecute', 'seabird', 'yelled', 'ungainly', 'flapping', 'exposed', '14:7', 'recurrence', 'kitchen', 'ramble', 'soueraignty', 'azaliah', 'blackberry', 'conclude', 'subsiding', 'denounce', 'amzi', '16:3', 'cleaning', 'legalise', 'angioplasty', 'bryant', 'minnesingers', 'unobservant', 'manifold', 'witticism', '26:5', 'presumptuously', 'heereafter', 'ejaculation', '6:51', 'loud', 'nahash', 'japhlet', 'sustained', '19:43', 'whisky', 'deadliest', 'fervour', 'degradation', 'invited', 'bivouac', 'anticipated', 'trigger', 'sixscore', 'repine', '32:8', 'dim', 'vibrant', 'lippety', 'aiming', 'nickname', '8:46', 'sanguine', 'hurriedly', 'presided', 'favoured', 'amelia', 'benjamin', 'grip', 'egge', 'talmai', 'blown', 'alway', '44:21', 'pie', '44:19', 'canyon', 'grilling', 'complaisance', 'braue', 'winging', 'recipe', 'revulsion', 'equal', 'inhabiting', 'industriously', 'haddish', 'waxeth', 'dodge', 'dentist', 'paran', 'viper', 'imla', 'alternating', 'breefely', 'clove', 'bark', 'engulfed', 'embryo', 'camping', 'yankee', 'kindly', 'sagacity', 'geshem', 'penury', 'delivers', 'be.--', 'fervid', '23:15', 'aboriginal', 'mortally', 'essay', 'beginningless', \"dress'd\", 'hashabiah', 'overseer', 'twould', '22:27', 'twitch', '24', 'insecurity', 'never', 'loaf', 'no,\"--he', 'mortify', 'steerer', 'lazy', '30:12', 'enterprise', '16:17', 'neared', 'locked', 'discontinue', 'gloat', 'dopamine', 'unchangeable', 'legging', 'confident', 'menaced', '12:3', 'qaboos', 'proof', \"drain'd\", 'solidity', 'stump', 'talk', 'server', 'slaine', '32:11', 'recollection', 'brownish', 'rowing', 'bundled', 'cuban', 'readest', 'murdering', 'school', 'levied', 'singer', 'fling', 'coxcomb', 'joash', '500', 'frivolity', 'spose', 'lystra', 'margate', '31:25', 'unmoved', 'widowed', 'nailed', 'hereditarily', 'location', 'dismounted', 'frugal', 'bered', 'memucan', '27:19', 'pyjama', 'baby', 'doubled', 'subtilty', 'incommoded', 'worke', 'resides', 'awed', 'tallest', 'joppa', 'bukkiah', 'crater', '19:39', 'sonic', 'candid', 'cobler', '11:39', '28:21', 'slimmed', 'hist', 'dreading', 'innoxious', 'stooped', 'moore', 'iraqi', 'detained', 'impostor', 'largeness', 'toned', 'uncheerful', '34:3', 'poniard', '35', 'refuse', 'dorchester', 'subvert', 'nigggers', 'adoram', 'limitless', 'rehearsing', \"murther'd\", 'tiny', 'tasted', 'capernaum', 'unpolluted', 'peninsula', 'vtterance', 'couldest', 'procrastinator', 'unscrupulous', '1807', 'lapping', '14:23', 'redeemeth', 'belike', 'belarus', 'warrant', 'bloodless', 'supple', '36:13', 'tyre', 'balanced', 'dwellingplaces', 'rent', 'annie', 'sinking', 'againe', 'weighs', 'stirreth', 'puzzledom', 'miscalculated', 'billie', \"visor'd\", 'composition', 'battleground', 'dalrymples', 'tone--', 'video', 'hopkins', '2:40', 'residency', 'impulsive', \"gash'd\", 'proper', '5:46', 'alluded', 'knuckle', 'forfeit', '33:5', 'irreconcilable', 'amalek', 'fairyland', 'wilt', 'robbery', 'immaculate', 'imitate', 'hosen', 'clean', 'reproductive', 'cryes', 'nicely', 'chisleu', 'unreserve', '6:29', 'malt', 'print!**for', '32:3', 'degenerated', \"ye're\", '3:26', 'troubadour', 'hat', 'sufficed', 'leagued', 'milked', 'puny', 'walter', 'slaughtered', '15:58', 'frankincense', 'sibilant', 'freakout', 'pleasest', 'mindful', 'hoisting', 'magician', 'primeval', 'hugely', 'unprovided', 'assuage', 'appreciated', 'farcical', 'other', 'descrying', 'relieve', 'weyard', 'uyghur', 'cadet', 'passionately', 'drunk', 'infuriated', 'domestick', 'highnesse', 'ahilud', 'rezeph', 'moderately', 'hiding', '5:12', 'dyspepsia', '31', 'disaster', 'molten', 'endorses', 'scab', 'titanic', 'dem', 'palmerworm', 'euill', 'intrepid', 'nehelamite', 'erupt', 'sickness', 'commitment', 'heccats', 'anointing', 'lothe', 'subsequently', 'commended', 'nigel', 'sufficiency', '6:54', 'fettered', 'voltaire', 'gliding', 'lodged', 'italy', 'conscience', 'madeleine', 'ibzan', 'underneath', 'thatched', 'denial', 'struck', 'starr', 'knife', 'rohingya', 'hubbub', 'inference', 'floundering', 'curling', 'metalhead', 'homosexuality', 'nunnery', 'drape', 'commentary', 'delingpole', 'patent', 'seawood', 'josaphat', 'add', 'micaiah', 'plumbline', '17:19', '5th', 'antipode', 'sintimint', '275th', 'dispaire', 'foresaw', 'continued--', 'anti', \"crow's\", 'progeny', 'upper', 'serah', 'confessed', 'suffered', 'frightfully', 'chiefe', '22:6', 'absconds', 'expression', 'pollard', 'malignant', 'unobjectionable', 'erection', 'g.k.', 'luxury', 'indescribable', 'thyatira', 'cried', 'provide', 'overdue', 'peaceable', 'hurl', 'openest', 'professional', '18', \"envenom'd\", 'tempted', 'grandchild', 'pleading', 'infantry', 'bagging', 'harrison', 'guideline', 'intimation', 'helon', \"wheresoe'er\", 'thinning', 'baron', 'exaction', 'fatigued', 'moreouer', 'ifaith', '1.1', 'pushback', 'covertly', 'shelomoth', 'alteration', 'midfielder', 'sin', 'birthplace', '2:16', '13:58', 'keyhole', 'ronaldo', 'gregory', 'forbear', 'wheelbarrow', 'reprieve', 'hungred', 'quartered', 'uninsured', 'constant', 'hodges', 'pressed', 'gushed', 'takedown', 'livest', 'freebooter', 'forth', 'moabites', 'fixed', 'watering', 'coming.--', 'connects', 'blasey', 'e.u.', 'lod', 'elisabeth', 'quit', 'behaviour', 'obstructs', 'noticing', 'pottage', 'penetration', 'dearest', 'whiten', 'finder', 'stammer', 'huskily', 'instantly', 'tabernacle', 'but----', 'tn', 'usa', '45:10', '89', '--and', 'real', 'uncommon', 'cultist', 'shammai', '                              ', 'chap', 'disfigured', 'jihadi', 'uz', 'telassar', 'huldah', 'clowd', 'resina', 'snob', 'cherished', '10:15', 'discomposed', 'staffer', 'stubbornness', 'disqualified', 'pledge', 'barrel', 'pelisse', 'haunting', 'mout', 'aristarchus', '15:21', 'spangled', 'parched', 'traile', 'ar', 'hurt', 'eleazar', 'ninetieth', '41:19', 'cortez', 'unerringly', 'guise', 'intact', 'slacked', 'strathspey', 'ticking', '39:27', 'soundly', 'renewing', 'unjust', \"disappear'd\", '40:37', 'over', 'valued', 'hatita', 'gulfe', 'liberalism', '14:50', 'digging', 'concentration', 'streamed', 'embrocation', 'gnashing', 'agar', 'crayon', 'beauteous', 'envied', 'rabbah', 'renaissance', 'cling', 'muslin', 'him', 'disinviting', 'bela', 'shimri', 'purchase', 'atlantis', 'deforestation', 'leaked', 'unesco', 'pollute', 'polyu', 'bloody', '26:23', 'girlfriend', 'y.sey', 'folding', 'inhabiters', 'serve', \"garner'd\", 'jangling', 'kingly', 'flighty', 'stript', 'passeth', 'forfeited', 'cappadocia', 'measurable', 'logger', 'rugged', 'imri', 'unintended', 'equinoctial', 'positively', 'nakedness', 'sperma', 'arbour', 'funereal', 'aristotle', 'angel', \"play'd\", 'cheerless', 'sire', 'merrier', 'sidon', 'predictable', 'corporeally', '51:22', 'bruised', 'grandmother', 'shew', 'wayes', 'badge', 'coverest', 'sophist', 'farenthold', 'kneadingtroughs', '31:48', 'imprudently', 'kidron', 'pittifull', '28:7', 'monumental', 'tweene', '49:15', 'caged', 'dagger', 'survival', 'ascending', 'incitement', 'loin', 'thammuz', 'aching', 'plot', 'superiour', 'royce', 'shivered', 'vncle', 'cheever', 'goodnight', 'hammon', 'rebellious', 'carol', 'site', 'rebellion', 'smashed', 'baptizing', '15:30', 'pour', 'gittaim', '1:7', 'allotted', 'discerned', 'allon', 'gatekeeper', 'grazed', 'rellish', 'fanny', 'mar.', 'sconce', 'anomalous', 'ingenuous', 'scroll', 'loftier', '22:47', 'bruit', 'brings', 'cursedst', 'michmethah', 'haste', '59:5', 'importunity', 'beguile', 'eagle', 'mistakenly', 'might', 'clinging', 'unblameable', 'jonas', 'retained', 'administration', 'jon', 'ache', 'composed', 'delineation', 'certainty', 'gideoni', 'genealogy', 'naphtali', 'lasso', 'rudeness', 'transported', 'superhuman', 'elliot', 'kiln', 'rushed', 'dreames', 'respectful', 'dungeon', 'melodramatic', 'kyiv', 'commission', 'blitz', 'somersetshire', 'caulk', 'symbolism', 'sociologist', 'clustering', 'plaistered', 'tripping', 'smuggling', 'joyless', 'cicero', 'invading', 'allowing', '6:14', 'budging', 'alderman', 'insisted', 'unraveling', 'fy', 'fiat', 'dispense', 'medal', 'whelped', 'kamala', 'unexpectedly', 'testy', 'drip', 'ayre', 'cautiously', 'ceremony', \"remov'd\", 'grove', 'neigh', 'enigma', 'derided', 'kneel', 'mantra', 'ponderous', 'rewinding', 'invite', 'sob', 'beheaded', 'gorge', 'baronial', 'neariah', 'graving', 'keen', 'alluding', 'lydia', 'fluke', 'rant', 'naples', 'sacred', 'curing', '14:40', 'hank', 'woos', 'cache', 'birthday', 'sirloin', 'stowed', 'crownest', 'scandal', 'her.--', 'cola', 'meant--', 'buster', 'overlaying', 'holdest', 'plumage', 'ax', 'neuer', 'kidnapped', 'winced', 'engaged', 'star', '35:18', 'fierceness', 'platonian', 'chaldea', 'imperilled', 'image', 'bally', 'pondereth', 'distillation', 'agricultural', 'pacemaker', 'torrid', 'grocer', 'breasted', 'vancouver', 'imagining', 'departeth', 'explored', 'deaf', '46:23', 'grieve', 'scotch', 'speaketh', '9:28', 'widowhood', 'gentry', 'remainest', 'lascar', 'salutation', 'samuel', 'simpson', 'abruptly--', 'haunted', 'hawker', 'manages', 'jaime', 'typewriter', 'dashed', 'shaped', 'ransom', 'ascii', 'xvii', 'moneth', 'equipt', 'injected', 'phut', 'password', 'everest', 'maaziah', 'plat', 'profuse', 'rewarded', 'humiliating', 'departed', 'rowdy', '61,000', 'stagnant', 'counselled', 'pensively', 'stranger', 'term', '51:7', 'tamed', 'wallet', 'circumspectly', 'machir', 'outwards', 'anime', 'mammon', '35:33', 'sleepless', 'faded', 'laughable', 'unwashen', '16:37', 'stony', 'sallow', 'downplays', 'penetrate', 'connection', 'blockbuster', 'l.a.', '1k', 'verra', 'detested', '40:12', 'kelita', 'chanaan', 'resemblance', 'resenting', 'barefoot', 'helpful', 'worthiest', 'neumann', 'selfwilled', 'undressed', 'readinesse', 'awaiting', 'destroy', 'basons', 'reddened', '700,000', 'wpg', 'ordain', 'eltekeh', '22:28', 'attracts', 'dissolution', 'jobless', '60:3', 'glitch', 'hermitage', 'democrat', 'misunderstood', 'laver', 'assenting', 'delirious', 'lavishes', '3:17', 'offset', 'drawing', 'disengage', 'spurring', '42:2', 'hollywood', 'idaho', 'japheth', 'ragging', 'thicket', 'prod', 'proteus', 'sound', 'elude', '36:16', 'influence', '13:28', 'babbler', 'watry', 'gershonite', 'stupor', '23:33', 'toi', 'straightened', 'moon', 'boggy', 'highth', 'q&amp;a', 'fond', 'bidens', 'quantum', \"on't\", '15:43', 'conduce', 'hillel', 'tailor', 'rigor', 'locking', 'afflicted', 'throbbing', 'bountifully', 'confesseth', 'bordering', 'jerome', 'powered', 'dishwasher', 'inherit', 'counteracted', 'advertisement', 'malign', 'berechiah', 'brimstone', 'defend', 'brotherhood', 'welcomed', 'enshrine', '20:28', 'kindling', 'preoccupied', '16:22', 'cooler', 'carolina', 'cornice', 'solemn', 'hisself', 'intestine', 'giuing', 'ideological', 'extra', 'renegotiation', 'hazeroth', 'wonderful', 'washed', 'lubims', 'normally', 'youtuber', 'healing', 'stewardship', 'becometh', 'engirth', 'parapet', 'jaaziah', 'esteemeth', 'know', 'filipino', 'behave', 'searching', 'incumbered', 'a.d.', 'divert', 'imposes', 'somebody', 'cheering', 'wormes', 'vat', 'tally', 'greitens', 'headache', '31:50', 'aerial', 'shechaniah', 'robocall', 'ruslan', 'perennial', 'improving', 'week', 'ups', 'islet', 'viewing', 'regiment', 'volumnius', 'oakum', 'concentring', 'decayed', 'fonda', 'refulgent', 'hijab', 'ix', 'bending', 'volume', 'wind', 'delicately', '25:43', 'vicious', 'equivalent', '37:28', '23:19', 'on', 'drop', 'rattlesnake', '22:49', 'puddle', '3:8', 'boastful', 'chanced', 'evidence', 'roboam', 'chained', 'malcolm', 'hoist', 'sulk', 'gordon', 'farhad', 'cain', 'meaner', 'veil', 'teaze', 'lateness', 'manipulated', 'ahiman', 'smiteth', '2007', 'yet', 'oldest', 'handsomer', 'mercer', 'reactor', 'excitement', 'hobab', 'holier', 'voice', '26:41', 'unpacked', 'firstborn', 'inclination', 'ariana', 'grid', 'netophathite', 'english', 'urn', 'jezebel', 'augur', '22:31', 'p.f.', 'hid', 'bleeds', 'repining', 'gear', 'minnith', 'lunar', 'millar', 'vacuity', 'initiated', 'walked', 'entity', 'occupy', 'headcoach', 'alacrity', 'floridian', 'buckler', 'motorbike', 'amicable', 'expanded', 'reminded', 'global', 'whirled', 'concubine', 'it?--', 'bulrush', 'neglected', 'flynn', 'cavern', 'unto', 'peninnah', 'monitored', 'libel', 'thin', 'jebusite', '20:17', 'medieval', '13:14', \"pleas'd\", \"shovel'd\", '22:7', '2016', 'prep', 'tuesday', 'shrine', 'glasse', 'died', 'bamoth', 'naughty', 'swear', 'arising', 'byrnane', 'rancour', 'fishmonger', 'discreet', 'apologist', '26:21', 'continuity', 'missive', 'twittering', 'plowing', '24:44', 'pious', 'outweighs', 'hertfordshire', '21:37', 'apoplectic', 'upkeep', 'clenched', '26:13', 'backpack', '19.10', 'seychelles', 'nekoda', 'destination', 'emims', 'mud', 'electing', 'tamely', 'unfinished', 'squeaky', 'stretcheth', 'wetland', 'serveth', 'decree', 'glean', '13:26', 'olivia', 'evan', '37:31', 'expanding', 'battlement', 'fyre', 'dispel', 'fil', 'trifle', 'beitar', 'lebanon', 'misquote', 'golf', 'soapstone', 'notable', 'copper', 'malefactor', 'calkers', '48:6', 'cutler', 'unfurled', 'unsought', 'reiterating', 'scuttling', 'snow', 'bearing', 'evince', 'han', '29:23', 'weigh', 'christendom', 'disinterestedness', 'locality', '49:14', 'title', 'mechanical', 'scourged', 'tydings', 'grazing', 'engendering', 'nihilist', '27:46', 'evaporate', 'brutalising', 'eyther', 'asswaged', 'slaughter', 'deputy', 'condemnation', 'pinned', 'vibe', 'saucepan', 'alien', 'charlemagne', 'marrie', 'extradition', '11:30', 'nightmare', 'jebusites', 'humiliated', 'conscientious', '31:39', 'whiteness', 'plane', 'compute', 'erasure', 'moabitess', 'blessest', 'holden', 'seywards', 'deeply', 'mafeking', 'kettle', 'raine', 'joel', 'scalise', 'sieve', 'polynesia', 'ten', 'egregious', 'whiny', 'mallacoota', 'stiggs', 'intermixed', 'nomine', 'burglar', 'adp', 'cleanup', 'chapter', 'pacing', 'looseness', '42:14', 'fountaine', 'tumultuous', 'procedure', '36:21', 'aphek', 'straggling', 'lacing', 'else--', 'cent', 'buyer', 'deploy', 'laureate', 'pamphlet', 'regretting', 'arrant', 'severed', 'straightway', 'britain', 'continual', 'plumb', \"cover'd\", 'withstand', 'outspread', 'jonah', '2:2', 'vnderneath', 'lilliputian', 'mallothi', 'deadening', '80', \"curtain'd\", 'piney', 'complexioned', '18:2', 'father', 'patrician', 'prosecutor', 'visionary', 'come', 'critically', \"dishevel'd\", 'controlled', 'heauy', 'hewed', 'lappeth', 'asahel', 'tea', 'harrowing', 'sum', 'friendliest', 'nashville', 'intolerable', 'conical', 'unabashed', 'harlot', 'belching', 'broiled', 'scarce', 'inmost', 'scythian', 'dexterously', 'ardently', 'body', 'prize', 'clashed', 'fadeth', '1.3', 'marvel', 'offends', 'ono', 'op', 'scull', '4:43', '9:3', 'erewhile', 'noam', 'vendetta', 'sigh', 'again.--', 'bargainer', 'deliberately', 'morcar', 'wsj', '59:12', 'macleod', 'jair', '16:40', 'all--', 'steady', 'kadeshbarnea', 'crossing', 'speediest', 'sardis', 'warranted', 'numbering', 'affirmative', 'flyest', 'publisheth', 'nakken', 'runner', 'reclaiming', \"embower'd\", 'noisome', 'race', 'naphish', 'empyreal', 'morbidity', 'maaseiah', 'hoard', 'consulted', 'faint', 'retweet', 'rashida', 'sod', 'huzzaing', 'dissembler', 'stalked', 'profited', 'knowest', 'diversify', 'exorbitant', 'dispatch', 'panetta', 'extolling', 'stanch', 'ensued', 'dyed', 'honestly', 'adhering', 'ninth', 'box', 'brawler', 'berachah', 'traveler', 'borneo', 'sneezed', 'counterpoise', \"laugh'd\", 'boasting', 'feign', 'abrupt', 'obviously', 'offereth', 'adversity', 'discussing', 'hike', '11:15', 'heartless', 'tight', 'lentiles', 'underworld', 'pillaged', 'epithet', 'sophy', '21:18', 'deere', 'quaintly', 'crush', 'ross', 'unleashed', 'delhi', 'misunderstand', 'tablecloth', 'seleucia', 'io', 'scoria', 'reptile', '11:53', 'traversing', 'quayle', 'provokes', 'gerrymandering', 'absorb', 'indefensible', '6:15', 'jiankui', '16:10', 'resume', 'hodijah', 'dank', 'other--', 'darke', 'dock', 'unfettered', 'shrunken', 'mazhar', 'bobcat', 'eli', 'thirsty', 'laughest', 'driving', 'fred', \"e'ne\", 'skirted', 'switching', '21:33', 'crowne', 'bethshan', 'envoy', 'norfolk', 'trivializing', 'continued', 'masoned', 'counsellor', 'hauocke', 'jewelled', 'gently', 'chicago', 'wormwood', 'strife', 'prankster', 'evangelicals', \"lung'd\", '10:1', 'drawl', 'holily', 'enable', 'inexorable', 'cloake', 'akrabbim', 'campos', 'visage', 'handout', 'grizzled', 'japanese', 'exerpts', 'solo', 'snail', 'alter', 'zabdi', 'misgiving', 'retrenchment', 'flatterer', 'vs.', '58:9', '35,000', 'adonijah', 'reef', 'doug', 'winged', 'opposite', 'retaliated', 'sickle', 'bragges', '96', 'really----', 'muscari', 'electioneerer', \"impell'd\", 'agent', 'flagging', 'security', 'murky', 'tantalus', 'prig', 'ashchenaz', 'prophetical', 'fashionable', 'undo', '20:47', 'smallness', 'rio', 'diseased', 'decreased', 'sarcastically', 'dubbed', \"amaz'd\", 'apprentice', 'alliance', '46:7', 'beforetime', 'perenara', 'jehieli', 'shamefully', 'sexual', 'yeast', 'roundly', 'repartee', 'description', 'expert', 'drest', 'tashtego', 'sagittarius', 'gov.', '37:23', 'slanting', 'adminstration', 'dyspeptic', '25:35', 'inevitable', '23:49', 'markest', 'attending', 'readeth', 'selim', 'buried', 'musick', 'signor', 'expectant', 'remotely', '25:19', '17:21', 'mutineer', 'learns', 'ankle', 'recorded', 'commissioned', 'candle', 'fruman', 'haunt', 'lst', 'centered', 'condescend', 'embryon', '45', 'ziza', 'buyout', 'choirul', 'goring', 'apprehended', 'brawn', 'gaddafi', 'southwest', 'elim', 'brookfield', 'mannerly', 'bless', 'gurglings', 'thunderstorm', 'ezer', '                                        ', 'splashing', 'cantabile', 'sedulously', 'ammishaddai', 'illness', 'grieved', 'gam', 'astrologer', 'harvest', 'partook', 'purchased', 'bernie', 'divorce', '106', 'automating', 'intently', 'moza', 'secularist', 'discoloration', 'lurks', 'delusive', 'sputnik', 'nipple', 'henry', 'florist', 'deerely', '10:44', 'rabmag', 'grabbing', '3:27', 'clifford', 'councell', 'snatch', 'populous', 'securely', 'gymnastic', 'assortment', 'thanks', 'bony', 'numbness', 'fugu', 'advisable', 'suspecting', 'tenderhearted', 'nominee', 'fey', 'refuseth', '1:19', 'westerhout', 'worsen', 'doleful', 'disagreeable', 'brutal', 'tombed', 'think', 'flabby', 'comparing', 'neziah', 'soonest', 'wanteth', 'distinctness--', 'considerate', 'softness', 'abeyance', '12:16', 'cybertruck', 'stumblingblock', 'failure', '55:13', 'apprehensive', 'macaroon', 'unabated', 'develop', 'obscured', 'tittle', 'force', 'netroots', 'banana', 'murderer', 'increase', 'sacrificial', 'heaving', 'albany', 'wanda', 'exaggerative', 'upborne', 'frightened', 'desirableness', 'themselves.--', 'trailblazer', '14:11', 'phrase', 'chivalric', 'dreame', 'resuming', 'ceaselessly', 'ninety', 'sag', 'sunset', 'eas', 'mall', 'scotchman', 'beggarly', 'throned', 'generation', 'drilling', 'noiseless', 'bethaven', 'pitchfork', 'asse', 'nelson', 'disbelief', 'demonism', 'ploughman', 'ferrule', '35:5', '19:20', 'snell', 'acting', 'wagged', '59:2', \"bruis'd\", 'swore', 'pretension', 'dismall', 'lawmaker', 'formidable', 'personified', 'sulkily', \"link'd\", 'praise', '53', 'humanity', 'welcoming', 'murth', 'qb', 'disk', 'deific', 'especially', '2.7', 'uzzi', 'brasen', 'staid', 'repel', 'rating', 'flooded', 'selloff', 'barak', \"seem'd\", 'danube', 'periodical', 'dined', 'advantage', 'violation', '69', 'brood', 'aloofe', 'dyest', 'apiece', 'refusal', 'floated', 'forbare', 'trespassing', 'concentrating', 'prevailing', 'midsummer', 'boyhood', 'superseded', 'adder', 'pai', 'bin', 'invents', 'comfortless', 'prone', 'graduate', 'cavernous', 'greenland', 'americanos', 'trunk', 'hater', 'disposing', 'unmoveable', '                                           ', 'blackest', 'asriel', 'orbed', '34:11', \"shunn'd\", 'lave', 'fared', 'theme', 'nominate', 'remade', 'tenon', 'trio', 'needful', 'mandatory', 'armchair', 'restrict', 'shown', 'committeth', '15:52', 'league', 'stuffed', 'tender', 'renounced', 'rounder', '55:5', 'fatphobic', 'midnight', '--\"narrative', 'boaster', 'defer', 'ethical', 'othniel', 'integrity', '9:9', 'boyish', 'terrify', 'accrued', 'rioting', 'partially', 'redwing', 'assist', 'exit', 'dwell', 'shinar', '8:33', 'bus', 'importance', '14:53', 'inviting', 'swept', 'shia', 'lowly', \"sway'd\", 'perfected', 'nonchalant', 'jeduthun', 'runaway', 'fit', 'naturalness', 'intending', 'whaleman', 'unni', 'scribe', '34:4', 'goddard', 'depot', 'insufferable', 'nutshell', 'affix', 'nuee', 'timna', 'lye', 'socket', 'squareness', 'prefer', 'encamping', 'poisoning', 'recall', 'circling', '1:24', 'radiantly', '4-minute', 'hodaviah', 'architect', 'electoral', 'slam', 'pahathmoab', '35:8', '26:29', 'impending', 'noms', 'it;--and', 'lovelier', 'dictatorship', 'several', 'roughly', '25:27', 'lurid', 'kathy', 'promulges', 'valverde', 'kilmeade', 'affirm', '20:24', 'hastie', 'polish', 'stuttering', '20:41', 'adamic', 'horeb', 'perfumed', 'goat', 'goney', 'scrubbed', 'tallow', 'leftwing', 'blasting', 'meagre', 'view', 'doing?--', 'vital', 'jeshimon', 'tarpaulin', 'um', 'smoking', 'eiffel', '23:28', 'mercia', 'proceeded', 'implementation', 'pervades', 'registered', 'shortness', 'herculaneum', '6:44', 'athirst', 'indeed.--but', '10:18', 'typo', '41', 'grievous', 'workshop', 'poverty', 'unfortunately', 'tonight', 'chirp', 'druggist', 'inhale', 'illusion', 'narrowed', 'android', 'verse', 'operated', 'robin', 'cheerful', 'bounce', 'girl--', 'constitutional', 'austria', 'groveling', 'flask', 'snubbed', 'stimulate', 'patentee', 'tarrieth', 'leaues', 'reinforcement', 'paling', 'facade', 'reapeth', 'catalogue', 'speedier', 'karabakh', 'chechnya', 'extremism', 'bason', 'congolese', 'transcendental', 'practical', 'semetic', 'have', '10:26', 'others', 'feasible', 'porus', \"nail'd\", 'seascape', 'gravitation', 'moneychangers', 'petr', 'tm', 'england', 'halsey', 'fetter', 'shoot', 'turnes', 'stanley', 'amorites', 'isle', 'darksome', 'dingy', 'fends', 'chrome', 'prey', 'mormon', 'female', 'jarha', 'utah', 'hallo', 'misanthropic', 'alluring', 'finis', 'flexion', 'cheweth', 'frosted', 'vegan', 'sha1', 'ipsos', 'nahum', 'orthodox', 'drury', '16.5', 'describing', 'laser', 'influx', 'docile', 'infuriating', 'acknowledgement', 'spanned', 'clearing', 'repulse', 'ear', '1789', 'ordinarily', 'hannity', 'greedy', '43:23', 'peeping', 'exxonmobil', 'unclosed', 'aran', 'aware', '31:45', 'counteracting', 'constantinople', 'outrageously', 'wickedly', 'chad', 'falling', 'aecon', 'heretofore', 'tribute', 'invoking', 'coping', 'faintest', 'bindeth', '5:20', '27:29', 'answering', 'ah', 'detestable', '10:22', 'despoiled', 'calmly', 'unpretentious', 'dwelleth', 'dictator', 'betraying', 'enrolled', 'interpreted', 'sentenced', 'shallow', 'dickens', 'fox', \"say'st\", 'plucking', 'rob', 'ebal', 'murdered', 'saddest', 'rechabites', 'e.', 'garnery', 'shrewdness', 'slighted', 'interpolation', 'seer', 'pergamos', 'dose', 'looked', 'calmed', 'listen', 'comprehensive', 'impulse', 'destroyest', 'iphones', 'widest', 'beatrice', 'scissors', 'oppression', 'eliahba', 'agreeing', 'browse', 'haft', 'permanently', 'besai', 'jollity', 'riyadh', 'puppy', 'shuddered', 'shade', 'improper', 'satisfy', 'dusky', 'winnowed', 'sullen', 'foreseeth', 'gum', 'carteret', 'huron', 'aborigine', '24:53', 'sprights', 'pivot', 'asserting', 'unconsumed', 'labyrinth', '29:36', '21:1', \"pack'd\", 'unfound', 'despitefully', 'rabble', 'exercised', 'yond', 'sumptuous', 'thai', 'topaz', 'safari', 'tendon', 'considerably', 'grandest', 'hugest', 'refuge', 'glowing', 'enchantment', 'almondiblathaim', 'dishonour', 'ignorant', 'unseemly', 'relying', 'makkedah', '57:7', 'treacherie', 'cortege', 'jehohanan', \"nourish'd\", \"by'th\", 'dumping', 'walkt', 'eastward', \"back'd\", 'residue', 'immensity', 'obtruding', 'crost', 'mummy', 'author', 'nyt', 'servile', '48:16', 'nabbed', 'vibrated', 'achievement', 'courier', '40:10', 'explaining', 'hamburger', 'already', '16:28', 'jether', 'braid', 'bridle', 'famishing', 'evil', 'pursue', 'mug', 'suck', '10:12', 'submerged', 'waiteth', 'undulation', 'huggins', 'gamaliel', 'esteeming', 'carmel', 'request', 'rendezvous', 'scoffing', 'shimei', 'convince', 'posting', '12:12', 'saying--', 'millstone', 'worked', '12:33', 'wizard', 'dresser', 'intelligence', '2024', 'exulting', 'coldness', 'sprouting', '13:4', 'read', 'explained', '1,292', 'nadab', 'dry', 'dirty', 'wednesday', 'periodic', 'multiplies', 'graues', 'donald', 'sliding', '2:32', 'steadfast', 'pure', 'lean', 'nisroch', 'toxic', 'carlin', 'rattle', 'investigates', 'awfulness', 'romney', '19:42', 'usurped', '6,000', 'sailed', 'kennedy', 'jae', 'goalie', 'piazza', 'knapsack', \"riu'd\", '41:7', 'corresponds', 'grapnel', 'sweetbread', 'joining', '63:11', 'ostler', 'deceiveth', 'expatiate', 'definite', 'habituated', 'held', 'sotai', 'sikh', 'fastened', 'mile', '10:27', 'cured', 'bevy', '58', 'heate', 'hateth', 'recited', 'witness', 'selected', 'copiousness', 'locket', 'wartime', 'coachella', 'photographed', 'evident', 'disrupted', 'slamming', 'clapper', 'they', 'closer', 'incumbrance', 'plying', 'leak', 'turpentine', 'seizure', 'simon', 'abolished', 'sierra', 'cavalier', 'remoter', 'asian', 'machinery', 'ashamed', '46:12', 'spoiler', 'indicated', 'tiglathpileser', 'varnished', 'indecency', 'deripaska', 'semitic', 'accuses', 'disperse', 'ashton', 'reince', 'ronny', 'unquestionable', 'scorpion', 'amminadab', 'interstice', 'matin', 'pac', '14:45', 'chappelle', 'longitude', 'tomahawk', 'kindle', 'aca', 'symmetrically', 'blinded', 'algorithmic', 'beehive', 'drastic', 'wounding', 'severity', '18:31', 'superstitiously', 'sentencing', 'harpooned', 'rhino', 'resisting', 'former', 'decanting', 'pout', 'skunked', 'burst', 'worldly', '25:18', 'abner', '20:10', \"tail'd\", 'champollion', 'unjustifiable', 'sweep', 'hinch', 'screw', 'deceased', 'sneering', '26:32', 'joyously', 'shuts', '43:14', 'funnelling', '31:40', 'equipment', 'convene', 'navel', 'aunt', 'sinkes', 'centennial', 'scanned', 'overruled', 'rapine', 'proclaiming', 'impeach', 'marketh', 'hamor', 'phillips', 'caroling', 'unprincipled', 'smile', 'guardianship', 'survive', 'banjo', 'jove', '27:30', 'treacherously', 'advisor', 'seruice', 'backgammon', 'wand', 'requisition', 'slaues', 'flippant', \"finger'd\", 'consumption', 'accordingly', 'flitted', 'christ', 'sha', 'may', 'stripling', 'candide', 'overgrown', 'carnal', 'salon.com', 'lighteneth', 'broom', '34:1', 'mayhap', 'crushed', 'mannahatta', 'abe', 'mull', 'respiration', 'carlyle', 'stateliest', 'philippic', 'causeth', 'remotest', 'indecorous', 'communicates', 'nbcuniversal', 'adultery', '27:40', '44:12', 'adullamite', 'thunberg', 'blindness', 'hawklike', 'ghostliness', 'handspike', 'indifferently', 'courageous', 'dough', 'depended', 'shaveddinov', 'ball', 'fabric', 'saviour', 'retracting', 'bethink', '24:45', '10:21', 'houre', 'endures', 'comic', 'presto', '41:6', 'danielle', 'aner', 'brave', 'cavity', 'reproaching', '22:29', 'retain', 'inmate', 'agag', 'befriended', \"publish'd\", 'lyme', '11:42', '49:33', 'zif', \"wee'le\", 'anew', 'comforted', 'shakedown', 'frigate', 'stainless', 'seale', 'inadequate', 'recoueries', 'stroll', 'converse', 'illogical', 'bravado', 'denier', 'blackrock', 'h_arbour', 'mithcah', 'tense', 'dunstable', 'shameless', 'dearth', 'rapping', 'curious', '3-year', 'repulsed', 'doze', 'defused', 'robustness', 'gangster', 'strawes', 'pennyworth', 'wan', 'bradshaw', 'peered', \"shelter'd\", 'neglecting', 'panic', \"compell'd\", 'recompence', 'maintenance', 'think----', 'augusta', 'vacancy', 'venturous', '24:15', 'nancy', 'ushered', 'poster', 'undertaken', 'labor', 'mute', 'understands', 'needes', 'dying', 'wilks', 'gloomily', 'equipage', 'lightens', 'dilating', 'satisfactory', 'stretched', 'texel', 'woolly', 'sweat', 'counterpart', 'endowment', 'task', '29:3', 'share', 'vrge', 'dandelion', 'peeped', 'adidas', 'degeneres', 'monopolising', 'milsom', 'lesse', 'sallu', 'atlantic', 'fittest', 'wilder', 'gnarled', 'dagda', 'taurus', 'illumined', '38:24', 'kompromat', 'interest--', 'soiled', 'mezahab', 'unfaithful', '253', 'glisten', 'impaling', 'unbound', 'spry', 'sheldon', 'kelli', 'spewing', 'askance', 'ambiguous', 'clip', 'dementia', 'loach', '55:12', 'going', 'toll', 'for--', 'medad', 'imagination', 'gho', 'almond', 'stiffen', 'odde', 'mane', 'invader', 'pathrusim', 'bowditch', 'undone', '56:12', 'zephon', 'bat', 'spluttered', 'flirtation', 'hezron', 'achan', 'case', 'category', 'whale', 'sumatra', 'fretting', 'bestowal', \"cross'd\", 'protest', 'skye', 'bataclan', 'call', 'magnanimous', 'cassock', 'abide', 'norton', 'beale', 'bleed', 'lighter', 'uttereth', 'stamp', 'disable', 'leaker', 'bushy', 'scotus', 'harville', 'mistake', 'traveller', 'cravat', 'felon', 'forsookest', 'shiny', 'riposte', 'dublin', 'inuk', 'harvestman', 'hatched', 'congregated', 'inherent', '29:30', '13:30', 'duellist', '78-member', 'strangest', 'swedish', '13:42', 'requireth', 'tends', 'heedlessly', 'switched', 'bounteous', 'knight', '23:7', 'francisco', 'vomit', 'mean', 'production', 'bruce', 'midwestern', 'defraud', 'flowery', 'roy', 'ubiquitous', 'that', 'detachment', 'laziness', 'heiress', 'hall', 'mascot', 'fitch', 'looketh', 'appalled', '12:26', 'same!--the', 'off', 'flye', 'check', 'glassy', 'elastic', '15:6', 'landscape', 'default', 'borderland', 'tri', 'wale', 'morter', 'tweeting', 'behemoth', 'darest', 'servitude', 'mal', 'retains', 'clowne', 'grasse', 'stacked', '8:2', '26:16', 'calp', 'inacio', 'unquenchable', 'give', 'yellowish', 'casiphia', 'legislation', 'zimran', '43:13', 'twice', 'sussex', 'woollen', 'lupercall', 'shuns', 'sordid', '5,000', 'exhaust', 'backyard', 'preexisting', 'discompose', 'kristol', 'uneven', 'stifled', 'v.', '24:8', 'resolved', 'importune', 'teachout', 'majority', 'challenger', '11:44', 'troublesome', 'baronetcy', 'suckling', 'subsist', 'partnership', 'puzzle', 'witchcraft', 'unobtrusively', 'caprice', 'desponding', 'waterpots', 'leah', 'juice', 'pitied', 'dunce', 'supremacist', 'kongers', 'sympathized', 'contraction', 'invoke', '39:22', 'bread', 'extravagance', 'ratcliffe', 'triton', 'edict', 'mt.', 'affront', 'dusk', 'nfl', 'memorial', 'starres', 'captivating', 'mauve', 'upharsin', 'laborious', 'amplifying', 'sprang', 'woe', 'substantiated', '35:27', 'determination', 'plaguy', 'fawning', 'talon', 'siam', 'resemble', 'ricans', 'occupying', '59:15', 'tahpanhes', '133', 'parti', 'espousal', 'hacked', 'vox', 'veteran', 'boasteth', 'thither', 'mulvaney', 'sanctify', \"hemm'd\", 'drave', 'winded', 'contrasting', 'druid', 'adviser', 'we', 'joanna', 'subservient', 'deliverest', 'amethyst', 'vampirism', 'escaping', 'inestimable', 'manslaughter', 'nikki', 'dread', 'tierce', 'orrin', 'sold', 'beware', 'retroactively', 'mechanism', 'intern', 'internally', 'nyc', 'canadian', 'gipsy', 'conception', 'bottomless', '11:51', 'irrevocably', 'accommodated', 'hymn', 'conceded', 'fatted', \"frown'd\", 'theoretic', 'crimson', 'harme', 'brutish', '19:7', 'like', 'fairfax', 'detain', 'gingrich', 'laundry', 'handshake', 'swarm', 'released', 'goshen', 'depressed', '0', 'joiarib', 'exxon', 'lustrous', 'furtherance', 'predator', 'indicating', 'unceasing', 'conscious', 'ligure', 'hooked', 'mackerel', 'psychiatric', 'aske', 'dish', 'overture', 'disingenuous', 'rate', 'astral', '17:27', 'saying', 'mostly', 'paumanok', 'idolatry', 'saith', '367,500', 'sutor', 'veal', 'destiny', 'clamour', '8.4', 'objectionable', 'dns', 'depending', 'dated', 'brewery', 'disporting', 'aslant', 'mingled', 'hick', 'kim', 'ruddy', 'loyal', 'colombian', 'accessory', 'consists', 'zalmonah', 'bedford', 'work', 'block', 'exhalation', 'dysfunctional', 'streaking', 'transposed', 'mentioned', 'satisfactorily', 'teamed', 'cheat', 'affraid', 'machpelah', 'indeed.--she', 'sense', 'ominous', 'marist', 'canst', 'finde', 'photoshopped', '33:25', 'fetch', 'individual', 'deerest', 'fallacious', 'emaciated', 'memory', 'provided', '11:22', 'daring', 'ebony', 'wiped', 'appointed', 'valve', 'uncontested', 'restrictive', 'greediness', '3:51', 'watchful', 'baalperazim', 'state', '50:23', '32:40', 'passover', 'inauguration', 'thieving', 'hate', 'petroleum', 'richly', 'toil', 'sheepdog', 'causest', 'determining', 'odium', 'misused', 'homeliest', 'donwell', 'swallow', 'decriminalized', 'livid', 'hackt', 'become', 'wight', 'rivulet', 'lifter', 'pit', '14:35', 'wickedness', 'juggling', 'repeated', 'longtime', 'temporarily', 'firewood', 'implanted', 'devoted', 'damon', 'israelitish', 'duly', 'fredriksson', 'wofull', 'spur', 'awarded', 'cleric', 'mccarthyite', 'travel', 'disrelish', 'sundown', 'pitchpoling', 'portrait', 'ban', 'criticizes', '33:23', '15:38', 'authoritarian', 'sweare', 'aux', 'forestall', 'rout', 'mogul', 'pizza', 'mighty', 'vagrant', 'vine', 'bangladesh', 'incontinents', 'grandson', 'senator', 'phrensies', 'madon', 'stillness', 'german', 'roome', 'wen', 'osr', 'teacup', 'sooner', '37:6', 'zuar', '16:12', 'airspace', 'endureth', 'ps752', 'ioue', 'effectually', 'bashfulness', 'airpods', 'commandeth', '428', '127', 'submit', '6:18', 'velocity', 'despised', 'heritage', 'obediently', '300', 'blossomed', 'wayne', 'partner', \"a'n't\", 'quadrant', '26:9', 'ha', 'zorah', 'rosse', 'timothy', 'england--', 'what', 'particularity', 'vacant', 'aureola', '44:14', 'abishalom', '5:27', 'respecteth', 'paycheck', 'lemuel', \"speak'st\", '30:38', 'businesse', 'larded', 'escheweth', 'abominate', 'candor', 'foote', '16-year', 'backlog', 'daytime', 'wanderer', '52:11', 'bithynia', 'capering', 'lungless', 'fruit', 'amply', 'figured', '16:47', 'lens', 'universally', 'dower', 'unsteadiness', 'section', 'inobled', '25:2', 'drowsy', 'bulging', 'cult', 'pelaiah', 'shame', 'dimpling', 'brauery', 'tyrannous', 'discouer', 'dexterity', 'edification', 'pad', 'hersel', 'made', 'imbedded', '19:14', '39:16', 'salman', 'victim', 'certificate', 'mould', 'artlessness', 'battell', 'chushanrishathaim', '24:33', 'seagrass', 'cubic', 'creeper', 'michael', 'hurled', 'shecaniah', 'wuhan', 'havin', 'exposure', '17-year', 'lewinksy', 'undiscovered', 'translate', 'mibzar', 'warmth', 'hitherward', 'courage', 'purifying', 'gratis', 'connected', 'lena', 'bulke', 'amiss', 'deceitfulness', 'botch', 'pledged', 'rueful', 'pa.', 'gout', 'strand', 'albright', 'dazzling', 'clapping', 'requiem', 'mirthful', 'stellar', 'moment--', 'swam', 'hashum', 'hull', 'travelling', 'drought', 'portuguese', 'spendeth', 'repressed', 'considereth', 'defined', 'operate', 'building', '43:27', 'radio', 'casluhim', 'malchishua', 'fetor', 'goo', 'alabama', 'unfair', 'goodall', 'thirst', '17:38', 'spar', '1999', 'intreat', 'virginian', 'humored', 'shoplifting', 'kite', 'game', 'lumber', 'wheaten', 'furnishing', \"join'd\", '27:41', 'signification', 'chaise', '27:21', 'nourishing', '27:43', 'inaguration', 'eruption', '33:21', 'proscription', 'sleeping', 'commencement', 'revellings', 'puncture', 'sabbath', 'interviewer', 'applicable', 'dab', 'vertues', 'admires', 'firkin', 'listener', 'hart@pobox.com', 'burnished', 'cameron', 'molasses', '5:39', '                                                          ', 'copenhagen', 'suavity', 'boldly', 'supt', '5:10', 'stirred', 'advising', 'fatfleshed', '30:13', 'cautious', 'data', 'testily', 'numb', 'sweeping', 'recess', 'receding', 'dud', 'sentimentalist', 'pillared', 'taipei', 'prosaic', 'operational', 'terrifying', 'saxon', 'remiss', 'scarlet', 'courageously', 'amazement', 'shews', 'backdoor', 'cast', 'criminologist', 'melancholly', 'unranked', 'novelist', 'shem', 'corroded', 'rally', 'donor', 'cellar', 'consoled', \"o'neill\", 'stone', 'publisher', 'rely', 'gleaning', 'fulfilled', 'criticized', 'piggy', 'illegitimacy', 'imnah', 'greenwood', '98th', 'gush', 'gezer', 'modesty', 'hunkers', 'sterning', 'iot', 'privilege', 'admirable', 'sentiment', 'tahpenes', 'prophesy', 'wrinkled', 'drum', 'bolivian', 'lettuce', 'separation', 'richest', 'deputation', 'merom', 'nattering', 'infighting', 'abihail', '7:42', 'groan', 'impassable', 'rein', 'induce', 'avatar', 'while', 'tuning', 'meremoth', 'ability', 'saint', 'lipa', \"anger'd\", 'denounced', 'kingston', 'hannah', 'forborne', 'pendragon', 'speckled', 'honouring', 'quarto', 'shipping', 'skilfully', 'sucke', 'bully', 'brampton', 'bounty', 'fluid', 'jeweller', 'moderating', 'neerer', 'hartzler', 'corn', 'supreme', 'accoutrement', 'dana', 'undefined', 'rich', '48:4', 'gan', 'aereal', 'reported', 'dove', 'fleshhook', 'bandied', 'umpire', 'antichrist', 'bridal', 'react', 'sheleph', 'automatic', 'overpowered', 'unceasingly', 'aiding', 'zucker', 'seal', 'parkinson', \"heau'n\", 'timed', 'bottom', 'seminary', 'stimulated', 'retarding', 'fervently', \"mouth'd\", 'catastrophism', 'wordless', 'delaware', 'congratulated', 'linear', 'friar', 'commonly', 'extolled', '45:12', 'zoo', 'orient', 'teat', 'eddie', 'thrift', 'maxwell', \"t'haue\", '62:8', \"steep'd\", 'buoy', 'snowflake', 'guttural', 'buddha', 'astray', 'lancelot', 'myrtle', '59:17', 'loftily', 'questionable', 'habitual', 'auctioned', 'sleek', 'archangel', 'unaccompanied', 'villainous', 'sombre', 'sparse', 'wto', 'fatall', \"pass'd\", 'carbuncle', 'chapiter', '6:49', 'suggests', 'exultation', 'adobie', 'doubtless', 'enrollment', 'lothed', 'killed', 'bbq', 'cox', 'imitation', 'sober', 'gao', 'aduise', 'stoppage', 'diverging', 'traditional', 'fade', 'th', 'zealously', 'vaccination', 'joe', '50', 'loosening', 'heinrich', 'piccola', 'grudge', 'imf', 'fasting', 'porthole', 'girdled', 'scarcity', 'unguarded', 'carchemish', 'irma', \"ar't\", 'coole', 'baritone', '7:28', 'tightly', 'spanning', 'measurement', '21:32', 'witnesse', 'sewer', 'coopman', 'hearsed', 'kgb', 'spaniard', 'darling', 'affluent', '34:21', 'detected', 'lemon', 'marvelled', 'tutti', 'hat--', 'unshored', 'firing', 'gaily', 'classroom', 'holdeth', 'contribute', 'stroking', 'hinting', 'commence', 'chatter', 'dreadfull', 'letteth', 'pontiff', 'conuey', 'saumur', 'decipher', 'downloads', 'finished', 'impenitent', 'claire', 'churchyard', 'expansive', 'teare', 'clog', 'agnes', 'association', 'dines', 'wrotham', 'regent', 'queequeg', 'anglo', 'catastrophe', 'using', 'tie', 'tooth', 'xv', 'beseeching', 'roadmap', 'prospers', 'planning', 'weighty', 'unsearchable', '42:18', 'brunt', 'aghast', 'shilhi', 'gladlier', 'wave', 'major', 'gainsaying', 'vindicate', 'reverted', 'sabeans', 'cornish', 'zimbabwe', 'ellenborough', 'ragsdale', 'chrisley', 'it.--it', 'bitterly', 'directeth', 'divine', 'germanic', 'invincible', 'feeling', 'delinquent', 'domineering', 'heave', 'sobbed', 'relief', 'distended', 'patel', 'standby', '19:26', 'obstructed', 'twirled', '9:1', 'appal', 'dally', 'punt', 'hopelessly', 'daybreak', 'shawn', 'delegation', 'batchellor', 'ephemeral', 'paradoxical', 'behaved', 'showery', 'incorporeal', 'aperture', 'wearied', 'judaea', 'idle', '32:34', 'grammys', 'rudy', 'awoke', 'simile', 'isps', 'royalty', 'hog', 'panado', 'littered', '17:14', 'forasmuch', 'constancy', 'overflown', 'aspersion', 'celebrated', 'rumble', 'pullback', 'intemperance', '6:70', '15:25', 'fmr', '44:13', 'josiah', 'bunk', 'dope', '31:49', 'said,--', 'rustic', 'elnathan', 'unsatiable', 'aaron', '15:45', 'lopt', 'haughty', \"smear'd\", 'sheepe', 'exhibition', 'innocency', 'if', 'fen', 'hagar', 'crowley', 'apparition', 'creep', 'debauchery', 'bogotá', 'deplored', 'meant', 'pedlar', 'mail', 'untellable', 'instruction', 'overwhelm', 'peculiar', 'sit', 'happinesse', 'giaour', 'mocking', 'benchmark', 'anah', 'designation', 'downy', 'universal', 'eltons', 'doeg', 'suffocated', 'bethmarcaboth', '24:24', 'assaulted', 'onslaught', 'drowned', 'noise', '48:32', 'halfe', 'befel', 'stag', 'recorder', 'wh', '6:53', 'aduancement', '99', 'nazarite', 'child', 'uniter', 'sling', 'bleating', '19:18', 'hawking', 'drew', 'extraordinarily', 'egypt', 'pitiable', 'bestowed', 'psychological', '4:35', 'bombshell', 'men', 'lethargy', 'rogue', 'comment', 'pet', 'spiralling', 'capsizing', 'slightly', 'presiding', 'gibbet', 'toilette', 'putrid', 'debt', '--a', 'efflux', 'fleshhooks', '31:36', 'horseback', '33:15', 'speaker', 'mockery', 'sterile', 'spiked', '34:16', 'renard', 'classical', 'zimri', 'glamys', 'jonathan', 'bulked', '9:14', 'manufactory', 'tulsi', 'privily', '19:37', 'superb', 'tipping', 'tease', 'companionable', 'scarcely', 'reacting', 'torment', 'inflicting', 'amplification', 'onam', 'heroick', 'anoints', 'impose', 'midget', 'wonderment', 'tout', 'app', '10:2', 'dissuade', 'heft', 'deleted', 'forenoon', 'cheere', 'lawgiver', 'discussed', 'spoil', 'signifying', 'impetuous', 'sharon', 'zacchaeus', '150,000', 'kuznetvoz', 'tremble', 'safeguard', 'mantelpiece', 'impelling', 'james', 'contribution', 'hoshea', 'aceh', 'stored', 'isolated', 'betrothed', 'siloam', 'chanel', 'cleanness', 'shine', 'verdure', 'recovering', 'articulation', 'errour', 'stopt', 'pull', '19:32', 'shadowes', 'cooperate', 'fillet', 'corrupt', 'weightier', 'ornamented', 'coloured', 'taal', 'unspotted', 'enveloped', 'mikhail', 'nick', '12:28', 'deformity', 'avert', 'photographic', 'investment', 'bravery', 'smallest', 'raisin', 'kimmel', 'oop', 'ospray', 'stoic', 'standard', 'cooled', 'comprising', 'rabbit', 'unrest', '2023', 'named', 'inventive', 'jamaica', '>', 'twas', 'sentinel', '10:39', 'thursday', 'nony', 'massa', 'declined', 'michal', '41:2', 'ranting', 'hindrance', 'incurably', 'dial', 'cherubims', 'deftly', 'disconsolately', '40:24', 'desire', 'hamilton', 'rohrabacher', \"lou'd\", 'became', 'squadron', 'emptiness', 'ouerthrowne', 'absurd', 'smiled', 'impressionism', 'seyward', 'despisers', 'magnified', '9:35', 'mattress', '30:25', 'sodom', 'underlying', 'santa', 'craig', 'jarah', 'realism', 'ceremonious', 'downed', 'simeon', 'meshullam', 'cooling', 'tightened', 'blandness', 'revile', 'sandwich', 'glorious', '7:66', 'brier', 'reticent', \"promis'd\", 'divestiture', 'legacy', 'chaucer', 'rehearing', 'surrounding', 'sutton', 'reveled', 'mixing', 'padded', 'shewed', 'clustered', 'contriue', 'lsu', 'disciplined', 'talker', 'radiant', 'appalling', 'heeding', 'myself--', \"thinn'd\", 'mcenany', 'abiud', '2:11', 'crisis', 'grub', '27:3', 'deficit', 'gahar', 'coach', 'maddow', 'pitieth', 'alicia', 'conspire', 'you--', 'ohio', 'closely', 'chaos', 'installed', 'eight', 'seaside', 'unkind', 'camphire', 'third', 'snl', 'isabella', 'chace', 'terminator', \"spann'd\", '30:32', 'pursuer', 'untempered', 'attent', 'interrupt', 'yonder', 'disciple', 'prays', 'tost', 'tink', 'engine', 'fading', 'goa', 'exorcism', 'aven', 'stats', 'ethanol', 'freewill', 'obese', 'drugg', 'judicial', 'mattenai', 'impatient', 'ziphites', 'obscene', 'briefly', 'hospitalization', 'trode', 'caterpillar', 'illiberal', 'sitting', '9:11', 'pardonable', 'vanna', 'grenade', 'generall', 'accepts', 'string', 'sport', 'cobalt', 'threshing', 'defray', 'surplus', 'beriah', 'lighteth', 'pulverizing', 'narrower', 'apartheid', 'joist', 'vapoury', '7:9', 'diplomatic', '32:17', '11:35', 'uninhabited', 'worship', 'middlemost', 'enwinding', 'pipeline', 'consisting', 'binge', 'vocalist', 'throng', '11:8', 'pew', 'steaming', 'rainbow', 'leather', 'airily', 'slashed', 'nut', '32:18', 'worth', 'expect', 'pill', 'fir', 'mixture', \"cool'd\", 'gone', 'sutors', 'shakspere', 'metre', 'rink', 'boomer', 'crest', 'maize', 'cfpb', 'inquietude', '34:24', 'cumbrous', 'h', 'grandpapa', 'chip', 'sighted', 'alhambra', 'volcanic', 'prayed', '14:52', 'zakaria', \"wreck'd\", 'thenceforward', 'waster', 'complain', 'caribbean', 'betrayal', 'yander', 'multi', 'hearer', 'equity', 'ensured', 'withstood', 'restive', 'olympus', 'damn', 'lasted', 'storming', 'pertain', 'porous', 'adar', 'chewed', 'clapham', 'swirling', 'linguistic', 'galley', 'greenness', 'hit', 'miry', 'innocuous', 'attractive', 'revealing', 'hopping', 'unprotected', 'roster', 'nonsense', 'resonant', 'unknowing', 'ootiful', 'knightleys', 'brooding', 'sparrow', '14:56', 'horizontally', 'divisive', 'heaven', '7:37', 'girdling', 'hollow', 'rnc', 'flavor', 'guessed', 'inn', 'gunmam', 'disdainful', 'brazil', 'captaine', 'large', 'defensive', 'moan', 'kicking', 'gr', 'courthouse', 'experience', 'challenge', 'cramp', 'narrator', 'carnival', 'obadiah', 'guinea', 'leo', 'terrours', 'ungenerous', 'rebut', 'pruitt', 'american', 'clear', 'ravine', 'schultz', '21:2', 'bestows', 'firstling', '55:10', 'marvellous', 'lick', 'anytime', 'furnish', 'warship', 'sandler', 'belie', 'unjustified', 'heartedness', 'wahsatch', 'novel', 'habitat', 'neighborhood', 'ventilator', 'foretold', 'doc', 'conspiracists', \"restrain'd\", '2050', 'thine', 'wentest', 'ripen', 'awaits', '8:17', 'defileth', 'refreshment', 'heavy', 'mermaid', '28:34', 'zorobabel', 'poultry', 'deist', 'conned', '26:36', 'sassy', 'queried', 'listing', 'musgroves', 'newton', 'reverenced', 'beheldst', 'confidentiality', 'carriage', 'cupboard', 'encryption', 'coast', 'adelson', 'chrintz', 'clangor', '26:30', 'rabelais', 'report', 'tahiti', 'hierarch', 'merari', 'opts', 'pregnancy', 'cuff', 'reuenge', 'kovalev', 'internal', 'operates', 'worne', 'truthful', 'gall', 'feb', 'panorama', 'dangling', 'calf', 'inflation', 'rugby', 'misery', 'overjoyed', 'expends', 'cheered', 'dreameth', 'servant', 'witnessless', 'proceedeth', 'downey', '48:11', 'thicke', 'jeremy', 'scandinavian', 'hunchback', 'elishah', 'preferred--', 'slick', 'ounce', 'cynical', 'fargo', 'cloudlets', 'painless', 'credulity', 'reacheth', 'texas', 'gartner', 'forster', 'centripetal', 'tam', 'winepress', 'hamlet', 'outline', '17:8', 'coastline', 'malawi', 'base', 'shrugged', '28:31', 'indolently', 'reignes', 'retrospective', 'bruise', 'anatomy', '24:39', 'unmarked', 'uncreated', 'tedious', '36:27', 'complex', 'inexplicable', 'sepharvaim', 'consequently', 'hardness', 'interpose', 'exaggerating', 'pickup', '65:9', 'amain', 'elementary', '6:20', 'shrimping', 'weakest', 'dub', 'steal', '39:18', '33:11', 'yaw', 'principle', '15:31', 'blankness', 'steeped', 'breech', 'smeared', 'shitshow', 'licencing', 'ahikam', 'depiction', 'jehonathan', 'shameful', 'modify', 'tride', '22:45', 'catastrophic', 'sun', 'pray', 'complacence', 'deckedst', '40:11', 'sundering', '66:16', 'plum-', 'traueller', 'prominent', 'export', 'shipwreck', 'gloriously', 'mad.--but', 'ze', 'charlize', 'railing', 'paypal', 'rubbed', 'conceiving', 'renowned', 'lirra', 'indistinctness', 'misapprehension', 'thrashed', 'expiation', 'diversity', 'fame', 'feathery', 'easing', 'lenox', '18th', 'lucid', 'authoritarianism', '                         ', 'armor', 'sleepe', 'sarandon', 'kansa', \"breath'd\", 'systematically', 'spitted', 'surmise', 'redistricting', 'sidonians', '20:39', 'cainan', '47:23', 'castro', 'angus', 'kalanick', 'jude', 'eu', 'guggenheim', 'either', \"fulfill'd\", 'ardour', 'rore', 'physeter', 'plausible', '60:12', 'drawled', 'endeavored', 'clergyman', 'rib', 'mourning', 'bounced', '6:10', 'cruellest', 'huckleberry', 'niche', 'cord', 'adullam', 'dophkah', 'shod', 'calamus', 'shoote', '25:33', 'fueling', 'mansion', 'limit', 'invent', 'civic', '3:46', 'beating', 'playboy', 'impertinently', 'thinketh', 'rideshare', 'automatically', 'prussian', 'rev.', 'hack', 'indeed!--but', 'reynoldo', 'genteel', 'doll', 'heedfully', 'impediment', 'probably', 'naivete', 'ark', 'culminating', 'uae', 'stringed', 'shouting', 'huge', '21:3', '200,000', 'lusted', 'confronts', 'pensacola', 'injure', 'loser', 'harvey', 'bantering', 'purport', 'louisville', '15:49', 'angrier', 'eliphelet', 'accent', '61:7', 'rumour', 'demoniac', 'caravan', 'poyson', 'foible', 'vicinity', 'ruggedness', 'indemnify', 'heal', 'tar', 'inaugural', 'hungered', 'laughed', 'mill', 'daddy', 'smarter', 'bullying', 'barrenness', 'jezreel', 'piety', 'clambered', 'cheer', 'tendril', 'random', 'returning', 'la', 'purposed', 'healthcare', 'chieftain', 'zodiack', 'intel', 'header', 'mrs.', 'chink', 'undress', 'broiling', 'sneaky', 'virtuous', 'hysteric', 'comedie', 'travailing', 'soundless', 'huh', 'demolish', 'terry', '30:10', 'unrestrained', 'championed', 'basketed', '27:20', 'orison', '8', 'irresolute', 'cliff', 'stoneman', '250,000', 'cattle', 'india', '18:32', 'carnally', 'kidd', 'carcase', 'humiliation', 'noel', 'troop', 'gnawing', '2.0', 'glu', 'answerer', '16:11', 'nat', 'crudely', 'wept', 'swordstick', 'resisted', 'reassures', '3:44', 'standstill', 'tray', 'tanker', 'breach', 'cyberwar', 'foxconn', '12:47', 'participate', 'right.--', '45:15', 'sacrament', 'ordained', 'battledore', 'seafood', 'hurtling', 'prostration', 'removed', 'sheer', '9:22', 'duncane', 'lister', '39:20', 'huawei', 'chopper', 'dame', 'sap', 'lo', 'radney', \"deny'd\", 'kennel', 'adventurer', \"proportion'd\", 'prohibition', 'kneeling', 'hori', 'impenetrably', 'bloatware', 'mansfield', 'jim', '7.75', 'depraved', 'pinching', 'homeward', 'enthrall', '2:1', 'anthropocene', 'prefers', 'inadvertence', 'pyramid', 'loafe', 'tony', \"cherish'd\", 'intimidation', 'pushed', 'poorly', 'adapt', 'ahab', 'noah', 'roast', 'eightieth', 'mcdonald', 'highway', 'naaman', 'lace', 'losse', 'powdered', 'beacon', 'b-1', 'suds', 'distil', 'terribleness', 'bunker', 'remove', 'raphael', 'luck--', 'nathanael', 'culturally', 'ruminated', 'demanded', '17th', 'responding', '-40', 'plea', 'uncouthness', 'involves', 'lifting', 'wakened', 'refrain', 'influential', 'oppressed', 'girlish', 'sample', 'swipe', 'astonishment', '19:10', 'hauled', '28:33', 'enormous', 'ehud', 'mow', 'knops', 'menstruous', 'erudite', 'goest', 'nicest', 'pound', 'talking', 'villaine', 'flieth', 'pork', 'nicholas', 'faltering', 'hastened', 'gen', 'lobster', '44:24', 'liberall', 'charge', 'heap', 'sneezing', 'ditched', 'tsa', 'pandemonium', 'pancreatic', '3,500', 'tels', '29:38', 'auarice', 'sleigh', 'meate', 'gasping', 'trustful', '27:23', 'benching', 'gowdy', 'where', 'pendent', 'dina', 'autocrat', 'commodity', 'concede', 'barred', 'tending', 'comstock', 'larkspur', 'tepco', 'hireling', 'burma', '26:31', 'pinioned', 'pointer', 'banqueting', 'door--', 'jewel', 'vanishing', 'refined', 'evinced', 'mindset', 'moreh', 'gayne', '666', 'require', 'tableau', 'buoyantly', 'celestial', 'appall', 'sheltered', 'voting', 'prowess', 'restoreth', 'prose', 'countervail', 'torrent', 'heman', 'tho', 'irrespective', 'thumbe', 'bath', 'winking', 'reelection', 'vigilance', 'nehemiah', '3:35', 'forbad', 'libnites', 'worthily', 'reception', 'jointure', 'slab', 'terah', 'adventurous', 'beseems', 'broad', 'precipitation', 'fluctuation', 'romantic', 'charing', 'compliance', 'cruet', '4:29', 'interfere', 'earns', 'heroin', 'conjecturing', '1:44', 'thornton', 'tiled', 'albuquerque', 'cockpit', 'picasso', 'oversight', '33:2', 'importunate', 'cybersecurity', 'phrenologically', 'fixable', \"ee'n\", 'cold', 'inflame', '900', 'rhetorical', 'acted', 'rascal', 'masaya', 'forced', 'erick', 'cohen', 'station', 'circumcision', 'tinkling', 'diplomacy', 'entranced', 'queer', 'dumah', 'wakeneth', '9:38', 'gateway', 'again--', 'causeway', '28:22', 'herder', 'expense', 'plate', '41:13', 'faith', 'do?--very', '5:5', 'trapped', 'industrial', 'quoted', 'peake', 'blotted', 'precise', 'deport', 'alert', 'counterpane', 'trudged', \"clinch'd\", 'newest', 'decorum', 'dilatory', 'actuated', 'whist', 'killest', \"serv'd\", 'malcham', 'san', '9:7', 'banded', 'clashing', 'nicer', 'serie', 'then', 'unusual', 'guru', 'euroclydon', 'imperiall', 'pillowes', 'bet', 'chain', 'countervails', 'pressman', '12:19', 'activity', 'excitedly', 'militant', '4:25', 'traveling', 'ilhan', '9:23', 'tuscan', '7:40', 'whip', 'fume', 'abruptly', 'oration', 'reverently', 'firstfruit', 'regardest', 'lamp', 'accompaniment', \"mark'd\", 'tomorrow', 'sri', 'stunned', 'viewless', 'vega', 'smilingly', 'arizona', 'accumulation', '6:71', 'length', 'a-', 'wedded', 'amateur', 'treasurer', 'reposing', 'vnworthy', 'restored', 'inseparably', 'phoned', 'selina', 'critter', 'palpable', 'whisperer', 'pinched', 'megyn', 'impoverished', 'deductible', 'emphasized', 'according', '58:4', 'glow', 'faithfully', 'mention', 'fornicator', 'galileo', 'piece', 'sing', 'python', 'leaky', 'yeeres', 'stedfastly', 'thrown', 'mouse', 'ted', 'photo', '11th', 'rotherham', 'transmitted', 'suffuse', 'unfelt', 'infaith', 'implicate', 'bildad', 'kusher', 'highminded', 'painfully', 'broil', 'doonbeg', 'dubke', 'forgot', 'graciousness', '48:5', 'bordeaux', '32:23', 'diggeth', 'cultivation', 'reject', 'enlivening', 'braver', '4:11', 'trek', 'indistinct', 'scented', 'soliloquy', 'surprize', 'sparerib', 'reg', 'preparest', 'solicitude', 'arah', 'grateful', 'reproved', 'murphy', 'shutdown', 'amok', 'blasphemeth', 'cleaned', 'evolving', 'loomed', 'effectual', 'platonic', 'bog', 'clipt', 'august', 'pagiel', 'weeniest', 'cunningly', 'embarked', 'nutmeg', 'presentiment', 'knewest', 'external', '1:1', 'carnage', 'corner', 'frozen', '61:5', 'quenchless', 'lome', 'bringest', 'patronage', 'curtsy', 'hasteth', '50:13', '2nd', 'spinal', 'resembles', 'thwart', 'timnath', 'firelight', \"establish'd\", 'quarrell', 'laid', 'ken', 'handling', 'bubbled', 'profoundest', 'princely', '5-year', 'potsherd', 'preaching', '18:28', 'endorse', 'tweeted', 'laugheth', 'jovial', 'zeeb', 'anticipatingly', 'repeatedly', 'pussyhats', 'planisphere', 'organizing', 'preserver', 'floating', 'tim', 'blank', 'bobbin', 'horrour', 'unfolding', 'saile', '31:13', '22:41', 'magian', 'alb', 'siamese', 'compassing', '45:1', 'hostler', 'outlined', 'maggie', \"a'most\", 'commenting', '41:22', 'hoisted', \"i'm\", 'dumpling', 'spare', 'chinatown', '27:8', 'bidder', 'edmund', 'exterior', 'tennessee', 'suburb', 'surname', 'pythian', 'mantling', 'h.r.', 'unbending', 'sloppiness', 'atone', 'unmeaning', 'road', 'nafta', 'crucial', 'feverishly', 'willing', 'sea', '9:26', 'liege', 'licked', 'bowled', 'seaward', 'insensate', 'nation', 'guildenstern', 'gradual', 'slaying', 'mart', '16:35', 'juventus', 'ground', 'huntsman', 'estimable', 'shrieke', 'sternly', '30:4', 'fructifying', 'resistless', 'kinder', '25:41', 'perplexity', 'weighed', 'unfaltering', 'tekel', 'diving', 'concord', 'stuff', '13:31', 'surrender', 'kyle', 'peg', 'lombardy', 'ate', 'crisp', 'promoter', '36:4', 'appals', '49:10', 'survivor', 'awry', 'watersprings', 'multiform', 'benghazi', 'pile', '65:4', 'upholding', '2:27', 'gratification', 'afghanistan', 'hooded', 'undersetters', 'continuous', '29:14', 'transcribe', 'impropriety', 'ugly', 'crimea', 'annuity', 'curry', 'dagon', 'sideways', 'test', 'routinely', 'shabbiness', 'himmalehs', 'emperor', 'grill', 'tiff', 'removeth', 'upside', 'tilt', 'suspiciously', 'dilapidated', 'sameness', 'rooney', 'supplying', 'multiplieth', '26:46', 'bruising', '450', 'bayonet', \"hook'd\", 'theophilus', 'surveying', '°', 'diver', '2-party', 'suspected', '22:35', 'bene', 'unobstructed', 'honoureth', 'linger', 'unpolished', 'thermometer', 'autopilot', 'remorselessly', 'severest', 'cycle', 'easily', 'piper', 'abiah', 'piped', 'veiled', 'botswana', 'accustomed', 'imposition', 'fattest', 'sated', 'jeffries', \"liuer'd\", '5:44', 'trestle', '13:38', 'reviewed', '48:30', 'unostentatious', 'befell', 'insider', 'education', 'v', 'safety', 'vampire', 'yawned', 'meddled', 'mitre', 'dowry', 'mecca', '12:11', 'aquarius', 'returneth', 'wallstreetpete', 'whereinto', 'wakeful', 'aggravates', 'overlook', 'earl', 'prehistoric', 'goldsmith', 'extremely--', 'uproar', 'palestinian', 'midships', 'palmer', 'enlarged', 'parroting', 'confesses', 'abiathar', 'favored', 'belt', 'load', 'delivery', 'iris', 'hosanna', 'dj', 'whiskey', 'monotonous', 'confidently', 'alleviation', 'fantastic', 'zurishaddai', 'difference', 'judiciary', 'tone', 'archly', 'preventing', 'fluency', 'marriage', 'twain', 'infancy', 'hackneyed', '41:29', 'foregoing', 'poysoner', 'volker', 'illustrates', 'huzzas', 'escalates', 'larch', 'untranslatable', 'own', 'lowest', 'endurance', 'displaces', 'sexuality', 'superior', 'feelingly', 'kingdomes', 'tusked', 'enemy', 'cot', 'rt', 'carrey', 'childhood', 'leaded', 'cease', 'stripping', 'augment', 'cracked', 'winde', 'remote', '35:23', 'reza', 'danish', 'shepherd', 'glance', 'furious', 'deplore', 'uphaz', 'lying', 'sardonically', '21:25', 'delusional', 'sufficeth', 'recuses', 'bail', 'commercial', 'omission', 'incomplete', 'purity', 'angelical', 'footage', 'sondland', 'sheep', 'willingness', 'rapist', 'swim', 'traine', 'seduction', 'chastity', 'fictitious', 'say----', 'russia', 'action', 'wid', 'prettily', 'entitlement', 'diligently', 'social', 'diabetes', 'cana', 'embodying', 'tiara', '26:42', 'keenest', 'adored', 'viral', 'swaggering', '16:27', '26:3', 'intolerant', 'sergei', 'rokovoko', 'abolishes', \"anchor'd\", '30:21', 'uncivil', 'canker', '12:6', 'mocker', 'corridor', \"witness'd\", '26:64', 'prong', 'ariseth', 'snowball', 'logical', '3:31', 'tricare', '15:16', \"liu'd\", 'dalila', 'outright', 'intrepidity', 'jabesh', 'greeke', 'philosophy', 'kong', 'assertion', 'assistance', '21:5', 'au', '6:67', 'ledger', 'padan', 'mangled', 'eats', 'surprizes', 'two--', 'explains', 'chinnereth', 'compelled', 'camp', 'fish', 'aliue', 'policy', 'mew', 'mercantile', 'baalmeon', 'sweaty', 'refutes', 'modem', 'opener', 'impassive', '29:40', \"purpos'd\", 'uncircumcision', 'disposition', 'perillous', 'slit', 'maty', 'streetlight', 'frying', '19:31', 'chelsea', 'princedom', 'hovering', 'boosh', 'rust', 'croft', 'woman', 'chickadee', 'doorway', \"destroy'd\", 'reverting', 'neil', 'highland', '10', 'combat', 'reaping', 'octauio', 'revocation', 'bankroll', 'heather', 'positive', 'brest', 'collision', 'chastise', 'crucified', 'priest', 'bezai', 'shaketh', '25:7', 'guerrilla', 'ebedmelech', 'accessed', 'untrustworthy', 'betwixt', 'mijamin', 'dumbe', 'purpose', '46:20', 'marchioness', 'stride', 'bed', 'godfather', 'undecided', 'seller', 'regretted', 'sad', 'shiloh', 'treasure', 'veracity', 'caput', '18:5', 'trembled', 'punctually', 'untasted', 'communication', 'hony', 'condolence', 'ijeabarim', 'believed', 'nawaz', '39:14', 'framed', 'viable', 'envying', 'crawling', '46:26', 'melon', 'anxiously', 'outlived', 'avast', 'gleamed', \"star'd\", 'imaginable', 'schwartz', 'expectation', 'delineated', 'exmoor', 'aloud', 'pedestal', 'chased', 'watcheth', 'comprises', 'deciphered', 'arbitration', 'regret', 'terrier', 'redstate', 'caressing', 'diffusing', 'lookest', 'withdraws', 'berkeley', 'nurseryman', 'ceased', 'skywalker', 'persuasive', 'breakfasting', 'blunt', 'rubio', 'trance', 'councillor', 'sixpence', 'enrique', 'acknowledge', 'peart', 'viola', 'hare', 'conveyance', 'testimony', 'titin', 'shell', 'erratic', 'quell', 'xiv', 'incorporate', 'visit;--', 'abnormally', 'racing', 'examined', 'vilification', 'masculine', 'scowling', 'aground', 'merited', 'usurper', 'tapper', 'unformed', 'selfie', 'findeth', 'irrelevantly', 'contemplates', 'adoring', 'danger', 'sobering', '10:8', '15:32', 'questioned', 'defiant', 'sergey', 'accc', '6:4', 'grin', 'disinvites', 'sympathize', 'snap', 'subscribe', '10:35', '14:10', 'ner', 'me.--', 'capital', 'humped', 'mistreating', 'firmer', 'sered', 'agitate', 'merely', 'proclaime', 'eldad', 'courteous', 'bluster', 'recurred', '7:52', 'özil', 'widening', 'trident', 'bernstein', 'pearly', 'freezing', 'softest', 'unconsciousness', '40:4', 'hena', 'clutching', 'newhart', 'debacle', 'highest', 'freshet', 'clanging', 'truest', 'funnier', 'leering', 'inconsistency', 'swearer', 'harness', '8,000-mile', \"stretch'd\", 'manoah', 'ingrate', 'sonnes', 'riveted', 'replacement', 'ago', '3:3', 'seaman', 'whizzing', 'iceland', 'fortification', '6:55', 'formeth', 'medes', 'miller', '18:44', 'relinquishing', 'huram', 'pilot', 'unwonted', 'lana', 'mix', 'filth', 'iannucci', 'aloft', 'palsied', 'unbounded', 'dross', 'clinched', 'heron', 'transgressed', 'scope', '4:47', '4:9', \"furnish'd\", 'setteth', '4:17', 'flinty', 'provocation', 'incumbent', 'shoving', 'oil', 'lightness', 'rood', '3:22', 'villainy', 'banned', 'hepher', 'cyberwarfare', 'placidity', 'whimpering', 'achor', 'offer', 'holley', 'disadvantaged', 'coffer', 'corpulence', '21:12', 'tenderly', 'greenlights', 'nothing', 'rogan', 'more--', 'pompeyes', '64:4', 'processor', 'matthew', 'signifie', 'ahlai', 'swastika', 'impart', 'laboureth', 'jong', 'gimpy', 'ticketing', 'precedence', 'claw', 'digestion', 'bewrayeth', 'shrewd', 'pining', 'dissolving', 'turkey', 'ruthlessly', 'overthroweth', 'diuinity', 'bucs', 'ash', 'unwholesome', '26:33', 'pc', 'hallooing', 'club', 'streaming', 'rippling', 'terror', 'instagram', 'swelled', 'ergo', '18:26', 'loup', 'adna', 'iscariot', 'motorway', 'unwinding', 'dense', 'gillespie', 'weibo', 'rained', 'certified', 'khashoggi', '12:15', 'prevented', 'addict', 'johansson', 'ransack', 'diplomat', 'personage', 'safely', 'jolt', 'museum', 'cardamum', 'fentanyl', 'harem', 'creepy', 'potter', 'roiled', 'informer', 'deserted', 'boldest', 'disconnected', 'hedwig', 'delight', 'dissembling', '12:50', 'witless', 'comest', 'calculation', 'languor', 'plunging', 'briskly', 'burgess', 'profusion', 'wrecking', 'se', 'prettier', '49:29', 'nebraska', 'aloof', 'spook', 'immigration', 'lavater', 'barter', 'unwilling', 'cauldron', 'curricle', 'sibmah', 'imperfectly', 'feebly', 'legalises', '26:44', 'runneth', 'drooped', '15:17', 'cork', 'grass', 'stew', 'proposing', 'headquarters', 'pantomime', 'starbucks', 'manuscript', 'longer', 'editing', 'mourneth', 'mace', 'bethlehemite', '35:19', 'presumption', 'pretend', 'exclusive', 'spark', 'hoop', 'roughness', 'ashur', 'plump', 'evacuation', 'spyware', 'vale', 'cabos', 'deare', '26:55', 'kant', 'flail', 'hadad', 'pride', 'gymnast', 'h.w.', 'absolved', 'lgbt', '40:3', 'incorruption', '2:15', 'jotham', 'pointedly', 'fantasy', 'attacker', 'hilariously', 'vimy', 'snobbish', 'obamacare', 'obsolete', '48:7', 'moue', 'guam', 'alan', 'pleasantest', '7:41', 'billy', 'genus', 'freelancer', 'bulletproof', 'gap', 'ship', 'displeasure', '38:13', 'launched', 'retrospection', 'framework', 'navy', 'spitzbergen', 'hover', 'coordination', 'accelerating', 'mac', 'wrongfully', 'addressed', 'expulsion', 'hoarse', 'cutlas', 'announces', '7:67', 'joked', 'blessedness', 'jihad', 'akkub', 'clave', 'insertion', 'splint', 'thee', 'officially', 'yell', 'wholesome', 'statewide', 'latifah', '                                                        ', 'vindicated', 'scrub', 'printer', '15:37', 'heated', 'you.--i', '35:25', 'herodias', 'intelligent', 'counteth', 'mumbled', 'tyrant', 'modulated', 'snaky', 'exertion', 'leopard', 'goalkeeper', 'scowled', 'suppressed', 'suspend', 'flay', 'trend', 'i', 'gunpowder', 'reparation', 'algeria', 'waked', 'hemp', '22:3', 'independent', 'noonday', 'tattle', 'secretly', 'joon', 'hanan', \"dy'd\", 'signifies', 'throttling', 'south', 'compulsive', 'secresy', 'motel', 'scoene', 'irreparable', 'ulysses', 'cited', 'consecrate', 'sewing', 'overdose', 'scribbled', 'hindoo', 'forepaw', 'carrie', 'disapprobation', 'macedonia', 'anxious', 'scoots', 'intimidated', '1:14', 'quarrelsome', 'sloop', 'taunting', 'fascistic', 'eyeballed', 'snatching', 'gether', 'wielded', 'abiram', 'pianoforte', '3:29', 'elm', '3:5', 'copulation', 'caphtor', 'miserable', '11:7', 'ermine', 'ignition', 'unequivocal', 'nor', 'tougher', 'castor', '15:56', 'parsee', 'tilth', 'plead', 'enclosure', 'thinke', 'burke', 'jean', 'hophni', '2:52', 'uninterested', 'verified', 'crested', 'harden', 'preparatory', 'amnesty', 'likest', 'rashly', 'taffrail', 'undercut', 'capitalist', 'newington', 'beef', '23:24', 'petition', 'sharkish', 'ny', '22-year', 'pastrycook', 'machu', 'restructuring', 'bandbox', 'peel', 'yea', 'poignant', 'incivility', 'yer', 'pimpled', 'sharpeneth', 'yeah', 'collaborator', 'paddock', 'glitter', 'philosophic', 'drove', 'gaffman', '18:38', '6.5', 'rampart', 'belly', 'glimmer', 'vinedressers', 'mell', 'slily', '4:39', 'reunited', '26:53', 'rove', 'damascus', 'windpipe', '13:41', 'orbit', '51:4', 'lover', 'lovest', 'triest', 'morey', 'enriches', 'jackal', 'hindermost', 'forgetteth', 'jurisdiction', 'iran', 'tarquin', 'spoutings', 'planet', 'avenger', 'parosh', 'zarhites', 'david', 'victual', 'gaue', 'receiver', 'coulter', 'discoverer', 'ecclestone', 'drab', 'seattle', 'gravel', 'sprint', 'inappropriately', 'upending', '5:4', '35:7', 'necessity', 'serle', 'gape', 'mingle', 'shot', 'lucre', 'pester', 'resists', 'ransacked', 'assisting', 'celebs', 'sinewes', 'crossness', '14:55', 'worse', 'handle', '38:7', 'paled', 'counterbalance', 'avoidance', 'trafalgar', 'loudly', '39:29', 'compliment', 'fda', 'bliss', 'deferred', 'shifting', 'hastily', 'forswearing', 'overtakes', 'opportunity', 'congresswoman', 'increaseth', 'fatigue', 'divinity', 'goliath', 'niebuhr', 'unfold', 'pittied', 'polled', 'suggesting', 'outburst', 'exceptionally', 'ownership', 'lowermost', 'in', 'abstemious', 'imagery', 'hurried', 'moustache', 'demi', '9:45', 'abrams', 'happens', 'propagated', 'futurist', '45:2', 'zuckerberg', '39:3', 'invasion', 'tug', 'cane', 'abominably', '15:18', 'livelihood', 'lawn', 'becamest', 'hearth', 'ajit', '35:20', 'implicit', '28:40', 'discountenanced', 'braving', 'transaction', 'readying', 'horonaim', '22:26', 'araunah', 'judgment', 'sunder', '22:51', 'shadowing', 'perceived', 'adjourn', 'exorcise', 'footstep', 'lawlessness', 'aviation', 'pushing', 'premium', 'illegal', 'desiring', 'fashter', 'trafficked', 'mediator', 'joyfully', 'disquiet', 'wasteful', 'exhale', 'zalmon', 'uighur', 'unadorned', 'instructer', 'pagoda', 'rafter', 'vaginal', 'poured', 'condensed', 'nihilism', 'emotion', 'loop', 'laudable', 'duty', 'nobility', 'oust', 'unattended', 'virginia', 'favourable', 'bunni', 'mi', 'the--', 'gravy', 'inserting', 'innkeeper', 'swaying', 'choral', 'banquo', 'seaweed', 'unbearable', 'prostitution', 'slice', 'spill', '773', 'kibrothhattaavah', 'surveillance', 'malc', 'misconstruction', 'accesse', 'pompeo', 'reliance', 'orlop', 'blunder', 'hudson', '23:26', 'convincing', 'philando', 'plus', 'edge', 'wrapped', 'stroakes', 'capeable', '14:47', 'spurne', 'esrom', 'horizontal', 'burglary', 'rusada', 'entereth', 'intreaty', 'tract', '13:43', 'loneliness', '48:31', 'acquitted', 'hostage', 'weathered', 'beautie', 'equates', 'inky', 'idly', '3:15', 'crowned', 'plunder', 'quakeress', '3d', 'blaspheme', '60', 'zechariah', 'ioc', 'elton', 'discharge', 'solicit', 'zervos', 'scud', 'bartlett', 'gorged', 'decimated', 'voiceless', 'hispanic', 'purified', 'cataclysm', '41:28', 'understandeth', '56:9', 'robbing', 'vagabond', 'quill', 'shooke', 'scabbard', '17:10', 'whelm', 'trumpeted', 'hug', 'imputeth', 'began--', 'enjoys', 'ofttimes', '45:18', 'sadder', '22:36', 'rephaim', 'brace', 'zoan', 'hecat', 'tirshatha', 'predestinated', 'crippled', 'seeke', 'neptune', 'tithing', 'nibble', 'outward', 'sell', 'stoutest', 'pinny', 'retrace', 'indianapolis', 'cerebellum', 'financed', 'aide', 'indiscriminately', 'phenomenon', 'gershom', 'error', 'undeveloped', 'knock', 'glimmering', 'doom', 'gogh', 'scanty', '41:12', '66:5', 'smaller', 'dreamt', 'ard', 'be', 'cooperation', 'misleads', 'brained', 'outstretched', 'luhith', 'turn', 'remonstrating', 'considers', 'threaten', '\"--she', 'compared', 'shewing', 'missed', 'aesthetic', 'mater', 'persevere', 'besor', 'skie', 'dwelled', 'subtlest', 'millo', '                        ', 'classmate', 'blacken', 'inviolable', \"o'clock\", 'tracing', 'inserted', 'fused', 'famish', 'pedigree', 'sprinkled', 'nahaliel', '51:3', 'confidante', 'lillys', 'sturdy', 'supercharge', 'unforeseen', 'whca', '1960s', 'cyrene', 'hichilema', 'warmest', 'enjoy', 'continuing', 'dissimilar', 'moulding', 'observant', 'definable', 'improves', 'grosser', 'trifled', '42:7', '9000', 'freaking', 'short', 'origin', 'informing', '40:6', 'delia', 'seeker', 'compassion', 'declining', 'neighbourhood', 'showdown', 'jacinda', 'handled', 'bareheaded', 'elbowed', 'nsw', 'chattering', 'vitter', 'loruhamah', 'triumph', 'ahiah', 'timor', \"lov'd\", 'me?--i', 'retaliation', 'equable', 'allegeance', '52:13', 'finale', 'writing', 'macian', 'phurah', 'kill', 'track', 'enumeration', 'hearing', '12:40', '57:3', 'crouch', '24:9', 'peer', 'effuse', 'seizing', 'backer', '1:8', 'gittite', 'crewkherne', 'account.--', 'outstanding', 'admirer', 'contract', '11:31', 'drunkard', 'kick', 'ferule', 'busting', 'sicily', 'saw', 'waver', 'kemp', \"veil'd\", 'asparagus', '44:26', 'follows:--', 'talbot', 'lagging', 'initially', 'revise', 'babel', 'crazed', 'blew', 'fulfilling', 'bloom', 'ballasted', 'peeling', 'significantly', 'govt', 'southern', 'gathereth', 'liver', 'pince', 'clenching', 'treacle', 'retrench', 'resentment', 'zattu', 'unmolested', 'wonderland', 'macedonian', 'vexed', 'hobby', 'hockey', 'microtargeting', 'mover', 'paddled', 'trafficking', 'piteous', 'sign', 'feather', 'execution', 'sanction', 'disgorge', '31:20', 'sung', 'che', 'oughtest', 'mumbling', '27', 'airborne', 'solely', 'furled', 'schoole', 'loophole', 'studied', 'typical', 'trial', \"kiss'd\", 'strengtheneth', 'reached', 'tried', 'sorry', 'turke', 'barcelona', 'jogbehah', 'formules', '17:40', 'succoth', 'censorship', 'implied', 'ay', 'allayed', 'shrill', 'culture', 'cruelty', 'disrespectful', 'stolidly', 'auburn', 'caroll', 'owne', 'world', 'n.f.l.', 'frontman', '85bn', 'barachel', 'detract', 'summon', '4:37', 'latin', 'vivacious', 'wore', 'lettered', 'philadelphia', 'ginath', 'ale', 'feebler', 'rectangular', 'amuse', 'this:--', 'pawse', 'uzza', 'breeding', 'muster', 'elam', 'joiakim', 'twinkle', 'without', 'drouth', 'unplowed', 'queen', 'ang', 'model', 'pur', 'canceled', '14:39', 'jakarta', 'highlight', 'opine', '16:6', 'asteroid', 'platte', 'impartiality', 'helplessly', 'administer', 'puissance', '1970s', 'g.', '23:13', 'sleeke', 'ftp', 'melania', 'widower', 'ballroom', 'shikoku', 'wake', 'destroying', 'waterside', 'baken', 'binnacle', 'doubtingly', 'indignantly', 'pilate', 'halloa', 'stance', 'assert', \"i'ue\", 'wallises', '32:26', '62:2', 'inanimate', 'technical', 'expand', 'gabon', 'coup', 'badly', 'denouncing', 'dabbling', 'propitious', 'table--', \"work'd\", 'quart', 'louisiana', \"desir'd\", 'infidel', 'unionizing', 'microwave', 'matron', 'clamped', '1973', 'software', '66:19', 'papered', 'them!--and', 'areli', 'distressed', 'globular', 'peale', 'altar', 'marrieth', 'unwitting', \"walk'd\", 'hanoverian', 'objecting', 'messala', 'kent', 'tesla', \"recall'd\", 'reformed', 'iddo', 'vehicle', 'bit', 'legalized', 'forgiveth', 'listens', 'lottery', '25:34', 'unrewarded', 'peach', 'tinned', 'proboscis', '26:22', 'onward', 'live', 'committal', 'scum', 'eject', 'moneths', 'expensive', 'opioids', 'roe', '8:27', 'shkreli', 'chatting', 'few', 'ranger', 'saylors', 'conjure', '31:15', 'supermarket', 'dash', 'nomorenazi', 'proffer', 'sucking', 'ro', 'prestigious', 'uninsurable', 'quest', 'dispossess', '1:17', 'secondly', 'vnderstanding', 'hazing', 'deflect', '737', 'nephtoah', '8:42', 'libra', 'sullenly', 'refresh', 'woodcock', '20:11', 'mareshah', 'concocted', 'wildlife', 'wily', 'usage', 'ratko', 'pilled', 'circumcise', 'competent', 'rehum', '5:25', 'gallery', 'interminable', 'overhung', 'brandon', 'govern', 'paying', 'marvellously', 'excellency', 'habitation', 'convenient', 'ekron', 'wonted', 'shining', 'knew', 'erased', 'promise', 'particularly', 'beautifully', 'nestorius', '2:47', 'honesty', 'minus', 'consoling', 'household', 'hostess', 'border', 'gaping', 'ploughing', 'waiting', 'crockery', 'battailes', 'nato', 'smelt', 'sabachthani', '10:20', '50:24', 'contest', 'fighting', 'dissatisfied', 'occupation', 'railway', 'soup', 'scott', 'enhance', 'fastidious', 'emitting', 'superficially', 'chavs', 'septima', 'rhododendron', 'dishonourable', 'marvelling', 'hatipha', 'wicket', '29:10', 'ophelia', 'blade', 'pestilent', 'ministration', 'concurred', 'congeniality', 'outstripped', '72', 'oann', 'manahath', 'cia', 'apparel', 'criticises', 'cafeteria', 'weepeth', 'concussion', 'persuadeth', 'formation', 'sixteenth', 'tankard', 'interfering', 'unpossibility', 'niro', 'prophesying', '13:23', 'gavest', 'eclat', 'takeaway', 'balboa', 'greatest', 'convention', 'him?--', 'forgetting', 'andiron', 'surmounting', 'ferry', 'winch', 'shun', 'jillian', 'meet', 'resumed', 'splice', 'vainly', 'madly', 'vial', 'enos', 'ethiopian', 'barber', 'persisting', 'newcastle', 'unasked', 'volunteer', 'suet', 'constrain', 'pinnacle', 'feebleness', 'builder', 'putney', 'discomfited', 'critique', 'strongly', 'nowarwithiran', 'portly', 'walkes', 'zelotes', 'operation', '58:8', 'housetop', 'bare', 'wheedle', 'solemne', 'highly', 'mince', 'more!--and', 'bilious', 'afterward', 'dressing', 'execute', 'banging', 'moone', 'dengue', 'cigarette', 'mortar', 'fatness', 'voterbase', 'ideal', 'philippine', '6:34', 'sweating', 'covfefe', 'pronounce', 'tireless', 'hillock', 'twig', 'given', '£', 'selecting', \"belou'd\", 'binary', 'bitter', 'reproach', 'bean', 'unlikely', '34:12', 'dec.', 'loftiest', 'impartial', 'naamah', 'rescued', 'foie', 'ammunition', 'bellow', '41:31', 'unembarrassed', 'bethought', '21:38', 'simmer', 'h2q', 'restore', 'depressingly', 'waxwork', 'modi', 'produced', 'murthers', 'colour', 'wither', 'boeing', '41:1', 'corporall', 'likely', 'compunction', 'foppery', 'circus', 'cherisheth', 'carstairs', 'transparency', 'ensamples', 'supercilious', 'emmer', 'democratic', 'grail', 'lieberman', 'marcellus', 'dive', 'glazier', 'seruants', '25:8', 'montana', 'fleeing', 'lihkg', 'cooperman', 'thus--', 'prince', 'barking', 'declares', 'dubosc', 'happy', 'menial', 'ahisamach', 'ludwig', 'jackanapes', 'flung', 'chesapeake', 'rumor', 'thatch', 'custody', '51:15', 'childishness', 'strove', 'droppes', 'repenting', '11:25', '62:1', 'talketh', 'gervais', 'frailest', 'hosting', 'frightbart', 'perfume', 'patagonian', 'blueness', \"question'd\", 'plaguing', '46:1', 'sycomore', 'debating', 'harpooneer', 'jeering', 'raking', 'transcribed', 'sirra', 'ambushed', 'endorsing', 'ineffectual', 'nevada', 'pm', 'commented', 'k', '40:33', 'wrestlemania', 'scientific', 'fortunate', 'jachin', 'deigns', 'repentant', 'semiautomatic', '93', '37:37', 'exasperated', 'alma', 'invented', 'soleimani', 'fearlessly', 'distanced', 'matched', 'peacemaker', 'ampler', 'swet', '37:25', '4:45', 'behoves', 'brokenly', 'unfolds', 'advertising', 'invaded', 'cecil', 'counsel', '62:5', 'azor', 'shook', 'nathan', 'spoliation', 'witnessing', '9:55', 'glaze', 'dye', 'session', 'maachah', 'prowling', 'rezin', 'antelope', 'enclosed', 'saucy', 'cradle', 'kinsfolk', 'britannia', '4:34', 'alberta', 'wapping', 'clearest', '51:21', 'guatemala', '11:34', 'bedstead', 'discovery', \"think'st\", 'burned', 'energized', 'notorious', 'opportunistic', 'choosest', 'venerable', 'michelle', 'sue', 'croud', 'pomfret', 'center', 'kanah', 'tekoa', 'baked', 'storing', 'antonio', 'stickes', 'noting', 'spareth', 'paire', 'larson', 'smart', 'stowaway', 'scrutinized', '41:33', 'presenting', 'arrest', 'matthias', '8:4', 'le', 'handful', 'southerner', 'valuable', 'uncleanness', 'wonder', 'fast', 'girl', 'shirley', 'carest', 'castile', 'daberath', 'tirelessly', 'write', 'ater', 'previously', 'izrahiah', 'effulgent', 'earth', '36:34', 'graven', 'sabotaged', \"glisten'd\", 'fact', 'amidst', 'position', 'completely', 'physiologist', 'kirjatharba', '51', 'refiner', 'yacht', 'jairus', '21:29', 'gerrymander', 'hamutal', 'jig', 'wait', 'slowest', 'minutia', 'ellison', 'wealthy', 'exceedingly', 'invaluable', 'chewing', 'forlorn', 'journalism', 'precept', 'twelvemonth', 'bull', 'crop', 'blind', 'perceptible', 'grassley', 'caroline', 'defence', 'profaning', 'citation', 'trade', 'permissive', 'coarseness', \"ask'd\", 'skeleton', 'heare', 'daryl', 'devastate', \"maim'd\", 'bachelor', 'lass', 'spear', 'zabulon', 'doubtfully', 'ainsley', 'individuality', 'auberjonois', 'brand', 'insurer', 'groomes', 'concernment', 'rest', 'sacredness', '25:10', '9:46', 'acquiring', 'adornment', 'got', '27:33', 'bonaparte', 'grilled', 'byron', 'spakest', '95', 'deliciously', '62,000', '20:19', 'lanka', 'confessing', 'indelicacy', 'rephidim', 'shelemiah', 'defiled', \"gather'd\", '15:19', 'stablished', 'desolate', '12:32', 'trip', 'swindler', 'fitful', 'breathed', 'jeremoth', 'rhythm', 'changer', 'copious', 'kuaishou', 'kirstjen', 'unwise', 'stepped', 'chimham', 'shampoo', 'symbolized', 'reservation', '780-day', 'crashing', 'inquisition', 'scrupulously', 'stumblingstone', 'mouldering', '11:23', 'gladly', 'compliant', '41:11', 'impresse', 'promulge', 'prehensile', 'padlock', 'polar', 'footsore', 'dreaded', 'pekahiah', 'subjected', 'baffled', 'mandalorian', 'earning', 'capting', 'celeb', '65:6', 'huda', '7:5', 'nonprofit', 'undistinguished', \"wer't\", 'suspends', 'wonne', 'drowsily', 'weariness', 'triangle', 'gps', 'sottish', 'heard', 'chalk', 'unendurable', 'recalled', 'incredulously', 'nailing', 'mosul', 'chesterton', 'benignant', 'ca-25', 'cubit', 'flattereth', 'zilpah', 'nonstop', 'access', 'prime', 'lava', 'dissent', 'want', 'well', 'too', 'perpetually', 'argues', 'deceiver', 'stepping', 'aslope', 'transparently', 'nethaneel', 'liveth', 'detour', 'umbrella', 'instead', 'isthmus', 'abstruse', 'abysm', 'mountie', 'address', 'buyback', 'concern', 'bethphage', 'fathom', '23:44', 'vowes', 'decently', 'blur', 'fielding', \"interspers'd\", 'elevating', 'rocky', 'harrow', '1.34', 'mildew', 'unprofitable', '30:31', 'wove', 'affordability', 'catacomb', 'tanhumeth', 'shobal', 'spiritualist', 'skipping', 'swallowing', 'droop', 'unbelieving', 'carlson', 'trinity', 'cabul', 'servitor', 'quilt', 'standpoint', 'chatterer', 'parted', 'price', 'denominated', 'declassified', 'requires', '9:19', '31:5', 'office', 'infra', 'life--', 'uncomfortable', 'flopping', 'stubbornly', 'reproachful', 'shaggy', 'cannabis', '1:20', 'identity', 'gentler', 'partly', 'mess', 'flowering', 'hailing', 'murellus', 'trivial', 'shemuel', 'approved', 'necke', 'unpleasing', 'identified', '11:3', 'useful', \"o'er\", \"finish'd\", 'deleting', 'contrast', 'rescinding', 'deny', 'pugilist', 'victorie', 'drawback', 'shrubbery', 'indirectly', 'consummation', 'personall', '33:10', 'of--', 'holocaust', 'lieutenant', 'xerxes', 'lain', 'switch', 'inclosing', 'comprehend', 'bunny', 'dominion', 'sarcastic', 'napolitano', 'speakest', 'organizer', 'archangelic', 'schiller', 'advocating', '26:40', 'crackle', 'meekness', 'followeth', 'underlie', 'adding', 'perishing', 'margot', 'pranked', 'at&amp;t', 'kindred', 'whosoever', 'wick', 'conversable', 'somalia', '6:12', 'sisamai', 'density', 'revisit', 'shaman', 'undeniable', 'mighties', 'eel', 'scolded', 'subside', \"crack'd\", 'nantucketer', 'misleading', 'hadid', 'broadcaster', 'genial', 'cherubick', 'withholding', 'audience', '59:8', 'asp', 'tumbler', 'maryam', 'africa', 'adieu', 'unconcerned', 'surry', 'intonation', 'm--', 'auditor', 'distinctly', '10:40', 'schoolmistress', 'fruition', 'converted', 'dimness', 'striped', 'fierce', '26:47', 'kurdistan', 'maine', 'manassian', 'credential', 'befriend', 'inhabited', 'affectionately', 'rise', \"resolu'd\", 'hood', \"scorn'd\", '6.8', 'virtual', 'freshness', 'twin', 'raiment', 'rapper', 'canavan', 'megadonor', 'singly', 'emergence', 'frowned', 'disregard', 'bestirred', 'whoring', 'basin', 'sinecure', 'repairing', 'ascribe', 'malluch', 'isolationism', '3-day', 'successive', '3:25', 'palestina', 'subterranean', 'drown', 'gleam', 'checker', 'masterful', 'scone', '                                      ', 'rationality', 'streame', 'heraldic', 'abdomen', 'reuerence', 'ist', 'sphynx', 'carrier', 'immense', 'bethuel', 'enfolding', 'robe', 'plaint', 'graffed', 'licensed', 'zeresh', 'dec', '33:9', 'illustrated', 'icicle', 'apocalypse', 'redeem', 'china', '32:13', 'soil', 'refutation', '50:10', 'voted', 'mode', 'ignominious', 'starlight', 'briefe', 'feb.', 'conversant', 'jordan', 'publius', 'clarify', 'ghetto', 'incidental', 'rounding', '1:10', 'eloquent', 'deafe', 'intolerably', 'unstoppable', 'whetstone', \"and't\", 'deigned', 'disadvantage', 'inscribed', 'gang', 'epaphras', 'thirsting', 'threatens', 'greybeard', 'wreck', 'straitened', '60:8', 'portcullis', 'repugnance', 'gibberish', 'ostrich', 'heaver', 'transgresseth', \"journey'd\", 'culprit', 'forbeareth', 'declassifies', 'unplugged', '      ', 'censured', 'campaign', 'eligible', '13:12', '12:25', 'virtually', 'brighter', 'chephirah', 'drunkenness', 'appar', 'lips--', 'stroke', 'proceeds', 'swelling', 'sweetening', 'repetition', 'affaire', 'meditative', 'mishma', 'assumes', 'twine', 'tweeter', 'sinless', 'baruch', 'untethered', 'doctored', 'rabsaris', 'abounded', 'nepotism', 'steadier', 'appeare', 'venison', 'attained', 'nahshon', 'forgave', 'treb', \"enter'd\", 'substantial', '14:14', 'quito', 'hillside', 'perfecting', 'numerous', 'bolting', '1:12', '29:12', '33:31', 'leaking', 'equatorial', 'gendereth', 'graffiti', 'juanita', 'manifested', '54:6', 'merge', '78', 'blueberry', 'stoope', 'obeying', 'mistifying', 'strafford', 'plunge', 'liability', 'drawling', 'prohibited', 'drinke', 'mikloth', 'ample', 'omri', 'ahiam', '47:9', 'acquiescence', 'herb', 'shouted', 'allows', 'ellasar', 'aspiration', 'enrogel', 'teneriffe', 'urgency', 'proekt', '37:19', '5:38', 'cheekes', 'unaware', 'unpardonable', '7:2', 'deliberating', 'enuious', 'cherethites', 'apharsachites', 'genubath', 'worldwide', 'amorous', 'reades', 'glee', 'covered', '9:10', 'staggering', 'joyed', 'indemnity', 'dented', 'tempestuous', 'infuriates', 'moral', 'cake', 'diffidence', 'deploys', 'latitude', 'winston', 'deficiency', 'oliver', 'extension', 'rap', '34:14', 'spikenard', 'mourner', 'masrekah', 'ablaze', 'house--', '30:35', 'agreed', '7:50', 'clearer', '12:4', 'harris', 'cancell', 'afd', 'neutrality', 'overawed', 'cased', 'manning', 'sunday', 'bendeth', 'promoted', 'hebron', 'diversion', 'installing', 'now,\"--said', 'clinching', 'yale', 'salesman', 'terminate', '7:72', '--edmund', '53:5', 'potiphar', 'immemorial', 'amused', 'charmes', 'wear', \"rous'd\", 'waging', 'axle', 'fragment', 'herbage', 'ally', 'crowes', 'ripe', 'panther', 'hol', 'engraver', 'emerges', 'caius', 'unwarrantable', 'disguised', 'rimmon', 'bakr', 'acquires', 'annoy', \"model'd\", 'devoting', 'imposing', '55:7', '11:5', 'jehozabad', 'et', 'caricature', 'jumped', 'number', 'roares', 'denizen', 'partied', 'roanoke', 'manxman', 'revision', 'ovation', 'sunwards', 'shaaraim', 'bumper', 'alyssa', 'rated', 'opioid', \"i'd\", 'sheshbazzar', 'beefsteak', 'attributing', 'sort', 'testifiedst', '10:47', 'burden', 'apu', 'bennett', 'marked', 'vicar', 'climb', '1:15', 'manslayer', 'it.--but', 'regulating', 'similarity', 'downgraded', 'economically', 'shimron', 'lure', '1928', '57:2', 'foreboding', 'pressure', 'punctuality', '26:11', 'doest', 'moulder', 'jairzinho', 'pneumonia', 'obstinate', 'verity', 'women--', 'brink', 'bodie', 'motley', 'bruited', 'imprudence', '24:18', 'submitting', 'electrified', 'achshaph', 'admonish', 'dulness', '36:29', 'methuselah', 'prima', 'angelick', 'bosom', 'leavened', 'seafaring', 'renée', 'anniversary', 'contended', 'thriving', 'earneth', 'apps', 'climbed', 'lobby', 'country', 'abusing', 'soberly', 'gorgonian', 'drinkes', 'someday', '                     ', 'considerately', 'remainder', 'benefited', 'scaffold', 'dissimulation', 'room--', 'sperry', 'paced', 'mobil', 'unstable', 'sheaved', 'taunted', 'mindedness', 'lingered', 'heist', 'exhilarating', 'mahershalalhashbaz', 'pethahiah', 'penny', 'albeit', 'picture', 'vouchsafe', 'hatchway', 'tweet', 'untimely', 'wipe', 'deregulation', 'rattler', 'slipt', 'iust', 'defensiveness', 'scorsese', 'boon', 'grayheaded', '2:8', '8:49', 'abihu', 'me.--i', 'vaunting', 'kicked', 'charlotte', 'quality', 'disinherited', 'foia', '32:21', 'refute', 'rightful', 'comprehended', 'ibc', 'meanly', 'resolute', 'suffer', 'legible', 'intensity', 'pertaining', 'fixt', 'stimulation', 'purloined', 'imaad', 'coated', 'jedaiah', 'chasm', 'oddly', 'trumpcare', 'touting', 'applaud', 'act', 'incurred', 'vinegar', 'acquisition', 'baghdad', 'cooking', 'orleans', 'favorability', 'harsha', 'pelethites', 'metro', '9:39', '21:34', 'sized', 'nachor', 'plummeting', 'shaker', 'quiescent', 'minutest', '28:29', 'unconquered', 'hora', '26:25', 'interdicted', 'hachilah', 'learne', 'clerk', 'exceeding', 'brightness', '7:49', '21:43', 'violin', 'giddy', 'useth', 'reliable', 'elemental', 'identify', 'orion', 'relationship', 'rapinoe', 'pacific', 'jackie', 'cristiano', 'evi', 'posturing', '16:18', 'lard', 'conwell', 'celebrate', 'reuolt', 'feedeth', 'overcame', 'frighten', 'hazarshual', 'withereth', 'strzok', '49:18', 'flash', 'lusteth', 'stretcher', 'acheron', 'viol', '19:9', \"goin'\", 'arrow', 'forgets', 'medicaid', 'arisen', 'housed', 'carrion', 'cosby', 'westgate', 'cenk', 'leanfleshed', 'goodliest', 'various', '43:28', 'organised', 'hostility', 'guiltiness', 'reagan', 'dislike', 'hearkeneth', 'palme', 'limiting', 'exalteth', 'develops', 'neurodiversity', 'driues', 'calmness', 'tiktok', 'thump', '37:15', 'forefront', 'patting', 'electroshock', 'reposed', 'steadiness', 'weasel', 'beer', 'unknowingly', '42:23', 'pack', 'asiatic', 'distrust', 'yorkers', 'teenage', 'drat', 'swerved', 'wrangling', '49:1', 'lynch', 'epa', 'curtis', 'smelling', 'storme', \"develop'd\", 'accomplished', 'faa', 'proofread', 'amputated', 'hvalt', 'slightest', 'ridiculous', 'bodkin', 'whining', 'mending', 'healthy', 'protegee', 'infuse', 'moisten', 'idler', 'additional', 'bended', 'ioyne', 'openness', 'kew', 'valter', 'cushion', 'cornwall', 'standoff', 'curve', 'bel', 'artillery', 'globose', 'eustache', 'impudent', 'wool', 'bezaleel', 'kish', 'recur', 'cenchrea', 'moderator', 'dispersed', 'truism', '9th', '40:36', 'rushing', 'thundereth', 'ditch', 'refused', 'stonewalling', 'assyrian', 'mettle', 'playing', '18:13', \"roam'd\", 'jenning', 'cash', 'pompey', 'obtaining', \"batter'd\", 'abstract', 'tsai', 'movable', 'voter', 'showed', 'termed', 'inhuman', 'departs', 'instruct', 'eder', 'consist', 'mobile', 'halcyon', 'crosshairs', 'dilemma', 'excessively', '47:10', 'terraced', 'gas', 'rodney', 'humorous', 'thinkes', 'abhorrest', 'orpah', 'whether', 'bipartisan', '47:7', 'shold', 'steering', 'borrower', 'critic', 'rcs', 'toucheth', 'wisdom', 'futurity', 'hilarious', \"call'd\", 'magdiel', 'fashioneth', '98,000', '25:20', 'bribe', 'ungenteel', 'distemper', 'red', 'hardest', '49:27', '36:22', 'unnoticeable', 'horites', 'yieldeth', 'admah', 'jennifer', 'portia', 'checkup', 'tolerant', 'imperceptible', 'stretching', 'agate', 'unwearied', 'ridicule', 'knelt', 'pimp', 'shawl', '12:34', 'illustration', 'annoying', 'condensation', 'compare', 'nourished', 'pathros', 'deliveredst', 'sh', 'cupola', 'untried', 'redeemed', 'gardiner', 'wittingly', 'ronstadt', 'follows', 'rowed', 'ben', 'maul', 'verification', 'insupportable', 'eh', 'maher', 'plug', 'enigmatical', 'hardship', '62:4', 'politics', '31:24', 'freshening', 'github', 'layeth', 'mechanic', 'lecturer', 'happily', '43:3', 'denham', '11:20', 'suffusing', 'aristocracy', 'reproacheth', 'mockings', 'bramble', 'preacheth', 'harodite', 'can', 'highness', 'gill', 'manilla', 'rancher', 'beelzebub', 'weep', 'ishbosheth', 'bureau', 'privateer', 'assembly', \"might'st\", 'tempting', 'beholder', 'youthful', 'lowliness', 'purplish', 'memorable', 'quire', 'dismay', '45:23', 'harangue', 'amended', 'concept', 'heartland', 'r.e.m.', 'gifted', 'npr', 'anath', 'elizur', 'emotional', \"sha'n't\", '49.9', 'circulate', '13:22', 'edication', 'knowledge', 'gotten', 'lewandowski', 'adopted', 'up', 'cornyn', 'ask', 'perplexing', 'exeunt', 'roar', 'atheist', 'bullfrog', 'salary', 'neutral', 'reliques', 'rental', 'aspect', 'actress', 'executor', 'puff', 'kerioth', 'farc', 'emprise', 'garment', 'excepting', 'plaything', 'vigor', 'rechab', 'yard', 'comforter', 'heinous', 'ciuill', '23:21', 'bap', 'cipher', 'stark', '24:49', 'moe', 'infidelity', 'deepening', '39,900', 'spoilt', 'heeded', 'uncover', 'shemariah', 'murder', 'mist', 'lounging', 'supernatural', '6:31', 'showts', 'whatsoeuer', 'burly', 'represents', 'insipid', 'affidavit', 'ensure', 'proud', '5', 'solicitation', 'nun', 'wax', 'investing', 'weekly', '43:6', 'steadfastly', 'veneration', '15:9', '8:40', 'rye', 'couldst', 'careful', 'quickening', 'turnbull', 'reporting', 'steersman', 'acquiesced', 'it!--that', 'metropolitan', \"sign'd\", 'whitened', 'mankind', '8:57', 'playful', 'slept', 'embellishment', 'quizzed', 'darting', 'resubmit', 'dmv', 'lt', 'sorrow', '25:3', 'kimia', \"vanquish'd\", 'hospitality', 'raiseth', \"curl'd\", 'azur', 'loading', 'japhia', 'human', 'sorceress', '43:12', \"sleep'st\", 'unmasks', 'benjamites', 'interior', 'overhaul', \"ye've\", '22.7', 'excites', 'landslide', 'suicide', '30:11', \"coffin'd\", '36:33', 'retrieve', 'kyaw', 'seemes', 'breath', '1:47', 'reuels', 'fin', 'joah', 'disclosing', 'dispensation', 'mither', 'inflamed', 'opinion', '23:47', 'committed', 'smartness', 'hazle', 'chamberlain', 'bereave', 'mobilization', 'nadler', '1:31', 'macb', 'havothjair', 'undisputed', 'apologizes', 'rationalistic', 'sinke', 'smoothness', 'sluice', 'loaning', 'condemned', 'throe', '31:37', 'felt--', 'herdsman', 'solution', 'supposition', 'facilitating', 'guy', 'pulitzer', 'golden', 'thunderstruck', 'loaded', 'manufacture', 'embolden', 'patrolled', 'greets', 'guild', 'inculcating', 'jewry', 'plait', 'guernsey', 'receiving', 'beholding', 'couching', 'releasing', 'hatefull', 'oppressor', 'improvisatore', 'justinian', 'belonged', 'good-', 'extremist', 'og', 'screen', 'descendant', 'staving', 'unsuited', 'abridgement', 'loosened', 'apt', 'placid', 'unconcern', 'inculcated', 'reciprocating', 'mountaine', 'rescue', 'iumpe', 'unsupplied', 'post', 'emboldened', 'atop', 'spoon', 'importing', 'quicken', 'shaveh', 'smashing', 'festus', 'porpoise', 'campaigning', 'plucked', 'vouchsafes', 'villain', 'caution', 'dreamy', 'chair', 'protoplasm', 'miner', 'privatize', 'alack', '23:18', 'heidelburgh', 'fare', 'seatbelt', 'ungallant', 'someway', 'cruz', 'overseeing', 'jehu', \"look'd\", 'walkest', 'barabbas', 'reconcile', \"brew'd\", 'shocking', 'rithmah', 'arbiter', 'dorsal', 'devonshire', 'combe', '61:8', 'patience', '42:10', '55:3', 'scariest', 'hold', '2:33', 'besmeared', 'rescheduled', 'balloon', \"roof'd\", 'frontrunners', '2:39', 'left', 'lustre', \"dishearten'd\", 'merging', 'pomp', 'crystalline', 'career', 'malediction', 'allegory', 'inert', '6:56', 'invention', 'hymen', 'annoyance', 'unlooked', 'chode', 'foundling', '600', 'effective', 'respective', 'valet', 'sallai', '46:16', 'safest', 'dominicho', 'fang', 'whipped', 'violetta', '12:43', 'fled', 'mclaughlin', 'costliest', 'reproachfully', 'me----', 'bermuda', 'malaysian', 'undermine', 'joaquin', 'spectral', 'primer', '65:5', 'tenantry', 'stricter', 'cnnpolitics', 'peeuish', 'offending', 'fed', 'progenitor', 'mitt', 'pleads', 'apprehension', 'undoes', 'naturedly', 'tardie', 'nickel', 'frolic', 'mingling', 'maned', 'alek', 'coll', 'sander', \"lipp'd\", 'considerest', 'collyogh', '1st', 'wigwam', '9:13', 'joram', 'travolta', 'subscribed', 'multiplicity', 'shudderings', 'copying', 'network', 'crude', 'tamar', 'biting', \"clutch'd\", 'uygur', 'ufo', 'wittenberg', 'marmalade', 'suppresse', 'janohah', '12:30', 'ordination', '16:20', 'neighbouring', 'waft', '3:13', 'sceptred', 'motioning', 'magnate', '49:32', 'adbeel', 'lifteth', 'stewart', 'prayeth', 'shooting', 'impair', 'wrench', 'ref', 'embattled', 'earing', 'jazz', 'prepossession', 'astounded', 'esports', 'ranke', 'anathema', 'feede', 'brawl', 'certify', 'peculiarity', 'encircling', 'listeth', 'benioff', 'subaltern', 'violoncello', 'wreak', '8:32', '63:9', 'equation', 'anoint', 'atlassian', 'hewn', 'approves', 'rivian', 'limbaugh', 'revolting', 'polonius', 'settled', 'meribbaal', 'fresno', 'actor', 'sublime', 'lion', 'soviet', 'bust', 'zebedee', 'unfavorable', '22:24', '8:31', 'wint', '38:9', 'staggered', 'alighting', 'appease', 'recent', 'betrayed', '3:10', 'cloud', 'berea', 'inasmuch', 'burnt', 'detailed', 'flurry', 'avoids', 'zippor', 'librarian', 'carbine', \"accomplish'd\", 'crimsoned', 'wrenching', 'sporty', '42:21', 'guantanamo', 'symbolic', 'wary', 'shalt', \"illumin'd\", 'fever', 'zeruiah', 'wildest', 'firefight', 'marie', 'vowed', 'liken', 'unveiling', 'postmates', 'perpendicular', \"s'pose\", 'ballast', 'arnon', 'gulp', 'ranch', 'ambergris', 'crawled', 'generated', 'incredulous', 'disobedient', 'shebuel', 'presence', 'self', 'darkened', 'japanned', 'eating', 'meanest', 'hindmost', 'declaring', 'troopes', 'demonstrator', 'underwater', 'black', 'gadarenes', 'contradiction', 'telescopic', 'jetting', 'flaky', 'smoothed', 'straining', 'finding', 'visit', 'gun', 'eldaah', '26:7', 'monotony', 'mene', 'rack', 'tekoah', 'arad', 'soul', 'manasseh', 'grone', '7:68', 'man--', 'carville', 'drama', 'labial', 'brooke', 'liquid', 'lad', '5:34', '44:6', 'inspiring', 'statement', 'ephah', 'misusing', 'negotiating', 'confluent', '9', 'vacation', 'hal', '2038', 'turbaned', 'readier', 'stoppeth', 'shepham', 'forthcoming', 'floweth', 'conversed', 'inexperienced', 'filthiness', 'frightens', 'sanballat', 'fastball', 'keener', 'shrug', 'lunatick', 'astir', 'answerd', 'under', 'helek', 'farre', '32:44', 'prepares', 'isolatoes', '4:42', 'gaiter', 'do--', 'grimace', 'funder', 'enchanted', 'shaven', 'unlighted', 'baana', 'marchand', 'fencing', 'scalia', 'begging', 'applies', 'qualifies', 'originally', 'nxp', 'tangle', 'colin', 'containing', 'boding', 'shape', 'needy', 'sojourneth', 'agonizing', 'hatest', 'operating', 'dictating', 'shingle', 'met', 'mahdi', '6:58', 'antidote', 'mum', 'value', '21:14', 'wafting', 'sparking', 'yielding', 'joy--', 'perused', 'forsaken', 'mouncht', 'cankerworm', 'unpunished', 'magog', '20', 'spoileth', 'laboring', 'poke', 'apologize', 'pattern', 'tyber', 'hazael', 'soak', 'weedy', 'dared', 'himself--', 'porch', 'silenced', 'stick', 'aurora', 'product', 'attired', 'precedent', 'visa', 'eyebrow', 'endure', 'painfulness', 'flipped', 'bob', 'accordant', 'favourite', 'mass', \"impress'd\", 'feathered', 'incomparable', '28:25', 'capitall', '20-week', 'unrolled', 'bane', 'bukki', 'darned', 'thumb', 'm.', 'n', 'subsidiary', 'verbally', 'pulse', 'outdone', '35:3', 'render', 'dispassionately', 'frighted', 'mealy', 'lauren', 'eliab', 'wmd', 'pocket', 'pacify', 'constructive', 'odorous', 'devil', 'perpetual', '8:8', 'twitching', 'playes', 'vernal', 'jabin', 'seate', 'refreshingly', 'uneasy', 'mississippi', 'tarmac', 'backlash', 'lends', 'von', 'exultant', 'cic', 'misfortune', 'comfortably', 'pharaoh', 'muscle', '38:26', 'hearted', 'ridden', 'contrite', 'conference', 'festival', 'bondmaid', 'sexton', 'discern', 'rousing', 'informed', 'jest', 'deferment', 'accepteth', 'mooch', 'indignity', 'unanswered', 'secretary', 'bayou', 'lodebar', 'starved', 'song', 'rickroll', 'medicine', 'particle', 'qassem', 'quohog', 'contemporary', 'agile', 'edward', 'swum', 'fifth', '43:1', 'perseverance', 'amour', 'adversary', 'informant', 'jebusi', 'dubious', 'chauffeur', 'kenite', 'agreement', 'intersecting', 'adamant', 'jemuel', 'hint', 'elzabad', 'abhorred', 'turk', 'racial', 'wishful', 'infosys', 'managed', 'ephesus', 'pollster', 'escalator', 'ithream', 'confrontational', 'tour', 'slandered', 'vegetable', 'dogging', 'theory', 'learnt', 'clouded', 'cabaco', '--or', 'outweighing', '17:17', 'wainscot', 'aroer', 'herr', 'disband', 'touch', 'steed', 'schumer', 'baladan', 'expectantly', 'cable', 'dessert', 'lectern', 'scarsely', 'mob', 'chicken', 'mike', '16:4', 'located', 'sleepily', 'zuck', 'emetic', 'arcadian', 'dodo', 'trusteth', '27:22', 'ungovernable', 'striding', 'reelected', 'edifice', 'smote', 'away', 'deckt', 'soothed', 'personality', 'haphazard', 'seen', 'transverse', 'overboard', 'jose', 'profession', '20:3', 'sufferable', 'despiteful', 'removal', 'arguing', 'exceeds', 'osiris', 'steered', '19:33', 'snowing', 'torn', 'wilfully', 'dismember', 'ply', \"birth'd\", 'harrogate', 'd.c.', 'bray', 'todd', 'unhealthily', 'pervading', '48:25', 'tragicall', 'libnah', 'veranda', '33:12', 'grandma', 'oftener', 'answerest', 'vilde', 'mate', 'wring', 'controversy', 'interpenetrate', 'epic', 'diuided', '2:51', 'laving', 'phrenological', 'heshbon', '36:18', 'swathing', 'hoof', 'beholds', 'gaunt', 'abram', 'drapery', 'trample', 'discharging', 'hammedatha', '19:29', 'buzze', 'holiness', 'haughtiness', 'idiom', 'assisted', 'homeborn', 'sovereignty', 'party', 'door', 'satisfier', 'chemical', 'projecting', 'failed', 'mikneiah', 'gobbled', 'infinity', '23:9', 'cbp', 'erskine', 'vitiated', 'preserving', 'unpremeditated', 'seene', 'bundle', 'affected', 'facility', 'insult', '?', 'darkening', 'republic', 'creeping', '1:29', 'begone', 'vexation', 'chinneroth', 'ashkelon', 'brightest', 'millionaire', 'hosing', 'leprous', 'esther', 'decked', 'somerses', 'window', 'repress', 'jot', 'grain', 'bethlehem', 'fomorian', '21:41', 'succession', \"tatter'd\", '3:30', 'ezra', 'alex', 'coward', 'tenant', 'cleansing', 'marsh', 'scarlett', '66:11', \"learn'd\", 'fate', 'musing', '1836', '61:6', 'russell', 'stalin', 'cawdor', 'ingredience', 'resign', 'flirted', 'scandall', '6:45', 'coconut', 'superber', 'tightens', 'breefe', 'airliner', 'gayhead', 'hinders', 'dynamite', 'harriet', 'ouer', 'leaveth', 'sought', '3.9', '43:2', 'skill', 'joyfulness', 'bewildered', 'microtransactions', '1.9', 'starlink', 'terrestrial', 'apparent', 'tension', '18:30', '24:23', 'derived', 'thicken', 'odds', 'faile', 'somerville', 'aslan', 'judiciously', '13:10', 'perga', 'pharisee', 'nationalist', 'linen', 'demeanour', 'start**the', 'aisle', 'cheerefully', 'artifice', 'ceasefire', 'spice', 'clank', 'parallelogram', 'jetur', 'trim', 'meditated', 'hbcus', 'horrible', 'faction', 'gnawed', 'admitting', '7:16', 'awakes', 'calif.', 'hiddekel', '51:5', 'unread', 'tripped', 'polluted', 'came--', 'soever', 'englishman', 'geun', '24:11', 'deformed', 'managing', 'robot', 'eroded', 'rambling', 'onesiphorus', 'crime', 'sex', 'crammed', 'sychologists', 'jehoram', 'unifying', 'shadiest', 'license', 'frontier', 'ebooks', 'ibleam', 'pliny', 'deadline', 'gust', 'bondage', 'discovered', 'wheeled', 'rebuilt', 'trevor', 'aboue', 'enveloping', 'timorous', 'haired', '33', 'stedfastness', 'cypher', 'undergo', 'francesca', 'purification', '3:32', '3:42', 'motiue', 'i.', '50:2', 'local', 'wapo', 'unionized', 'displaying', 'oppo', 'offended', '17:41', 'speaks', 'pi', 'environ', 'range', '16:31', 'embody', 'appreciate', \"kil'd\", 'groaned', 'turley', 'wafer', 'kin', 'hale', 'claimed', '1:3', 'realized', '15:15', 'singled', 'represented', 'dogmatize', 'mega', 'acquittal', 'heartfelt', 'eminem', '3:45', '37:4', 'plainest', '3:9', 'mutilated', 'filthie', 'mattis', 'maroon', '26:4', '1:25', 'spontaneously', 'guffaw', 'hardeneth', 'covenant', \"unrivall'd\", 'historicall', 'based', 'stringing', 'won', 'chariot', 'spinoff', 'owning', 'fiddle', 'spurn', 'trespasser', '47:3', 'choking', \"ne'er\", '18:36', 'laggard', 'sportsnet', 'striking', 'insurrection', 'zered', '20:2', '8:35', 'clocke', 'chedorlaomer', 'bahamas', 'bribed', 'heed', 'disloyal', '7:21', 'sabbee', 'etiquette', 'worsted', 'remonstrance', '1:4', 'bolted', '18:7', 'expected', 'antithesis', 'damning', 'barker', 'slapp', 'jailed', 'ghostly', 'thrice', 'preserveth', 'shophach', 'blazing', 'bot', 'dint', 'raft', 'jeered', 'meshillemoth', 'culpability', 'tussle', 'begirt', 'gibeon', 'gracious', 'dogges', 'lashing', 'useless', 'arthur', 'palmy', 'hampstead', 'ranked', 't', 'pullout', 'elpaal', 'limpsy', 'tv', 'teraphim', 'causeless', 'collapsed', 'birthright', 'endwise', '45:5', 'metallic', 'forewarned', 'encamp', 'empire', 'horror', '42:3', 'complying', '22,240', 'speake', 'choyce', 'battalion', 'holiday', 'jehiel', '87', 'leeward', 'pool', 'ascended', 'locker', 'unexampled', 'anakims', '5:45', 'leader', 'if--', '48:21', 'laconia', 'otter', 'disquieted', 'uncovers', 'unwaning', 'mishael', 'make', '8:15', 'ravening', 'feignest', 'testifieth', 'enlighten', 'lamentation', 'reiteration', 'whitson', 'silvery', '37:2', 'embarrassment', 'asunder', 'everlasting', 'society', 'preserved', 'freckle', 'pursuit', 'dogg', 'extradite', 'unaffectedly', 'extinguish', 'limb', 'conductor', 'jetliner', 'asshole', 'compasseth', 'henadad', 'spaceplane', 'beg', 'film', 'fortified', 'ipo', 'postilion', 'nearly', 'incident', 'b.c.', 'recommended', 'bullet', 'shrooms', 'raamah', 'haze', 'fearless', '34.5', 'success', 'zoar', 'termes', '15:29', 'grave', 'epsom', 'affiliated', 'lantern', '3:18', 'promenade', 'baalhermon', 'bewitched', 'booed', 'swollen', 'piercefield', 'you!--i', 'melodious', 'oversold', 'uncircumcised', 'inspection', 'me!--', 'baptist', 'innovation', 'civilized', 'told', 'stratum', 'osricke', 'complacent', 'curseth', 'brandishing', 'napoleon', 'cim', 'begat', 'reduction', 'advertised', 'disapproves', '3:49', 'wracke', 'pork--', 'buffett', 'erie', 'chess', 'verizon', 'headbangers', 'disordered', 'missing', '5b', 'provoke', 'contour', \"fool'd\", 'reasonably', 'hiss', 'rejection', 'entreated', '9:42', '6:57', 'sumatran', 'crusted', 'observable', 'poise', '46:3', 'manage', 'reality', 'looking', 'tarried', 'mentor', 'knotty', 'explanation', 'vaccinated', 'abominable', 'doubt', 'cernan', 'predecessor', '32:14', 'consultation', 'month', 'wouldst', 'suffocating', 'steadied', 'raise', 'azareel', 'inverted', 'outrage', 'ringing', 'aplomb', 'me--', 'replaces', '6:5', 'beno', 'wynn', 'consequential', 'unwaked', 'vibration', 'sabotage', 'waiter', 'telescope', 'coming', 'wouldest', 'unborn', 'cocke', 'cairo', 'quantity', 'hanukkah', 'proportioned', 'sided', 'ensemble', 'unshaken', 'wearie', 'street', 'launders', 'wisedom', 'contagious', 'mordecai', 'moderation', 'tingling', 'parturition', 'relish', 'antiquity', 'plucke', 'gene', '4:4', 'heifer', 'measure', 'rending', \"edg'd\", 'almodad', 'weaknesse', 'stumbling', 'hegai', 'subtle', '            ', 'inspecting', 'carl', 'springy', '60:6', 'entrepreneur', 'stephanie', 'minutely', 'abinadab', 'rimmonparez', 'sachem', 'scold', 'raisethewage', 'alleluia', 'spouse', 'il', \"vanish'd\", 'fiftieth', 'prynne', 'mackinaw', '6:2', 'cluster', 'lasting', 'chord', '30', 'zin', 'plumping', 'finest', 'plantagenet', 'susanna', 'extensive', 'exceptional', 'riding', 'sham', 'antifa', 'dishonor', '13:46', 'gareb', 'assuredly', 'wintry', \"sheath'd\", 'forming', 'lump', 'ginsburg', 'pint', 'reunite', 'nearby', '22:46', 'purest', 'indiscretion', 'ultras', 'minute', 'approaching', 'run', 'twelue', 'exploding', 'lustily', '3rd', 'villaintropic', 'foxnews', 'inflated', 'garb', 'reubenites', 'hashabniah', '12:48', 'ai', 'bunger', '3:6', 'sewed', 'vail', 'once', 'contained', 'deprived', \"unreck'd\", 'sihor', 'forgiving', 'bladder', '50:19', 'reimposes', '44:22', '66:3', 'resort', '28:15', 'commercially', 'bab', 'ostentation', 'processe', 'concupiscence', 'defrauded', 'deceitfully', 'sharper', 'aaronites', 'soule', 'voiceover', 'barlow', 'thinker', 'pampas', '7:30', 'netophah', '5:24', '5-point', 'tesco', 'allegedly', 'passage', 'jane?--', 'cerulean', 'arose', 'akin', 'cracke', 'mead', 'manufacturing', '13:36', 'oblivious', 'unbuild', '40:19', 'adorned', 'rare', 'maryland', 'thrusting', 'crape', 'besought', 'accountable', 'excessive', '64:7', 'ceo', 'tertullus', 'nobler', 'dilated', 'obey', 'whisker', 'attraction', 'infernal', 'cheran', 'insert', 'reformation', 'mazda', 'emulous', 'generate', 'eiu', 'submits', 'admonishing', 'small', 'transgressing', 'pedro', 'mina', 'quelled', 'tirade', 'electrocution', 'ignoble', 'fomenting', 'explosive', 'liftest', 'myraculous', 'womensmarch', 'matt', 'mixt', 'erect', 'dividing', 'nonchalance', 'seymour', '195', 'swathed', 'knead', 'aggregate', 'abc', 'watchman', 'hellish', 'nye', 'pageant', 'fearfulness', 'semblance', 'airy', 'passest', 'parried', 'especial', 'excludes', 'bashan', 'ding', 'commonplace', 'refine', 'flippancy', '1:21', 'slope', 'seekes', 'asker', 'bond', \"had'st\", 'inferiour', 'superlatively', \"quench'd\", 'cockatrice', 'deal', 'godmother', 'corruptly', 'applauds', 'stripped', 'atoned', 'giveth', 'gomorrah', 'randalls', 'footed', 'eri', 'stupid', 'stringy', 'sheriff', 'classification', 'omnipresent', 'quaternion', 'stack', 'shanghai', '39:5', 'watson', 'miami', 'degrades', 'kiev', 'zacharias', 'zur', 'exeter', 'wherefore', 'aspired', 'treadeth', 'potomac', 'outrun', 'beret', 'cue', 'pours', 'transpointed', 'quitted', 'completing', 'liveliness', 'favour', 'supplementary', 'preemptive', 'emblematical', '64:9', 'seaport', '14:17', 'hectic', 'confirms', 'allen', 'hawk', '11:26', 'palin', 'pannier', 'immoderate', 'monk', 'grammy', 'throttled', 'binder', 'roadside', 'keepest', 'tighten', '19:36', '    ', 'stress', 'packing', 'stra', 'enquiring', 'gedaliah', 'cud', 'faux', \"appear'd\", 'incorporated', 'afford', 'pallu', 'epaphroditus', 'ingratiating', 'deranged', 'inexpensive', '48:23', 'dismissal', 'cropped', 'combed', 'untoward', 'infers', 'ail', 'retreat', 'unwittingly', 'butchered', 'oakly', 'attest', '6:7', 'intercourse', 'orgasm', 'net', 'sanctification', 'dolorous', 'tangled', 'library', '8:37', 'cabbage', 'fe', 'sighes', 'mine--', 'reclaims', 'espied', 'diaper', 'guide', 'fran', 'receiue', 'x', 'mischief', 'stove', 'skeptical', 'cob', '67', 'cur', 'nagorno', 'ruminating', 'tanner,--but', 'backwardness', 'foretell', 'sleepy', 'uber', 'keeled', 'season', 'consequence', 'thundered', 'vapour', 'overwhelmed', 'historical', 'unfavorably', 'basest', 'ripening', 'usurpation', '15:12', '31:7', 'indulging', '470', 'turnstile', '77', 'surpassing', 'goethe', 'facial', 'winthrop', 'artless', 'ingrateful', 'pant', '85', \"pronounc'd\", 'hi', 'shuttle', '16', 'insular', 'dwelt', 'inure', 'jacinth', 'duration', 'generalization', 'farther', 'tallying', 'yieldest', 'cathnes', 'duckworth', 'honiton', 'confirmed', 'turban', 'fragile', 'toed', 'ithamar', 'axletree', 'impious', 'foyles', 'honey', 'derive', 'loosing', 'houer', 'dire', '1:18', 'ape', 'circuit', 'flap', 'arraying', 'tombigbee', 'irritating', 'poleak', 'loveit', 'correspondent', 'singling', 'roaming', 'erudition', 'travelleth', 'eyelid', 'sympathetic', 'casteth', 'holy', '47:18', 'sweated', 'deed', '5:19', 'hugh', 'azure', 'wriggling', 'here--', 'medallion', 'overlay', 'juda', 'maharai', 'befallen', 'spirited', 'mered', 'sulky', 'dutiful', 'swirl', 'opposing', 'linux', 'tragedie', 'chomsky', 'burnett', 'scoena', 'chebar', 'charcoal', 'apothecary', 'regardful', 'encore', 'cornet', 'elkanah', 'huddersfield', 'hayden', \"dinah'll\", 'shoulderpieces', 'redder', 'f*cking', 'daintiness', 'tank', 'pashur', 'hatach', 'perdinavititis', 'suliman', '21:40', 'quizzing', 'asked', 'knobbed', 'secret', 'unsettle', '18:1', '28:37', 'eltolad', 'studded', '18:6', 'vaguely', 'presbyterian', 'galway', 'embracing', 'spray', 'kissed', 'implacable', 'fingerprinting', 'specify', 'confined', 'excellent', 'crimping', 'landed', 'grenadier', 'back', 'finally', 'wage', 'profiting', 'dealer', 'consciously', 'smacking', 'fine', 'nutt', 'ds9', 'conscripted', 'materialist', 'debtor', 'exercise', 'adamite', 'offal', 'vindication', '13:3', '9:49', '                  ', 'foresee', 'powder', 'filleth', 'frameth', 'ephrathite', 'poet', 'pro', 'bite', 'dogma', 'nsa', 'basso', 'unverified', 'recommends', '|', 'utmost', 'foreseeing', 'passable', 'date', 'parry', 'pinch', 'lengthwise', 'hereabouts', 'jazer', '                ', '13:48', 'manly', 'exactly', 'freest', '1:23', 'visited', 'weight', 'mariner', 'caught', 'tickling', 'unsuitable', 'restricting', 'distorted', '47:2', 'nebuzaradan', 'follow', 'rival', 'clasp', 'problematic', 'vulnerable', 'pasturing', 'affable', 'leafe', 'redresse', 'ruffle', 'pigmy', 'yawning', 'inside', 'keene', 'axis', 'concealed', 'tint', 'declared', 'unbolted', 'carter', 'hawthorn', 'grower', 'transplanted', 'tambourine', 'tanner', 'maturity', 'sandal', 'nightingale', 'omitted', 'who--', 'mab', 'denoted', 'clang', 'philosophs', 'myeshia', 'shrank', 'annexed', 'dawn', 'considerable', 'dibon', 'slackened', 'straitness', 'solves', 'glorieth', \"balk'd\", '9:34', 'gash', 'smuggler', 'superman', 'quoin', 'stake', 'expressly', 'poising', 'magdalen', 'status', 'thoughtfully', 'buryingplace', 'preston', 'adl', 'guilt', 'generosity', 'mesa', 'celerity', 'marksman', 'snowdrop', 'hawser', 'devoured', 'unlock', 'sacha', '44:30', 'hivites', 'shubael', 'forthwith', 'bedroom', 'chilled', '64:5', 'strives', 'forwarded', 'apostolic', 'accurately', 'clinic', 'bacchus', 'pitiless', '33:8', '2013', 'galliot', '27:13', '17:29', 'hypothetically', 'workwomen', 'begge', 'hezir', 'unbroken', 'devilish', 'watchfulness', '23:36', 'heeles', 'stiffening', 'imperialism', 'growes', 'famine', 'crunching', 'solve', 'helmut', 'sharply', 'regulate', 'laughed.--\"i', '27:37', 'foursquare', 'risky', 'franco', 'maniac', 'superfund', 'hooped', 'counterspy', 'reflection', \"lodg'd\", 'tinted', 'larsen', 'prodigal', 'fortitude', 'bar', 'cranberry', 'nimshi', 'seduced', 'trough', 'sock', 'mahlites', 'sounded', 'gallio', '26,000', 'mobster', 'pupella', 'crowd', 'repute', 'outcry', 'mizpah', 'terme', 'itunes', 'kosmos', '49:9', 'antichronical', 'astronomy', '1:35', 'gittites', '1:6', 'necessitated', 'await', 'milo', '34:10', 'roote', 'meal', 'patron', 'iraq', 'sagacious', 'anamim', 'sware', 'restaurant', 'grandly', 'proclaimed', 'hysteria', 'brad', 'bruite', \"untrimm'd\", '19th', 'lair', \"smutch'd\", 'kashmiri', 'egress', 'literally', 'spent', 'comb', 'payed', 'uri', 'trumpism', 'heweth', 'scarse', 'consultant', 'drowne', 'minibus', 'bloodthirsty', '8:36', 'untouchable', 'badlands', 'christian', 'magots', 'exhorting', 'gut', 'fanatical', 'glimpse', 'lanyard', 'reflect', '14:12', 'dutch', 'hose', 'achieve', 'implicated', 'tomb', 'enters', 'inconstancy', 'leysure', 'artificial', '39:13', 'ammiel', \"undisturb'd\", 'restitution', 't.i.', 'tapped', 'concealment', 'marshall', 'goatlike', 'whcd', 'unharmed', 'myth', 'supper', 'vantage', 'spruce', 'slain', 'curiosity', 'acceptably', 'departing', 'malchiah', 'drugmakers', \"burn'd\", 'hoax', 'blonde', 'soon.--', 'disposal', 'eliel', 'ruiz', 'enlargeth', 'eare', 'childless', 'shock', 'obdurate', 'netanyahu', 'enquirer', 'joatham', '14:33', 'forrest', 'netophathites', 'vesper', 'nose', 'nigh', 'meteorite', 'abiding', 'cotton', 'blamable', 'grated', 'cory', 'adjoining', 'jehoahaz', 'progresse', 'amounted', 'vertigo', 'shalmaneser', 'uglification', 'automobile', 'needest', 'lackest', 'disappeared', '14:49', 'hauling', 'milan', 'paste', 'curvier', 'striven', 'enlist', 'ascetic', 'rapt', 'propaganda', 'disdain', '29:11', 'peril', 'hedged', 'joshua', 'special', 'tipped', 'undertook', 'vet', 'dell', 'bizzare', 'pole', 'airstrikes', 'glistening', 'raucous', 'wrack', 'waif', 'seir', 'willful', 'irishman', 'golfer', 'collectively', 'rickety', \"fill'd\", 'immaterial', 'immediate', 'medical', 'freak', 'vietnam', '1820', 'monument', '6:69', 'surpasses', 'absalom', 'vase', 'client', \"flush'd\", 'fios', 'eziongeber', 'gentle', '7:55', 'hotly', '2:30', '51:17', 'banyan', 'heading', '12:24', 'equality', 'threshold', 'wandered', 'partisan', 'lavender', 'taper', 'specimen', '59:11', 'decius', 'swiftly', 'minding', 'beguiling', 'instructed', 'krusenstern', 'choked', 'trot', '42:8', 'bastard', 'gianforte', 'jesaiah', 'designed', 'lively', 'matrimony', 'stipulate', 'stammerer', 'footman', 'lycaonia', 'warp', 'tapping', 'saturn', 'deprecation', 'spake', 'madagascar', 'tiberias', 'physiognomy', 'jail', 'unnearable', 'mindes', 'taxi', 'delivered', 'depict', 'superfluous', 'bilhah', 'hopeful', 'abital', 'sermon', 'portland', 'lazarus', '33:27', 'amisse', 'viscountess', 'torpid', 'principality', 'unscheduled', 'saloon', 'paradise', 'sadism', 'sibbecai', 'oughts', 'growl', 'betimes', 'than', '40:5', 'zimmah', 'indisposed', 'rebuked', 'izharites', 'horrified', 'sleeplessness', 'machii', 'tow', 'delaying', '20:26', 'cheefest', 'lamppost', '20:36', 'nobost', '37:35', 'oratory', 'alarming', \"whisper'd\", 'columbus', 'serenely', 'compasse', 'support', 'signal', 'oppose', 'brit', 'baalzephon', 'sexta', 'bated', 'score', 'muffling', 'appellative', 'unusually', 'afforded', 'haka', 'trans', 'pertains', \"cert'nly\", \"leav'd\", 'amid', \"i'll\", 'terrour', 'unplumbed', 'forger', 'prepareth', 'immutably', 'zachariah', 'tappuah', 'brighton', 'athenaeum', 'motor', '62:3', 'who', 'sufferance', 'brigandish', 'closet', \"lock'd\", 'robber', 'recovery', 'deflects', 'shearer', 'yi', '32:41', 'belus', 'weares', '361,000', 'sleet', 'hattil', 'sickly', 'excite', 'legal', \"bloom'd\", 'infamous', 'priory', 'grandmama', 'progress', 'subverted', 'slipping', 'ericsson', '13-year', \"t'other\", 'ram', 'subtler', 'unchanging', 'say--', 'lavrov', 'shady', 'cell', 'purge', 'assos', '20:20', 'measuring', '14:6', 'andes', 'incongruity', 'sabaoth', 'northerner', 'wailing', 'flatter', 'parbar', 'spilling', 'interpreting', 'derail', 'washington', 'creditor', '58:6', 'opprest', 'braiding', 'yovanovitch', 'least', 'leash', 'logic', 'distaste', 'grumbled', 'periodically', 'exclusively', 'thistle', 'hygiene', 'ahitub', 'foundered', 'dragon', 'persuaded', 'easiest', 'dna', 'perturbed', 'capacity', 'jelly', \"confess'd\", 'publicly', 'easter', 'jeshaiah', 'sensual', 'flamed', 'incapable', 'supplanted', 'jamb', 'travaileth', 'confusing', 'compress', 'hezbollah', 'ex', 'st.', 'pitty', 'recast', 'trooping', '37:20', 'she', 'shore', 'alamo', 'correction', 'huzza', 'wrath', 'capacious', 'euphrates', 'leaf', 'planned', 'cessation', 'marigold', '9,103', 'unfamiliar', 'liberal', 'fiction', 'misse', 'pleasantly', 'tellest', 'vide', '28:6', '10-year', 'clamor', 'diesel', 'pall', 'reiterated', 'unmarried', 'voluntary', 'jeer', '39:2', 'earnestly', 'banishment', 'wicked', 'colleague', 'larder', 'replied', 'repaired', 'protection', 'limped', 'out,--', 'nader', 'matrimonial', 'euerlasting', 'courtier', 'planteth', 'spiritous', 'everybody--', 'nested', '14:57', 'selues', 'sowing', 'succumb', 'sennacherib', 'unmitigated', 'hierarchy', 'incensed', 'rationale', 'expedient', 'r', 'monopoly', 'desegregation', 'talkest', 'grog', 'hamongog', 'lacepede', 'begotten', '37:38', 'vniuersall', 'ennobling', 'sailor', '22:21', 'scarf', 'triune', '26:52', 'instantaneous', 'limbo', 'anomaly', 'offensive', 'conversion', 'weeny', 'blithe', 'bedan', 'emerging', 'memo', '26:10', 'sadness', 'mong', 'filibuster', 'diverge', 'comms', 'titus', 'considering', 'sightlesse', '25:5', 'ringbolts', 'shuhamites', '37:10', 'ruines', 'jarib', 'excel', '38:5', 'scot', 'convivial', 'undersea', 'idlib', 'examination', 'quintus', 'horridly', 'schwarzenegger', 'font', 'rumpled', 'ramadan', 'groundbreaking', 'seduce', 'caesarea', 'trained', 'alarum', 'cuba', 'lisbon', 'system', 'bandage', 'importation', 'fiue', 'bose', 'frode', 'woodhouse?--i', 'regeni', 'oh', 'redskin', 'cost', 'microsoft', 'soundness', 'coiling', 'eastern', 'rivera', 'squalid', 'darien', 'ogre', 'guitar', 'crumb', 'innocently', 'answerable', '31:14', 'jehdeiah', \"achiev'd\", 'wisp', 'expire', 'transfix', 'trouser', 'realization', 'epitaph', '4-year', 'animation', 'journeyed', '2.murth', 'indecent', 'youth', 'packed', 'huddle', 'vivacity', 'everybody', 'wonderfulness', 'dissolve', 'watt', 'bombed', 'gibbethon', 'smiling', 'rapacious', 'tipsy', 'herald', 'drieth', 'hope', 'lodging', 'crowdstrike', '42:19', 'jobab', '11:46', 'queerly', 'denuclearization', 'dangerously', 'feminine', 'achilles', 'effecting', 'boxer', 'vermont', '8:23', 'resplendent', 'gentlemanlike', 'dolittle', 'tyrannic', 'astounding', 'frind', 'coating', 'hai', 'helper', 'colt', 'ostentatious', 'repair', '64:8', 'jehonadab', 'brandished', 'minstrelsy', 'reverentially', 'demon', 'disjoin', '48:19', 'unlocking', 'summoning', 'strengthen', 'unsleeping', 'stonestreet', 'wasting', 'interested', '24:20', 'confidential', 'methought', 'kerry', 'electronics', 'braggart', 'commerce', 'recumbent', 'apex', 'hubei', 'joyful', 'reminding', 'annihilating', 'fickleness', 'occurred', 'replacing', 'vanisheth', 'complaint', 'protocol', 'abiy', 'accidentally', 'exploit', 'anticapitalist', 'afoot', '130,000', 'ferrying', 'surroundings', 'earn', 'barbary', '28:9', 'melchizedek', 'poetical', '2:31', 'riddance', 'chili', 'doated', 'intercede', 'steakhouse', 'tainted', 'bethsaida', 'branched', 'pakistani', 'persecute', 'megan', 'obserue', 'dolores', 'suspension', 'mired', 'translation', 'daubed', 'insect', 'partial', 'scorner', 'evolutionary', 'bethhaccerem', 'inexperience', 'gamy', 'religion', 'betsy', 'probation', 'kentucky', 'passionate', 'failing', 'ishmeelites', 'luxurious', 'incredulity', 'drugged', '20:32', 'cheefe', 'demonizing', 'complicated', '4:19', 'greenish', 'mushroom', 'arbitrary', 'occupied', 'mysterious', 'spurt', '1:45', 'platitude', 'pitching', 'jury', 'applauding', 'byrlady', 'ugliest', 'rag', 'nabob', 'joseph', 'thermal', 'needeth', 'barrow', 'golosh', 'investigation', 'zibeon', 'cummings', 'parting', 'disappear', 'hand', 'fret', 'boston', 'existence', 'impersonal', 'entanglement', 'astonied', 'sift', 'sneak', 'nastiness', 'vision', 'saoirse', 'espionage', '5:18', 'danny', '29', 'vary', 'massah', 'to-', 'tishbite', 'mightiest', 'farmhouse', 'dear', 'judgest', 'grego', 'fantasie', '9:24', 'eavesdrop', 'muffin', 'aggregation', 'hosted', 'radiating', 'hidest', \"scallop'd\", 'remarking', 'audible', 'flower', 'startling', 'legend', 'study', 'type', 'benwick', 'professedly', '420', 'shuni', 'chastened', 'far', 'intermit', 'confronting', 'resurfaced', 'immortality', 'westerly', 'spundge', 'park', '2:42', 'tut', 'koch', '33:28', 'requite', 'institutional', 'pompous', '36', 'kadmiel', 'retired', 'butt', 'composer', 'cause', 'hidden', 'recklesse', 'booming', 'craft', 'undersecretary', 'alongside', \"undimm'd\", 'tarantino', '9:29', 'formalization', 'ft', 'many', 'insulted', '19:12', 'roebuck', 'plan', 'spurred', 'blindsided', 'shimshai', 'handkerchief', 'endeavouring', 'thimble', 'audio', 'gatorade', 'every', 'verie', 'zone', 'hushim', 'apocalyptic', 'christopher', 'frankfort', 'undertaker', 'hefner', 'eccentrick', 'darius', 'observation', 'motion', 'keturah', 'shoreless', '52:9', '31:52', \"order'd\", 'salted', 'picket', 'wiretapping', 'hye', 'grumbling', 'baronetage', 'herod', 'separate', 'twilight', 'ahohite', 'overflow', '                 ', 'fledge', '11:49', 'col', 'excited', 'fiery', '12:42', 'ruffalo', 'tissue', 'nettle', 'jephunneh', 'paid', 'ijon', 'denouement', 'bud', 'rick', 'seized', 'covet', 'fiend', 'tolstoy', '32:24', 'inclosings', '31:32', 'horde', \"wash'd\", 'mediaeval', 'police', '1:33', 'quote', '72-hour', 'cony', 'loe', 'tariff', 'revoke', 'sorrowing', 'attaine', 'wellbeloved', 'sunflower', '2018', 'dynamiter', 't.', 'hostesse', 'frank', '168,000', '63:5', 'changing', 'llewellyn', 'bullock', 'virtuosity', 'dehumanized', 'valiantly', 'announcement', 'enrages', 'seventeenth', 'conjoined', 'dead', 'depend', 'knowingly', 'reviving', 'forever', 'agreeableness', 'stalemate', 'overheard', 'yoked', 'eclipsing', 'igor', '7:1', 'petrified', 'target', 'expose', 'rapturous', 'energetically', 'staffe', 'shoe', 'wilful', 'eliasaph', 'brig', 'unkindness', 'tenderer', 'squaring', 'revolutionist', 'applying', 'lingers', 'abstraction', 'adulteress', 'anointest', 'mendelson', 'scoble', 'ratified', 'encouragement', '12:27', 'dossier', 'meholathite', 'predestinate', 'crusade', 'promotes', 'brutality', 'harsher', 'leaping', 'malice', 'osbourne', 'inglorious', 'thriue', 'cassius', 'cocaine', 'propped', 'mesopotamia', 'salma', 'divideth', 'animated', 'jeopardized', 'croatia', 'warrior', '8:22', 'taxpayer', 'greene', 'ballynagrish', 'evoke', '20:13', 'leto', 'crispr', 'shafiq', 'glorifying', 'clutched', 'travail', 'untamed', 'humourist', '30:23', 'innate', 'ignominy', 'slammed', 'organization', 'pyramidical', 'salling', 'harmes', 'astride', 'mccain', 'ungodly', 'maid', 'fairness', '62:11', 'westminster', 'devour', 'imperial', 'merchantability', 'parole', 'dad', 'tilting', 'dishonesty', 'spiracle', 'dollar', 'divider', '76ers', 'feete', 'phone', 'verbal', 'sinkhole', 'realize', 'aquila', 'defied', \"envelop'd\", 'pulled', 'pilgrim', 'gobble', 'point--', 'sharpe', 'stead', '33:29', 'finisher', 'expressing', 'effort', 'wig', 'enscombe', 'segment', 'billion', 'macos', '13:16', 'understandest', 'whole', 'baalberith', 'swimmer', 'sunny', 'griffin', 'saul', 'spread', 'desperate', 'flowered', 'weighing', 'overdone', 'fable', 'vandalism', 'officiated', 'pear', 'countersign', 'maybe', 'blasphemed', 'jupiter', 'vain--', 'cloke', 'adjusting', 'earnest', 'decorated', 'begger', 'scorning', 'execration', 'knightley', 'holland', 'mother--', '25:39', 'biased', 'captiuitie', '29:9', 'involvement', 'celestiall', 'urchin', 'scuffle', 'arphaxad', '15:36', 'cybercrime', 'investigator', 'fairly', 'defected', 'cosmetic', 'answere', 'pitched', 'doubly', 'wheresoever', 'methodically', '31:35', 'postmaster', 'bowl', 'imagined', '45:14', 'omb', 'parricide', 'lent', 'armenia', 'barge', \"an't\", 'johnson', 'hesperian', 'vehemently', 'utensil', 'patronised', 'giue', \"open'd\", 'keepe', 'grovelling', 'silence', 'bick', 'camest', 'prayest', 'naturall', 'errand', 'neglect', 'incompetent', 'laboriously', 'unhappily', 'purlieu', 'lahairoi', 'almost', 'amd', 'clowds', 'retaliating', 'bridgegate', 'protruding', 'nigger----', 'toilet', 'musician', '1:16', 'retort', '44:5', 'topping', 'violently', 'vape', 'invocation', 'garrett', 'ezekias', 'limbes', 'intermitted', 'helkath', 'disputings', '12:41', 'nephthalim', '16:45', 'preuention', \"receiu'd\", 'julie', 'martyr', 'galatia', 'again', 'answeredst', 'confide', 'analyst', 'havana', 'enthusiastically', 'andromeda', 'longstaple', 'albatross', 'lightened', 'likening', 'melzar', 'program', 'matred', 'messias', 'harhur', 'conflicting', '47:16', 'play-', 'luther', '48:12', '35:29', 'haven', 'unheeded', '16:21', 'shinbone', 'glick', 'crew', 'todhunter', 'retaken', '356.6', 'ottawa', '17:36', 'zetham', 'precipitating', 'conviction', 'regarded', 'webster', '43:4', 'undoubtedly', 'uninterrupted', 'unreserved', 'hillsborough', 'loudest', 'mole', 'smeer', '10:10', 'hertz', 'mastodon', '60:11', 'engineering', 'inciting', '30:8', 'wail', 'accompanying', 'humour', '43:7', 'flanked', 'madden', 'rumbly', '1.4', 'unvaccinated', 'clothing', 'gull', 'fabricated', 'folio', 'trump', 'ioyntly', 'cooperating', 'cozening', 'pealing', 'empress', 'profess', 'tongued', 'henceforward', 'baldness', 'television', 'astonishingly', 'kirjathaim', 'darker', '18:25', 'evacuated', 'oklahoma', 'civility', 'protesttoo', 'patriot', 'then--', 'donates', 'carpet', 'shill', 'creation', 'condescension', '13.8', 'robbie', 'drive', 'undraw', 'appropriator', 'thereabout', 'tentative', 'gadites', 'canterbury', 'warehouse', 'scurvy', 'injury', 'centre', 'impeaching', 'clemency', 'driue', 'availeth', 'inextinguishable', '3:50', 'extortion', 'enjoining', 'quietest', '23:3', 'severance', 'guesse', 'dialect', '6:46', 'mast', 'iq', 'spurre', 'qualitie', 'restless', 'serf', 'overspread', 'anonymously', '17:26', 'unmannerly', 'guil', 'sweetest', 'zion', 'assembled', \"ma'am\", 'mercenary', 'reverie', 'alow', 'asuppim', 'censer', 'constable', 'fascinated', 'insensible', 'wwii', 'discovereth', 'mourn', '58:10', 'remarked', 'penuel', 'lancer', 'lamplight', 'sagging', 'jerked', 'specie', '13:45', 'captured', 'squeeze', '13:25', '33:22', 'heares', 'yearning', 'flaxen', 'fashion', 'tinge', 'shua', 'gladness', 'carnation', '7:33', 'attends', 'distribute', 'duplicate', 'exhausting', 'option', 'persia', 'tweetstorms', 'professionalism', 'panamanian', 'joky', '44:3', 'escalate', 'favourably', 'eluding', 'screened', 'tingled', 'termination', 'condescending', 'stacking', 'apprehensiveness', 'entrapped', 'cosine', '57:1', 'venice', 'ulai', '35-year', 'heterosexual', 'hod', 'finsbury', '9:57', 'stumbleth', 'asterisk', 'tugged', 'shelf', 'flawed', 'choose', 'genesis', '--ibid', 'annamaria', 'seth', 'surging', '                               ', 'failured', 'timeline', 'winnie', 'eclipse', 'grasshopper', '12:29', 'underground', 'cleverest', '10:30', 'soothing', 'explore', 'transpose', 'vndertake', '40:26', '33:33', 'metaphysics', 'thinned', 'cheek', 'recollected', 'mitsubishi', 'luke', '25:26', 'prescribed', 'badger', 'flatly', 'nil', 'contention', 'chromium', 'glue', 'achim', 'disintegrated', '32,000', 'renegade', 'me', 'musical', 'conveyed', 'niece', 'savaged', 'precipitate', 'jab', 'mathematical', '49', '40:22', '43:24', 'geniality', 'observing', 'spire', 'squint', '40:30', 'ahold', 'indolence', '58:5', '46:18', 'zadok', 'descends', '2:17', 'careen', 'calico', 'revolved', 'color', 'scoresby', 'tertiary', 'leape', 'blast', 'asenath', 'weakness', 'excelleth', 'intention', 'geber', 'softly', 'slows', 'giddalti', 'lashed', 'oilfield', 'cape', 'thinkest', 'theoretically', 'sept.', 'miser', 'enfranchisement', 'gowland', '2.6', 'expanse', 'attempting', 'dancing--', 'wrestled', 'brazen', 'fraser', 'davy', 'graph', 'snug', 'argall', 'procreation', 'least--', 'ingraham', \"com'st\", 'doorstep', 'paz', 'hawaiian', 'gift', 'crucify', 'julian', 'sparke', 'hook', 'bebai', 'huffman', 'purposing', 'eunuch', 'obviate', 'potentially', 'mutation', 'baptism', 'supportive', 'steeple', 'conjectural', 'accelerate', 'zebah', 'flame', '12:14', '2:4', 'liberty', 'ticket', 'burneth', 'sporting', 'deeming', 'verily', 'requisite', '34:25', 'disown', 'vntimely', 'drifted', 'contracting', 'uncharted', 'twere', 'sunrise', 'apparently', 'solitary', 'searcheth', 'build', 'close', 'al', 'duesseldorf', 'temporal', 'smut', '1.5', 'whistling', 'gloomiest', 'unfailing', 'rizpah', 'redeemer', 'insolence', 'silliness', 'impeachment', 'following', 'aggressively', 'blooming', 'knightley.--', 'creditloan', 'soleil', '39:6', 'budding', 'controversial', 'zebedees', 'infallibly', 'treble', 'rill', 'opprobrious', 'aristocratic', 'cramer', 'fooled', 'festivity', 'identifies', 'cincinnati', 'discovers', 'discreetly', 'credible', 'disregarded', 'sued', 'sucker', 'elate', 'appaim', 'possessor', 'jewess', 'drudge', 'rehabiah', 'wheedling', 'ox', 'accuser', 'miraculous', 'infinitely', 'levelled', \"determin'd\", 'repelled', 'discourse', 'mayan', '12.5', 'agree', 'levity', 'revealed', 'spring', 'fracking', '8:56', 'hazarmaveth', 'validation', 'withall', 'domination', 'wagon', 'flooding', 'suborned', 'lamenting', 'sublimed', 'ambassador', 'grandmamma', 'theatrical', 'stratagem', 'busiest', 'mr.', 'briefed', 'sinful', '30:17', 'ziba', '234,000', 'wolfe', 'abu', 'downtime', 'inconsistent', 'chittim', 'testament', 'reminiscence', 'regulatory', 'van', '14:30', '5:40', 'striker', 'atlanta', 'wrinkling', 'firstfruits', 'mossbonkers', 'witch', 'shimmer', 'shooteth', 'haspel', 'withheld', 'hast', '45:19', 'seemingly', '400,000', 'bigot', 'sheepishly', 'berrying', 'implant', 'actual', 'unpredictable', 'insuperable', 'stair', 'pitted', 'acid', 'paleness', 'unmeasured', 'mysteriously', 'know--', 'airing', 'carpenter', 'novitiate', 'secretive', 'elucidated', 'menacing', '6:9', 'adue', 'spasm', \"blanch'd\", 'crunched', 'transgender', 'ar-15', 'rush', '209,000', 'grotesque', 'assir', 'succeedest', 'gymnastics', \"heap'd\", 'prophesied', 'recruitment', '20:7', 'subtly', 'estranged', 'retrograde', 'mote', 'lovedst', 'attend', '65', 'imprisoned', '76', 'ever', 'mystification', 'menu', 'super', 'zambian', 'baronet', 'discerns', 'oval', 'progressive', 'transfigured', 'room', 'responds', 'sheen', 'unfairly', 'narrative', 'dinah', 'receiveth', 'gloominess', 'suggested', 'carcass', 'jochebed', \"crush'd\", 'voyager', 'her;--', '1990s', 'onanist', 'nephew', '10:16', 'tithe', 'moladah', 'marke', 'ashbel', 'unhealthy', 'lining', 'troubleth', 'manipulating', 'shudder', 'thaad', 'fitfully', 'puzzled', 'acceptance', 'ngo', 'velvet', 'piano', 'step', 'fowler', 'chapo', 'montano', '57', '9:43', 'villager', 'houston', 'yoake', 'nda', 'celebrates', 'dunsinane', 'thare', 'afresh', 'treatise', 'fitness', 'contains', 'helm', 'phinehas', 'sydney', 'ocasio', '180', 'swerving', 'klobuchar', '61:1', 'scepticism', 'apron', 'workforce', 'among', 'messrs.', 'floe', 'inclusion', 'senile', 'ceasing', 'vulture', '31:12', 'whitish', 'hydrus', 'instinctively', 'downcast', 'witchery', 'mixed', 'knotted', '25:24', '2:34', 'regularity', 'foremost', 'heathen', 'slipper', 'vacuum', 'decent', 'shattered', 'unintermitted', '34:2', 'declaration', 'wildly', 'fanaticism', 'encompassing', 'atm', 'abiezrites', 'leane', 'echoing', 'obliged', 'overshadowed', 'account', 'metellus', '9to5mac', 'powerful', \"fayl'd\", \"quell'd\", 'vanity', 'remaines', 'piqued', 'scrape', 'terminated', 'emir', 'insured', 'bethlehemjudah', 'populist', 'insomuch', '1492', 'natiue', 'immemorially', 'alcove', 'poz', '--sir', '8:18', 'gethsemane', 'incense', 'batten', 'all', 'habor', 'stylish', 'screed', 'volcano', '41:30', 'fairfax--', '56:11', '9:30', 'prodigy', 'asperity', 'offscouring', 'apologising', 'cultured', 'secrecy', 'mainyard', 'unpretending', 'establishment', 'spasmic', 'hadarezer', 'ibhar', 'see!the', 'unsettled', \"key'd\", 'downward', 'haply', 'accountability', 'entertainment', 'cachalot', 'nantucketers', 'preview', 'starkweather', 'countless', \"possess'd\", 'joking', 'convulse', 'hachaliah', 'notwithstanding', 'confer', 'ranking', 'reserving', 'aglow', 'circle', 'confederate', 'incorrect', 'eliezer', 'spike', 'leasing', 'misguided', '5:17', 'azrikam', '8-year', 'cedar', 'sixth', 'weaken', 'petulance', 'bludgeon', 'sawed', 'vnfixe', 'ungodliness', 'proverbially', 'worried', 'fleance', 'ho', 'cometh', 'lil', 'jefferson', 'pounding', 'jehoash', 'subversion', 'encouraged', 'palestine', 'kinde', 'grained', 'watched', '36:20', 'log', '31:51', 'fated', 'abortion', 'monthly', 'babylonian', 'downfall', 'intent', 'seled', 'proofe', 'engrave', '20:18', '                                ', 'carson', 'phalanx', 'fourteen', 'graal', 'dimmed', 'jesiah', 'followes', 'equiuocator', 'flaneur', 'milestone', 'formes', '23:34', '7:10', 'intrusion', 'diuision', 'hung', 'amos', 'uncut', 'diffused', 'crucifix', 'pronged', 'lessening', '5:30', 'unexceptionable', 'helez', 'scared', 'refund', '395,000', 'contamination', 'slumbrous', 'stupidity', 'untutored', 'outweigh', 'halak', 'exceeded', 'centrick', '1671', 'catalogued', 'sup', 'starlit', 'violent', 'nimrim', 'lattice', 'of', 'disobey', 'avengeth', 'ile', 'them--', 'underrated', 'wafted', 'pardoning', 'lordly', 'shamble', 'cd', 'quivered', '19', 'warring', 'socialism', 'fortinbras', '30:34', '50:14', 'blanc', 'caldron', 'falsely', 'hark', \"smother'd\", 'dotard', 'surmisings', 'alemeth', 'summoned', 'sowre', 'overflowing', 'crete', 'bemoan', 'scattering', 'tou', 'circular', 'unclean', 'knitting', '20:29', 'emptive', 'increasing', 'pinning', 'danson', '21:11', 'olivet', 'savourest', 'takeover', 'opulent', '23:38', 'bethshemite', 'garraun', 'speciall', 'reportedly', '15:11', 'mizraim', 'love', 'dole', 'mythology', 'gaslight', 'mysticism', 'reversal', 'cry', 'treason', 'whirlwind', 'spying', 'crescentic', 'exciting', 'cornfield', 'stature', 'stubborn', '7.6', 'paso', 'unspecified', 'neyther', \"peep'd\", 'lessened', 'hoon', 'gallant', '25:12', 'mantle', '24:47', 'claim', 'teareth', 'platform', '49:13', 'team', 'thirty', 'ok', 'sashed', 'separately', '20:37', 'uncovered', 'shaken', 'cultivated', 'their', 'breaketh', 'grandeur', 'dislodge', 'territory', \"render'd\", 'cusp', 'unsatisfied', 'tidal', 'sticke', 'disagreeing', 'acuteness', 'dashwood', '28:1', 'quietly', '13:11', '51:11', 'flight', 'ireland', 'deserues', 'plantation', 'inconvenient', 'barricade', 'promo', 'fainthearted', 'honourably', 'affliction', 'protected', 'ple', 'injection', '43:26', 'leade', 'outer', 'crackdown', '50:22', 'm.d.', 'adore', '2040', 'disclaimer', 'auxiliary', 'these', '23:23', 'devout', 'frequency', 'king', 'iranian', '--that', 'copied', 'atheism', 'southeast', 'waiving', 'smelled', 'deservedly', 'clarice', 'frugality', 'straying', 'wheeling', 'beerothite', 'polon', 'midian', 'tippet', 'estrangement', 'snowden', 'athlete', 'testifies', 'rightly', 'giraffe', '31:41', 'wallow', 'houres', 'montague', 'foolishly', '27:11', 'wasted', 'hideous', 'qu', 'moaning', 'trundling', 'guido', '13:34', 'investigating', 'hammock', 'pelatiah', 'hasting', 'comforteth', 'conceit', 'skyscraper', 'busybody', 'canaanite', 'nunes', 'marker', 'o’rourke', 'relic', 'attains', 'dustier', 'nordic', '66:15', 'aquatic', 'mirror', 'numbered', 'head', 'neo', 'butterfly', 'jawbone', 'skirt', 'painter', 'unctuous', 'sundered', 'resounds', 'tortured', 'cascade', 'unsupported', 'exhorted', 'loyall', 'lintel', 'ne’er', 'heck', 'ferrars', 'bohan', '21:30', 'historic', 'vii', '23:11', 'sluggish', 'hezronites', 'entice', 'luz', 'madam', 'disavow', 'food', 'propagandist', '21:8', 'ephlal', 'confirm', 'fan', 'possesse', 'disposed', 'dazzle', 'gel', 'patrol', 'design', \"shi'ite\", 'poisonous', 'each--', 'engrafted', 'rejoined', 'insists', 'earned', 'distrusted', 'muezzin', 'delightful', 'infrastructure', 'interrogated', 'moonlight', 'wend', 'response', 'euer', 'extortioner', 'nebo', 'horseman', 'sanctifieth', 'toronto', 'jaazer', 'lisp', 'reversion', 'ohad', 'warranty', 'sunburnt', \"in't\", 'eares', 'slanted', 'lacquered', 'shebaniah', 'unison', 'colluded', 'gath', 'embrace', 'shopper', 'filmed', 'moved', 'eatable', 'kushners', 'interval', 'being', '1:32', 'blotting', '18:45', 'concealing', 'lightbulb', 'raftsman', 'outside', 'modification', 'tenor', 'mechanically', 'barreled', '18:19', 'slip', 'vnknowne', 'goddamn', '27:5', 'singing', 'remarkably', '43:25', 'inuites', 'cleaner', 'disallowed', 'g7', 'helianthus', 'alienates', 'schnatter', 'suspicious', 'meanness', '26:37', 'natured', 'milcom', 'chancery', 'glare', 'exchange', 'nervous', 'weakeneth', 'mischance', 'hoarded', 'drench', 'grind', 'bestride', 'prevention', 'needed', '48', 'circumnavigating', 'constraint', 'tombstone', 'offering', 'patched', 'beautify', 'xii', '40:2', 'her--', 'chipped', 'undertake', '13:47', 'unvarying', 'imaginary', 'anecdote', 'gedor', 'congealed', 'pithon', '28:35', 'prevent', 'sychem', 'shaded', 'wholsome', 'brown', 'murtherer', 'nail', 'tenure', 'supplication', 'prevalent', 'thel', 'besides', 'ferrari', 'further', 'traumatic', 'carolinian', 'bungling', 'prized', 'stranded', 'necho', 'dothan', '22:37', 'pro-', 'alternately', 'styled', 'uniformly', '15:34', 'varrus', 'fisa', '22:18', 'aspiring', 'dolefully', 'deceptive', \"cabin'd\", '13:32', 'strongest', '9-year', 'disparity', 'lowe', 'deerer', 'ignorantly', 'browser', 'detroit', 'gatam', 'fear', 'spraining', 'eyeball', 'nestlé', 'gag', 'branding', 'deeper', 'overtake', 'icc', 'soggy', 'los', 'born', 'compacted', 'geopolitical', 'specific', 'tremendous', 'backwards', 'elf', 'west', 'hbo', 'illimitable', 'comply', 'empathy', 'insupportably', 'march', 'felicity', '49:21', 'finland', 'julián', 'hathaway', 'storage', 'laer', '37:21', 'campus', 'swagger', 'pulsation', 'informs', 'publishing', 'eventually', 'trailer', 'auouch', 'dishonoureth', 'hercules', 'humbleth', 'stuck', 'vessell', 'accurate', 'opaque', 'capitoll', 'ddos', '21:45', 'sheepshearers', 'disappearance', '2:48', 'foreign', 'anathoth', 'clubbed', 'monterrey', 'criest', 'insulting', 'infiltrated', 'keilah', 'pacifying', 'natural', 'abstinence', 'tomato', 'murmured', 'silas', 'publickly', 'bethshemesh', 'exorcist', '64-core', 'thickness', 'lower', 'ludgate', 'sat', 'recommending', 'cdc', 'through', 'pretty', 'patagonia', 'garrison', 'tj', 'casked', 'oui', 'diverged', 'boris', 'windfall', '21:31', 'raided', 'overshadow', 'rossmore', 'unveiled', 'unreliable', 'momentarily', 'sultan', 'mask', 'circulating', 'vladimir', 'bolster', '1839', 'oiled', 'bawl', 'betokened', '22:9', 'environmentalist', 'conveying', 'dodd', 'highbury--', 'shouldering', 'cpu', 'jammed', 'sence', 'hilarity', 'tearmes', 'reciting', 'tandem', 'key', 'collar', 'basil', '30:18', '24:2', 'catching', 'it!--it', 'respecting', 'portent', 'inexhaustible', 'savoury', 'ague', '12:20', 'freeing', 'compact', 'whaling', '6:3', 'stumped', 'undue', 'garbage', 'transparent', 'undermines', 'tiresome', 'xxii', 'immanuel', 'typify', 'midwest', 'greedily', 'lame', \"deliuer'd\", 'talisman', 'soultry', 'solicitor', 'lacking', 'ink', 'teenager', 'fiddler', 'golfing', 'bounded', 'scorned', 'shuthelah', 'assail', 'recognize', 'matrix', '5:29', 'male', '27:7', 'expelled', 'cousinly', 'blowne', 'fullest', 'pricked', 'worthier', 'butina', 'sloping', 'arrange', 'governess', 'jeopardize', 'rica', 'tap', 'trophimus', 'gael', 'bestow', 'dewy', 'varied', 'mugabe', 'accommodating', 'supped', 'wash', 'smack', 'serpent', 'depicted', '1791', 'tress', 'side', '7:64', 'devotion', 'jailer', 'pursuing', 'along', 'padanaram', 'defying', '6:22', '7:3', 'indiana', 'apart', 'tragedy', 'workman', 'uncondemned', 'fixedly', 'inboard', 'bec', 'abia', 'recovers', '40:17', 'chafe', 'lady', 'huckabee', 'summit', 'institution', 'lengthening', '15:42', 'adani', '2:20', 'pond', '11:16', 'conduct', 'transportation', 'colloquy', 'income', 'downstairs', 'jabeshgilead', 'cæsar', 'organize', 'impression', 'malibu', 'ruefully', 'mehujael', 'determine', 'jealous', 'covereth', '42:4', 'mournful', 'miniamin', 'cracking', 'pitbull', 'ostent', 'bombing', 'azaria', 'sere', 'retaliates', 'ophir', 'befall', 'contend', 'extract', 'sawcy', 'noph', 'admired', 'annoyed', 'condemn', 'voided', 'pact', 'lithe', '21:16', 'odorless', '21:36', 'cpac', 'drone', 'suited', 'caucus', 'creek', 'nintendo', 'hjiab', 'murther', '1:53', 'plank', 'belfry', 'sedition', 'alibaba', 'can--', '2:43', \"lon'on\", 'siege', 'persuade', 'obstetrics', 'bunting', '8:52', 'sundar', 'stanhill', 'april', '13:7', 'commanded', 'co2', 'blame', 'invade', 'eshban', 'cyberspace', '29:27', 'eggplant', 'meryl', 'frailty', 'eye', 'jehudi', 'cryed', 'shrink', 'pontius', 'obeyedst', 'dixons', 'doggedly', 'bert', 'jugular', 'locomotive', 'tash', 'robust', 'fired', 'rock', 'katie', 'you.--', 'engagement--', 'confused', 'antique', 'cynically', 'merkel', 'helmeted', 'menahem', '                           ', 'beak', 'shur', 'pronounced', 'uncertain', 'adequate', 'bellowing', 'gate', 'slang', 'bondholder', 'sending', 'answered', 'stumbled', 'boarder', 'angola', 'sweetness', 'inflammatory', '15', 'calculated', 'matthat', 'surety', '2:6', 'amelioration', 'imitated', 'comprehensiveness', 'engannim', 'cannibalism', 'em', '6:28', 'flushing', 'angela', 'obscurely', 'muskrat', 'blockhead', 'tempter', 'leaven', 'difficulty', 'invisibly', 'overlapping', 'quieted', 'california', 'panoply', 'chanted', '13,000', 'patterson', 'shakily', 'oddes', 'interference', 'supposes', 'parent', 'mastery', 'unrecognizable', 'appearing', 'speaking', 'anne', '22:40', 'clownish', 'lotion', 'aught', '25:42', 'provoked', 'vague', 'research', 'dooryard', 'exported', 'fuss', 'loftiness', 'radiance', '4:7', 'apathy', 'reduced', \"form'd\", 'playhouse', 'occult', 'conceiue', 'abused', 'charles', 'undergoes', '13:21', 'disparted', 'prosperously', 'varley', 'max', 'czech', 'stokes', 'executeth', '27:28', 'eyeless', 'godless', 'noticed', 'elath', 'graf', 'averted', 'storied', 'helping', 'presides', 'smog', 'aim', 'sector', 'precisely', 'perpetuated', 'thrill', 'aser', 'g-20', 'maacah', 'dark', 'scooped', '10:28', 'walling', '26:48', 'planter', 'herring', 'volvo', '54:3', '16:43', 'ministereth', 'gong', 'khamenei', 'mahogany', '34:9', 'boundary', 'persecuted', 'constancie', 'ag', 'marc', '50:7', 'professing', '48:13', 'languid', 'prof', \"sustain'd\", 'wire', 'collude', 'quoting', 'unleavened', 'learn', 'fall', 'denote', 'payoff', 'corp', 'tackling', '31:17', 'recognizes', 'prospective', 'shelley', 'asap', 'imployment', 'butcher', 'hecuba', 'whipping', 'astronomer', 'dulcet', 'pekah', 'fry', 'hermon', 'favorite', 'a$', 'decanter', \"reckon'd\", 'qassim', 'abstained', 'wading', 'fcc', 'wearisome', 'pain', 'compassionate', 'happiness', 'gutting', '8:21', 'news', 'enormousness', 'envyings', 'stablish', 'triangular', 'drained', 'lawrence', 'rhinoceros', 'roofed', 'verge', 'contentment', 'conjugal', 'environs', 'darknesse', 'genuine', 'acknowledgment', 'again:--', 'stuart', 'threading', '2:37', 'voyagings', 'bethnimrah', 'diabolical', 'paw', 'ordains', 'fearful', 'hatred', 'bequeath', 'notched', 'uzziah', 'temanite', 'payable', 'unwelcome', 'iconium', 'swapping', 'camell', 'sulked', 'rewardeth', 'leg', 'rarer', 'liveliest', 'countermeasure', 'alligator', 'sufferer', 'nebulous', 'contrariwise', 'sperm', 'dishonest', 'barbara', 'mentioning', 'minimum', 'effusion', 'handsome', 'hive', 'garret', 'saintly', 'renews', 'stitch', 'fig', 'dreaminess', 'meteor', 'dissemble', 'subverting', 'prayer', 'harry', '31:47', 'breathlessly', 'tete', 'brickkiln', 'recompense', \"unloosen'd\", '10:48', 'savagely', 'inner', 'invariable', 'tossing', 'pentagon', 'belongeth', 'script', 'lawyer', 'threshed', 'described', 'water', 'saratoga', 'solitude', 'sorkin', 'roundtable', 'respect', 'cigar', 'age', 'offense', 'transcript', 'beater', 'chemist', 'valid', 'awareness', 'untainted', 'militia', 'skip', 'obi', 'redound', 'veto', 'spile', 'perforce', 'sequah', 'helwan', 'temperate', 'unnoticed', 'mild', 'trying', '4:21', 'mesha', 'leaue', 'baptized', 'brutally', 'whittling', 'hyping', 'splinter', 'buzite', 'laded', 'disinclination', 'sacrificeth', 'din', 'unlimited', 'warfare', 'unity', 'deception', 'muddled', 'vacantly', 'eyelash', 'denying', '7:11', 'heedless', 'accounted', 'charleston', 'undoubted', 'may.', 'profanity', 'breitbart', 'interlacing', 'striketh', 'hoky', 'rationalist', 'legislatively', 'expostulation', \"diseas'd\", 'sneer', 'deepfakes', 'draped', 'dalliance', 'gender', 'rahab', 'globalists', 'withdrew', '19:4', 'air', 'agreeable', 'foreseen', 'rejoiced', 'racism', 'loadstone', 'distinguish', 'lobbied', 'blundering', 'armagnac', 'speakes', 'mown', 'rampage', 'spam', 'nypd', 'tuileries', 'him.--', 'herself--', 'counseled', 'fibre', '418', 'opened', 'skripal', 'whithersoever', 'castaway', '44:23', 'shea', '25:40', 'descry', \"summ'd\", 'opportune', 'stifling', 'coretta', 'worst', 'cryedst', 'flambeau', 'cursings', '56:1', 'catholic', '1bn', 'internet', 'barked', 'cononiah', 'monty', 'conditioner', 'doping', 'portentousness', 'fissure', 'jabbering', 'betweene', 'person', 'candlestick', 'hatching', 'unfathomable', 'insensitive', 'advancing', 'inflict', 'burgomaster', 'abetted', 'justify', 'lake', 'poplar', 'presentation', '6:19', 'demas', 'entertain', 'import', 'snooped', 'elapse', \"crouch'd\", 'car', 'bushfire', 'unpleasant', 'pocketful', 'jpmorgan', 'threat', 'drumme', 'domed', '48:17', 'springing', 'whelmed', 'faintness', 'grieving', 'maiesty', 'allegiance', 'shal', 'pomegranate', 'chasten', 'locke', 'adolf', 'hauing', 'gorgon', '70', \"convey'd\", 'hands--', 'tennis', 'risperdal', 'mlb', 'unsaid', 'jada', 'now.--', 'handedness', 'grade', '90', 'beryl', 'province', 'manipulator', 'combined', 'apologized', 'charity', 'yarn', 'driveth', 'schmeichel', 'migrant', 'witty', '26:39', \"ponder'd\", '26:45', 'ammihud', 'dowager', '6:25', 'skiff', 'scaped', 'evaluation', 'inclining', 'ea', 'gratifying', 'platforme', 'chat', 'vicissitude', 'lending', 'faine', 'gershonites', 'cover', 'kenneth', 'unearth', 'moabite', 'yield', 'magnitude', 'blake', 'radish', 'glutton', 'fawned', 'timnah', 'nugent', '26:12', 'ignites', 'quicksand', 'hundredfold', '14:16', 'enlarge', 'suleimani', 'shard', 'turret', 'calamity', 'onion', 'sunne', 'inslee', '25:16', 'elsa', 'shapher', '25:46', 'clamber', 'knocked', '2:46', 'centrism', 'orgs', 'misconception', 'flank', '26:14', 'avignon', 'surpass', 'gallon', 'bru', 'affectionate', 'journalist', 'suppository', \"se'nnight\", 'drooping', 'remedy', 'voltemand', 'reproached', 'uninformed', 'borrowed', 'petty', 'trickle', 'eccentric', 'semicircle', 'profit', 'resulting', 'haroc', 'moored', 'castanets', 'addicted', 'aholiab', 'sub', 'alienate', 'falwell', 'regard', 'nationalism', 'shoo', 'blistering', '113', 'nepal', 'syrian', 'casuist', 'obstruct', 'excels', 'st', 'boiler', 'hush', 'horrifying', 'hoary', 'voyaging', 'hamathite', 'dwelling', 'girdeth', 'celtic', 'descent', 'dehumanization', '19:1', 'serenest', 'cbc', 'shootout', 'upbeat', 'crumbled', 'reticule', 'it;--', 'curving', 'defaced', 'whereabouts', 'n.j.', 'ancestry', 'khan', 'mellowing', 'youtubers', 'dean', 'sufficient', 'mouldy', '28:20', 'decry', 'harassed', 'specially', 'stud', 'transform', 'sauntered', 'homelessness', 'preference', 'tick', '16:42', 'cruel', 'hobbling', 'whereto', 'lark', 'pas', 'paralysis', 'bannon', 'prediction', 'issuing', 'plundering', 'entrenchment', 'anonymous', 'thro', 'gossip', 'bitnet', '14:26', 'unworthily', 'hkfp', 'zerah', 'semi', 'lucrative', 'guided', 'zanoah', 'humility', 'footpath', '37:3', 'alwayes', 'strowed', 'concurring', 'hunger', 'ether', 'willingly', 'bouquet', 'melteth', 'consorted', 'forbearance', 'indifference--', 'poltroon', 'endorsement', 'unquiet', 'claudius', 'indefinitely', 'bilin', 'inflammation', 'sloane', '24:35', \"toil'd\", 'amorite', 'discourage', 'settler', 'auschwitz', 'clap', 'second', 'donkey', 'demanding', 'ahihud', 'sorrowfully', 'yew', 'intuition', 'helmsman', 'diplomatically', 'finery', 'homophobic', 'foot', 'collapsing', 'medicare', 'punon', 'skipped', 'ruthless', 'throw', 'incites', 'labouring', 'whispering', 'coronavirus', 'guidance', '9:56', '19:28', 'service', 'hittite', 'appeasing', 'screaming', 'shutterstock', '58:11', \"turban'd\", 'desisted', 'ammonite', '56:7', '32:15', 'hard', 'exquisite', 'baldwin', 'misgave', 'satin', 'blab', 'antiquated', 'shrinking', 'raqqa', 'tnt', 'schollers', \"attain'd\", 'taken', 'elioenai', 'to----', 'betting', 'frame', '21:17', 'destruction', 'quantitie', 'noaa', 'performed', 'tropic', 'flamingo', 'topt', 'squaw', 'bring', 'lullaby', 'destroye', 'fourth', 'spoonful', 'notion', 'pangolin', 'resistant', 'inordinate', 'transfused', 'smash', 'desert', 'sole', 'marriott', 'seducer', 'physique', '7:15', 'targeted', 'obligated', 'stedfast', 'method', 'bezek', 'darkness', '22:48', 'western', 'esteeme', 'forego', 'enamoured', 'gomer', 'irish', 'skilful', 'eluded', 'lifeless', 'clarence', 'including', 'faithfulness', \"answer'd\", 'handcuff', 'singular', 'deliria', 'minuter', 'pakistan', 'hyssop', 'sences', \"assur'd\", 'doo', 'lapped', 'backe', 'tremulous', 'graze', 'reclaimed', 'barely', 'properly', 'tinged', 'novice', 'seniority', 'bethrehob', '750', '22:15', 'serues', 'devised', 'diet', 'wheel', 'anomalously', 'remembering', 'mortification', 'denotes', 'meghan', 'poureth', '22:13', 'cocktail', 'aboundeth', '19:40', 'wasserman', '26:15', 'confidant', '43:5', 'nra', 'recoil', 'agriculture', 'glut', 'warming', 'imp', 'deliberate', 'controlling', 'barzillai', '15:5', 'averaging', 'amc', 'homeric', \"seek'st\", 'indubitable', 'cech', 'desiredst', 'way', \"hipp'd\", 'machinist', 'stun', '47:17', 'reintroduction', 'embodied', 'temple', 'officious', \"e'en\", 'whereon', 'tormentor', 'sodaine', 'revolutionary', '21:44', 'conjurer', 'procopius', 'rover', 'powerhouse', 'madder', 'thronged', 'abated', \"contain'd\", 'postillion', 'chang', 'galore', 'semitism', 'flocking', 'slight', 'rebranding', 'burn', 'unbuckling', 'expedition', '39:11', 'rapidity', 'babble', 'bing', 'conclave', 'blossoming', 'protester', 'obtained', 'pumped', 'sly', 'researcher', 'tongue', 'weinstein', 'secrecie', 'everything', 'delirium', 'fort', 'interpreter', 'intelligible', 'daylong', 'sicilian', 'prospectively', 'respectable', 'thrall', 'transgressor', 'amaze', 'begged', 'dissension', 'incessant', 'chatted', 'most', 'preferred', 'bigoted', 'apish', 'broadening', 'dividual', 'exasperate', 'aging', '7:45', 'upheaved', 'diddest', 'unction', 'zeboiim', 'referendum', 'fist', 'forgavest', 'clive', 'farce', 'mexican', 'protégé', 'refer', 'steward', 'ashdothpisgah', 'bizarre', 'bird', 'lend', 'exploration', 'crash', '24:28', 'buzzard', 'purer', 'damnation', 'señorita', 'yates', '2.4', 'puah', 'obligingly', 'salvo', 'manual', 'puigdemont', 'ascends', 'methusael', 'nasa', 'overturning', 'leonard', 'samaria', '7:17', 'bequest', 'an', 'sacrificed', 'transition', 'stubb', '38:21', 'l', 'acre', 'legalization', 'olympics', 'pallid', 'ribbed', 'tobiah', 'blackout', 'noised', 'usual', 'burgher', 'moscow', 'healthiest', 'windsor', 'cabman', 'any', 'renown', 'kevin', 'clam', \"t'gallant\", 'defeat', 'lament', 'eminently', 'captain', 'persuading', 'ceaseless', 'goddess', 'ladle', \"darken'd\", '41:18', 'closing', 'bituminous', 'orbicular', 'javelin', 'emptying', 'throwne', 'dor', 'groom', 'handsomely', 'legitimize', 'late', 'inconstant', 'admiral', \"lengthen'd\", 'meshach', 'disgust', 'busted', '30:5', 'benediction', 'broadway', 'mitch', 'panama', 'woebegone', 'deuel', 'surround', 'abbott', 'photograph', 'roll', 'startle', 'treat', '27:9', 'impotence', 'thunderings', 'hymenee', 'tyrus', 'aloe', 'boring', 'dilation', 'sleeve', 'asset', 'discouery', 'featuring', \"confirm'd\", 'oozy', 'spoken', 'appeares', 'unsay', 'glorified', 'romancing', '7:20', 'irijah', \"be'ind\", 'chastised', 'xl', 'heartiness', 'louise', 'recollecting', 'melech', \"us'd\", 'countering', '27:25', 'offered', 'sprained', 'changeless', 'cleaue', 'sublimity', 'quaked', 'voyce', 'kareah', 'gyrating', 'canted', 'punish', 'proue', 'travailed', \"suck'd\", 'accomplishing', 'polluter', 'shimeath', 'careth', '13:27', 'chernov', 'jacksonville', 'retires', 'journeying', 'bilhan', 'stipendiary', 'alcinous', 'remnant', 'disburden', 'manhunt', 'kellynch', '1:49', \"dismay'd\", 'mason', 'restroom', 'seek', 'espn', 'zilthai', '3:4', 'terraqueous', '22:23', 'motionless', 'nourish', 'and--', 'chastening', 'assange', 'zohar', 'raising', 'sunlit', 'antarctic', 'exactitude', 'mystic', 'malacca', 'calve', 'mcdaniel', 'zophah', '   ', 'hanoch', '7:4', 'azotus', 'warmer', '32:39', 'gog', 'transplant', '18:24', 'blazed', 'quieter', 'another', 'alexandria', '59:9', 'competition', 'gaelic', 'he--', 'shallowest', 'oversees', 'askelon', 'infect', 'reprobate', 'cricket', \"droop'd\", 'sanctity', 'changeable', 'jareb', 'cameraman', 'remaine', 'biped', 'prosper', 'hullo', 'clownes', 'superlative', 'legion', 'hegel', '15:24', 'detractor', 'lizzo', 'findest', 'punching', 'chilly', 'compose', 'homely', 'attire', 'subtile', 'lamar', 'husky', 'darkon', 'portrayed', 'finance', 'trucker', '19:35', 'candlelight', 'strong', '64:6', '63:1', 'nestling', 'souse', 'subway', 'spoiled', 'toleration', 'his', 'emmanuel', 'joses', 'wended', 'remit', 'beholdest', 'perplexed', 'dreyfus', 'struggled', 'fulfill', 'comeback', 'famished', 'spunge', 'swashing', 'swell', 'decisive', '38:15', 'trophy', 'muppeteer', 'curfew', 'raped', 'suggestion', 'diary', 'canberra', '7:73', 'bethdagon', 'her.--it', '10-day', 'metoo', 'wong', 'madame', 'idolatrous', 'roamer', '21:21', 'enterprising', 'ginger', 'exaggerated', 'unterrified', 'frantically', 'preserve', 'swath', 'interrogation', 'culloden', 'commenced', 'sowest', 'avarice', 'cheap', 'calvary', 'eate', 'scepter', 'abib', 'menendez', 'gier', 'drunke', 'involuntarily', 'helve', 'challice', 'contemptible', 'falsehood', 'richness', 'hurling', 'ira', 'singularity', 'grownd', '63', 'elamite', 'hurrying', 'cave', 'awake', 'mattanah', 'decapitated', 'tiras', 'ascertained', 'pihahiroth', 'withholds', 'grab', 'philippi', 'boyega', 'darkest', '31:9', 'fundraising', '18:41', 'aback', 'spite', 'rthk', '15:40', 'pind', 'manufactured', 'attorney', 'transit', 'undertakes', 'campaigner', 'pupil', 'championship', 'encroachment', 'yees', 'stalk', 'rumbling', 'intercepted', 'fastening', 'laban', 'temer', 'baffle', 'cleverer', 'unwillingness', 'affably', 'mcauliffe', '17:24', '35:34', \"betray'd\", 'pearle', 'frighteningly', 'clarifies', 'perversely', 'filing', 'cellphone', 'nimrod', 'eyed', 'commendation', 'evildoer', '21:23', 'prating', 'fellowlabourers', 'interesting', 'bargaining', 'wingfield', 'commonwealth', 'befitting', '58:7', 'litigious', '74', 'shaw', 'pleaseth', 'tattooings', '8:47', 'lancy', 'humoured', 'depth', 'guestchamber', 'loveth', 'inhaling', 'rum', 'form', 'berg', 'cross', 'different', 'rural', 'cheshire', '49:11', 'goading', '15:20', 'impertinence', 'preeminence', 'damsel', 'cookery', 'loose', 'pransings', 'droopy', '56:2', 'walmart', 'resided', 'sacrificer', 'apparatus', 'herman', 'oblique', 'corpes', 'canceling', '7:6', 'grassy', 'tunbridge', '26:54', 'resistance', 'bathed', 'adventure', 'balcony', 'receptive', 'mortality', 'jarmuth', \"sooth'd\", 'conquer', 'kurd', 'email', 'widens', 'overstrained', 'forbidding', 'zepho', 'trinket', \"kill'd\", 'funneling', 'diana', 'archipelago', 'farrell', 'surprise', '24:50', 'sweetmeat', 'chimney', 'tobacco', 'lilly', 'detail', 'frustrate', 'succeeded', 'clash', 'warbling', 'exaggerate', 'satanic', 'baasha', 'intruding', 'lyre', 'pittie', 'cranial', 'stop', 'elimelech', '8:45', 'pundit', '3-way', 'fright', 'stain', 'truth', 'blurred', 'prioritize', 'yarman', 'supremes', 'vnseene', 'cramped', 'miracle', '                                                       ', 'elisha', 'oyster', 'tongs', '31:1', 'indeed!--and', 'snag', 'divinely', 'remind', '13:13', 'conspiratorial', 'shredded', 'gayest', 'detecting', 'isao', 'reminiscent', 'jimmy', 'potted', 'lifelong', 'cheery', 'tranced', 'palace', '18:39', 'disobeying', 'internationally', '35:32', 'childlike', 'saidst', '29:33', '25:29', 'retire', 'cynna', 'ministering', 'diamond', 'dog', '13:37', 'guiltily', 'visitation', 'speechless', 'wayside', 'unfollowed', 'midianites', 'behinde', 'printed', 'pratt', 'gibson', 'unchanged', 'deuill', 'regal', 'auoyded', 'thigh', '8:20', 'carelessly', 'distaff', 'purify', 'rouse', 'perverteth', 'innocence', 'superbug', 'reuben', 'emblem', \"loosen'd\", 'wealth', 'pastime', 'universe', '17:5', 'tramp', 'wondrous', 'stinketh', 'accident', '55:1', 'clatter', 'profanely', 'unmixed', 'abinoam', 'redeems', 'allay', '6:1', 'ce', 'cobhole', 'ryans', 'elegant', 'slap', 'speculator', 'admittance', 'blocked', 'vibrating', 'posy', 'coalition', 'tramped', 'resonates', 'tikvah', 'readily', 'cynthia', 'nsc', 'slowdown', '+', 'patriarch', 'closest', 'sodden', 'eaten', 'upright', 'harmony', 'socialist', 'sesame', 'condone', 'inducement', 'moones', 'retail', 'unbidden', '24:17', '51:12', 'allure', 'nite', 'misrepresenting', 'barack', 'earthy', 'handover', 'catched', 'deduction', 'irksome', 'requirement', \"unform'd\", 'judgement', '14-day', 'tumbled', 'flattery', 'reserveth', 'promptitude', 'decadent', 'dent', 'trending', 'altereth', 'airstrike', 'exquisitely', 'ty', 'treasury', 'meshelemiah', 'gallowes', 'favoritism', 'wiping', 'evangelist', 'hollyhock', 'cookie', 'stadium', 'salisbury', 'saagar', 'exception', 'weeper', 'shocked', 'demo', 'curtsey', 'abishai', 'chrysler', 'mongolian', '4:44', 'slander', 'rump', '63:3', 'contagion', 'lip', 'rase', 'stated', 'musty', 'nominally', 'shoemaker', 'reddit', 'regain', 'bereaved', 'sittest', '37:24', 'ricky', 'dominic', 'cathay', 'mendocino', 'adjudged', 'trader', 'folly', 'abed', 'unscrew', 'enlightening', 'warping', 'waffle', 'f--', 'eddystone', 'bomber', 'mistletoe', 'distributor', 'hautboy', 'vigilant', 'bear', 'prosperity', 'pillar', 'surf', 'weaponizing', 'towring', 'writes', 'etext93', 'nergalsharezer', 'insatiate', 'deflates', 'paragraph', 'angrily', 'sac', 'soothes', '4:46', 'enchanting', '1,500', 'tributary', 'kirjathbaal', 'skylarking', 'unfathomably', 'caesar', 'tx', 'missile', 'hedgehog', 'gov', 'thereof', 'savageness', 'scare', 'kith', 'shechem', 'niger', 'devise', 'current', '27:17', 'audacious', 'jubilant', 'confess', 'rev', 'sunrising', 'torch', 'pea', 'steeper', 'incarnation', 'azmon', 'emphatically', '8:11', 'musicke', 'wheelchair', 'beet', 'sinewy', 'waze', \"launch'd\", 'extinguished', 'wringing', 'archery', 'wagner', 'consumer', 'vitals', 'monsanto', 'sebastian', '51:23', '3:1', 'stepmother', 'underestimated', 'aduice', 'entrance', 'note', 'complete', 'pavement', 'grimness', 'irreversible', 'possesseth', 'bookes', 'disarmed', 'wireless', 'precipitately', 'uprising', 'circumstance', 'noon', 'conciliate', 'differs', 'intervened', 'atheistic', '49:23', 'sociopathic', 'brass', 'expresse', 'computing', 'burnishing', '44:9', '45:6', 'capturing', 'odour', 'dwellest', 'righteously', 'suffers', 'caiaphas', 'helpe', 'egotism', 'arrangement', 'lacrosse', 'pendulum', 'vaulted', 'frightening', 'statesman', 'overwhelmingly', 'kinsman', 'arioch', 'tun', 'eliphalet', 'gnash', 'fulness', 'gaming', 'overworked', 'appeal', 'sonorous', 'pricking', 'miscellaneous', 'lacked', 'craftiness', 'mustang', 'twinkling', 'boldness', 'warriours', 'scornfully', 'madnesse', 'seedling', 'despair', 'zero', 'dominated', 'liers', 'homeland', 'ailment', 'nethermost', 'verb', '82nd', 'primus', 'imputed', 'splintered', 'tolland', 'scoop', 'bedded', 'palpably', 'jerry', 'healthfull', 'philistine', 'bruno', 'norman', 'indignant', 'shall', 'lev', 'successor', 'spanx', '38:17', 'shotgun', 'zelenskiy', 'spouted', 'fla.', 'forerunner', 'piquet', 'kaminsky', 'arrowes', '6:41', 'sniper', 'unlike', 'realizing', 'timnathserah', 'realised', 'doe', 'god', 'nieto', 'hot', 'merciful', 'goblet', 'humorously', 'eighteen', '227,000', 'inaudible', 'mocke', 'lingo', 'sarah', 'pleased', 'mischeefe', 'colonel', 'online', 'bigly', 'avail', '34:31', 'credulous', 'flaring', 'bolsonaro', 'compromised', 'chauvinism', '37:13', '31:38', 'educator', 'consumed', 'teresh', 'nocturnal', '57:6', 'ignores', 'whispered', 'mightily', 'attracting', 'tidy', 'gabble', 'greenhorn', \"master'd\", 'zemarite', 'luckiest', 'colombia', 'persists', 'edom', 'sharpen', 'store', 'staffed', 'exhaled', 'unminded', 'speechlesse', 'shashak', 'refreshing', 'sensible', 'fined', 'brushing', 'offender', 'musket', 'disagree', 'shaphan', 'comparatively', 'barrymore', 'conversing', 'unfit', 'sulli', 'plague', 'finn', 'nethaniah', \"abandon'd\", 'label', 'potty', 'nazca', 'unintelligible', 'buck', '7,000', '16:5', 'dle', 'favor', 'witcher', 'forgery', 'metal', 'nude', 'saue', 'bitch', 'mur', 'waggon', 'hitherto', 'kiss', 'wearer', 'zebadiah', 'scalp', 'battle', 'happier', 'schneiderman', 'renascence', 'dispose', 'emulate', 'backbone', '2:55', 'ethereal', 'foundest', 'gazingstock', 'bold', 'odor', 'creator', 'notice', 'tugging', 'obseruance', 'posted', 'sash', 'italian', 'pocohontas', 'prematurely', 'disturb', 'encountering', 'confronted', 'buttock', 'packthread', 'unreasonableness', 'centenarian', 'distasteful', 'imperious', 'dubai', 'smitten', 'scape', 'leonine', 'continually', 'mortgage', 'anticipation', 'attai', 'disobedience', 'hoped', 'nearing', 'bystander', 'disconsolate', 'stoned', 'starless', 'vatican', 'orchestrating', 'trespass', 'payroll', '750,000', 'idiocy', 'euils', 'ableist', '5:43', 'tradesman', 'ali', 'custome', 'strooke', 'volubly', 'adhere', 'cripple', '13:15', 'forewarn', 'douceurs', '30:19', 'recollects', 'carroll', 'demonstrate', 'fanatic', 'shaving', 'gratified', '5:22', 'redness', 'lexicographer', 'moriah', 'en', 'tidings', 'uninstall', 'tipline', 'laugher', 'trapping', '25:25', 'incoherence', 'treasured', 'pin', 'tilgathpilneser', 'flattering', '5:26', '2000', 'gaius', 'punchbowl', 'lucidity', 'stoodest', 'conducting', 'diameter', 'deliver', 'towel', 'scena', 'roseanne', 'been.--', 'elegantly', 'yon', 'applicant', 'public', 'firmness', 'sally', 'grueling', 'fumbled', 'unrelieved', 'community', 'broth', 'lettering', 'insignificance', 'psalm', 'mercosur', 'cbs', 'glenn', 'replenish', 'runne', \"would'st\", 'psaltery', 'syene', 'habite', 'distilled', 'paris', 'flag', 'unremitting', 'afternoone', 'suppliant', 'curacy', '9:31', 'replied:--', 'takei', 'hickory', 'uplift', 'ashdod', 'stink', 'spicy', 'tossings', 'studying', 'zedekiah', 'strategist', 'vnmannerly', 'rabshakeh', 'ore', 'unconquerable', '26:6', 'diagnosed', 'coughing', 'indirection', 'acclamation', 'hermes', 'illumination', 'anthony', 'bro', 'irony', \"hatch'd\", 'prisoner', 'baffling', '13:52', 'spend', 'methane', 'saluting', '18:15', 'vehemence', 'frenzy', 'yielded', 'dard', 'undermining', 'edomite', 'bale', 'began:--', 'cumbria', 'shoal', 'consequent', 'clownstick', 'entangle', 'scolding', 'contractor', 'responded', \"reel'd\", 'remain', 'tahath', 'vicarage', 'dispenses', '18:22', '63rd', 'incongruous', 'bottled', 'crooked', '21:10', 'auger', 'crieth', 'squire', 'bakbuk', 'lazily', 'snort', 'sitteth', 'attenborough', 'enraged', 'custom', 'eightpence', 'hong', 'hewer', 'celt', 'then\"--', 'rollicking', 'chivalrous', 'hampshire', 'seventh', 'esaias', 'characteristic', '300,000', 'uglier', '40:7', 'estonia', 'recitative', '850,000', 'lunging', 'ministry', '13:9', 'inspiration', 'bounder', 'elipheleh', 'megachurch', 'latch', 'buzzer', 'raving', 'arsacidean', 'fill', 'sky', '17,000', 'wallowed', 'confinement', '2.2', 'tabret', 'trickling', 'mooue', 'leon', 'unsavory', 'vociferation', 'boiling', 'denmark', \"mourn'd\", 'laodicea', 'generational', 'adorn', 'stating', 'warned', '1:28', 'unworldly', 'ionia', 'monkey', 'boycottmulan', 'honoured', 'inheriting', 'essence', 'defaming', 'mistah', 'bethshean', 'unicorn', 'edition', 'shopman', 'palisade', 'cafe', 'forgetfulness', 'aimless', '22:2', 'dan', 'begot', 'rustling', 'rejoicing', 'civilian', '8:43', 'simpered', 'hijacker', 'arriere', 'idea', 'habiliment', 'pagan', 'vigour', 'fingerprint', 'analogy', 'dipped', 'mongolia', 'browed', 'executes', 'founder', 'heightens', 'jetted', 'unify', 'winner', 'conventional', 'likelihood', 'bedad', 'vast', '138', 'tricked', 'poor', 'engraved', 'chopping', 'naked', 'footlights', 'mcgregor', 'saudi', 'moscowmitchmcconnell', 'physiognomical', 'grassroots', '23andme', 'analogous', 'retraction', '75', 'solemnly--', 'hoe', 'removing', 'folded', '33:4', 'deposit', 'accumulate', 'histrionics', '7:57', 'stalled', 'musk', 'correctness', 'severe', 'inwards', 'induced', 'sinner', 'tasked', 'noblest', 'dweller', 'cobweb', 'fro[m', 'endangered', 'trashing', 'weyward', 'discrimination', 'suite', 'gruffly', '36:8', 'smear', 'conjecture', 'mercedes', \"clapp'd\", 'catalan', 'ganges', 'consecutive', '18:10', 'because', 'cousin', 'mainmast', 'river', 'sloped', 'executive', 'acrid', 'looming', 'screeched', 'deutsche', '2009', 'tinker', 'analysing', 'windmill', 'forbes', 'iulius', 'dismissed', '25:1', 'passing', 'perdition', 'exists', 'plaintive', 'zidonians', 'fibrous', 'netherlands', 'backside', '18:3', 'pleaded', 'decidedly', 'armando', 'muttered', 'pg&e', 'f', 'bewilderment', 'slouch', 'inferred', 'rapidly', '39:4', 'sincerely', '200-year', 'exuding', '18:20', 'thong', 'dathan', 'parle', 'cannes', 'seclusion', 'lindsey', 'precious', 'handpicked', '20:38', 'ioynt', 'intellectual', 'peeringly', 'moyers', 'companionableness', 'alizadeh', 'consenting', 'newt', 'bonnet', 'tide', 'hesitating', 'since', 'hunter', 'zelia', 'purse', 'professor', 'halah', 'initial', 'subjection', 'amazing', 'wish', 'madmannah', 'banished', 'makest', 'apologises', 'spokeswoman', 'ouches', 'monster', 'fumbling', 'bo', 'consolation', 'vicky', 'acquit', 'uzzah', 'fawn', 'recompensed', 'citizenship', 'soundest', 'distract', 'conceals', 'fundamentally', 'loues', '6:42', 'dost', '4:15', 'greta', 'confusion', 'gallagher', 'dismayed', \"resign'd\", 'joshbekashah', 'stool', 'sounding', 'syndrome', 'denigrating', 'susceptible', 'plumed', 'overeem', 'distracted', 'agony', 'firefighter', 'luxuriant', 'equipped', '13:19', 'jamin', 'salt', 'stayes', 'divination', '35:15', 'entitled', 'brimmed', 'cheerleading', 'barbarous', 'observer', 'scaly', 'lag', 'charley', 'magna', 'eleventh', 'dat', 'swash', '11:52', '24:31', 'willoughbys', 'authorization', '20:35', 'virgin', 'cap', 'migrating', 'bargain', '55:4', 'pickle', 'feed', 'flaming', 'lachish', 'mallice', 'projected', 'ebed', 'themed', 'narrow', 'laced', 'unaided', 'ubuntu', 'apostle', 'imputing', 'nimbus', 'lacke', 'eshbaal', 'samsung', 'retorted', '42:22', 'frightful', 'boisterously', 'cheslin', 'disinformation', 'inflexible', 'stigma', 'dallying', 'inherited', 'costume', 'marquis', '14:38', '41:9', 'impaired', 'sheariah', 'cheaper', 'upgrade', 'edgeworth', 'diligence', 'quebec', '17:16', 'here', 'bailiff', 'needle', 'unknown', 'coldly', 'oneself', 'toothache', 'ploughed', '40', 'hutton', 'east', 'version', '31:16', 'blameable', 'signing', 'descried', 'lid', 'groping', 'final', 'idolator', 'entreat', 'sey', 'enlargement', 'coupleth', '8:25', 'substantially', 'analyzed', 'tolerably', 'moonbeam', 'overbearing', 'ittai', 'helpeth', 'glued', 'harmless', 'divinest', 'disrespect', 'respectfully', 'warped', 'directly', 'theological', 'amram', 'gourd', 'hogg', 'escalade', 'i.r.s.', 'etexts', '--the', 'tattered', 'manx', 'gibbering', 'baalgad', 'relent', 'congo', 'reclaim', 'livy', 'confuse', 'sacar', '49:5', 'employer', 'wedged', 'widespread', 'lined', 'pest', 'arnold', 'deputed', 'elephanta', 'buttonhole', 'consult', 'hadoram', 'midwife', 'inquiring', 'uppermost', 'result', 'fuming', 'implement', 'brinded', 'boatman', 'urged', '6:6', 'briton', 'invitation', 'plotted', '40:20', 'babbling', 'hakupha', 'argentina', 'halteth', 'overthrew', '6:13', 'drachmaes', 'lumberingly', '15-day', 'warmly', 'mckinsey', 'scoundrel', '28:12', '7:60', 'competence', 'follower', 'eagerly', 'jericho', 'mischiefe', 'idealist', 'sting', 'megiddo', \"prais'd\", 'displayed', 'handbreadth', 'odoriferous', 'gilgal', '100,000', 'coverage', 'senir', '20:30', 'shirr', 'chuses', '19:19', 'doings', 'mistaking', 'bleede', 'unprepared', 'amends', 'kindleth', 'persist', '13:29', 'helicopter', 'contradicted', 'thanet', 'alley', 'cutting', 'hospitable', 'facetious', 'huff', 'warm', '1:5', 'nestle', 'smitest', 'reverence', 'wiues', 'beto', 'souldier', 'reaped', 'aid', 'jashobeam', 'development', '28:13', 'tailed', 'paramount', '37:5', 'drearily', 'respectively', 'dua', 'u.s.-led', 'encampeth', 'prison', 'symbol', 'savagery', 'spouting', 'pine', 'crony', 'arouse', 'violet', 'willow', '17:12', 'abideth', 'incommunicable', 'absent', 'senate', 'preinstalled', 'vigorously', 'cher', 'ratio', 'orange', 'accuse', 'iudgements', 'burisma', 'turne', 'invest', 'pump', 'dragoon', 'y', 'forepart', 'bristling', 'reconciliation', 'polling', '13:56', 'announce', 'harassment', 'madness', 'unseen', \"avow'd\", 'imminent', 'everyone', 'sackcloth', 'shopping', 'gottlieb', 'perceives', '25:28', 'zephaniah', 'shaping', 'discarded', 'national', 'athletic', 'ere', '46:4', 'anaiah', '2:23', 'greatcoat', 'perfection', 'reveller', 'corp.', 'overgrowth', 'llama', 'area', 'foreknowledge', 'veriest', 'collection', 'henrietta', 'shortened', '25:14', 'lately', 'firewall', 'imparted', 'devotee', 'feelin', 'killes', 'advised', '34:20', 'eyre', 'stern', 'saluted', 'tadmor', 'spanish', 'clifton', 'beare', 'bpa', 'deer', 'doral', 'brun', 'strawed', 'eminence', 'investigate', 'theater', '21:13', 'activist', 'ingathering', 'groanings', 'lago', 'divided', 'smothered', 'memnon', 'leaned', 'charm', 'humorousness', 'zebaim', 'incestuous', 'prouidence', '33:3', 'hazel', 'stowing', 'uselessly', 'choosing', 'madman', 'loughlin', '70th', 'sworn', 'msnbc', 'nature', 'limpid', 'shrunke', 'slacken', '13:33', 'inroad', 'lud', 'slag', '23:6', 'perilously', '3:2', 'slow', 'repairable', 'flynt', 'ziph', 'healthful', 'fundraiser', 'gaining', 'bountiful', '1984', 'chilion', 'enjoying', 'powerfully', 'spoke--', 'vitriol', 'rallying', 'cockroach', 'morale', 'gagged', 'communicative', '-1', \"pul'd\", 'firebrand', 'paddling', 'potent', 'antecedent', 'stemming', 'politico', 'surly', 'encounter', 'tribulation', '9:5', 'lien', 'whim', 'swifter', 'awhile', 'benighted', '32:4', 'excepted', 'lincoln', '2:5', 'azem', '24:16', 'bluff', 'foil', 'elishama', 'ope', 'tavern', 'zerubbabel', 'soothingly', 'softer', 'whizz', '15:46', 'dangled', '11:24', 'fertility', 'hoyer', 'algerine', 'groening', 'beholdeth', 'awaited', 'girgashites', 'prophetess', 'squared', 'abijam', 'weigheth', 'commander', 'sideboard', 'foolishness', 'illustrate', 'deprecating', 'sinneth', 'hottest', 'hartfield', '11:38', 'phil', 'decisively', 'ida', 'jan.', 'residence', 'riposted', 'profiteer', 'hatband', 'knowne', 'harder', 'err', 'supporting', 'petted', 'berated', 'blowes', '12:36', '4.5', 'monde', 'from--', 'slighter', 'successe', 'lisa', '12th', '65:7', 'reseated', 'affixed', 'artifact', 'similar', 'simplest', 'extant', 'turbine', 'efficacy', 'moluccas', 'theft', 'havoc', '42:17', 'haggi', 'peor', '26:63', 'pecked', 'malchijah', 'old', 'for', 'enow', 'roam', \"utter'd\", 'gross', 'yes,--i', 'swung', 'benefactor', 'tenacious', 'cozy', 'dispirited', 'barnabas', 'mungo', '29:18', 'perceptibly', 'pastor', '19:34', 'strangling', 'furthermore', 'bragg', 'uncounted', 'binomo', \"cry'd\", 'mehetabel', '35:26', 'indiscreet', 'swinburne', 'oreb', 'irked', 'towered', 'mulberry', 'freewoman', 'materialism', 'nought', 'hemsworth', 'plant', 'implying', 'erdoğan', 'beech', 'insolent', 'hayters', 'horrific', 'ruling', 'gop', 'pequod', 'grandee', 'exist', 'subsidizing', 'ishbak', 'exempt', 'gunlawssavelives', 'gatherer', 'inhabitable', 'tricking', 'contendeth', 'euen', 'headway', 'appendage', 'ascribed', 'morrison', 'silk', 'gera', 'objector', 'tornado', 'broken', 'fedex', 'trodden', 'cylinder', 'anarchic', 'snowed', 'ashurites', 'convocation', 'madest', 'cyberattack', 'milcah', 'slower', 'sustenance', 'generally', 'function', 'contender', 'wrongdoer', 'financier', 'horned', 'atlético', 'nitrous', 'orbic', 'enforcing', 'jordanian', 'sturgeon', 'recklessness', 'o.', 'bullion', 'xbox', 'wast', 'tree', 'limping', '28:10', 'later', 'farthing', 'defies', 'observance', 'untouched', '62:9', 'protege', 'untied', 'exhibiting', 'tax', 'feigned', 'involved', 'chamois', 'purchasing', 'shirt', 'waues', 'dearly', 'beaming', 'silvanus', 'unconsciously', 'imperfection', 'emmy', 'spearmen', 'abishua', 'armenian', 'merlin', 'thankes', 'hijack', 'furbished', \"rais'd\", 'cinema', 'impudence', 'manifest', 'motiues', 'joab', 'overcometh', 'blameless', 'allowable', 'applause', 'separated', 'zichri', 'brainwashed', 'gamesomeness', 'abandoned', 'flattened', 'liking', '21:6', 'exec', \"hang'd\", 'walnut', 'themselues', 'wrongly', 'elevates', 'bitterest', 'erring', '4:8', 'portugal', 'elfin', 'revoking', 'inconsolable', '62:7', 'chelub', 'baling', 'scramble', 'brer', 'freshman', 'immoveable', 'conundrum', 'smoky', 'forty', 'vexatious', '6.8-magnitude', 'quaint', 'extraordinary', 'physiology', 'stayed', '27:14', 'leaneth', 'defended', '18:40', 'softener', 'clump', 'kabul', 'escalating', 'recover', 'automaton', 'thirteen', 'habitue', 'adelaide', 'enslaved', 'loved', 'assailant', 'father--', 'featured', 'taught', 'behoved', 'transpire', 'consecrated', 'gentlewoman', 'jarrett', 'fantasticall', 'unconvinced', '54:7', 'ruby', 'mcu', 'discernible', \"unlearn'd\", 'inhospitable', 'cannon', 'collect', 'justification', 'minneapolis', 'repaid', '8:5', 'eventide', 'bowing', 'boo', 'doctorow', 'reign', 'cbo', 'sensational', 'alabaster', 'beetle', 'curbstone', 'dealmaking', 'neer', 'oversee', '27:18', 'keros', 'churchill--', 'stave', 'atlantick', 'arranged', 'cetacean', 'pruninghooks', '45:3', 'teeth', 'beckoned', 'words:--', 'uc', 'select', 'gourmand', 'normalization', 'forsake', 'argue', 'frock', 'ooze', '4,000', 'candidate', '20:43', 'accompany', 'hothir', 'rang', 'ig', 'nominal', 'friend--', 'bodied', 'eidolon', \"whoe'er\", 'seare', 'zte', 'decrepitude', 'bone', 'immeasurable', '37:17', 'hovered', 'monarchy', 'anak', 'impotently', 'jehoadah', 'hide', 'existed', 'losing', 'heatwave', 'chemosh', 'swooped', 'streaked', 'mccormack', 'wisedome', '26:65', 'granite', \"doo't\", 'sweepstakes', 'warner', \"seru'd\", '13:40', '13-per', 'ever!--huzza', 'kudlow', '2:49', 'implodes', '26:62', 'riper', '37:1', 'canopy', 'waist', 'glared', 'howled', '19:2', '5:7', 'dayspring', 'unwalled', 'bandstand', 'pouring', 'aged', 'reopens', 'lay', 'politeness', 'executing', 'provoking', 'eased', 'segregation', 'horizon', 'skeptic', 'negligence', 'horrify', '14:32', 'pepper', 'lunch', 'plaintiff', 'bury', 'untwisting', 'fruitless', 'ascent', 'venus', '50:8', 'gudgeon', 'phish', 'assyria', 'diuel', 'shtick', 'mortifying', 'draughtsman', 'hoboken', 'knack', 'impromptu', 'batch', 'halleluiahs', 'alush', 'berth', 'hadst', 'ouster', 'bringing', 'transfixed', 'edwin', 'salute', 'promote', 'plaid', 'pertained', 'astrophic', '36:6', 'mom', 'lyrical', 'sheshan', '48:9', 'discussion', 'seeme', 'voucher', 'baalpeor', 'blandishment', 'upended', '290', 'three', 'tropical', 'acquaint', 'indulged', 'incentive', 'turbulent', 'avenged', 'clovenfooted', 'conservatory', '17:23', 'coleridge', 'negative', 'boat', '15:44', 'cop', 'computer', 'ascertain', 'sympathy', 'lookout', \"woo't\", 'fornication', 'garter', 'avoid', 'thing?--why', 'tooke', 'voracious', 'ly', '6:16', 'landsman', 'unprejudiced', 'publishes', 'vindictiveness', 'sam', 'disabling', 'backfired', 'surgeon', 'brain', 'ineffectually', 'attempted', 'quietly--', 'wincings', 'bag', 'tattooed', 'decency', 'indispensable', 'february', 'equestrian', 'spun', '41:23', 'cyberbullying', 'sexually', 'fortieth', 'touching', 'prescient', 'subreddit', 'kidnapping', '7', 'standeth', 'gaash', 'churchwarden', 'strophe', 'gravity', 'feasting', '2020', 'screwed', 'dreamliner', 'cradled', 'dug', 'courting', 'cherish', 'jezreelitess', '15th', 'harley', 'afghan', 'affronted', 'toyle', 'journeyer', 'appertaineth', 'vortex', \"dy'de\", 'speede', 'sharing', 'kentuckian', 'driven', 'aforehand', 'capstan', 'guard', 'pasteboard', 'aboard', 'chechen', 'daily', 'goer', 'punishment', 'achsah', 'battering', 'greco', 'ahi', 'attaching', 'liues', 'shipwright', '34:15', 'implicates', '2015', 'excavating', 'extrication', 'lookt', 'bravo', \"weigh'd\", 'pleasant', 'federal', 'drunken', 'traffic', 'reappearance', 'eglon', 'fest', 'thanksgiving', 'occasional', 'fatalism', \"accustom'd\", 'irresistibly', 'bravely', 'conversational', 'shewbread', 'two', 'fundamentalist', '40:32', 'did', 'context', 'fought', 'shabbethai', 'fernando', 'arise', 'purchaser', 'afterwards--', 'noncitizen', 'globalist', 'situated', 'circumcising', '19:24', 'diabolism', 'effectively', 'measured', 'blankly', 'alleghanies', 'complexion', 'outcast', '66', 'stolidity', 'separatist', 'starve', 'cluny', 'carat', 'daughers', 'haley', 'jezer', 'peering', 'oakes', 'modernize', 'guess', 'inkling', 'philistia', 'welch', 'not--', 'practising', 'tall', 'aesop', 'complicit', 'pirathonite', '30:36', 'fusion', 'mick', 'archite', 'andy', 'whin', 'true', 'jattir', 'savesoul', 'humbler', 'tier', 'pun', 'bogberry', 'declare--', '56:5', 'dodged', 'indignation', 'wei', 'parthenon', 'promising', 'clamorously', 'and----', 'precision', 'duped', \"chain'd\", 'friendship', 'admiration', 'testator', 'worming', 'coaxing', 'drastically', '11:28', 'xxiii', 'bozrah', 'well--', '32:9', 'frontlet', 'cuttlefish', 'concreted', 'corey', 'fealty', '14:3', 'rallied', 'heitkamp', '29:5', 'habitually', 'requested', 'atomic', 'deficient', 'israeli', 'wet', '12', 'balm', 'replenished', 'inhumane', 'genocide', 'aj', 'transformed', 'heidi', '14:25', 'day--', 'greater', 'articulated', 'reform', '7:23', 'bible', 'indicates', 'fauour', 'azariah', 'tee', 'cruising', 'slightingly', 'rake', 'practised', 'idolized', 'ebcdic', 'simone', 'resented', 'foggy', 'link', 'preposterous', 'aries', 'directing', 'ecstasy', 'oppresseth', 'patty', \"fac'd\", 'sapling', 'whiplash', '38:27', 'deceit', 'slash', 'snout', 'amarant', '24:27', '28', '48:20', 'colossal', 'par', 'surrey', 'book', '48:10', 'gruel', 'downing', 'enjoined', 'fraternity', 'nosedive', 'groaning', 'double', 'helah', '112', 'charmaine', 'wada', \"talk'd\", 'emojis', 'clothe', 'unsafe', 'offing', 'erastus', 'jameis', 'loaden', 'squeaking', 'azubah', 'forgiveness', '16:39', 'perhaps--', 'barbarian', 'haitian', 'innumerable', 'bodiless', 'weaving', 'melissa', 'staccato', 'arrogance', 'drawne', 'rufus', 'beautiful', 'damp', 'sow', 'teeniest', 'mated', 'attentively', \"limb'd\", 'endued', 'prolonged', 'hayter', 'kenyan', 'graveclothes', '49:4', 'ruleth', 'superscription', 'seemeth', 'unbelief', 'incommoding', 'afther', 'dirge', 'carouse', 'reprimand', 'haughery', 'essentially', 'frankness', 'pseudo', 'return', 'stubble', 'dazzled', 'mccann', 'unctuousness', 'topsy', 'roaring', 'nisan', 'nuneaton', 'wolf', 'when--', 'eyeing', 'jones', 'hardcore', 'stealing', '30:37', '40:29', 'eighth', '27:39', 'prolific', 'indisposition', 'landlessness', 'arriving', 'aussie', 'perceiving', 'defender', 'shred', 'bide', '38th', 'captive', 'cleere', 'detailing', 'blighted', 'lucifer', 'ludim', '7:7', 'edged', 'voyces', 'clumsy', 'unchecked', 'manafort', '23:48', 'assent', 'shemida', 'cruell', 'repose', 'ahinoam', 'droll', 'chuckling', 'critical', 'benefactress', 'perverted', 'shamer', 'sore', 'straddling', 'keanu', '55:8', 'sixteen', 'dun', 'flavour', 'cloven', 'awaketh', 'lash', 'rank', 'receive', '30:14', 'quietude', 'expressively', 'grows', '38:8', 'sheath', 'booster', 'adonibezek', 'sec', 'pathless', 'lory', 'guiltless', 'enfeebled', 'subterraneous', 'quarta', '4:6', 'brazilian', 'forsook', 'conflicted', 'altering', 'exalt', 'rite', 'slogan', \"dash'd\", 'jerk', 'continental', 'repent', 'mountainous', 'stopped', 'congregation', 'curly', 'lift', \"saw'st\", 'sars', 'resolue', 'trustedst', 'ambrosial', 'wal', '42:9', 'clasping', 'watered', 'cossack', 'recourse', 'worme', 'upbraided', 'curtailed', 'communing', 'scornest', 'zigzag', 'appoint', 'hacker', '1:43', 'infected', 'pisidia', \"mou'd\", 'benejaakan', 'downe', 'fishery', '24:10', 'woody', 'pheasant', 'sovran', 'lonely', 'dehydration', 'scraped', 'rehoboth', 'odell', \"lower'd\", 'placing', 'fearfully', 'exhaustless', 'confirming', 'harm', 'adjacent', 'all.--i', 'o.j.', 'walled', 'win', 'landing', 'bristol', \"th'art\", 'sith', 'amiable', 'malta', 'battersea', 'wanting', 'gossiping', 'guaranteeing', 'muteness', 'querulous', 'irregularly', 'ephrath', 'angle', 'defy', 'scout', 'scruple', 'annihilation', 'cinderella', 'profiteth', 'variance', 'swooping', 'foameth', 'shaul', 'hoa', 'eyes--', 'blob', 'gillibrand', 'barkos', 'nakamura', 'greywood', 'melville', '31:26', 'vpward', 'gertrude', 'yemeni', '21st', 'mastered', 'wondered', 'egg', 'prate', 'unerring', 'futility', 'perched', 'limestone', 'annually', '50:20', '37:29', 'banq', 'saville', \"toss'd\", 'tell--', 'seeking', 'diverting', 'wellesley', 'pgp', 'charme', 'triumphant', 'rebuild', 'aoc', 'mirzakhani', 'lobe', 'inspiriting', 'shootdown', '12:51', 'magnitude-5.8', 'borrow', 'fro', 'classify', 'awfully', 'stammered', 'bidding', 'inuite', 'cyprus', '125', 'elitism', 'shamed', 'selfe', 'ap', 'unheard', 'higbie', '30:16', 'germaine', 'bashful', 'distribution', 'mainstream', 'icbm', '6', 'hhs', 'parsnip', 'avith', 'lionlike', 'mightie', 'shimeah', 'circumspect', 'lee', 'diaspora', 'marshy', 'isaiah', 'slapped', 'shuttlecock', 'omega', 'wilbur', 'sang,--', 'steadily', 'eterne', 'fence', '25:21', 'frivolous', 'stocking', 'barclays', 'sevenfold', 'bogberries', 'bias', 'jan', 'cleane', 'sophia', 'enda', 'inferior', 'furrow', 'lighten', 'trevathan', 'website', 'bumpkin', 'mattathias', 'pelosi', 'jubilee', 'climbing', 'payer', 'encrypted', '22:32', 'enabled', '29:19', 'nondisclosure', 'resigning', 'havock', 'avouched', 'cyrus', 'daunted', 'deletes', 'spring--', 'disinterred', 'disentangling', 'shomer', 'conqueror', 'raised', 'implores', \"deform'd\", 'rhyme', 'listning', '38:16', '22:1', 'smoothing', 'upsprung', 'drag', '11,000', 'merkley', 'minor', 'do', 'storm', 'ot', \"clos'd\", 'neat', 'limbed', 'hundred', \"ordain'd\", 'unnamed', '15:14', 'stuffe', 'kelt', '1:36', 'treachery', 'buying', 'math', 'jailing', 'asleep', '16:15', 'temperature', 'invisible', 'unremarkable', 'fobbing', 'buoyed', 'ladyship', 'jeff', 'flagged', 'hotter', 'turnip', 'numberest', 'anbang', 'yoda', 'abiezer', '1.8', 'zabbai', '6:37', 'you.--you', 'neighbourly', 'hah', \"hair'd\", 'dissipation', 'nondescript', 'charlie', 'wellpleasing', 'issachar', 'spoyle', 'walketh', 'nebuchadrezzar', '1886', 'sutes', 'sardine', 'broader', '26:56', 'washpot', 'gallantry', 'tuk', 'contortion', 'ruffian', 'artaxerxes', 'hasted', 'perform', 'hurtled', 'bade', 'legally', 'harbor', 'resettled', '550', 'ingenuity', 'stately', 'pub', 'merrily', '11:41', 'oftenest', 'yorkshire', 'scorne', 'assistant', 'demesne', 'character', 'gilded', 'imposed', 'bump', 'vienna', 'intended', 'lightly', 'artwork', '13:5', 'assault', 'scrum', 'talkative', 'constantly', 'observest', 'standest', 'cluck', 'testified', 'impalpable', '40:16', 'fervent', 'zarrab', 'fund', '1778', 'fireman', 'cheated', 'shatter', '15:23', 'limited', 'rain', 'arabah', 'levi', 'defector', 'chasticement', 'now', \"deceiv'd\", 'shoved', 'rescinds', 'amittai', 'walking', 'laurel', 'canvassed', 'sharpness', 'grandfather', 'thankful', 'jahveh', 'cymber', 'drawn', 'surprisingly', 'archive', 'depredation', 'juicy', 'remorseless', 'mnuchin', 'etf', 'definitely', 'juggler', 'calhoun', 'azriel', 'biometric', 'inscription', 'genius', 'auntie', 'flit', 'ensnared', 'plainly', 'untravelled', 'joined', 'silhouette', 'forehead', 'nursing', 'rarely', 'schoolroom', 'screech', 'experiment', 'atonement', 'infection', 'gerizim', '19:23', 'pervert', '9/11', 'vole', 'spine', \"prepar'd\", 'freefall', 'weans', 'snowy', 'peevishly', 'sizzler', 'element', '9:36', 'modestly', 'dippin', 'trickes', 'built', 'enthroned', 'abstracting', 'amiably', 'talebearer', 'prying', 'message', 'adiel', 'comprehensible', '11:45', 'wingnuts', 'chairman', 'present', 'sauage', 'shebna', \"claim'd\", 'frost', 'suffereth', 'fairylike', 'debate', 'buzz', 'grasp', 'divorced', 'faster', 'huppim', 'nap', 'knocking', 'reap', '5:11', 'blessed', 'pressing', 'example', 'timbuctoo', 'jfk', 'vomited', 'elah', 'necessary', 'sparingly', 'posed', 'cultural', 'adjust', 'frail', 'entertained', 'ineligible', 'courtesie', 'wantonness', 'forest', 'irreproachable', \"outlaw'd\", 'twist', 'prescience', 'sacrilegious', 'bower', 'sable', 'dutchman', 'congressman', 'mirth', 'secular', 'peltier', 'zeal', 'peeces', 'brandy', 'stir', 'canaller', 'estimated', 'presumptuous', 'macd', \"father'd\", '31:43', 'len', 'physically', 'criterion', '6:39', 'enrolling', 'restraint', 'duckduckgo', 'performe', 'requirest', 'trill', 'powre', 'ostentatiously', 'clone', \"labour'd\", 'alphaeus', '5:6', 'purged', 'decade', 'revives', 'teardown', 'illiterate', 'nay', 'observe', 'pink', 'windy', 'authoritative', 'prolongeth', 'habergeon', 'yellowstone', 'uncorked', 'picturesquely', 'naturalist', 'linda', 'jerahmeelites', 'nearer', 'taut', 'doue', 'pennant', 'scam', 'pale', 'sharpening', 'wisely', 'unending', 'bashir', 'tpp', 'alaskan', 'hearty', 'continent', '2004', 'outrageous', 'splashed', 'humbug', 'instalment', 'excrementitious', 'calphurnia', 'a', '3', 'garage', 'submiss', 'mayhew', 'focused', 'accustomary', 'slanderous', 'felling', 'amasai', 'gambling', 'perturbation', 'leafy', '7:62', 'historian', 'laughing', 'lie', 'thorn', 'involving', 'fallow', 'unimaginable', '4:41', 'trusted', 'preservest', '19:16', 'acclaim', 'sealeth', 'ego', 'windes', '66:10', 'unfrequented', 'adonizedec', 'related', 'habakkuk', 'journeyman', 'mandate', '19:27', 'vnfold', 'inspector', 'hazard', 'tousled', 'mcelhenney', 'tasselled', 'interpret', 'judah', 'whirling', 'submission', 'predicament', 'assessment', 'ensuing', 'futile', 'dotted', 'intreated', 'archaeologist', 'astern', 'kindled', 'comedian', 'wing', 'device', \"neck'd\", 'emma', 'sprinkler', 'magical', 'neapolitan', 'inclosed', 'presse', 'distinguishing', 'adam', 'plastic', 'policeman', 'turner', 'sent', 'owed', 'argosy', 'financial', 'shut', 'bowline', 'straitly', 'lithuania', 'gershon', 'unites', 'before--', 'deceived', 'assumed', 'lowing', 'smoake', 'systematic', 'temptation', 'eighteenth', 'citylab', 'supporter', 'himalaya', 'peece', 'opera', 'hypothetical', 'centrist', 'nob', 'furrier', 'halfpenny', 'enquired', 'clinton', 'valognes', 'maddens', 'midianitish', 'sergeant', 'hungry', 'vocalism', 'picchu', 'realist', \"bow'd\", 'battered', 'schlapps', 'hardens', 'communicate', 'tyrolean', 'put', 'ventured', \"tann'd\", 'tryall', 'uriah', \"do't\", 'inhabit', 'calmer', 'nook', 'shutter', 'irrevocable', 'inducing', 'zia', 'halibut', 'auspex', 'forbearing', 'stockholm', 'hemath', 'intercontinental', 'revisionist', 'rapha', 'breakthrough', 'inseparable', 'question', 'manuring', 'creak', 'negotiation', 'tophet', '42:20', 'byproduct', 'swine', 'cyberweapons', 'emu', '43:16', '3:28', 'assured', '25', 'lieth', 'whitman', 'esteem', 'conning', 'rome', '41:5', 'crotch', 'reformist', 'toper', 'skimming', 'nineteen', 'rendered', 'laurer', '38:28', 'adnah', 'condition', 'arrayed', 'abarim', 'accosting', 'designing', 'steel', 'aspires', 'clay', 'parliamentary', 'stationed', 'masterly', 'prosecution', 'concerning', '24:5', 'greatness', 'confederacy', 'phiz', 'archie', 'ire', '63:8', 'inspire', 'early', \"encamp'd\", 'triviality', 'givest', 'nightly', 'lead', 'indebted', 'bracing', 'conquered', '33:7', 'cair', 'spasmodically', 'replication', 'voluntarily', 'mama', 'quail', 'bug', 's', 'fifteenth', 'vulgar', 'polytechnic', 'consort', 'wow', 'soyle', 'sibbechai', '6:11', 'murk', 'daisy', 'sentry', 'conceited', 'justifiable', 'niggard', 'sliver', 'wrestling', 'mutinous', 'summed', 'contradict', \"push'd\", 'smoother', 'enriched', 'parlour', 'william', 'sworne', 'cretan', 'recently', 'wider', 'misdeed', 'bobby', 'refraine', 'teeming', '18:35', 'adriatic', 'popt', '24:25', 'wag', 'consumptive', 'zebulonite', 'glistened', 'bethpeor', 'grope', 'bathing', 'hemmed', 'dote', 'puzzling', 'achzib', '4:22', 'shipwrecked', 'bedside', 'bride', 'cartwright', 'shined', 'cyrenian', '51:16', '4:49', 'iii', 'arkite', 'moccasin', 'leadest', 'woodland', '45:22', 'enemie', 'fragrant', 'simply', 'tin', 'weal', 'hkmap', 'seine', '29:32', 'vocal', '34:26', 'stymy', 'skit', \"show'd\", 'impressed', 'rear', '66:17', '6:36', 'shipmen', 'suppose', 'fabrick', 'islamist', 'absorbed', 'monomania', 'averting', 'binea', 'complaining', 'clipper', 'banksy', 'u.', 'painted', 'luncheon', 'unforgivable', 'hammelech', 'nodded', 'affords', 'axed', 'cat', '24:30', '18:23', 'eliathah', 'ernst', 'publick', 'arpad', 'disused', 'someone', 'shishak', 'flummery', 'property', '28:41', 'formal', 'holloa', '52:15', 'acquired', 'sheathed', '199', 'quickness', 'displeases', 'husbandman', 'hissed', 'yore', 'glacier', 'absentminded', 'oppressing', '37:34', 'bickerton', 'revelry', 'bigvai', 'ousted', '52:14', \"touch'd\", 'ahmed', \"vs'd\", 'immortall', '120', 'diffuse', \"barr'd\", 'jekameam', 'shushan', 'pekod', 'explode', 'fluent', '83', 'translating', 'mash', 'shelter', 'rend', 'increased', 'sitst', 'cambridge', 'mightier', 'region', 'lath', 'exploited', 'whalemen', 'mystery', 'behooves', 'jist', 'espoused', 'gadi', 'warlike', 'apollo', 'welded', 'unthought', 'doted', 'equivocation', 'hypertext', 'unsuccessful', 'conferred', 'adheres', 'quickest', 'mallet', 'spendthrift', 'stopping', 'beadle', 'korea', \"honor'd\", 'wretchedly', 'hound', 'recompences', 'unespied', 'scoured', 'rambled', 'wimpey', 'copyright', 'careys', 'froward', 'loath', 'earring', 'wilson', 'ethnic', 'adjured', 'grisled', 'shabby', 'bercow', 'dreary', 'permit', 'legged', 'concluding', 'demur', 'monger', 'exalte', 'fearing', 'stormy', 'bugle', 'snarled', 'vivid', 'admonition', 'softening', '29:31', 'soundgarden', 'carrot', 'unskilful', 'nationality', 'slewed', 'm1', 'severs', 'whilst', 'dotes', 'silently', 'voicelessly', '55:2', 'inexcusable', 'spokesperson', 'muzzle', 'clampdown', 'disapprove', 'pluckes', 'sprinkle', '88', 'architectural', 'linebacker', '24:29', 'vauntingly', '28:32', 'hump', 'captaines', 'elderly', 'stiffnecked', 'i.e.', 'rosin', 'alternate', 'thunderbolt', 'exclaimed', 'had--', 'loving', 'getting', 'spree', 'engraving', 'remembereth', 'psychologist', 'jehozadak', 'scattereth', 'unequalled', 'leadeth', 'grit', 'turbid', 'meth', 'weakens', 'collector', 'revers', '4-way', 'encircles', 'overtaking', 'denied', 'profane', 'slavish', 'tarred', 'conditional', 'dunn', 'splendidly', 'maliciousness', 'sparked', 'protesting', 'bland', 'proverbial', 'rebuff', 'parody', 'approached', 'legalize', 'greatnesse', '          ', 'lockstep', 'dispensing', 'barr', 'epher', 'translated', 'provideth', 'una', 'immeasurably', 'cod', '4:38', '20:42', 'unhurt', 'patted', 'sawest', 'nonbinary', '                    ', 'duck', 'girle', 'reu', 'lankan', 'wedlock', 'socrates', 'yorker', 'indus', 'blackburn', 'bader', 'lobbying', 'hour', 'sits', 'revived', 'hoshaiah', 'lear', 'involution', 'voluble', 'richardson', 'ravin', 'mephibosheth', 'daimler', 'cleared', '66:1', 'screwing', 'pronunciation', 'meyers', 'smoothly', 'corinth', 'redwood', '49:3', 'bridegroom', 'margery', 'remake', 'noyse', 'tardy', 'housework', 'leapt', 'epidemic', 'buttoned', 'confidentially', 'coil', 'domain', 'certain', 'causing', 'perfectly', 'relinquished', 'mesh', 'easy', 'insist', 'martin', '30:28', 'disgusted', 'seuerall', 'arbaeen', 'rationally', 'kneeled', 'unforgettable', 'admire', 'hastert', 'fenced', 'cryptic', 'disabled', 'arctic', '60:9', '6:59', 'dedication', 'harmonious', 'routed', 'silencing', 'precede', 'reverse', '37:26', 'shelumiel', 'so.--', 'manoeuvre', 'talke', 'ruble', 'clearly', 'abreast', 'medium', 'gallop', 'hap', 'desk', 'rheumatism', 'persecutor', 'confesse', 'vengeance', \"unimplor'd\", 'rand', 'cogitation', 'authorised', 'damne', 'environmental', 'betrayer', 'dreamed', 'unrestingly', 'anticipate', 'bitcoin', 'swarest', 'blasphemer', \"fang'd\", 'reflectively', 'ardor', '25:32', 'grumbly', '6:48', 'pastoral', 'thebe', 'quintessence', 'prickly', 'percent', 'outwardly', 'magpie', 'dovelike', 'shooter', '27:16', 'libyan', \"measur'd\", 'incredible', 'rebekah', 'voracity', 'yelling', 'unrequited', 'threatning', 'sitcom', 'crusader', 'furor', 'souldiers', 'pilfering', 'grate', 'macbooks', 'adulterous', 'kedesh', 'strait', 'selects', 'covenanted', 'chaldean', 'kirjathjearim', 'gamble', 'afternoon', 'calgary', '1:42', 'idol', '43:15', 'mary', 'assure', 'erupts', 'band', 'labourer', 'scrip', 'affright', 'lesser', 'drink', 'spending', 'tenderest', 'dealt', 'powell', 'moveth', 'channel', 'hideousness', 'duchess', 'half', 'estimate', 'seeketh', 'detainee', 'navalny', 'brauely', 'realise', 'pyongyang', 'angered', 'edrei', '13:51', 'submissive', 'likeliest', 'carry', 'plenteousness', 'nightfall', 'thoughtfulness', 'hilkiah', 'bridge', 'compounded', 'bouncing', 'catechism', 'trespassed', 'hearken', 'abortive', 'doorkeeper', 'gird', 'overstepped', 'shout', 'tranquillize', 'midshipman', 'dood', 'fourteenth', 'festoon', 'deviseth', 'posse', 'flowed', '81', 'faithful', 'fugitive', 'sicke', 'ecclesiastes', 'naamathite', 'spooning', 'native', 'intimacy', 'prodigiously', 'protestation', 'nasturtium', 'scrutinising', 'monomaniac', 'trod', 'circumspection', 'breeze', '15:26', 'unrecorded', 'pattering', 'boneless', '9:12', 'freed', 'overturned', 'degraded', '42:6', '53:3', 'wheele', '18:43', 'infinite', 'encumbered', 'liar', 'yesterday', 'glasgow', 'revisionism', 'easinesse', 'reigning', 'jehovah', 'disembosom', 'renish', 'spake:--', 'pasturage', 'connecticut', 'quintillion', 'guessing', 'pert', 'baghdadi', 'f.c.', 'button', 'dipping', 'recognition', 'reaction', 'unwritten', 'prick', 'tames', 'detection', 'subpoenaed', 'cicerone', \"thou'lt\", '14:2', 'vndone', 'strictly', 'ftc', '65:3', 'uncompromising', 'graved', 'begun', 'smutty', 'queene', \"ingag'd\", 'hogshead', 'roamed', 'shouldest', 'swarmed', 'nightclub', 'drear', 'lowland', 'backed', '38:30', 'crept', 'scuffling', 'review', 'languishes', 'amplified', 'intelligential', 'reforming', 'congratulation', 'douglas', 'jekamiah', '32:37', 'extends', 'billow', 'lectured', '5:1', 'multiplying', 'omnipotence', '6:65', 'merit', 'lop', 'kenny', 'vivaciously', 'principally', 'phichol', 'aired', 'posing', 'lula', 'guatemalan', 'louse', 'commencing', 'handleth', 'ornamental', 'congregational', 'resolution', 'lucian', 'odious', 'immensely', 'parley', 'compost', '44:31', 'tablet', 'antiquarian', 'propagandistic', '50,000', 'liberated', 'valuation', 'mood', 'brobdingnag', 'digest', 'destroyer', 'likewise', 'arm', 'twining', 'gutter', 'feared', 'reflective', 'creamy', 'wayward', '18:18', 'humor', 'moderate', 'gould', '31:53', 'round', 'sluggard', 'qualified', 'xenophobic', 'oprah', 'canaanitish', 'freer', '9:32', 'abdul', 'indite', 'competency', 'shasta', 'preferring', 'deepely', 'reigne', 'comeliness', 'kalashnikov', 'ahijah', 'glencoe', 'ajar', 'anxiety', 'decided', 'winger', 'marshalled', 'junction', 'trauma', '40:21', 'molech', 'sen.', 'overcoming', 'flood', 'them', 'hither', 'skepticism', 'incline', 'announced', 'rubber', 'beanstalk', 'surtout', 'accordion', \"a'ready\", 'palau', 'bonded', '9:53', '@realdonaldtrump', \"destin'd\", 'strange', 'translates', 'proprietor', 'scalding', 'european', 'memorandum', 'tertia', 'itching', 'airly', 'proposes', 'keepsake', 'pindarus', 'slung', '44:17', 'subcontinent', 'shroud', 'bailey', 'priceless', 'permanent', 'eye--', 'prairie', '2:24', 'incarnated', 'trimming', 'flourished', 'bangladeshi', '61', 'pleasantness', 'maintaining', 'fried', 'retaliate', 'masked', 'director', 'malicious', 'barrassment', 'coveteth', 'irreverent', 'kroger', 'achieved', 'itch', 'broadwood', 'asleepe', 'interview', '20th', 'throb', 'dropt', 'entertaining', 'arme', '1:40', 'wishing', 'unsuspected', 'completes', 'each', 'hashtag', 'pelican', '32:12', 'wall', 'blink', 'amazingly', 'rehearse', 'chronicled', 'safer', 'zoological', 'plebeian', 'pencil', 'prove', 'justifieth', 'imprisonment', 'sipping', 'unvisited', 'sauntering', 'surgery', 'morbid', 'strake', 'exacted', '11:13', 'sepulchral', 'bannered', 'shaalbonite', 'goper', 'boomerang', 'threshingfloors', '2011', 'inquisitively', 'teacheth', 'invigorates', 'duff', 'sighed', '3.4', 'gouty', 'represent', 'liga', 'counteract', 'forge', 'working', 'rephaiah', 'omnes', 'unhinged', 'sherebiah', 'loan', 'drill', 'syme', 'australian', 'tatter', 'whoso', 'assigned', 'ghostwriter', 'equifax', 'lightfoot', 'nuke', 'doubtful', 'plainer', \"steam'd\", 'deceitfull', 'renounce', 'charitable', '4:26', 'confided', 'diviner', 'palm', 'dissect', 'restful', '47:12', 'weaponizes', \"swell'd\", 'overcome', 'treading', 'waste', 'convulsive', 'eternally', '31:11', 'carrieth', '2:9', '4:14', '11:29', 'leshem', 'milch', 'funnel', 'blowfish', 'undercounted', 'lifelessly', 'nimbly', \"d'or\", 'midday', 'rooting', 'hammering', 'sop', 'naphtuhim', 'dupe', '9:15', 'scaramucci', 'dwindles', 'morsel', 'haman', 'falshood', 'suv', 'chasing', 'juror', 'landmark', 'imputation', 'elevated', 'middling', 'nigerian', 'chute', 'ongoing', 'steamboat', '56:6', 'hecla', '40:34', 'mattan', '28:18', 'wherewithal', '45:8', 'annals', 'begettest', 'remembered', '30:3', 'unglued', 'husham', 'enrich', 'peremptorily', 'castest', 'endeavoured', 'irrelevant', 'quickly', 'inform', 'luckless', 'stickytoes', 'xvi', 'jealousy', 'innocent', 'tell', 'alighted', 'buddy', 'outlandish', 'exhaling', '6,400', 'group', '54:5', 'undaunted', 'organism', 'toppling', '43:18', 'dare', 'wallowing', 'pewter', 'proposition', 'grimly', 'biden', 'doha', 'expiring', 'eldest', 'rectory', 'aaa', 'gain', 'agrippa', 'host', 'brushfires', 'hearties', 'conveniently', 'liu', '42:11', 'harim', 'crystal', 'spontaneous', 'grudgingly', 'mouing', 'adulterer', 'meridian', 'because--', '146,000', 'subpoena', 'rene', '19:5', 'outsourced', 'rectitude', '26:51', 'perch', 'strikingly', 'olden', 'stream', 'carving', 'filigree', \"wither'd\", 'cleveland', 'nahor', 'attitude', 'raiser', 'classified', 'mamre', \"arriu'd\", 'pardoned', 'shipyard', 'maimed', 'occur', 'soliloquized', 'groove', 'abandon', 'wholly', 'darted', \"ye'll\", 'skelter', 'breadth', 'perpendicularly', 'oddity', \"cheek'd\", 'nether', 'gibeah', 'trail', 'hem', '11:21', 'artist', 'warmeth', 'haughtily', 'clanged', 'counting', 'feige', 'nabal', 'instance', 'assuring', 'brawny', 'sheepskin', 'alleges', 'californian', 'pregnant', 'darkling', 'arrested', 'gonzago', '30:20', 'reeled', 'representative', 'tertius', 'beene', 'shuffled', 'turneth', 'warriour', 'liuing', '40:28', 'marketplace', 'angell', 'buls', 'shellfish', 'dwells', 'afflict', 'pantheistic', 'hamul', 'swart', 'putteth', 'sprout', 'thenceforth', 'paltry', 'tub', 'winked', 'rowling', 'timber', '7:71', 'inlaid', '29:6', 'shouldered', \"aim'd\", \"stuff'd\", '48:34', 'recurring', 'abdi', 'dow', 'platted', 'diest', 'meddle', 'direful', 'prologue', 'couple', 'undying', 'understanding', 'anvil', 'mamma', 're', 'governor', 'luminous', 'wrathful', 'urijah', 'alarme', 'mccaskill', \"polish'd\", 'aggregated', 'thaught', 'consecration', 'release', 'nimble', 'exclaiming', 'sorrowful', 'selfishness', 'selvedge', 'repast', '190,000', \"offer'd\", 'jinping', 'earnestness', 'hated', 'disappointment', 'undiminished', 'announcing', 'patriotism', 'baal', 'filthy', 'arimathaea', 'penalty', 'propriety', 'kasich', '7:25', 'bickering', 'bern', 'hee', 'found', '34:22', 'thousand', 'trueman', 'gazed', 'exposition', 'surge', 'attainable', 'lull', 'designated', 'tacking', 'simple', 'kitty', 'whalebone', 'glistering', 'imperturbe', 'antilles', 'jeshurun', 'addition', 'dallas', 'blushed', 'appreciation', '63:2', '41:27', 'budapest', 'adriel', 'saddened', 'ungrateful', 'devalues', 'cushioned', 'twaine', 'oratresses', '39:12', 'elinor', 'montem', 'snapped', 'ironically', 'tufted', 'saturate', 'had', 'quotation', 'buildeth', 'hebrew', 'unacknowledged', 'saracen', 'exploring', 'decay', 'deepest', 'kenya', 'puffed', 'punched', 'housekeeper', 'alexander', 'must', 'meetest', 'passer', 'aleppo', \"e'ene\", 'felt', 'chide', 'iram', 'honestie', '29:21', 'floppy', 'produce', \"shadow'd\", 'grievousness', 'erebus', 'nebajoth', 'repeater', '13:35', 'pictured', '35:17', 'jebus', 'beheading', 'spiritually', 'vengeful', 'jeriah', 'wrong', 'abdiel', 'passport', '16:25', 'recycling', 'medication', 'accusing', 'proudest', 'devoureth', 'confiding', 'workmanlike', 'stormed', 'rocked', 'totalitarian', '3,000', 'ukraine', 'greener', 'foodbanks', 'meekly', 'norweyan', 'disembodied', 'discrediting', 'thews', 'cherub', 'worker', 'brittle', 'meshezabeel', 'mincer', 'kickshaw', 'enriching', 'gratify', 'exploiting', 'uplifted', 'describe', 'directed', 'unpitying', 'wondrously', 'erred', 'pondered', 'shrivelled', 'continuously', 'abelmeholah', 'huswife', 'duo', 'ad', 'weary', 'plata', 'determinate', 'chin', 'petitioner', 'collared', 'luggage', 'ethic', 'plenty', 'peerage', '24:52', 'nina', 'sneered', 'cynicism', 'tychicus', 'juan', 'maliciously', 'womanhood', 'reeling', 'remained', 'macnab', 'pulverize', 'attach', 'indirect', 'arvad', 'wrenched', 'began', 'spotted', 'riseth', 'sprinkleth', 'meaningless', 'sheth', 'laadan', 'july', 'spoke', 'southerly', 'unsure', '33:19', 'signified', 'moot', 'outage', 'spiritualism', 'tiffany', 'trebek', 'unloads', 'solitarily', 'disorderly', '49:2', 'familiarity', 'equally', 'w.', 'warder', 'scotcher', 'amsterdam', 'smiting', 'wonderfully', 'gunman', 'talmon', 'satisfies', 'shearing', 'unfrequent', 'waited', '32:38', 'snuffing', 'adulthood', 'shivering', 'gdp', 'mocketh', 'delightfully', 'whang', 'yosemite', 'kernes', 'exceed', 'trepidation', 'bethany', 'ontario', 'wiry', 'intruder', 'distinct', 'shemaiah', 'metel', 'struggle', 'balad', 'parade', 'indivisible', 'warplane', 'whirl', 'colorless', 'disliking', 'boast', 'impede', 'omnivorous', \"sicken'd\", '8:9', 'popular', 'hisse', 'discerning', 'dreg', 'steelkilt', 'craggy', 'shobai', 'covert', 'avoided', 'beau', '1:13', '20:48', 'falser', 'nebuchadnezzar', 'tyson', 'clad', 'cut', 'tilled', 'mahalaleel', 'womenservants', \"a'top\", 'dorm', 'junky', 'tulip', 'revolve', 'commandment', 'callest', 'belief', 'landless', 'anger', 'deuteronomy', 'dressy', 'meted', 'smirked', 'differing', 'between', 'perverting', \"dismiss'd\", 'regulated', 'jasher', '9:4', 'republican', 'toy', 'deci', 'goalpost', 'speculation', 'juttah', 'coincidence', 'respectability', 'proportionate', 'montenegro', '38:25', '60:10', 'laide', 'kid', 'subscription', 'rollback', 'burgundy', 'dalroy', '20:9', 'formula', 'heauie', 'seraphic', 'praising', 'shammah', 'trick', 'apply', 'settlement', 'violating', 'draggled', 'uzziel', '19:41', 'fire', 'noose', 'complained', 'lilac', 'sustain', 'hurting', 'trusting', '75bn', 'silva', 'sailing', 'faulty', 'acquittance', 'distraction', 'scamming', 'carelessness', 'bestowing', 'pitch', 'drowning', 'threepence', 'kurdish', 'complimentary', 'paraded', 'gained', 'caul', 'peck', 'ferret', 'undiscernible', 'labour', '5:9', 'boarding', 'adrift', 'goodwill', 'milky', 'sayest', 'jointed', 'entertainer', 'bos', 'horhagidgad', 'abridged', 'sirrah', '31:18', '40:1', 'filling', 'rogelim', 'carefully', 'harke', 'attack', 'scanning', 'abound', '48:35', 'scenery', 'unconscious', 'wentworth', 'earhardt', \"ma'm\", 'concrete', 'vpon', 'beares', 'tiger', 'justifying', 'ascendency', 'snore', 'bilshan', 'diffident', 'phares', 'askant', 'sepulchre', 'confirmation', 'gon', 'installment', 'undergoing', 'love--', 'assurance', 'blackmailed', 'henoch', 'juncture', 'propitiation', 'repeal', 'nipped', 'precinct', 'manchester', 'hagarites', 'bankes', 'painful', 'braines', 'amity', 'durbin', 'incursion', 'magnifick', 'whitehall', 'infirmity', 'matter', 'me!--i', 'felony', '15:51', 'deplorableness', 'cruisings', 'countryside', 'gambit', 'cancel', 'peeled', 'baden', 'howbeit', 'yoho', 'kadesh', 'brigden', 'chooseth', 'splendour', 'manchin', 'j.k.', 'day', 'composite', 'tale', 'wildenesse', '5:21', 'grouping', 'climber', '45:16', 'rozenstruik', 'hezekiah', 'jiphthahel', 'hazy', 'homer', 'hollande', 'popularity', 'proving', 'dung', 'reprising', 'neede', '48:33', 'connatural', 'awaken', 'nevertrump', 'ca', 'dr', 'crucible', 'bracelet', 'iigge', 'pochereth', '19:3', 'kidding', 'camerado', 'stalking', '18:8', 'stumpy', 'hazor', 'telling', 'lethal', 'hertzberg', 'narration', 'misinterpreted', 'convex', 'idiotic', 'gypsy', 'loretta', 'signe', 'displease', 'grace', 'sharer', 'flitting', 'marge', 'forborn', 'k.c.', '62:6', '39:25', 'tenfold', 'head--', 'beloved', '44:10', '50:26', 'pacified', 'communion', 'enuy', 'bragging', 'edelman', 'obliging', 'cumberland', 'catlike', 'hurrah', 'awful', 'u.s.-iran', 'literats', 'quinta', 'blagojevich', 'reasoning', 'blow', 'one--', 'bradlaugh', 'davos', 'etext', '13:55', 'outbreak', 'weed', 'pleasing', 'quiet', 'amuses', 'omg', 'misled', 'hoglah', 'uttered', 'manhood', 'consciousness', 'selfish', 'lied', 'expel', 'gomorrha', 'caleb', 'rocket', 'foole', 'zemaraim', 'babis', 'pedahzur', '45:20', 'lush', 'sleepie', 'villanous', 'l100,000', 'victory', 'repugnant', 'courtland', 'alpine', 'reflected', 'distrustful', 'essex', 'departure', 'gigafactory', 'grinder', 'brewer', '10:34', 'uncontrollable', 'jaundice', 'ratifies', '11:2', 'viewed', 'homosexual', 'foretells', 'iaw', 'f.', 'identical', 'baker', 'skinny', 'wedding', 'narcissus', 'mathematician', 'name--', 'upheld', 'fascinating', 'griefe', 'bdellium', 'g.o.p.', 'bloomberg', 'amazonian', 'grandparent', 'deity', 'berating', 'froth', 'insidious', 'relay', 'entrenched', 'reclining', 'ultramarathon', '30:2', 'push', 'unutterable', 'tremor', 'beijing', 'lamentable', 'iphone', 'me!--not', 'athenian', 'admits', 'donal', 'pontifical', 'knee', 'addrest', 'attaining', 'fanned', 'hearse', 'messiah', 'broadest', '42:5', 'courtship', 'revengeful', 'wounded', 'parsonage', 'grimed', 'misinform', 'stare', 'cleopatra', 'vane', 'unreason', 'worshipped', 'history', 'item', 'cohered', 'mainly', '66:8', 'chief', 'outmost', 'islamic', 'rollaround', 'profound', 'tema', 'instigation', 'cosmos', 'interfered', 'granting', 'seruant', 'glamis', 'confirmeth', '3:43', 'bespake', 'complied', 'calabash', 'seven', 'depriving', \"scatter'd\", 'opening', 'sihon', 'ensue', 'symphony', 'foorth', 'actively', 'correctly', 'cobargo', 'grindstone', 'compels', '27:12', '                                                         ', 'roped', 'picnic', 'onyx', 'tekoites', 'unsustainable', 'eliam', 'tuition', 'figure', 'jinglers', 'hickenlooper', 'undulating', 'tyrannical', 'criticize', 'joha', 'solemnly', 'gouge', 'extinct', 'wardrobe', 'joktheel', 'mad', 'spat', 'humble', 'seizes', 'detestation', '22:30', 'pinon', '14:54', 'mee', 'contemplation', 'antediluvian', 'quarterback', 'embroiderer', 'colonial', 'quarried', 'calneh', 'sirion', 'unprecedented', 'lewinsky', 'indie', 'dwindle', 'canvassing', 'doxology', 'clearness', '64', 'unblest', 'casually', '6:61', 'intermediate', 'owle', 'tore', '50th', 'sympathizer', 'charlo', 'chides', 'bitt', \"d'wolf\", 'dipt', 'promontory', '24:3', 'move', 'brimming', 'xxi', 'beginner', 'pane', 'soccer', 'profligate', 'limn', 'swamped', 'next', 'azel', 'awakest', 'flushed', \"unharm'd\", 'abaft', 'columbia', 'behavior', 'bestrown', 'interblending', 'engedi', 'bronzed', 'satire', 'hb2', 'exaltation', 'capitol', 'sever', 'blackmailing', 'vile', 'cockade', 'bile', 'morass', '29:16', 'enan', 'understand', 'glumpe', 'ceremonial', '42:25', 'witherspoon', 'alreadie', 'underpaid', '6:50', 'engagement', 'smuggled', 'stared', '50:18', 'cupidity', 'steeply', 'thane', 'prompted', 'effeminacy', 'hinged', 'idumea', 'contentedly', 'atwood', 'consideration', 'kkk', '14:31', 'reddy', 'utility', 'superhero', 'baking', 'omer', 'practicing', 'chinese', 'whiting', 'sleep', '46:2', 'cheapest', 'costly', 'slappin', 'holding', 'grouse', 'ararat', 'hilltop', 'moued', 'ahoy', 'embark', 'allow', 'bowsman', 'consisted', 'qaeda', \"hav'n't\", 'enquire', 'd.c', 'tunnel', 'overseas', 'jesse', 'renewest', 'included', '27:2', 'overrun', 'sonnet', 'seat', 'dept', 'shank', 'diapason', 'anatomical', 'overwhelming', 'fiancee', 'foreskin', 'crosse', 'narrated', 'puget', 'sceptic', 'detector', '7:26', 'interrupting', 'java', 'eshtemoa', 'reproof', 'indication', 'some', 'morally', '18:29', 'bella', '32:29', 'howling', 'daylight', \"temper'd\", 'subdue', 'transgress', 'undervalued', 'examining', 'elzaphan', '16:24', \"wrong'd\", 'feareth', 'trumpist', 'unnaturally', 'bunyan', 'stanza', 'morton', 'usefulness', 'rattling', 'foliage', 'furiously', 'apricot', 'stoop', 'on--', 'unrivalled', 'imperfect', 'scurrying', 'discomfort', '11:1', 'dems', '16:19', 'safe', 'afore', 'scalloped', '192', 'holpen', 'begetteth', 'henceforth', \"loued'st\", 'orator', 'floweret', 'withs', 'void', 'stable', 'fiscal', 'merger', 'longeth', 'nosed', 'about', 'glaring', 'zay', 'harsh', 'life', 'interrogating', 'fetid', 'dismisse', 'plaque', 'distant', 'propose', 'peasant', 'brisk', 'insufferably', 'irritation', 'arched', 'stalwart', 'headstrong', '20:8', 'composure', 'dorsey', 'anarchism', 'gobern', 'voluptuous', 'ninepin', 'calm', 'laodiceans', 'brin', 'ezekiel', 'impanels', 'flow', 'criticise', 'menstruating', 'leaning', 'highlighted', 'seaboard', 'knob', 'fourpence', '20:12', 'micah', 'layes', 'contain', 'himalayan', 'ado', '25:15', 'thessalonian', 'content', 'uppercross', 'mach', 'korah', 'alfred', 'gable', 'transfer', 'katy', 'rigged', 'sidestep', 'verdant', 'multiple', '1:52', 'dig', 'sorcerer', 'pencilled', '16:13', 'criticism', 'bashar', 'wren', '37:22', 'duterte', 'impatience', 'vnction', 'vol', '35:2', 'disney', '33:26', 'superstore', 'searing', 'paramilitary', 'apace', 'supplemental', 'blackened', 'canal', 'spied', 'reade', 'crouching', 'sharpest', '24:4', 'twofold', '50:16', 'tabor', 'perish', '8:59', 'mattaniah', 'omniscient', 'purchas', \"dar'st\", 'yang', 'pacifieth', 'marco', 'erst', 'leicester', 'borne', 'stomacher', 'peevish', 'proven', 'minority', 'completion', 'prenatal', 'sweeten', 'disgrace', 'warren', 'manhandle', 'oblivion', '16:14', 'lgbtq', 'unnumbered', 'obliterate', '10:7', 'reputed', \"pitch'd\", 'forgat', 'shimea', 'posterity', 'corruption', 'cab', '1975', 'fatal', 'harlequin', '9:50', 'usury', 'grow', 'stygian', 'thibet', 'reynolds', 'the[m', '23:42', 'steak', 'lucia', 'maddened', 'archer', 'green', 'contemptuous', 'hp', 'beshear', 'provoketh', 'asaph', 'intercession', 'those', 'abda', 'prostrate', 'hostel', 'volkswagen', 'substituting', \"color'd\", 'sweetheart', 'bevin', 'surgical', 'elusive', 'seducing', 'ophe', '5:15', 'twinkle--', 'quarrelling', 'alleged', 'gabbanelli', 'absorbs', 'saginaw', '37:36', 'perceivest', 'loveliness', 'speak', 'madhouse', \"loos'd\", 'blaze', 'allude', 'toilings', 'confectioner', '36:7', 'tendance', \"pluck'd\", 'davidson', 'emergency', 'brian', 'alp', 'giddel', 'corbyn', 'amplify', 'countenance', 'rosy', 'cowdray', 'blindly', 'accession', 'birth', '18:46', 'embraced', 'salem', 'galloping', '45:13', 'recommendation', 'smollett', 'tutte', 'settest', \"reueng'd\", 'weeping', 'neere', 'gasp', 'leaving', 'brennan', 'indian', '63:6', 'debir', 'tower', \"reliev'd\", 'ornan', \"suffer'd\", 'vnion', 'insipidity', '59:13', 'jahleel', 'unbuttoning', 'judea', 'resting', 'regrettable', 'teak', 'shochoh', 'sower', 'enterprize', '55:11', 'ithuriel', 'theresa', 'tauntingly', 'clotted', 'wide', 'x27', 'weepe', 'productive', 'plagiarism', 'break', 'threefold', '6:33', 'julius', 'timely', 'mouth', 'childe', 'university', 'straight', 'bearskin', 'compressed', 'belted', 'cocked', 'gentility', '11-style', 'nerve', 'eddying', 'pussy', 'havilah', 'fortnight', 'narcissism', 'waged', 'newly', 'corinthian', '41:24', 'rashkill', 'seuenty', 'affect', 'girded', 'seasoned', 'cupbearer', 'leap', 'perizzites', 'bureaucracy', 'affronting', 'dwarfed', 'fortify', 'ahiezer', '35:14', 'stung', '46:24', 'lilt', 'houghed', 'roundabout', 'beastly', 'hut', 'efficient', '12:23', 'thunder', 'doome', '48:18', 'past', '15:41', 'apprised', 'voice,--', 'partition', '28th', 'boost', 'unofficial', 'fickle', 'gallup', '8:58', 'pisseth', 'contrived', 'quaking', 'motivated', 'chenaanah', 'signify?--for', 'gunner', 'fauors', 'dhs', 'component', 'bressed', 'da', 'riveting', 'vagary', 'mutton', '42:13', 'langsdorff', 'bashing', 'diklah', 'sack', 'keel', 'lewd', 'george', 'acceptable', 'unsteady', 'pastorall', 'funded', 'faintly', 'marries', '             ', 'amnon', 'thrive', 'inshore', 'bluntly', 'true--', 'ishi', 'spot', 'siluer', 'rower', 'asaiah', 'foundry', 'exceptionalism', '               ', 'threescore', 'eliada', 'helem', 'solar', 'felled', 'byword', 'witnesseth', 'dubiously', 'strategize', 'thrashing', 'devote', 'pantheist', 'steer', 'cone', 'tennyson', 'exhibit', 'hove', 'vizards', 'elysee', 'inkstand', '14:51', 'cleaving', 'poring', 'matchless', 'vnkle', 'authentic', 'looseth', 'lastly', 'disobeyed', 'leaved', 'chester', 'muhammad', 'violated', 'shutteth', 'venerealee', 'undisclosed', 'snorting', 'gaetz', 'duet', 'di', '10:29', 'shineth', 'mildly', 'blogger', 'dull', 'hanger', 'mosaic', 'senegal', 'abdon', 'top', 'admirably', '34:13', 'dulcimer', 'superiority', 'stepdaughter', 'pontus', 'winding', 'gradation', 'wyden', 'barsabas', 'singapore', 'chivalry', '9:17', 'brief', 'confounded', 'mizen', 'yvette', 'tested', 'subordinate', 'isshiah', 'memoir', 'blinking', 'monkford', 'slapping', 'poky', 'smoker', 'rip', 'squall', 'interventionism', 'barley', 'formality', 'undefiled', 'alphabetically', '5:31', 'cowslip', 'ebiasaph', '                                          ', 'betrayeth', \"welcom'd\", 'abating', 'tearless', 'accommodate', 'rupture', 'mok', 'grifter', 'fa', 'wretchedness', 'slur', 'adil', 'wikipedia', 'heauen', 'femme', 'tirzah', 'instilled', 'noadiah', 'netflix', 'cnnpolitics.com', 'repeat', 'nobel', '31:44', '31:6', 'scrolled', 'pearl', 'divorcement', 'lucius', 'supernaturalism', 'trilogy', 'motto', 'avocation', 'judaism', 'languishing', 'will', 'lawless', 'chiselled', 'hananeel', 'important', \"impon'd\", 'capitalising', 'spinning', 'shark', 'sceptre', 'householder', '29:24', '2:28', 'overtook', 'spiced', 'imprudent', 'til', 'ambient', 'gogol', 'ukraine/2016', 'amalekites', 'charade', 'barrage', 'hearkening', 'uncle', 'wisest', 'warbled', 'bleeding', 'keenly', 'noncriminal', 'belshazzar', 'compensation', 'soliciting', 'vent', 'buff', 'penal', 'skirting', 'yong', 'nobly', 'bad', 'attentive', 'tend', 'smite', 'injustice', 'secure', 'asks', 'meshech', 'stubborne', 'choke', 'pallidness', 'molly', 'editor', 'objected', 'husk', \"ioyn'd\", 'tolerance', 'bulkhead', 'svelte', 'bremen', 'ecclesiastical', 'buxom', 'priesthood', 'indeede', 'dance', 'shiver', 'added--', 'venom', 'forbids', 'improbable', 'amazed', 'awesome', 'chatty', 'entourage', 'supplieth', 'precipitancy', 'noriega', 'merchantman', 'lounged', 'vendor', 'halting', \"absorb'd\", 'windlass', 'flaunt', 'screening', 'attracted', '15:4', 'monitoring', 'censoring', 'effulgence', 'jabneel', 'politician', 'bridechamber', 'pantaloon', 'waistband', 'tapestry', 'marl', 'intervention', 'prolong', 'growling', '39', 'doating', 'crusoe', 'undulated', 'gratitude', 'escorted', \"cook'd\", '4:10', 'bigamist', 'hardening', 'groweth', 'elephant', 'creates', 'glass', 'satyr', 'haradah', 'woodhouses', 'amendment', 'looke', 'gardener', '50:25', 'dialogue', 'rosetta', 'other----', 'ed', '19:38', \"constrain'd\", 'd', 'fatherly', 'strolled', 'postpone', 'parallel', 'sachs', 'infatuation', 'nourishment', 'petticoat', 'beheld', '10:37', 'owner', 'distrusting', 'republishes', 'trembling', 'exonerating', 'expound', '6:21', 'activism', 'imported', 'replaced', '47:4', 'lab', 'affirms', 'beeroth', 'calculate', '46:5', 'winter', 'r.', 'obtaineth', 'startup', 'girding', 'apparelled', 'naboth', 'favouring', 'bieber', 'deportee', 'insure', 'gartersnake', 'leave', 'cockle', 'college', 'sykes', 'caring', 'foundation', '9:6', 'loyalty', 'suspending', 'doubting', 'rigid', 'chestnut', '100-day', 'watcher', 'revolt', 'vanished', 'murdoch', 'unmerited', 'propensity', 'pier', 'router', '54:1', 'jabbed', '23:22', 'dusting', 'melody', '49:7', 'meantime', 'cricketer', '14:22', 'françois', '38:23', 'detriment', 'rooted', 'manservant', 'oops', 'judgeth', 'selling', 'endgame', 'egotistic', 'voyaged', 'shetharboznai', 'abides', 'prejudiced', 'donalbane', 'hampton', 'flinch', 'wacko', 'contradicts', 'f*ck', 'austen', 'osama', 'topmost', 'fanciful', 'samantha', 'filed', 'jr', 'readable', 'sledge', 'arvadite', 'digger', 'zarephath', '28:28', 'nest', 'wrought', 'monsieur', 'trace', 'mother', 'permitted', 'c', 'zaccai', 'condescended', 'manson', 'cared', 'communist', 'var', 'ministered', 'melbourne', '12:44', \"is't\", 'created', 'conciliation', 'tolerable', 'revenue', 'jarring', '37:27', 'bleached', 'unsullied', 'hazarded', 'came', 'consistently', 'enlarging', 'thing', 'stomach', 'woven', 'fluttered', 'caro', 'impulsively', '6:23', 'rotation', 'swayed', 'yawn', 'vttermost', 'adonikam', 'spell', 'greek', 'unfastened', 'athwart', 'astronaut', 'dashcam', 'discredit', 'trademark', 'sarcasm', 'chairing', 'quartus', 'laundering', 'andreessen', 'snuffdishes', '       ', 'corporate', \"fail'd\", '16:41', 'obsession', 'military', 'dustbin', 'academic', 'bremner', 'egotistical', 'braine', 'corpusants', 'lewdly', 'soo', 'clause', 'intrinsically', 'spotty', 'wrapping', 'sacrilege', 'nike', 'tabrets', 'tendeth', 'sharezer', 'emulation', 'mainland', '4:18', 'korhites', 'skull', 'warden', \"slaughter'd\", 'judith', 'wheedled', 'comedy', 'rendering', 'boom', 'accosted', 'her;--and', '39:17', 'iowa', 'theirs', '37:30', 'yee', 'pension', 'concentrate', 'athaliah', 'qasem', '24:43', 'arab', '66:13', 'voodoo', 'pelet', '15:2', 'marsha', 'shaft', 'bilateral', 'slated', 'russian', 'ivanka', '18:9', 'surnamed', '2:53', '60:5', 'venome', 'market', 'kenath', 'foray', 'thirtie', '4:16', '46:11', 'starre', 'glossy', 'darkens', 'disrupts', 'prest', '38:11', 'upbraiding', 'stunning', 'space', 'is', 'procession', 'exam', 'journey', 'overhand', 'nicodemus', 'numberless', '41:14', 'flashy', 'disclose', 'buffoon', '4:31', '120,000', 'lyft', 'outreach', 'jackson', 'thief', 'shiite', 'complement', 'herbert', 'ioy', 'bullshit', 'shenir', 'chance', 'worrying', 'lexus', 'establish', 'maintains', '28:39', 'tarlton', 'pawn', 'mutilation', 'erecting', '45:24', 'oppress', 'seeing', 'roland', 'hur', 'owes', 'occasioned', 'myself.--', 'and', 'restarting', '5:28', 'stamped', '49:17', 'mortal', 'concerned', 'protectionism', 'ecstacy', 'array', 'abel', 'sardius', 'overpower', 'occurs', 'snarl', 'weston', 'unanimous', 'incredibly', 'gloating', 'wisconsin', '17:39', 'aholah', 'handwriting', '10:6', 'wil', '1:39', 'jerah', 'tarsus', '17:4', '15:48', 'obama', 'wrist', '300mw', 'baltimore', 'wistfully', 'ichabod', 'taiji', 'ebbing', 'currency'}\n"
          ],
          "name": "stdout"
        }
      ]
    },
    {
      "cell_type": "code",
      "metadata": {
        "id": "hlK2KhZCbqg2"
      },
      "source": [
        "#Add unknow token\n",
        "OOV_token = \"<OOV>\" \n",
        "vocabulary.add(OOV_token)\n",
        "word2idx = {}\n",
        "n_words = 0\n",
        "\n",
        "#Replace all tokens not in vocabulary with unknow token\n",
        "tokenized_corpus_with_OOV = []\n",
        "for sentence in tokenized_corpus:\n",
        "\n",
        "    tokenized_sentence_with_OOV = []\n",
        "    for token in sentence:\n",
        "        if token in vocabulary:\n",
        "            tokenized_sentence_with_OOV.append(token)\n",
        "        else:\n",
        "            tokenized_sentence_with_OOV.append(OOV_token)\n",
        "    tokenized_corpus_with_OOV.append(tokenized_sentence_with_OOV)"
      ],
      "execution_count": 101,
      "outputs": []
    },
    {
      "cell_type": "code",
      "metadata": {
        "id": "lP-lO4VQbuTT"
      },
      "source": [
        "#build dictionaries\n",
        "for token in vocabulary:\n",
        "    if token not in word2idx:\n",
        "        word2idx[token] = n_words\n",
        "        n_words += 1\n",
        "\n",
        "assert len(word2idx) == len(vocabulary)\n",
        "\n",
        "# Invert dictionary\n",
        "idx2word = {idx: word for word, idx in word2idx.items()}\n",
        "\n",
        "assert len(idx2word) == len(word2idx)"
      ],
      "execution_count": 102,
      "outputs": []
    },
    {
      "cell_type": "code",
      "metadata": {
        "id": "Ru0npEpjftsw",
        "colab": {
          "base_uri": "https://localhost:8080/"
        },
        "outputId": "711d897e-b58e-41fe-905c-125b6d53175f"
      },
      "source": [
        "#get context pairs with window size 3\n",
        "def get_focus_context_pairs(tokenized_corpus, window_size=3):\n",
        "    focus_context_pairs = []\n",
        "    for sentence in tokenized_corpus:\n",
        "\n",
        "        for token_idx, token in enumerate(sentence):\n",
        "\n",
        "            for w in range(-window_size, window_size+1):\n",
        "                context_word_pos = token_idx + w\n",
        "\n",
        "                if w == 0 or context_word_pos >= len(sentence) or context_word_pos < 0:\n",
        "                    continue\n",
        "\n",
        "                try:\n",
        "                    focus_context_pairs.append([token, sentence[context_word_pos]])\n",
        "                except:\n",
        "                    continue\n",
        "    \n",
        "    return focus_context_pairs\n",
        "focus_context_pairs = get_focus_context_pairs(tokenized_corpus_with_OOV)\n",
        "\n",
        "print(focus_context_pairs[0:40])"
      ],
      "execution_count": 103,
      "outputs": [
        {
          "output_type": "stream",
          "text": [
            "[['tragedie', 'macbeth'], ['tragedie', 'william'], ['tragedie', 'shakespeare'], ['macbeth', 'tragedie'], ['macbeth', 'william'], ['macbeth', 'shakespeare'], ['macbeth', '<OOV>'], ['william', 'tragedie'], ['william', 'macbeth'], ['william', 'shakespeare'], ['william', '<OOV>'], ['shakespeare', 'tragedie'], ['shakespeare', 'macbeth'], ['shakespeare', 'william'], ['shakespeare', '<OOV>'], ['<OOV>', 'macbeth'], ['<OOV>', 'william'], ['<OOV>', 'shakespeare'], ['actus', 'primus'], ['actus', 'scoena'], ['actus', 'prima'], ['primus', 'actus'], ['primus', 'scoena'], ['primus', 'prima'], ['scoena', 'actus'], ['scoena', 'primus'], ['scoena', 'prima'], ['prima', 'actus'], ['prima', 'primus'], ['prima', 'scoena'], ['thunder', 'lightning'], ['thunder', 'enter'], ['thunder', 'witch'], ['lightning', 'thunder'], ['lightning', 'enter'], ['lightning', 'witch'], ['enter', 'thunder'], ['enter', 'lightning'], ['enter', 'witch'], ['witch', 'thunder']]\n"
          ],
          "name": "stdout"
        }
      ]
    },
    {
      "cell_type": "code",
      "metadata": {
        "colab": {
          "base_uri": "https://localhost:8080/"
        },
        "id": "C7GLEYh9f4gs",
        "outputId": "722084de-c210-498b-bdee-7d8a9895ad30"
      },
      "source": [
        "#convert words of focus pairs to ids\n",
        "def get_focus_context_idx(focus_context_pairs):\n",
        "    idx_pairs = []\n",
        "    for pair in focus_context_pairs:\n",
        "        idx_pairs.append([word2idx[pair[0]], word2idx[pair[1]]])\n",
        "    \n",
        "    return idx_pairs\n",
        "\n",
        "\n",
        "idx_pairs = get_focus_context_idx(focus_context_pairs)\n",
        "\n",
        "print(idx_pairs[0:20])"
      ],
      "execution_count": 104,
      "outputs": [
        {
          "output_type": "stream",
          "text": [
            "[[21613, 9424], [21613, 28660], [21613, 8361], [9424, 21613], [9424, 28660], [9424, 8361], [9424, 30192], [28660, 21613], [28660, 9424], [28660, 8361], [28660, 30192], [8361, 21613], [8361, 9424], [8361, 28660], [8361, 30192], [30192, 9424], [30192, 28660], [30192, 8361], [1273, 26098], [1273, 21616]]\n"
          ],
          "name": "stdout"
        }
      ]
    },
    {
      "cell_type": "code",
      "metadata": {
        "id": "SqkMlTEFgMMN"
      },
      "source": [
        "#Input one hot encoded word and creates embedding (learns as matrix) -> outputs which word follows\n",
        "class Word2Vec(nn.Module):\n",
        "    def __init__(self, input_size, output_size, hidden_dim_size):\n",
        "        super().__init__()\n",
        "        \n",
        "        # Why do you think we don't have an activation function here?\n",
        "        self.projection = nn.Linear(input_size, hidden_dim_size, bias=False)\n",
        "        self.output = nn.Linear(hidden_dim_size, output_size)\n",
        "        \n",
        "    def forward(self, input_token):\n",
        "        x = self.projection(input_token)\n",
        "        output = self.output(x)\n",
        "        return output"
      ],
      "execution_count": 105,
      "outputs": []
    },
    {
      "cell_type": "code",
      "metadata": {
        "id": "iPyia5UDg3aQ"
      },
      "source": [
        "#helper function to get onehot encoded vector given indices\n",
        "def get_one_hot(indicies, vocab_size=len(vocabulary)):\n",
        "    oh_matrix = np.zeros((len(indicies), vocab_size))\n",
        "    for i, idx in enumerate(indicies):\n",
        "        oh_matrix[i, idx] = 1\n",
        "\n",
        "    return torch.Tensor(oh_matrix)"
      ],
      "execution_count": 106,
      "outputs": []
    },
    {
      "cell_type": "code",
      "metadata": {
        "id": "kLJxtFH-gTP4"
      },
      "source": [
        "#train skipgram\n",
        "def train_word2vec(word2vec_model, idx_pairs, state_dict_filename, early_stop=False, num_epochs=15, lr=1e-3):\n",
        "\n",
        "    word2vec_model.train()\n",
        "    criterion = torch.nn.CrossEntropyLoss()\n",
        "    optimizer = torch.optim.SGD(word2vec_model.parameters(), lr=lr)\n",
        "\n",
        "    for epoch in range(num_epochs):\n",
        "\n",
        "        random.shuffle(idx_pairs)\n",
        "\n",
        "        for focus, context in idx_pairs:\n",
        "            print(focus)\n",
        "            oh_inputs = get_one_hot([focus], len(vocabulary))\n",
        "            target = torch.LongTensor([context])\n",
        "\n",
        "            pred_outputs = word2vec_model(oh_inputs)\n",
        "\n",
        "            loss = criterion(pred_outputs, target)\n",
        "\n",
        "            loss.backward()\n",
        "            optimizer.step()\n",
        "            word2vec_model.zero_grad()\n",
        "            \n",
        "        ### These lines stop training early\n",
        "            if early_stop: break\n",
        "        if early_stop: break\n",
        "        ###\n",
        "\n",
        "        torch.save(word2vec_model.state_dict(), state_dict_filename)\n",
        "        writer.add_embedding(word2vec_model.projection.weight.T,\n",
        "                             metadata=word2idx.keys(), global_step=epoch)"
      ],
      "execution_count": 107,
      "outputs": []
    },
    {
      "cell_type": "code",
      "metadata": {
        "id": "y9jHZIQNgXsd"
      },
      "source": [
        "#save embedding\n",
        "from torch.utils.tensorboard import SummaryWriter\n",
        "writer = SummaryWriter('runs/word2vec_gutenberg')"
      ],
      "execution_count": 108,
      "outputs": []
    },
    {
      "cell_type": "code",
      "metadata": {
        "colab": {
          "base_uri": "https://localhost:8080/"
        },
        "id": "ihqPAQM6ghsd",
        "outputId": "4b9c5a77-e912-4a67-feee-775b24bd02a9"
      },
      "source": [
        "#trin skipgram\n",
        "w2v_gutenberg = Word2Vec(len(vocabulary), len(vocabulary), 128)\n",
        "train_word2vec(w2v_gutenberg, idx_pairs, \"word2vec_gutenberg.pt\", early_stop=True)"
      ],
      "execution_count": 109,
      "outputs": [
        {
          "output_type": "stream",
          "text": [
            "30517\n"
          ],
          "name": "stdout"
        }
      ]
    },
    {
      "cell_type": "code",
      "metadata": {
        "colab": {
          "base_uri": "https://localhost:8080/"
        },
        "id": "gO1p9Hj5gqda",
        "outputId": "862a6ef5-fbc4-41a8-da84-6a84e4120b84"
      },
      "source": [
        "#get weights matrix of skipgram -> will be used to convert one hot into embedding\n",
        "weights_matrix = w2v_gutenberg.projection.weight.T #Embedding matrix\n",
        "print(weights_matrix.shape)"
      ],
      "execution_count": 110,
      "outputs": [
        {
          "output_type": "stream",
          "text": [
            "torch.Size([31439, 128])\n"
          ],
          "name": "stdout"
        }
      ]
    },
    {
      "cell_type": "markdown",
      "metadata": {
        "id": "udJACzxtK1TG"
      },
      "source": [
        "## Predictions based on cosine distance between replacement words and edit words"
      ]
    },
    {
      "cell_type": "code",
      "metadata": {
        "id": "C3Z7mQgJMw2a"
      },
      "source": [
        "from scipy.spatial.distance import cosine"
      ],
      "execution_count": 111,
      "outputs": []
    },
    {
      "cell_type": "code",
      "metadata": {
        "id": "wduaxehLZjWh"
      },
      "source": [
        "#perform stemming or lemma\n",
        "if stemming:\n",
        "  train_embedding_df.old = train_embedding_df.old.map(stemmer.stem)\n",
        "  train_embedding_df.edit = train_embedding_df.edit.map(stemmer.stem)\n",
        "  dev_embedding_df.old = dev_embedding_df.old.map(stemmer.stem)\n",
        "  dev_embedding_df.edit = dev_embedding_df.edit.map(stemmer.stem)\n",
        "elif lemma:\n",
        "  train_embedding_df.old = train_embedding_df.old.map(wordnet_lemmatizer.lemmatize)\n",
        "  train_embedding_df.edit = train_embedding_df.edit.map(wordnet_lemmatizer.lemmatize)\n",
        "  dev_embedding_df.old = dev_embedding_df.old.map(wordnet_lemmatizer.lemmatize)\n",
        "  dev_embedding_df.edit = dev_embedding_df.edit.map(wordnet_lemmatizer.lemmatize)"
      ],
      "execution_count": 112,
      "outputs": []
    },
    {
      "cell_type": "code",
      "metadata": {
        "id": "AHvjs44AK_uh"
      },
      "source": [
        "#get idx for old word both for train and dev set\n",
        "old_idx_train = []\n",
        "for word in train_embedding_df.old.str.lower():\n",
        "    #that also excludes words that consist of two words. not good\n",
        "    if word in list(word2idx.keys()):\n",
        "        old_idx_train.append(word2idx[word])\n",
        "    else:\n",
        "        word = OOV_token\n",
        "        old_idx_train.append(word2idx[word])\n",
        "\n",
        "\n",
        "old_idx_dev = []\n",
        "for word in dev_embedding_df.old.str.lower():\n",
        "    #that also excludes words that consist of two words. not good\n",
        "    if word in list(word2idx.keys()):\n",
        "        old_idx_dev.append(word2idx[word])\n",
        "    else:\n",
        "        word = OOV_token\n",
        "        old_idx_dev.append(word2idx[word])\n",
        "\n",
        "\n",
        "\n",
        "#get idx for edit word both for train and dev set\n",
        "edit_idx_train = []\n",
        "for word in train_embedding_df.edit.str.lower():\n",
        "    #that also excludes words that consist of two words. not good\n",
        "    if word in list(word2idx.keys()):\n",
        "        edit_idx_train.append(word2idx[word])\n",
        "    else:\n",
        "        word = OOV_token\n",
        "        edit_idx_train.append(word2idx[word])\n",
        "\n",
        "\n",
        "#get idx for edit word\n",
        "edit_idx_dev = []\n",
        "for word in dev_embedding_df.edit.str.lower():\n",
        "    #that also excludes words that consist of two words. not good\n",
        "    if word in list(word2idx.keys()):\n",
        "        edit_idx_dev.append(word2idx[word])\n",
        "    else:\n",
        "        word = OOV_token\n",
        "        edit_idx_dev.append(word2idx[word])\n",
        "\n",
        "\n"
      ],
      "execution_count": 113,
      "outputs": []
    },
    {
      "cell_type": "code",
      "metadata": {
        "id": "HWIQq9JMLCpy"
      },
      "source": [
        "#convert indices to embedding vectors\n",
        "old_word_embedding_train = get_one_hot(old_idx_train) @ weights_matrix.detach().numpy()\n",
        "edit_embedding_train = get_one_hot(edit_idx_train) @ weights_matrix.detach().numpy()\n",
        "\n",
        "old_word_embedding_dev = get_one_hot(old_idx_dev) @ weights_matrix.detach().numpy()\n",
        "edit_embedding_dev = get_one_hot(edit_idx_dev) @ weights_matrix.detach().numpy()\n",
        "\n",
        "#get cosine distances and save in arrays\n",
        "distances_train = []\n",
        "distances_dev = []\n",
        "for i in range(len(old_word_embedding_train)):\n",
        "    cos_distance_train = cosine(old_word_embedding_train[i], edit_embedding_train[i])\n",
        "    distances_train.append(cos_distance_train)\n",
        "\n",
        "for i in range(len(old_word_embedding_dev)):\n",
        "    cos_distance_dev = cosine(old_word_embedding_dev[i], edit_embedding_dev[i])\n",
        "    distances_dev.append(cos_distance_dev)\n",
        "train_embedding_df['cos_distance'] = distances_train\n",
        "dev_embedding_df['cos_distance'] = distances_dev"
      ],
      "execution_count": 114,
      "outputs": []
    },
    {
      "cell_type": "code",
      "metadata": {
        "id": "DBx2ZR_ajBid"
      },
      "source": [
        "#add edit word and old word to dataframe (now including OOV token if not in vocab)\n",
        "train_embedding_df['edit_word_corpus_rep'] = [idx2word[idx] for idx in edit_idx_train]\n",
        "train_embedding_df['old_word_corpus_rep'] = [idx2word[idx] for idx in old_idx_train]\n",
        "\n",
        "dev_embedding_df['edit_word_corpus_rep'] = [idx2word[idx] for idx in edit_idx_dev]\n",
        "dev_embedding_df['old_word_corpus_rep'] = [idx2word[idx] for idx in old_idx_dev]"
      ],
      "execution_count": 115,
      "outputs": []
    },
    {
      "cell_type": "code",
      "metadata": {
        "colab": {
          "base_uri": "https://localhost:8080/",
          "height": 424
        },
        "id": "f2qA_Z3QqQbO",
        "outputId": "04a4c8e1-8ec5-49e2-f081-a71f1d9bf1cf"
      },
      "source": [
        "train_embedding_df"
      ],
      "execution_count": 116,
      "outputs": [
        {
          "output_type": "execute_result",
          "data": {
            "text/html": [
              "<div>\n",
              "<style scoped>\n",
              "    .dataframe tbody tr th:only-of-type {\n",
              "        vertical-align: middle;\n",
              "    }\n",
              "\n",
              "    .dataframe tbody tr th {\n",
              "        vertical-align: top;\n",
              "    }\n",
              "\n",
              "    .dataframe thead th {\n",
              "        text-align: right;\n",
              "    }\n",
              "</style>\n",
              "<table border=\"1\" class=\"dataframe\">\n",
              "  <thead>\n",
              "    <tr style=\"text-align: right;\">\n",
              "      <th></th>\n",
              "      <th>index</th>\n",
              "      <th>id</th>\n",
              "      <th>original</th>\n",
              "      <th>edit</th>\n",
              "      <th>grades</th>\n",
              "      <th>meanGrade</th>\n",
              "      <th>old</th>\n",
              "      <th>cos_distance</th>\n",
              "      <th>edit_word_corpus_rep</th>\n",
              "      <th>old_word_corpus_rep</th>\n",
              "    </tr>\n",
              "  </thead>\n",
              "  <tbody>\n",
              "    <tr>\n",
              "      <th>0</th>\n",
              "      <td>6352</td>\n",
              "      <td>12501</td>\n",
              "      <td>Three gangsters killed in Moscow courthouse fi...</td>\n",
              "      <td>chicken</td>\n",
              "      <td>31110</td>\n",
              "      <td>1.2</td>\n",
              "      <td>gangster</td>\n",
              "      <td>0.998265</td>\n",
              "      <td>chicken</td>\n",
              "      <td>gangster</td>\n",
              "    </tr>\n",
              "    <tr>\n",
              "      <th>1</th>\n",
              "      <td>2618</td>\n",
              "      <td>4720</td>\n",
              "      <td>North Korea calls US aircraft carrier dispatch...</td>\n",
              "      <td>snack</td>\n",
              "      <td>11100</td>\n",
              "      <td>0.6</td>\n",
              "      <td>dispatch</td>\n",
              "      <td>0.957370</td>\n",
              "      <td>&lt;OOV&gt;</td>\n",
              "      <td>dispatch</td>\n",
              "    </tr>\n",
              "    <tr>\n",
              "      <th>2</th>\n",
              "      <td>5785</td>\n",
              "      <td>13056</td>\n",
              "      <td>Russian Prime Minister Slams Trump Administrat...</td>\n",
              "      <td>Football</td>\n",
              "      <td>21110</td>\n",
              "      <td>1.0</td>\n",
              "      <td>Sanctions</td>\n",
              "      <td>0.979474</td>\n",
              "      <td>football</td>\n",
              "      <td>&lt;OOV&gt;</td>\n",
              "    </tr>\n",
              "    <tr>\n",
              "      <th>3</th>\n",
              "      <td>2851</td>\n",
              "      <td>13989</td>\n",
              "      <td>Trump rallies Capitol Hill as House GOP set to...</td>\n",
              "      <td>bully</td>\n",
              "      <td>32210</td>\n",
              "      <td>1.6</td>\n",
              "      <td>rally</td>\n",
              "      <td>0.918215</td>\n",
              "      <td>bully</td>\n",
              "      <td>rally</td>\n",
              "    </tr>\n",
              "    <tr>\n",
              "      <th>4</th>\n",
              "      <td>1801</td>\n",
              "      <td>5117</td>\n",
              "      <td>Trump ’s Pick For Agriculture Secretary Is A C...</td>\n",
              "      <td>fiction</td>\n",
              "      <td>32210</td>\n",
              "      <td>1.6</td>\n",
              "      <td>Agriculture</td>\n",
              "      <td>0.846026</td>\n",
              "      <td>fiction</td>\n",
              "      <td>agriculture</td>\n",
              "    </tr>\n",
              "    <tr>\n",
              "      <th>...</th>\n",
              "      <td>...</td>\n",
              "      <td>...</td>\n",
              "      <td>...</td>\n",
              "      <td>...</td>\n",
              "      <td>...</td>\n",
              "      <td>...</td>\n",
              "      <td>...</td>\n",
              "      <td>...</td>\n",
              "      <td>...</td>\n",
              "      <td>...</td>\n",
              "    </tr>\n",
              "    <tr>\n",
              "      <th>7716</th>\n",
              "      <td>2280</td>\n",
              "      <td>10944</td>\n",
              "      <td>South Korea conducts missile drill after North...</td>\n",
              "      <td>dance</td>\n",
              "      <td>22000</td>\n",
              "      <td>0.8</td>\n",
              "      <td>missile</td>\n",
              "      <td>0.999202</td>\n",
              "      <td>dance</td>\n",
              "      <td>missile</td>\n",
              "    </tr>\n",
              "    <tr>\n",
              "      <th>7717</th>\n",
              "      <td>4700</td>\n",
              "      <td>4822</td>\n",
              "      <td>Call to remove or prosecute homeless ahead of ...</td>\n",
              "      <td>replace</td>\n",
              "      <td>31100</td>\n",
              "      <td>1.0</td>\n",
              "      <td>prosecute</td>\n",
              "      <td>1.112799</td>\n",
              "      <td>replace</td>\n",
              "      <td>prosecute</td>\n",
              "    </tr>\n",
              "    <tr>\n",
              "      <th>7718</th>\n",
              "      <td>7991</td>\n",
              "      <td>2064</td>\n",
              "      <td>Macedonians protest against name change deal w...</td>\n",
              "      <td>clothes</td>\n",
              "      <td>20000</td>\n",
              "      <td>0.4</td>\n",
              "      <td>name</td>\n",
              "      <td>0.987749</td>\n",
              "      <td>clothes</td>\n",
              "      <td>name</td>\n",
              "    </tr>\n",
              "    <tr>\n",
              "      <th>7719</th>\n",
              "      <td>76</td>\n",
              "      <td>13650</td>\n",
              "      <td>U.S. cyber bill would shift power away from sp...</td>\n",
              "      <td>Robots</td>\n",
              "      <td>22110</td>\n",
              "      <td>1.2</td>\n",
              "      <td>bill</td>\n",
              "      <td>0.948504</td>\n",
              "      <td>&lt;OOV&gt;</td>\n",
              "      <td>bill</td>\n",
              "    </tr>\n",
              "    <tr>\n",
              "      <th>7720</th>\n",
              "      <td>2689</td>\n",
              "      <td>7014</td>\n",
              "      <td>House Majority Whip Scalise Is Wounded After G...</td>\n",
              "      <td>bum</td>\n",
              "      <td>32000</td>\n",
              "      <td>1.0</td>\n",
              "      <td>Whip</td>\n",
              "      <td>1.020474</td>\n",
              "      <td>&lt;OOV&gt;</td>\n",
              "      <td>whip</td>\n",
              "    </tr>\n",
              "  </tbody>\n",
              "</table>\n",
              "<p>7721 rows × 10 columns</p>\n",
              "</div>"
            ],
            "text/plain": [
              "      index     id  ... edit_word_corpus_rep old_word_corpus_rep\n",
              "0      6352  12501  ...              chicken            gangster\n",
              "1      2618   4720  ...                <OOV>            dispatch\n",
              "2      5785  13056  ...             football               <OOV>\n",
              "3      2851  13989  ...                bully               rally\n",
              "4      1801   5117  ...              fiction         agriculture\n",
              "...     ...    ...  ...                  ...                 ...\n",
              "7716   2280  10944  ...                dance             missile\n",
              "7717   4700   4822  ...              replace           prosecute\n",
              "7718   7991   2064  ...              clothes                name\n",
              "7719     76  13650  ...                <OOV>                bill\n",
              "7720   2689   7014  ...                <OOV>                whip\n",
              "\n",
              "[7721 rows x 10 columns]"
            ]
          },
          "metadata": {
            "tags": []
          },
          "execution_count": 116
        }
      ]
    },
    {
      "cell_type": "code",
      "metadata": {
        "colab": {
          "base_uri": "https://localhost:8080/",
          "height": 424
        },
        "id": "tBDopZBgc6h-",
        "outputId": "8121e5bf-9ed6-4cdf-8956-0d08e88fdf8b"
      },
      "source": [
        "dev_embedding_df"
      ],
      "execution_count": 117,
      "outputs": [
        {
          "output_type": "execute_result",
          "data": {
            "text/html": [
              "<div>\n",
              "<style scoped>\n",
              "    .dataframe tbody tr th:only-of-type {\n",
              "        vertical-align: middle;\n",
              "    }\n",
              "\n",
              "    .dataframe tbody tr th {\n",
              "        vertical-align: top;\n",
              "    }\n",
              "\n",
              "    .dataframe thead th {\n",
              "        text-align: right;\n",
              "    }\n",
              "</style>\n",
              "<table border=\"1\" class=\"dataframe\">\n",
              "  <thead>\n",
              "    <tr style=\"text-align: right;\">\n",
              "      <th></th>\n",
              "      <th>index</th>\n",
              "      <th>id</th>\n",
              "      <th>original</th>\n",
              "      <th>edit</th>\n",
              "      <th>grades</th>\n",
              "      <th>meanGrade</th>\n",
              "      <th>old</th>\n",
              "      <th>cos_distance</th>\n",
              "      <th>edit_word_corpus_rep</th>\n",
              "      <th>old_word_corpus_rep</th>\n",
              "    </tr>\n",
              "  </thead>\n",
              "  <tbody>\n",
              "    <tr>\n",
              "      <th>0</th>\n",
              "      <td>5187</td>\n",
              "      <td>14781</td>\n",
              "      <td>Exxon Mobil fined $ 2 million for violating sa...</td>\n",
              "      <td>Twerking</td>\n",
              "      <td>32221</td>\n",
              "      <td>2.0</td>\n",
              "      <td>Russia</td>\n",
              "      <td>1.013152</td>\n",
              "      <td>&lt;OOV&gt;</td>\n",
              "      <td>russia</td>\n",
              "    </tr>\n",
              "    <tr>\n",
              "      <th>1</th>\n",
              "      <td>2921</td>\n",
              "      <td>13646</td>\n",
              "      <td>Germany Ordering Five New Warships In Face Of ...</td>\n",
              "      <td>man</td>\n",
              "      <td>21000</td>\n",
              "      <td>0.6</td>\n",
              "      <td>Aggression</td>\n",
              "      <td>0.874046</td>\n",
              "      <td>man</td>\n",
              "      <td>aggression</td>\n",
              "    </tr>\n",
              "    <tr>\n",
              "      <th>2</th>\n",
              "      <td>9003</td>\n",
              "      <td>9317</td>\n",
              "      <td>Transgender anti-discrimination bill set to be...</td>\n",
              "      <td>break</td>\n",
              "      <td>10000</td>\n",
              "      <td>0.2</td>\n",
              "      <td>become</td>\n",
              "      <td>0.934300</td>\n",
              "      <td>break</td>\n",
              "      <td>become</td>\n",
              "    </tr>\n",
              "    <tr>\n",
              "      <th>3</th>\n",
              "      <td>6874</td>\n",
              "      <td>4776</td>\n",
              "      <td>Trump Considering New Russia Sanctions Despite...</td>\n",
              "      <td>trashcans</td>\n",
              "      <td>32000</td>\n",
              "      <td>1.0</td>\n",
              "      <td>Sanctions</td>\n",
              "      <td>0.000000</td>\n",
              "      <td>&lt;OOV&gt;</td>\n",
              "      <td>&lt;OOV&gt;</td>\n",
              "    </tr>\n",
              "    <tr>\n",
              "      <th>4</th>\n",
              "      <td>6709</td>\n",
              "      <td>833</td>\n",
              "      <td>CPAC ’s Identity Crisis : Inviting Milo was a ...</td>\n",
              "      <td>birthday</td>\n",
              "      <td>11100</td>\n",
              "      <td>0.6</td>\n",
              "      <td>Identity Crisis</td>\n",
              "      <td>0.974045</td>\n",
              "      <td>birthday</td>\n",
              "      <td>&lt;OOV&gt;</td>\n",
              "    </tr>\n",
              "    <tr>\n",
              "      <th>...</th>\n",
              "      <td>...</td>\n",
              "      <td>...</td>\n",
              "      <td>...</td>\n",
              "      <td>...</td>\n",
              "      <td>...</td>\n",
              "      <td>...</td>\n",
              "      <td>...</td>\n",
              "      <td>...</td>\n",
              "      <td>...</td>\n",
              "      <td>...</td>\n",
              "    </tr>\n",
              "    <tr>\n",
              "      <th>1926</th>\n",
              "      <td>2711</td>\n",
              "      <td>10274</td>\n",
              "      <td>No jobs , no vote : Indian town warns Modi ahe...</td>\n",
              "      <td>money</td>\n",
              "      <td>11100</td>\n",
              "      <td>0.6</td>\n",
              "      <td>vote</td>\n",
              "      <td>1.035681</td>\n",
              "      <td>money</td>\n",
              "      <td>vote</td>\n",
              "    </tr>\n",
              "    <tr>\n",
              "      <th>1927</th>\n",
              "      <td>2316</td>\n",
              "      <td>4800</td>\n",
              "      <td>Mattis says there is “ no doubt ” U.S. is comm...</td>\n",
              "      <td>asylum</td>\n",
              "      <td>11000</td>\n",
              "      <td>0.4</td>\n",
              "      <td>country</td>\n",
              "      <td>0.955652</td>\n",
              "      <td>asylum</td>\n",
              "      <td>country</td>\n",
              "    </tr>\n",
              "    <tr>\n",
              "      <th>1928</th>\n",
              "      <td>8425</td>\n",
              "      <td>2000</td>\n",
              "      <td>Judge issues gag order in Manafort-Gates case</td>\n",
              "      <td>reflex</td>\n",
              "      <td>22110</td>\n",
              "      <td>1.2</td>\n",
              "      <td>order</td>\n",
              "      <td>1.019541</td>\n",
              "      <td>&lt;OOV&gt;</td>\n",
              "      <td>order</td>\n",
              "    </tr>\n",
              "    <tr>\n",
              "      <th>1929</th>\n",
              "      <td>7985</td>\n",
              "      <td>8718</td>\n",
              "      <td>Trump Formally Orders Tariffs On Steel , Alumi...</td>\n",
              "      <td>cancel</td>\n",
              "      <td>11100</td>\n",
              "      <td>0.6</td>\n",
              "      <td>Orders</td>\n",
              "      <td>1.049416</td>\n",
              "      <td>cancel</td>\n",
              "      <td>&lt;OOV&gt;</td>\n",
              "    </tr>\n",
              "    <tr>\n",
              "      <th>1930</th>\n",
              "      <td>7884</td>\n",
              "      <td>10926</td>\n",
              "      <td>Armenian leader resigns , says to protesters :...</td>\n",
              "      <td>sob</td>\n",
              "      <td>0</td>\n",
              "      <td>0.0</td>\n",
              "      <td>say</td>\n",
              "      <td>1.029149</td>\n",
              "      <td>sob</td>\n",
              "      <td>say</td>\n",
              "    </tr>\n",
              "  </tbody>\n",
              "</table>\n",
              "<p>1931 rows × 10 columns</p>\n",
              "</div>"
            ],
            "text/plain": [
              "      index     id  ... edit_word_corpus_rep old_word_corpus_rep\n",
              "0      5187  14781  ...                <OOV>              russia\n",
              "1      2921  13646  ...                  man          aggression\n",
              "2      9003   9317  ...                break              become\n",
              "3      6874   4776  ...                <OOV>               <OOV>\n",
              "4      6709    833  ...             birthday               <OOV>\n",
              "...     ...    ...  ...                  ...                 ...\n",
              "1926   2711  10274  ...                money                vote\n",
              "1927   2316   4800  ...               asylum             country\n",
              "1928   8425   2000  ...                <OOV>               order\n",
              "1929   7985   8718  ...               cancel               <OOV>\n",
              "1930   7884  10926  ...                  sob                 say\n",
              "\n",
              "[1931 rows x 10 columns]"
            ]
          },
          "metadata": {
            "tags": []
          },
          "execution_count": 117
        }
      ]
    },
    {
      "cell_type": "code",
      "metadata": {
        "colab": {
          "base_uri": "https://localhost:8080/",
          "height": 312
        },
        "id": "SBHnIFV4LKRy",
        "outputId": "18405091-9576-47e5-c2a0-d545ecd01e36"
      },
      "source": [
        "#plot predictions train set\n",
        "plt.scatter(train_embedding_df.cos_distance.to_list(), train_embedding_df.meanGrade.to_list())\n",
        "plt.title('Predictions without OOV removal (Train set)')\n",
        "plt.xlabel('Predictions')\n",
        "plt.xlabel('Targets')\n",
        "#Cosine distance where we have double edit, left line is where the model predicts cosine 0 because twice OOV"
      ],
      "execution_count": 118,
      "outputs": [
        {
          "output_type": "execute_result",
          "data": {
            "text/plain": [
              "Text(0.5, 0, 'Targets')"
            ]
          },
          "metadata": {
            "tags": []
          },
          "execution_count": 118
        },
        {
          "output_type": "display_data",
          "data": {
            "image/png": "[encoded data removed]",
            "text/plain": [
              "<Figure size 432x288 with 1 Axes>"
            ]
          },
          "metadata": {
            "tags": [],
            "needs_background": "light"
          }
        }
      ]
    },
    {
      "cell_type": "code",
      "metadata": {
        "colab": {
          "base_uri": "https://localhost:8080/",
          "height": 312
        },
        "id": "hVtJ3CRmdPH2",
        "outputId": "b829cf1e-f5a7-467f-f756-d414bc56a1ee"
      },
      "source": [
        "#plot predictions dev set\n",
        "plt.scatter(dev_embedding_df.cos_distance.to_list(), dev_embedding_df.meanGrade.to_list())\n",
        "plt.title('Predictions without OOV removal (Dev set)')\n",
        "plt.xlabel('Predictions')\n",
        "plt.xlabel('Targets')"
      ],
      "execution_count": 119,
      "outputs": [
        {
          "output_type": "execute_result",
          "data": {
            "text/plain": [
              "Text(0.5, 0, 'Targets')"
            ]
          },
          "metadata": {
            "tags": []
          },
          "execution_count": 119
        },
        {
          "output_type": "display_data",
          "data": {
            "image/png": "[encoded data removed]",
            "text/plain": [
              "<Figure size 432x288 with 1 Axes>"
            ]
          },
          "metadata": {
            "tags": [],
            "needs_background": "light"
          }
        }
      ]
    },
    {
      "cell_type": "code",
      "metadata": {
        "colab": {
          "base_uri": "https://localhost:8080/",
          "height": 424
        },
        "id": "MukQ7JqJLNKw",
        "outputId": "01455a79-1b7f-4a3b-db8e-9570a0e0484a"
      },
      "source": [
        "train_embedding_df.loc[train_embedding_df.cos_distance == 0.0]"
      ],
      "execution_count": 120,
      "outputs": [
        {
          "output_type": "execute_result",
          "data": {
            "text/html": [
              "<div>\n",
              "<style scoped>\n",
              "    .dataframe tbody tr th:only-of-type {\n",
              "        vertical-align: middle;\n",
              "    }\n",
              "\n",
              "    .dataframe tbody tr th {\n",
              "        vertical-align: top;\n",
              "    }\n",
              "\n",
              "    .dataframe thead th {\n",
              "        text-align: right;\n",
              "    }\n",
              "</style>\n",
              "<table border=\"1\" class=\"dataframe\">\n",
              "  <thead>\n",
              "    <tr style=\"text-align: right;\">\n",
              "      <th></th>\n",
              "      <th>index</th>\n",
              "      <th>id</th>\n",
              "      <th>original</th>\n",
              "      <th>edit</th>\n",
              "      <th>grades</th>\n",
              "      <th>meanGrade</th>\n",
              "      <th>old</th>\n",
              "      <th>cos_distance</th>\n",
              "      <th>edit_word_corpus_rep</th>\n",
              "      <th>old_word_corpus_rep</th>\n",
              "    </tr>\n",
              "  </thead>\n",
              "  <tbody>\n",
              "    <tr>\n",
              "      <th>9</th>\n",
              "      <td>3223</td>\n",
              "      <td>3501</td>\n",
              "      <td>Pakistan 's Gig Economy Helps Smash Obstacles ...</td>\n",
              "      <td>Imbeciles</td>\n",
              "      <td>32100</td>\n",
              "      <td>1.2</td>\n",
              "      <td>Women</td>\n",
              "      <td>0.0</td>\n",
              "      <td>&lt;OOV&gt;</td>\n",
              "      <td>&lt;OOV&gt;</td>\n",
              "    </tr>\n",
              "    <tr>\n",
              "      <th>81</th>\n",
              "      <td>5540</td>\n",
              "      <td>8035</td>\n",
              "      <td>Master Your Very Own Weight-Loss Destiny With ...</td>\n",
              "      <td>Oracles</td>\n",
              "      <td>0</td>\n",
              "      <td>0.0</td>\n",
              "      <td>Tips</td>\n",
              "      <td>0.0</td>\n",
              "      <td>&lt;OOV&gt;</td>\n",
              "      <td>&lt;OOV&gt;</td>\n",
              "    </tr>\n",
              "    <tr>\n",
              "      <th>96</th>\n",
              "      <td>8563</td>\n",
              "      <td>9770</td>\n",
              "      <td>Chinese state media : Trump is ' wrong ' when ...</td>\n",
              "      <td>zipper</td>\n",
              "      <td>21111</td>\n",
              "      <td>1.2</td>\n",
              "      <td>North Korea</td>\n",
              "      <td>0.0</td>\n",
              "      <td>&lt;OOV&gt;</td>\n",
              "      <td>&lt;OOV&gt;</td>\n",
              "    </tr>\n",
              "    <tr>\n",
              "      <th>103</th>\n",
              "      <td>7903</td>\n",
              "      <td>5515</td>\n",
              "      <td>Trump Lawyers Want A Second Special Counsel</td>\n",
              "      <td>toupee</td>\n",
              "      <td>32110</td>\n",
              "      <td>1.4</td>\n",
              "      <td>Lawyers</td>\n",
              "      <td>0.0</td>\n",
              "      <td>&lt;OOV&gt;</td>\n",
              "      <td>&lt;OOV&gt;</td>\n",
              "    </tr>\n",
              "    <tr>\n",
              "      <th>109</th>\n",
              "      <td>5446</td>\n",
              "      <td>9041</td>\n",
              "      <td>Trump Nominees Make Clear Plans to Sweep Away ...</td>\n",
              "      <td>dustpan</td>\n",
              "      <td>11110</td>\n",
              "      <td>0.8</td>\n",
              "      <td>Plans</td>\n",
              "      <td>0.0</td>\n",
              "      <td>&lt;OOV&gt;</td>\n",
              "      <td>&lt;OOV&gt;</td>\n",
              "    </tr>\n",
              "    <tr>\n",
              "      <th>...</th>\n",
              "      <td>...</td>\n",
              "      <td>...</td>\n",
              "      <td>...</td>\n",
              "      <td>...</td>\n",
              "      <td>...</td>\n",
              "      <td>...</td>\n",
              "      <td>...</td>\n",
              "      <td>...</td>\n",
              "      <td>...</td>\n",
              "      <td>...</td>\n",
              "    </tr>\n",
              "    <tr>\n",
              "      <th>7651</th>\n",
              "      <td>2776</td>\n",
              "      <td>10790</td>\n",
              "      <td>The Republican Ethics Vote : What Happened ?</td>\n",
              "      <td>Bikini</td>\n",
              "      <td>22110</td>\n",
              "      <td>1.2</td>\n",
              "      <td>Ethics</td>\n",
              "      <td>0.0</td>\n",
              "      <td>&lt;OOV&gt;</td>\n",
              "      <td>&lt;OOV&gt;</td>\n",
              "    </tr>\n",
              "    <tr>\n",
              "      <th>7677</th>\n",
              "      <td>1168</td>\n",
              "      <td>3907</td>\n",
              "      <td>How states can fix the Electoral College and p...</td>\n",
              "      <td>fruitcake</td>\n",
              "      <td>33110</td>\n",
              "      <td>1.6</td>\n",
              "      <td>Trumps</td>\n",
              "      <td>0.0</td>\n",
              "      <td>&lt;OOV&gt;</td>\n",
              "      <td>&lt;OOV&gt;</td>\n",
              "    </tr>\n",
              "    <tr>\n",
              "      <th>7679</th>\n",
              "      <td>2853</td>\n",
              "      <td>1392</td>\n",
              "      <td>Useful Idiots Galore - The New York Times</td>\n",
              "      <td>Inhabitants</td>\n",
              "      <td>33110</td>\n",
              "      <td>1.6</td>\n",
              "      <td>Times</td>\n",
              "      <td>0.0</td>\n",
              "      <td>&lt;OOV&gt;</td>\n",
              "      <td>&lt;OOV&gt;</td>\n",
              "    </tr>\n",
              "    <tr>\n",
              "      <th>7682</th>\n",
              "      <td>2138</td>\n",
              "      <td>1767</td>\n",
              "      <td>Impeach Trump If Mueller Is Fired , Says Ethic...</td>\n",
              "      <td>Yawns</td>\n",
              "      <td>21100</td>\n",
              "      <td>0.8</td>\n",
              "      <td>Says</td>\n",
              "      <td>0.0</td>\n",
              "      <td>&lt;OOV&gt;</td>\n",
              "      <td>&lt;OOV&gt;</td>\n",
              "    </tr>\n",
              "    <tr>\n",
              "      <th>7700</th>\n",
              "      <td>2570</td>\n",
              "      <td>6066</td>\n",
              "      <td>Ivanka Trump sales boom in February</td>\n",
              "      <td>pancake</td>\n",
              "      <td>31100</td>\n",
              "      <td>1.0</td>\n",
              "      <td>Ivanka Trump</td>\n",
              "      <td>0.0</td>\n",
              "      <td>&lt;OOV&gt;</td>\n",
              "      <td>&lt;OOV&gt;</td>\n",
              "    </tr>\n",
              "  </tbody>\n",
              "</table>\n",
              "<p>373 rows × 10 columns</p>\n",
              "</div>"
            ],
            "text/plain": [
              "      index     id  ... edit_word_corpus_rep old_word_corpus_rep\n",
              "9      3223   3501  ...                <OOV>               <OOV>\n",
              "81     5540   8035  ...                <OOV>               <OOV>\n",
              "96     8563   9770  ...                <OOV>               <OOV>\n",
              "103    7903   5515  ...                <OOV>               <OOV>\n",
              "109    5446   9041  ...                <OOV>               <OOV>\n",
              "...     ...    ...  ...                  ...                 ...\n",
              "7651   2776  10790  ...                <OOV>               <OOV>\n",
              "7677   1168   3907  ...                <OOV>               <OOV>\n",
              "7679   2853   1392  ...                <OOV>               <OOV>\n",
              "7682   2138   1767  ...                <OOV>               <OOV>\n",
              "7700   2570   6066  ...                <OOV>               <OOV>\n",
              "\n",
              "[373 rows x 10 columns]"
            ]
          },
          "metadata": {
            "tags": []
          },
          "execution_count": 120
        }
      ]
    },
    {
      "cell_type": "code",
      "metadata": {
        "id": "VgHJ5bt6LP1K"
      },
      "source": [
        "#drop headlines with OOV for to replaced word and edit word\n",
        "indexNames = train_embedding_df[(train_embedding_df['cos_distance'] == 0.0)].index\n",
        "# Delete these row indexes from dataFrame\n",
        "train_embedding_df.drop(indexNames , inplace=True)\n",
        "train_embedding_df.reset_index(inplace=True,drop=True)\n",
        "pd.set_option('display.max_rows', 20)"
      ],
      "execution_count": 61,
      "outputs": []
    },
    {
      "cell_type": "code",
      "metadata": {
        "id": "ytVlHPpqdeIq"
      },
      "source": [
        "#drop headlines with OOV for to replaced word and edit word\n",
        "indexNames = dev_embedding_df[(dev_embedding_df['cos_distance'] == 0.0)].index\n",
        "# Delete these row indexes from dataFrame\n",
        "dev_embedding_df.drop(indexNames , inplace=True)\n",
        "dev_embedding_df.reset_index(inplace=True,drop=True)\n",
        "pd.set_option('display.max_rows', 20)"
      ],
      "execution_count": 62,
      "outputs": []
    },
    {
      "cell_type": "code",
      "metadata": {
        "colab": {
          "base_uri": "https://localhost:8080/",
          "height": 49
        },
        "id": "iUx6AStPdrBS",
        "outputId": "3268ff25-19c1-4baf-e92a-1368c89af2c9"
      },
      "source": [
        "dev_embedding_df.loc[dev_embedding_df.cos_distance == 0.0]"
      ],
      "execution_count": 63,
      "outputs": [
        {
          "output_type": "execute_result",
          "data": {
            "text/html": [
              "<div>\n",
              "<style scoped>\n",
              "    .dataframe tbody tr th:only-of-type {\n",
              "        vertical-align: middle;\n",
              "    }\n",
              "\n",
              "    .dataframe tbody tr th {\n",
              "        vertical-align: top;\n",
              "    }\n",
              "\n",
              "    .dataframe thead th {\n",
              "        text-align: right;\n",
              "    }\n",
              "</style>\n",
              "<table border=\"1\" class=\"dataframe\">\n",
              "  <thead>\n",
              "    <tr style=\"text-align: right;\">\n",
              "      <th></th>\n",
              "      <th>index</th>\n",
              "      <th>id</th>\n",
              "      <th>original</th>\n",
              "      <th>edit</th>\n",
              "      <th>grades</th>\n",
              "      <th>meanGrade</th>\n",
              "      <th>old</th>\n",
              "      <th>cos_distance</th>\n",
              "      <th>edit_word_corpus_rep</th>\n",
              "      <th>old_word_corpus_rep</th>\n",
              "    </tr>\n",
              "  </thead>\n",
              "  <tbody>\n",
              "  </tbody>\n",
              "</table>\n",
              "</div>"
            ],
            "text/plain": [
              "Empty DataFrame\n",
              "Columns: [index, id, original, edit, grades, meanGrade, old, cos_distance, edit_word_corpus_rep, old_word_corpus_rep]\n",
              "Index: []"
            ]
          },
          "metadata": {
            "tags": []
          },
          "execution_count": 63
        }
      ]
    },
    {
      "cell_type": "code",
      "metadata": {
        "colab": {
          "base_uri": "https://localhost:8080/"
        },
        "id": "woJbN9h_LSl3",
        "outputId": "da29dfa9-dc78-412d-8174-b38d59c76cc4"
      },
      "source": [
        "#train model using linear regression \n",
        "from sklearn import linear_model\n",
        "from sklearn.metrics import mean_squared_error\n",
        "model = linear_model.LinearRegression()\n",
        "#train, test = train_test_split(train_df, test_size=0.2)\n",
        "dist_train = np.reshape(train_embedding_df.cos_distance.to_list(), (-1,1))\n",
        "dist_test = np.reshape(dev_embedding_df.cos_distance.to_list(), (-1,1))\n",
        "y = np.reshape(train_embedding_df.meanGrade.to_list(), (-1,1))\n",
        "y_test = np.reshape(dev_embedding_df.meanGrade.to_list(), (-1,1))\n",
        "\n",
        "\n",
        "model.fit(dist_train, y)\n",
        "predictions = model.predict(dist_test)\n",
        "\n",
        "mean_squared_error(y_test, predictions, squared = False)\n"
      ],
      "execution_count": 64,
      "outputs": [
        {
          "output_type": "execute_result",
          "data": {
            "text/plain": [
              "0.5939356525443877"
            ]
          },
          "metadata": {
            "tags": []
          },
          "execution_count": 64
        }
      ]
    },
    {
      "cell_type": "code",
      "metadata": {
        "colab": {
          "base_uri": "https://localhost:8080/",
          "height": 312
        },
        "id": "KXlHG7psIFl_",
        "outputId": "6bd32e29-1bfb-4a79-a01a-b50b45faf09c"
      },
      "source": [
        "plt.scatter(predictions,y_test)\n",
        "plt.title('Predictions with OOV removal (Train set)')\n",
        "plt.xlabel('Predictions')\n",
        "plt.xlabel('Targets')"
      ],
      "execution_count": 65,
      "outputs": [
        {
          "output_type": "execute_result",
          "data": {
            "text/plain": [
              "Text(0.5, 0, 'Targets')"
            ]
          },
          "metadata": {
            "tags": []
          },
          "execution_count": 65
        },
        {
          "output_type": "display_data",
          "data": {
            "image/png": "[encoded data removed]",
            "text/plain": [
              "<Figure size 432x288 with 1 Axes>"
            ]
          },
          "metadata": {
            "tags": [],
            "needs_background": "light"
          }
        }
      ]
    },
    {
      "cell_type": "code",
      "metadata": {
        "colab": {
          "base_uri": "https://localhost:8080/",
          "height": 476
        },
        "id": "IYNYkvxEQ-FX",
        "outputId": "74475c0f-662c-44ab-d5bf-45dc9402eac6"
      },
      "source": [
        "#Only look at headlines where both original word and edited word has an embedding\n",
        "filt_train_df = train_embedding_df[train_embedding_df['edit_word_corpus_rep'] != '<OOV>'][train_embedding_df['old_word_corpus_rep'] != '<OOV>']\n",
        "filt_train_df = filt_train_df.reset_index(drop = True)\n",
        "print(len(filt_train_df))\n",
        "filt_train_df"
      ],
      "execution_count": 66,
      "outputs": [
        {
          "output_type": "stream",
          "text": [
            "9110\n"
          ],
          "name": "stdout"
        },
        {
          "output_type": "stream",
          "text": [
            "/usr/local/lib/python3.7/dist-packages/ipykernel_launcher.py:2: UserWarning: Boolean Series key will be reindexed to match DataFrame index.\n",
            "  \n"
          ],
          "name": "stderr"
        },
        {
          "output_type": "execute_result",
          "data": {
            "text/html": [
              "<div>\n",
              "<style scoped>\n",
              "    .dataframe tbody tr th:only-of-type {\n",
              "        vertical-align: middle;\n",
              "    }\n",
              "\n",
              "    .dataframe tbody tr th {\n",
              "        vertical-align: top;\n",
              "    }\n",
              "\n",
              "    .dataframe thead th {\n",
              "        text-align: right;\n",
              "    }\n",
              "</style>\n",
              "<table border=\"1\" class=\"dataframe\">\n",
              "  <thead>\n",
              "    <tr style=\"text-align: right;\">\n",
              "      <th></th>\n",
              "      <th>index</th>\n",
              "      <th>id</th>\n",
              "      <th>original</th>\n",
              "      <th>edit</th>\n",
              "      <th>grades</th>\n",
              "      <th>meanGrade</th>\n",
              "      <th>old</th>\n",
              "      <th>cos_distance</th>\n",
              "      <th>edit_word_corpus_rep</th>\n",
              "      <th>old_word_corpus_rep</th>\n",
              "    </tr>\n",
              "  </thead>\n",
              "  <tbody>\n",
              "    <tr>\n",
              "      <th>0</th>\n",
              "      <td>15832</td>\n",
              "      <td>106180</td>\n",
              "      <td>McConnell backs measure to change Senate rules...</td>\n",
              "      <td>bathing</td>\n",
              "      <td>32211</td>\n",
              "      <td>1.800000</td>\n",
              "      <td>article</td>\n",
              "      <td>0.956669</td>\n",
              "      <td>bathing</td>\n",
              "      <td>article</td>\n",
              "    </tr>\n",
              "    <tr>\n",
              "      <th>1</th>\n",
              "      <td>13686</td>\n",
              "      <td>104034</td>\n",
              "      <td>Australian Prime Minister Scott Morrison absco...</td>\n",
              "      <td>go</td>\n",
              "      <td>110000</td>\n",
              "      <td>0.333333</td>\n",
              "      <td>rage</td>\n",
              "      <td>1.060205</td>\n",
              "      <td>go</td>\n",
              "      <td>rage</td>\n",
              "    </tr>\n",
              "    <tr>\n",
              "      <th>2</th>\n",
              "      <td>11377</td>\n",
              "      <td>101725</td>\n",
              "      <td>As Sondland testified , a misleading Ukraine s...</td>\n",
              "      <td>butter</td>\n",
              "      <td>22110</td>\n",
              "      <td>1.200000</td>\n",
              "      <td>Ukraine</td>\n",
              "      <td>0.897734</td>\n",
              "      <td>butter</td>\n",
              "      <td>ukraine</td>\n",
              "    </tr>\n",
              "    <tr>\n",
              "      <th>3</th>\n",
              "      <td>4415</td>\n",
              "      <td>7324</td>\n",
              "      <td>Trump defends national security adviser H.R. M...</td>\n",
              "      <td>bullet</td>\n",
              "      <td>0</td>\n",
              "      <td>0.000000</td>\n",
              "      <td>call</td>\n",
              "      <td>0.887624</td>\n",
              "      <td>bullet</td>\n",
              "      <td>call</td>\n",
              "    </tr>\n",
              "    <tr>\n",
              "      <th>4</th>\n",
              "      <td>8012</td>\n",
              "      <td>9691</td>\n",
              "      <td>Roseanne Barr Smacks Down ‘ A ** hole ’ Michel...</td>\n",
              "      <td>marriage</td>\n",
              "      <td>22110</td>\n",
              "      <td>1.200000</td>\n",
              "      <td>Comedy</td>\n",
              "      <td>1.150960</td>\n",
              "      <td>marriage</td>\n",
              "      <td>comedy</td>\n",
              "    </tr>\n",
              "    <tr>\n",
              "      <th>...</th>\n",
              "      <td>...</td>\n",
              "      <td>...</td>\n",
              "      <td>...</td>\n",
              "      <td>...</td>\n",
              "      <td>...</td>\n",
              "      <td>...</td>\n",
              "      <td>...</td>\n",
              "      <td>...</td>\n",
              "      <td>...</td>\n",
              "      <td>...</td>\n",
              "    </tr>\n",
              "    <tr>\n",
              "      <th>9105</th>\n",
              "      <td>104</td>\n",
              "      <td>14890</td>\n",
              "      <td>Trump Chief of Staff John Kelly calls Confeder...</td>\n",
              "      <td>hair</td>\n",
              "      <td>33320</td>\n",
              "      <td>2.200000</td>\n",
              "      <td>Staff</td>\n",
              "      <td>0.993918</td>\n",
              "      <td>hair</td>\n",
              "      <td>staff</td>\n",
              "    </tr>\n",
              "    <tr>\n",
              "      <th>9106</th>\n",
              "      <td>14418</td>\n",
              "      <td>104766</td>\n",
              "      <td>The US officially raises the tobacco buying ag...</td>\n",
              "      <td>candy</td>\n",
              "      <td>22210</td>\n",
              "      <td>1.400000</td>\n",
              "      <td>tobacco</td>\n",
              "      <td>1.075721</td>\n",
              "      <td>candy</td>\n",
              "      <td>tobacco</td>\n",
              "    </tr>\n",
              "    <tr>\n",
              "      <th>9107</th>\n",
              "      <td>7777</td>\n",
              "      <td>2619</td>\n",
              "      <td>Trump rolls back Obama 's Cuba thaw</td>\n",
              "      <td>ice</td>\n",
              "      <td>11110</td>\n",
              "      <td>0.800000</td>\n",
              "      <td>Cuba</td>\n",
              "      <td>1.155475</td>\n",
              "      <td>ice</td>\n",
              "      <td>cuba</td>\n",
              "    </tr>\n",
              "    <tr>\n",
              "      <th>9108</th>\n",
              "      <td>8956</td>\n",
              "      <td>1401</td>\n",
              "      <td>Reality Check : Has Trump kept six key promise...</td>\n",
              "      <td>staffer</td>\n",
              "      <td>32200</td>\n",
              "      <td>1.400000</td>\n",
              "      <td>promise</td>\n",
              "      <td>0.928046</td>\n",
              "      <td>staffer</td>\n",
              "      <td>promise</td>\n",
              "    </tr>\n",
              "    <tr>\n",
              "      <th>9109</th>\n",
              "      <td>2713</td>\n",
              "      <td>7493</td>\n",
              "      <td>Trump 's Phoenix rally attracts thousands of p...</td>\n",
              "      <td>laughter</td>\n",
              "      <td>32110</td>\n",
              "      <td>1.400000</td>\n",
              "      <td>thousand</td>\n",
              "      <td>1.100251</td>\n",
              "      <td>laughter</td>\n",
              "      <td>thousand</td>\n",
              "    </tr>\n",
              "  </tbody>\n",
              "</table>\n",
              "<p>9110 rows × 10 columns</p>\n",
              "</div>"
            ],
            "text/plain": [
              "      index      id  ... edit_word_corpus_rep old_word_corpus_rep\n",
              "0     15832  106180  ...              bathing             article\n",
              "1     13686  104034  ...                   go                rage\n",
              "2     11377  101725  ...               butter             ukraine\n",
              "3      4415    7324  ...               bullet                call\n",
              "4      8012    9691  ...             marriage              comedy\n",
              "...     ...     ...  ...                  ...                 ...\n",
              "9105    104   14890  ...                 hair               staff\n",
              "9106  14418  104766  ...                candy             tobacco\n",
              "9107   7777    2619  ...                  ice                cuba\n",
              "9108   8956    1401  ...              staffer             promise\n",
              "9109   2713    7493  ...             laughter            thousand\n",
              "\n",
              "[9110 rows x 10 columns]"
            ]
          },
          "metadata": {
            "tags": []
          },
          "execution_count": 66
        }
      ]
    },
    {
      "cell_type": "code",
      "metadata": {
        "colab": {
          "base_uri": "https://localhost:8080/",
          "height": 493
        },
        "id": "qfeOjG99eUHI",
        "outputId": "c791866b-fee2-4cdf-f527-de55975656cd"
      },
      "source": [
        "#Only look at headlines where both original word and edited word has an embedding\n",
        "filt_dev_df = dev_embedding_df[dev_embedding_df['edit_word_corpus_rep'] != '<OOV>'][dev_embedding_df['old_word_corpus_rep'] != '<OOV>']\n",
        "filt_dev_df = filt_dev_df.reset_index(drop = True)\n",
        "print(len(filt_dev_df))\n",
        "filt_dev_df"
      ],
      "execution_count": 67,
      "outputs": [
        {
          "output_type": "stream",
          "text": [
            "2270\n"
          ],
          "name": "stdout"
        },
        {
          "output_type": "stream",
          "text": [
            "/usr/local/lib/python3.7/dist-packages/ipykernel_launcher.py:2: UserWarning: Boolean Series key will be reindexed to match DataFrame index.\n",
            "  \n"
          ],
          "name": "stderr"
        },
        {
          "output_type": "execute_result",
          "data": {
            "text/html": [
              "<div>\n",
              "<style scoped>\n",
              "    .dataframe tbody tr th:only-of-type {\n",
              "        vertical-align: middle;\n",
              "    }\n",
              "\n",
              "    .dataframe tbody tr th {\n",
              "        vertical-align: top;\n",
              "    }\n",
              "\n",
              "    .dataframe thead th {\n",
              "        text-align: right;\n",
              "    }\n",
              "</style>\n",
              "<table border=\"1\" class=\"dataframe\">\n",
              "  <thead>\n",
              "    <tr style=\"text-align: right;\">\n",
              "      <th></th>\n",
              "      <th>index</th>\n",
              "      <th>id</th>\n",
              "      <th>original</th>\n",
              "      <th>edit</th>\n",
              "      <th>grades</th>\n",
              "      <th>meanGrade</th>\n",
              "      <th>old</th>\n",
              "      <th>cos_distance</th>\n",
              "      <th>edit_word_corpus_rep</th>\n",
              "      <th>old_word_corpus_rep</th>\n",
              "    </tr>\n",
              "  </thead>\n",
              "  <tbody>\n",
              "    <tr>\n",
              "      <th>0</th>\n",
              "      <td>5342</td>\n",
              "      <td>7419</td>\n",
              "      <td>Advice for Trump : Do n't fire Robert Mueller ...</td>\n",
              "      <td>kiss</td>\n",
              "      <td>22110</td>\n",
              "      <td>1.2</td>\n",
              "      <td>clear</td>\n",
              "      <td>1.053983</td>\n",
              "      <td>kiss</td>\n",
              "      <td>clear</td>\n",
              "    </tr>\n",
              "    <tr>\n",
              "      <th>1</th>\n",
              "      <td>8320</td>\n",
              "      <td>12252</td>\n",
              "      <td>TRUMP FUMES AT MUELLER AFTER COHEN RAID : ' It...</td>\n",
              "      <td>suit</td>\n",
              "      <td>31000</td>\n",
              "      <td>0.8</td>\n",
              "      <td>country</td>\n",
              "      <td>0.946175</td>\n",
              "      <td>suit</td>\n",
              "      <td>country</td>\n",
              "    </tr>\n",
              "    <tr>\n",
              "      <th>2</th>\n",
              "      <td>7893</td>\n",
              "      <td>7133</td>\n",
              "      <td>Trump and Sessions are weaving immigration pol...</td>\n",
              "      <td>music</td>\n",
              "      <td>21000</td>\n",
              "      <td>0.6</td>\n",
              "      <td>immigration</td>\n",
              "      <td>1.137699</td>\n",
              "      <td>music</td>\n",
              "      <td>immigration</td>\n",
              "    </tr>\n",
              "    <tr>\n",
              "      <th>3</th>\n",
              "      <td>6481</td>\n",
              "      <td>8118</td>\n",
              "      <td>Woman thrown out of West Virginia town hall me...</td>\n",
              "      <td>bar</td>\n",
              "      <td>31000</td>\n",
              "      <td>0.8</td>\n",
              "      <td>meeting</td>\n",
              "      <td>0.869427</td>\n",
              "      <td>bar</td>\n",
              "      <td>meeting</td>\n",
              "    </tr>\n",
              "    <tr>\n",
              "      <th>4</th>\n",
              "      <td>16049</td>\n",
              "      <td>106397</td>\n",
              "      <td>After a Decade of Hiring , Plenty of Jobs but ...</td>\n",
              "      <td>Many</td>\n",
              "      <td>0</td>\n",
              "      <td>0.0</td>\n",
              "      <td>Plenty</td>\n",
              "      <td>1.182899</td>\n",
              "      <td>many</td>\n",
              "      <td>plenty</td>\n",
              "    </tr>\n",
              "    <tr>\n",
              "      <th>...</th>\n",
              "      <td>...</td>\n",
              "      <td>...</td>\n",
              "      <td>...</td>\n",
              "      <td>...</td>\n",
              "      <td>...</td>\n",
              "      <td>...</td>\n",
              "      <td>...</td>\n",
              "      <td>...</td>\n",
              "      <td>...</td>\n",
              "      <td>...</td>\n",
              "    </tr>\n",
              "    <tr>\n",
              "      <th>2265</th>\n",
              "      <td>6517</td>\n",
              "      <td>8812</td>\n",
              "      <td>DNC data guru denies Hillary Clinton 's claim ...</td>\n",
              "      <td>country</td>\n",
              "      <td>22100</td>\n",
              "      <td>1.0</td>\n",
              "      <td>nothing</td>\n",
              "      <td>0.914586</td>\n",
              "      <td>country</td>\n",
              "      <td>nothing</td>\n",
              "    </tr>\n",
              "    <tr>\n",
              "      <th>2266</th>\n",
              "      <td>12211</td>\n",
              "      <td>102559</td>\n",
              "      <td>After Trump Pressure , Favorite Fox News Guest...</td>\n",
              "      <td>pizza</td>\n",
              "      <td>31111</td>\n",
              "      <td>1.4</td>\n",
              "      <td>Contract</td>\n",
              "      <td>1.039880</td>\n",
              "      <td>pizza</td>\n",
              "      <td>contract</td>\n",
              "    </tr>\n",
              "    <tr>\n",
              "      <th>2267</th>\n",
              "      <td>6588</td>\n",
              "      <td>5480</td>\n",
              "      <td>On Superstorm Sandy Anniversary , New York Is ...</td>\n",
              "      <td>kitty</td>\n",
              "      <td>22000</td>\n",
              "      <td>0.8</td>\n",
              "      <td>City</td>\n",
              "      <td>1.061116</td>\n",
              "      <td>kitty</td>\n",
              "      <td>city</td>\n",
              "    </tr>\n",
              "    <tr>\n",
              "      <th>2268</th>\n",
              "      <td>4841</td>\n",
              "      <td>6020</td>\n",
              "      <td>Trump tweetstorms wash away White House press ...</td>\n",
              "      <td>disappearance</td>\n",
              "      <td>11000</td>\n",
              "      <td>0.4</td>\n",
              "      <td>briefing</td>\n",
              "      <td>1.050213</td>\n",
              "      <td>disappearance</td>\n",
              "      <td>briefing</td>\n",
              "    </tr>\n",
              "    <tr>\n",
              "      <th>2269</th>\n",
              "      <td>12220</td>\n",
              "      <td>102568</td>\n",
              "      <td>Graham says he 's ' 1,000 % confident ' Russia...</td>\n",
              "      <td>alien</td>\n",
              "      <td>32111</td>\n",
              "      <td>1.6</td>\n",
              "      <td>Russia</td>\n",
              "      <td>0.920561</td>\n",
              "      <td>alien</td>\n",
              "      <td>russia</td>\n",
              "    </tr>\n",
              "  </tbody>\n",
              "</table>\n",
              "<p>2270 rows × 10 columns</p>\n",
              "</div>"
            ],
            "text/plain": [
              "      index      id  ... edit_word_corpus_rep old_word_corpus_rep\n",
              "0      5342    7419  ...                 kiss               clear\n",
              "1      8320   12252  ...                 suit             country\n",
              "2      7893    7133  ...                music         immigration\n",
              "3      6481    8118  ...                  bar             meeting\n",
              "4     16049  106397  ...                 many              plenty\n",
              "...     ...     ...  ...                  ...                 ...\n",
              "2265   6517    8812  ...              country             nothing\n",
              "2266  12211  102559  ...                pizza            contract\n",
              "2267   6588    5480  ...                kitty                city\n",
              "2268   4841    6020  ...        disappearance            briefing\n",
              "2269  12220  102568  ...                alien              russia\n",
              "\n",
              "[2270 rows x 10 columns]"
            ]
          },
          "metadata": {
            "tags": []
          },
          "execution_count": 67
        }
      ]
    },
    {
      "cell_type": "code",
      "metadata": {
        "colab": {
          "base_uri": "https://localhost:8080/"
        },
        "id": "JNMtWQdfHsY4",
        "outputId": "e7640f53-2bcd-4819-919a-011ba430d595"
      },
      "source": [
        "#Run test only on edited headline where edit was previously seen\n",
        "model_filt = linear_model.LinearRegression()\n",
        "#train, test = train_test_split(filt_train_df,test_size = 0.2)\n",
        "dist_train = np.reshape(filt_train_df.cos_distance.to_list(), (-1,1))\n",
        "dist_test = np.reshape(filt_dev_df.cos_distance.to_list(), (-1,1))\n",
        "y = np.reshape(filt_train_df.meanGrade.to_list(), (-1,1))\n",
        "y_test = np.reshape(filt_dev_df.meanGrade.to_list(), (-1,1))\n",
        "#print(train.cos_distance)\n",
        "\n",
        "model.fit(dist_train, y)\n",
        "predictions = model.predict(dist_test)\n",
        "\n",
        "mean_squared_error(y_test, predictions, squared = False)"
      ],
      "execution_count": 68,
      "outputs": [
        {
          "output_type": "execute_result",
          "data": {
            "text/plain": [
              "0.5817698273402553"
            ]
          },
          "metadata": {
            "tags": []
          },
          "execution_count": 68
        }
      ]
    },
    {
      "cell_type": "code",
      "metadata": {
        "colab": {
          "base_uri": "https://localhost:8080/",
          "height": 282
        },
        "id": "Z7jxXc6uLU6F",
        "outputId": "68600b76-12fe-425f-b79f-daf8692fd938"
      },
      "source": [
        "plt.scatter(predictions,y_test)"
      ],
      "execution_count": 69,
      "outputs": [
        {
          "output_type": "execute_result",
          "data": {
            "text/plain": [
              "<matplotlib.collections.PathCollection at 0x7f2566562450>"
            ]
          },
          "metadata": {
            "tags": []
          },
          "execution_count": 69
        },
        {
          "output_type": "display_data",
          "data": {
            "image/png": "[encoded data removed]",
            "text/plain": [
              "<Figure size 432x288 with 1 Axes>"
            ]
          },
          "metadata": {
            "tags": [],
            "needs_background": "light"
          }
        }
      ]
    },
    {
      "cell_type": "markdown",
      "metadata": {
        "id": "7I8pLd4JOtXQ"
      },
      "source": [
        "## Predictions by BILSTM"
      ]
    },
    {
      "cell_type": "code",
      "metadata": {
        "id": "bjQTRFwKRosF"
      },
      "source": [
        "#Customized tokenizer as in part 1\n",
        "\n",
        "def custom_tokenizer(nlp):\n",
        "    \n",
        "    replacement_re = re.compile(r'^<*/>') #do not split replacement format\n",
        "    prefix_re = re.compile(r'''^[\\[\\(\"]''')\n",
        "    suffix_re = re.compile(r''',[\\]\\)\"']$''')\n",
        "    infix_re = re.compile(r'''[-\\,.~]''')\n",
        "    \n",
        "    \n",
        "    return Tokenizer(nlp.vocab,\n",
        "                     token_match = replacement_re.match,\n",
        "                     prefix_search=prefix_re.search,\n",
        "                     suffix_search=suffix_re.search,\n",
        "                     infix_finditer = infix_re.finditer  \n",
        "                    )\n",
        "\n",
        "\n",
        "#customized preprocessor as in part 1\n",
        "def preprocessor(data,edits):\n",
        "    \"\"\"\n",
        "    Creating a corpus of all the tokens used\n",
        "    \"\"\"\n",
        "    from nltk.stem import WordNetLemmatizer\n",
        "    wordnet_lemmatizer = WordNetLemmatizer()  \n",
        "\n",
        "    punctuation = \"\\\":\\.,\"\n",
        "    nlp = spacy.load(\"en_core_web_sm\")\n",
        "    nlp.tokenizer = custom_tokenizer(nlp)\n",
        "    \n",
        "    tokenized_corpus_1= [] # Let us put the tokenized corpus in a list\n",
        "    tokenized_corpus_2= []\n",
        "    \n",
        "    \n",
        "    for i, sentence in enumerate(data):\n",
        "\n",
        "        sentence = sentence.lower()\n",
        "        tokenized_sentence_1 = []\n",
        "        tokenized_sentence_2 = []\n",
        "\n",
        "        for token in nlp(sentence): # simplest split is\n",
        "\n",
        "            if token.text in punctuation:\n",
        "                continue\n",
        "            if token.text in spacy_stop_words:\n",
        "                continue\n",
        "            \n",
        "            else:\n",
        "                if token.text[0] == '<':\n",
        "                    tokenized_sentence_1.append(\"???\")\n",
        "                    tokenized_sentence_2.append(\"???\")\n",
        "                    \n",
        "                    tokenized_sentence_2.append(wordnet_lemmatizer.lemmatize(edits.iloc[i],  pos=\"v\"))\n",
        "\n",
        "                    lemmatized_token = wordnet_lemmatizer.lemmatize(token.text[1:-2], pos=\"v\")\n",
        "\n",
        "                    tokenized_sentence_1.append(lemmatized_token)\n",
        "                else:\n",
        "                    lemmatized_token = wordnet_lemmatizer.lemmatize(token.text, pos=\"v\")\n",
        "\n",
        "                    tokenized_sentence_2.append(lemmatized_token)\n",
        "                \n",
        "                    tokenized_sentence_1.append(lemmatized_token)\n",
        "\n",
        "\n",
        "        tokenized_corpus_1.append(tokenized_sentence_1)\n",
        "        tokenized_corpus_2.append(tokenized_sentence_2)\n",
        "\n",
        "    # Create single list of all vocabulary\n",
        "    vocabulary = [] \n",
        "\n",
        "    for sentence in tokenized_corpus_1:\n",
        "\n",
        "        for token in sentence:\n",
        "\n",
        "            if token not in vocabulary:\n",
        "\n",
        "                if True:\n",
        "                    vocabulary.append(token)\n",
        "    \n",
        "    for token in edits:\n",
        "        \n",
        "        if token not in vocabulary:\n",
        "            \n",
        "            vocabulary.append(token)\n",
        "\n",
        "    return vocabulary, tokenized_corpus_1, tokenized_corpus_2"
      ],
      "execution_count": 49,
      "outputs": []
    },
    {
      "cell_type": "code",
      "metadata": {
        "colab": {
          "base_uri": "https://localhost:8080/"
        },
        "id": "sJIqgkQuOyqe",
        "outputId": "0cc4f02a-6a6a-41a2-f9c7-a436ef9885d0"
      },
      "source": [
        "# We set our training data and test data\n",
        "training_data = train_embedding_df_pre['original']\n",
        "test_data = dev_embedding_df_pre['original']\n",
        "\n",
        "training_vocab, training_tokenized_corpus_1,training_tokenized_corpus_2 =  preprocessor(training_data, train_embedding_df_pre['edit'])\n",
        "test_vocab, test_tokenized_corpus_1,test_tokenized_corpus_2 =  preprocessor(test_data,dev_embedding_df_pre['edit'])\n",
        "\n",
        "\n",
        "print(\"Vocab created.\")"
      ],
      "execution_count": 53,
      "outputs": [
        {
          "output_type": "stream",
          "text": [
            "Vocab created.\n"
          ],
          "name": "stdout"
        }
      ]
    },
    {
      "cell_type": "code",
      "metadata": {
        "id": "yAgIgjE-USmS"
      },
      "source": [
        "#create vektorized sequences as before\n",
        "vectorized_seqs_1_train = [[word2idx[tok] if tok in word2idx else word2idx[OOV_token] for tok in seq] for seq in training_tokenized_corpus_1]\n",
        "vectorized_seqs_2_train = [[word2idx[tok] if tok in word2idx else word2idx[OOV_token] for tok in seq] for seq in training_tokenized_corpus_2]\n",
        "\n",
        "vectorized_seqs_1_test = [[word2idx[tok] if tok in word2idx else word2idx[OOV_token] for tok in seq] for seq in test_tokenized_corpus_1]\n",
        "vectorized_seqs_2_test = [[word2idx[tok] if tok in word2idx else word2idx[OOV_token] for tok in seq] for seq in test_tokenized_corpus_2]\n",
        "\n",
        "\n",
        "\n",
        "\n",
        "# To avoid any sentences being empty (if no words match to our word embeddings)\n",
        "vectorized_seqs_1_train = [x if len(x) > 0 else [0] for x in vectorized_seqs_1_train]\n",
        "vectorized_seqs_2_train = [x if len(x) > 0 else [0] for x in vectorized_seqs_2_train]\n",
        "\n",
        "vectorized_seqs_1_test = [x if len(x) > 0 else [0] for x in vectorized_seqs_1_test]\n",
        "vectorized_seqs_2_test = [x if len(x) > 0 else [0] for x in vectorized_seqs_2_test]\n"
      ],
      "execution_count": 54,
      "outputs": []
    },
    {
      "cell_type": "code",
      "metadata": {
        "id": "mJZJC2KJUpST",
        "colab": {
          "base_uri": "https://localhost:8080/"
        },
        "outputId": "89626474-2ce6-4e50-b640-4aabe867be7d"
      },
      "source": [
        "#initialize model with our own trained embedding\n",
        "INPUT_DIM = len(word2idx)\n",
        "EMBEDDING_DIM = 128\n",
        "\n",
        "BATCH_SIZE = 128\n",
        "\n",
        "model = BiLSTM_double(EMBEDDING_DIM, 55, INPUT_DIM, BATCH_SIZE, device)\n",
        "\n",
        "params = sum(p.numel() for p in model.parameters() if p.requires_grad)\n",
        "print(params)\n",
        "#print(\"Total number of parameters is: {​​}​​\".format(params))\n",
        "\n",
        "print(model)\n",
        "\n",
        "print(\"Model initialised.\")\n",
        "\n",
        "model.to(device)\n",
        "# We provide the model with our embeddings\n",
        "model.embedding.weight.data.copy_(weights_matrix)\n"
      ],
      "execution_count": 73,
      "outputs": [
        {
          "output_type": "stream",
          "text": [
            "5399517\n",
            "BiLSTM_double(\n",
            "  (embedding): Embedding(31457, 128, padding_idx=0)\n",
            "  (lstm_1): LSTM(128, 55, bidirectional=True)\n",
            "  (lstm_2): LSTM(128, 55, bidirectional=True)\n",
            "  (fc): Linear(in_features=11000, out_features=110, bias=True)\n",
            "  (hidden2label): Linear(in_features=110, out_features=1, bias=True)\n",
            "  (d1): Dropout(p=0.5, inplace=False)\n",
            "  (d2): Dropout(p=0.5, inplace=False)\n",
            "  (d3): Dropout(p=0.5, inplace=False)\n",
            ")\n",
            "Model initialised.\n"
          ],
          "name": "stdout"
        },
        {
          "output_type": "execute_result",
          "data": {
            "text/plain": [
              "tensor([[ 2.9052e-03,  2.9197e-03,  1.5550e-03,  ..., -2.3535e-03,\n",
              "          2.2624e-06, -1.5256e-03],\n",
              "        [-2.4886e-03,  4.3952e-04, -3.0382e-04,  ..., -9.5861e-04,\n",
              "          5.3797e-03,  5.3125e-04],\n",
              "        [-1.0930e-03,  3.0053e-03,  4.8244e-03,  ..., -1.4892e-03,\n",
              "          3.1121e-03,  4.7919e-03],\n",
              "        ...,\n",
              "        [-2.4952e-03,  2.1709e-03, -5.4640e-03,  ..., -2.9118e-03,\n",
              "          3.8731e-03,  4.0919e-03],\n",
              "        [ 3.0573e-04,  2.4652e-03, -1.9072e-03,  ..., -7.2252e-04,\n",
              "          3.2804e-03, -1.3851e-03],\n",
              "        [ 3.7596e-03, -3.1394e-03, -2.8640e-03,  ..., -4.2028e-03,\n",
              "          1.1552e-03, -2.8900e-03]], device='cuda:0', grad_fn=<CopyBackwards>)"
            ]
          },
          "metadata": {
            "tags": []
          },
          "execution_count": 73
        }
      ]
    },
    {
      "cell_type": "code",
      "metadata": {
        "id": "6nmnvF_AV4YV",
        "colab": {
          "base_uri": "https://localhost:8080/"
        },
        "outputId": "217c1dee-da27-4ea3-9267-5bf4bb1d3717"
      },
      "source": [
        "#train model\n",
        "epochs = 200\n",
        "train_proportion = 0.8\n",
        "\n",
        "train_dataset = Task1Dataset_double(vectorized_seqs_1_train,vectorized_seqs_2_train, train_embedding_df_pre['meanGrade'])\n",
        "dev_dataset = Task1Dataset_double(vectorized_seqs_1_test,vectorized_seqs_2_test, dev_embedding_df_pre['meanGrade'])\n",
        "\n",
        "\n",
        "train_loader = torch.utils.data.DataLoader(train_dataset, shuffle=True, batch_size=BATCH_SIZE, collate_fn=collate_fn_padd)\n",
        "\n",
        "dev_loader = torch.utils.data.DataLoader(dev_dataset, batch_size=BATCH_SIZE, collate_fn=collate_fn_padd)\n",
        "\n",
        "print(\"Dataloaders created.\")\n",
        "\n",
        "loss_fn = nn.MSELoss()\n",
        "loss_fn = loss_fn.to(device)\n",
        "\n",
        "optimizer = torch.optim.SGD(model.parameters(), lr=0.008, momentum=0.9)\n",
        "\n",
        "train_losses, valid_losses, preds, targs, train_rmses, valid_rmses = train(train_loader, dev_loader, model, epochs)\n",
        "\n",
        "\n",
        "#Without stop words removal 0.6"
      ],
      "execution_count": 80,
      "outputs": [
        {
          "output_type": "stream",
          "text": [
            "Dataloaders created.\n",
            "Training model.\n",
            "| Epoch: 01 | Train Loss: 0.42 | Train MSE: 0.42 | Train RMSE: 0.65 |         Val. Loss: 0.35 | Val. MSE: 0.35 |  Val. RMSE: 0.59 |\n",
            "| Epoch: 02 | Train Loss: 0.36 | Train MSE: 0.36 | Train RMSE: 0.60 |         Val. Loss: 0.35 | Val. MSE: 0.35 |  Val. RMSE: 0.59 |\n",
            "| Epoch: 03 | Train Loss: 0.36 | Train MSE: 0.36 | Train RMSE: 0.60 |         Val. Loss: 0.35 | Val. MSE: 0.35 |  Val. RMSE: 0.59 |\n",
            "| Epoch: 04 | Train Loss: 0.36 | Train MSE: 0.36 | Train RMSE: 0.60 |         Val. Loss: 0.35 | Val. MSE: 0.35 |  Val. RMSE: 0.60 |\n",
            "| Epoch: 05 | Train Loss: 0.36 | Train MSE: 0.36 | Train RMSE: 0.60 |         Val. Loss: 0.35 | Val. MSE: 0.35 |  Val. RMSE: 0.59 |\n",
            "| Epoch: 06 | Train Loss: 0.36 | Train MSE: 0.36 | Train RMSE: 0.60 |         Val. Loss: 0.35 | Val. MSE: 0.35 |  Val. RMSE: 0.59 |\n",
            "| Epoch: 07 | Train Loss: 0.36 | Train MSE: 0.36 | Train RMSE: 0.60 |         Val. Loss: 0.35 | Val. MSE: 0.35 |  Val. RMSE: 0.59 |\n",
            "| Epoch: 08 | Train Loss: 0.36 | Train MSE: 0.36 | Train RMSE: 0.60 |         Val. Loss: 0.35 | Val. MSE: 0.35 |  Val. RMSE: 0.59 |\n",
            "| Epoch: 09 | Train Loss: 0.36 | Train MSE: 0.36 | Train RMSE: 0.60 |         Val. Loss: 0.35 | Val. MSE: 0.35 |  Val. RMSE: 0.59 |\n",
            "| Epoch: 10 | Train Loss: 0.36 | Train MSE: 0.36 | Train RMSE: 0.60 |         Val. Loss: 0.35 | Val. MSE: 0.35 |  Val. RMSE: 0.59 |\n"
          ],
          "name": "stdout"
        }
      ]
    },
    {
      "cell_type": "code",
      "metadata": {
        "colab": {
          "base_uri": "https://localhost:8080/",
          "height": 294
        },
        "id": "06xZtxsOD0lp",
        "outputId": "cb95373e-0f6f-4f86-bf3c-5acf21c39aa9"
      },
      "source": [
        "#plot helper function\n",
        "def plot(train_losses,valid_losses,num_epochs):\n",
        "  epochs = list(range(num_epochs))\n",
        "  plt.plot(epochs,train_losses, label='train')\n",
        "  plt.plot(epochs,valid_losses, label='valid')\n",
        "  plt.legend()\n",
        "  plt.title('Loss curve')\n",
        "  plt.ylabel('MSE Loss')\n",
        "  plt.xlabel('Epochs')\n",
        "  plt.show()\n",
        "\n",
        "plot(train_losses, valid_losses, len(train_losses))"
      ],
      "execution_count": 82,
      "outputs": [
        {
          "output_type": "display_data",
          "data": {
            "image/png": "[encoded data removed]",
            "text/plain": [
              "<Figure size 432x288 with 1 Axes>"
            ]
          },
          "metadata": {
            "tags": [],
            "needs_background": "light"
          }
        }
      ]
    },
    {
      "cell_type": "code",
      "metadata": {
        "id": "lUVBvYF7Wj95"
      },
      "source": [
        "#eval model on dev dataset and plot predicitons\n",
        "model.eval()\n",
        "predictions_plot = []  \n",
        "target_plot = []\n",
        "\n",
        "with torch.no_grad():\n",
        "    for batch in dev_loader:\n",
        "        feature, target = batch\n",
        "        feature_1= feature[0].to(device)\n",
        "        feature_2 = feature[1].to(device)\n",
        "        target = target.to(device)\n",
        "\n",
        "        feature = (feature_1, feature_2)\n",
        "\n",
        "        # for RNN:\n",
        "        model.batch_size = target.shape[0]\n",
        "        model.hidden_1 = model.init_hidden()\n",
        "        model.hidden_2 = model.init_hidden()\n",
        "\n",
        "        predictions = model(feature).squeeze(1)\n",
        "\n",
        "        predictions_plot.append(predictions.detach().cpu().numpy())\n",
        "        target_plot.append(target.detach().cpu().numpy())\n"
      ],
      "execution_count": 83,
      "outputs": []
    },
    {
      "cell_type": "code",
      "metadata": {
        "id": "XYzGJLLAalqM",
        "colab": {
          "base_uri": "https://localhost:8080/",
          "height": 312
        },
        "outputId": "3ba1f315-9cfd-4023-b2ad-a34dda82b8c3"
      },
      "source": [
        "#plot predicitons on dev dataset\n",
        "pred = np.concatenate(predictions_plot, axis=0)\n",
        "trg = np.concatenate(target_plot, axis=0)\n",
        "\n",
        "plt.scatter(pred,trg)\n",
        "#plt.axis('equal')\n",
        "plt.title('Target vs. Predictions')\n",
        "plt.ylabel('Target labels')\n",
        "plt.xlabel('Predictions')"
      ],
      "execution_count": 86,
      "outputs": [
        {
          "output_type": "execute_result",
          "data": {
            "text/plain": [
              "Text(0.5, 0, 'Predictions')"
            ]
          },
          "metadata": {
            "tags": []
          },
          "execution_count": 86
        },
        {
          "output_type": "display_data",
          "data": {
            "image/png": "[encoded data removed]",
            "text/plain": [
              "<Figure size 432x288 with 1 Axes>"
            ]
          },
          "metadata": {
            "tags": [],
            "needs_background": "light"
          }
        }
      ]
    },
    {
      "cell_type": "markdown",
      "metadata": {
        "id": "uYSdwJ1XLVia"
      },
      "source": [
        "## Baseline given\n"
      ]
    },
    {
      "cell_type": "code",
      "metadata": {
        "colab": {
          "base_uri": "https://localhost:8080/"
        },
        "id": "MyJFzk7aEwcd",
        "outputId": "abfd781d-de3e-485d-e738-d08326f7e36d"
      },
      "source": [
        "#overall rmse when always predicting the mean\n",
        "mean = train_df['meanGrade'].mean()\n",
        "sum = 0\n",
        "for i in range(len(train_df['meanGrade'])):\n",
        "    sum += (mean - train_df['meanGrade'].loc[i])**2\n",
        "np.sqrt(sum / len(train_df['meanGrade']))"
      ],
      "execution_count": 87,
      "outputs": [
        {
          "output_type": "execute_result",
          "data": {
            "text/plain": [
              "0.5960374597860942"
            ]
          },
          "metadata": {
            "tags": []
          },
          "execution_count": 87
        }
      ]
    },
    {
      "cell_type": "code",
      "metadata": {
        "id": "qK9C7EeEaRLc",
        "colab": {
          "base_uri": "https://localhost:8080/"
        },
        "outputId": "596ed31b-d4c4-47db-bd40-739276dbbd7e"
      },
      "source": [
        "train_and_dev = train_df['edit']\n",
        "train_proportion = 0.8\n",
        "training_data, dev_data, training_y, dev_y = train_test_split(train_df['edit'], train_df['meanGrade'],\n",
        "                                                                        test_size=(1-train_proportion),\n",
        "                                                                        random_state=42)\n",
        "\n",
        "# We train a Tf-idf model\n",
        "count_vect = CountVectorizer(stop_words='english')\n",
        "train_counts = count_vect.fit_transform(training_data)\n",
        "transformer = TfidfTransformer().fit(train_counts)\n",
        "transformer\n",
        "train_counts = transformer.transform(train_counts)\n",
        "regression_model = LinearRegression().fit(train_counts, training_y)\n",
        "print(train_counts)"
      ],
      "execution_count": null,
      "outputs": [
        {
          "output_type": "stream",
          "text": [
            "  (0, 6912)\t0.3196422657133493\n",
            "  (0, 6889)\t0.4635074138381324\n",
            "  (0, 6423)\t0.11278822224285272\n",
            "  (0, 5804)\t0.44285750586411565\n",
            "  (0, 5374)\t0.23652438242454743\n",
            "  (0, 5312)\t0.3400955840429778\n",
            "  (0, 4309)\t0.34740743437045796\n",
            "  (0, 4089)\t0.2845496729305107\n",
            "  (0, 3299)\t0.31761063288602626\n",
            "  (1, 6541)\t0.48194793383580115\n",
            "  (1, 5549)\t0.3204233579379913\n",
            "  (1, 5014)\t0.42370065991381706\n",
            "  (1, 2759)\t0.4595615370435467\n",
            "  (1, 2464)\t0.5237709472831734\n",
            "  (2, 6892)\t0.35794538379097757\n",
            "  (2, 6156)\t0.36483747544305006\n",
            "  (2, 5741)\t0.3829658592421385\n",
            "  (2, 5499)\t0.3419984129026347\n",
            "  (2, 4801)\t0.3829658592421385\n",
            "  (2, 4305)\t0.291413316187634\n",
            "  (2, 3322)\t0.313301064206565\n",
            "  (2, 2076)\t0.3110077361041403\n",
            "  (2, 1141)\t0.2206241510260133\n",
            "  (3, 6534)\t0.39337308644812724\n",
            "  (3, 6423)\t0.09734562388426601\n",
            "  :\t:\n",
            "  (7717, 6019)\t0.520234681094425\n",
            "  (7717, 5375)\t0.28639284053699743\n",
            "  (7717, 3451)\t0.4360369675276321\n",
            "  (7717, 3299)\t0.3331918391659665\n",
            "  (7717, 2782)\t0.46458301954981385\n",
            "  (7717, 2533)\t0.3610437600682453\n",
            "  (7718, 4700)\t0.400658806873244\n",
            "  (7718, 4635)\t0.5126970556930236\n",
            "  (7718, 3590)\t0.3448996293605981\n",
            "  (7718, 3569)\t0.35473412275396105\n",
            "  (7718, 3532)\t0.3569109378132053\n",
            "  (7718, 1359)\t0.4521468565066124\n",
            "  (7719, 4980)\t0.4205214064768076\n",
            "  (7719, 3410)\t0.3027977180838381\n",
            "  (7719, 3409)\t0.3930472980843201\n",
            "  (7719, 3372)\t0.3930472980843201\n",
            "  (7719, 212)\t0.40061526270871783\n",
            "  (7719, 56)\t0.4205214064768076\n",
            "  (7719, 0)\t0.2918425766313267\n",
            "  (7720, 6843)\t0.513093481562848\n",
            "  (7720, 6031)\t0.4297411912433994\n",
            "  (7720, 4854)\t0.3381402403225188\n",
            "  (7720, 3981)\t0.32744999099295835\n",
            "  (7720, 3347)\t0.4239023691800264\n",
            "  (7720, 3322)\t0.38833239679856807\n"
          ],
          "name": "stdout"
        }
      ]
    },
    {
      "cell_type": "code",
      "metadata": {
        "id": "AInKATQT6pXE",
        "colab": {
          "base_uri": "https://localhost:8080/"
        },
        "outputId": "77b2b52a-2533-466d-dd35-2cea9b93e977"
      },
      "source": [
        "\n",
        "# Train predictions\n",
        "predicted_train = regression_model.predict(train_counts)\n",
        "\n",
        "# Calculate Tf-idf using train and dev, and validate model on dev:\n",
        "test_and_test_counts = count_vect.transform(train_and_dev)\n",
        "transformer = TfidfTransformer().fit(test_and_test_counts)\n",
        "\n",
        "test_counts = count_vect.transform(dev_data)\n",
        "\n",
        "test_counts = transformer.transform(test_counts)\n",
        "\n",
        "# Dev predictions\n",
        "predicted = regression_model.predict(test_counts)\n",
        "\n",
        "# We run the evaluation:\n",
        "print(\"\\nTrain performance:\")\n",
        "sse, mse, _ = model_performance(predicted_train, training_y, True)\n",
        "\n",
        "print(\"\\nDev performance:\")\n",
        "sse, mse, _ = model_performance(predicted, dev_y, True)"
      ],
      "execution_count": null,
      "outputs": [
        {
          "output_type": "stream",
          "text": [
            "\n",
            "Train performance:\n",
            "| MSE: 0.16 | RMSE: 0.40 |\n",
            "\n",
            "Dev performance:\n",
            "| MSE: 0.48 | RMSE: 0.69 |\n"
          ],
          "name": "stdout"
        }
      ]
    },
    {
      "cell_type": "markdown",
      "metadata": {
        "id": "cSZbSxUbaRLc"
      },
      "source": [
        "#### Baseline for task 2"
      ]
    },
    {
      "cell_type": "code",
      "metadata": {
        "id": "QwwE7oj0aRLd"
      },
      "source": [
        "# Baseline for the task\n",
        "pred_baseline = torch.zeros(len(dev_y)) + np.mean(training_y)\n",
        "print(\"\\nBaseline performance:\")\n",
        "sse, mse = model_performance(pred_baseline, dev_y, True)"
      ],
      "execution_count": null,
      "outputs": []
    },
    {
      "cell_type": "markdown",
      "metadata": {
        "id": "KtZjLzPNiPWc"
      },
      "source": [
        "## Submission Codalab\n"
      ]
    },
    {
      "cell_type": "code",
      "metadata": {
        "id": "XbCQEMVPiVAb"
      },
      "source": [
        "\n",
        "def submission_task_1(train_loc, test_loc):\n",
        "    train = pd.read_csv(train_loc)    \n",
        "    test = pd.read_csv(test_loc)\n",
        "\n",
        "    pred = bert_predictions  \n",
        "    test['pred'] = pred\n",
        "    \n",
        "    output = test[['id','pred']] \n",
        "    out_loc = '../output/task-1-output.csv'\n",
        "    output.to_csv(out_loc, index=False)\n",
        "    \n",
        "    print('Output file created:\\n\\t- '+os.path.abspath(out_loc))"
      ],
      "execution_count": null,
      "outputs": []
    }
  ]
}