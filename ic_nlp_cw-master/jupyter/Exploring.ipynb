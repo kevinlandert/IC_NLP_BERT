{
 "cells": [
  {
   "cell_type": "markdown",
   "metadata": {},
   "source": [
    "## Exploration"
   ]
  },
  {
   "cell_type": "code",
   "execution_count": 45,
   "metadata": {},
   "outputs": [],
   "source": [
    "import pandas as pd\n",
    "import numpy as np\n",
    "from matplotlib import pyplot as plt"
   ]
  },
  {
   "cell_type": "code",
   "execution_count": 6,
   "metadata": {},
   "outputs": [
    {
     "data": {
      "text/html": [
       "<div>\n",
       "<style scoped>\n",
       "    .dataframe tbody tr th:only-of-type {\n",
       "        vertical-align: middle;\n",
       "    }\n",
       "\n",
       "    .dataframe tbody tr th {\n",
       "        vertical-align: top;\n",
       "    }\n",
       "\n",
       "    .dataframe thead th {\n",
       "        text-align: right;\n",
       "    }\n",
       "</style>\n",
       "<table border=\"1\" class=\"dataframe\">\n",
       "  <thead>\n",
       "    <tr style=\"text-align: right;\">\n",
       "      <th></th>\n",
       "      <th>id</th>\n",
       "      <th>original1</th>\n",
       "      <th>edit1</th>\n",
       "      <th>grades1</th>\n",
       "      <th>meanGrade1</th>\n",
       "      <th>original2</th>\n",
       "      <th>edit2</th>\n",
       "      <th>grades2</th>\n",
       "      <th>meanGrade2</th>\n",
       "      <th>label</th>\n",
       "    </tr>\n",
       "  </thead>\n",
       "  <tbody>\n",
       "    <tr>\n",
       "      <th>0</th>\n",
       "      <td>10920-9866</td>\n",
       "      <td>\" Gene Cernan , Last &lt;Astronaut/&gt; on the Moon ...</td>\n",
       "      <td>Dancer</td>\n",
       "      <td>1113</td>\n",
       "      <td>1.2</td>\n",
       "      <td>\" Gene Cernan , Last Astronaut on the Moon , &lt;...</td>\n",
       "      <td>impregnated</td>\n",
       "      <td>30001</td>\n",
       "      <td>0.8</td>\n",
       "      <td>1</td>\n",
       "    </tr>\n",
       "    <tr>\n",
       "      <th>1</th>\n",
       "      <td>3176-10722</td>\n",
       "      <td>\" I 'm done \" : Fed up with California , some ...</td>\n",
       "      <td>vagrants</td>\n",
       "      <td>1200</td>\n",
       "      <td>0.6</td>\n",
       "      <td>\" I 'm done \" : Fed up with &lt;California/&gt; , so...</td>\n",
       "      <td>pancakes</td>\n",
       "      <td>10110</td>\n",
       "      <td>0.6</td>\n",
       "      <td>0</td>\n",
       "    </tr>\n",
       "    <tr>\n",
       "      <th>2</th>\n",
       "      <td>3176-3702</td>\n",
       "      <td>\" I 'm done \" : Fed up with California , some ...</td>\n",
       "      <td>vagrants</td>\n",
       "      <td>1200</td>\n",
       "      <td>0.6</td>\n",
       "      <td>\" I 'm done \" : Fed up with &lt;California/&gt; , so...</td>\n",
       "      <td>life</td>\n",
       "      <td>2</td>\n",
       "      <td>0.4</td>\n",
       "      <td>1</td>\n",
       "    </tr>\n",
       "    <tr>\n",
       "      <th>3</th>\n",
       "      <td>10722-3702</td>\n",
       "      <td>\" I 'm done \" : Fed up with &lt;California/&gt; , so...</td>\n",
       "      <td>pancakes</td>\n",
       "      <td>10110</td>\n",
       "      <td>0.6</td>\n",
       "      <td>\" I 'm done \" : Fed up with &lt;California/&gt; , so...</td>\n",
       "      <td>life</td>\n",
       "      <td>2</td>\n",
       "      <td>0.4</td>\n",
       "      <td>1</td>\n",
       "    </tr>\n",
       "    <tr>\n",
       "      <th>4</th>\n",
       "      <td>12282-2083</td>\n",
       "      <td>\" Our expectations of what civic engagement lo...</td>\n",
       "      <td>imagine</td>\n",
       "      <td>0</td>\n",
       "      <td>0.0</td>\n",
       "      <td>\" Our expectations of what civic engagement &lt;l...</td>\n",
       "      <td>smells</td>\n",
       "      <td>100220010</td>\n",
       "      <td>0.6</td>\n",
       "      <td>2</td>\n",
       "    </tr>\n",
       "  </tbody>\n",
       "</table>\n",
       "</div>"
      ],
      "text/plain": [
       "           id                                          original1     edit1  \\\n",
       "0  10920-9866  \" Gene Cernan , Last <Astronaut/> on the Moon ...    Dancer   \n",
       "1  3176-10722  \" I 'm done \" : Fed up with California , some ...  vagrants   \n",
       "2   3176-3702  \" I 'm done \" : Fed up with California , some ...  vagrants   \n",
       "3  10722-3702  \" I 'm done \" : Fed up with <California/> , so...  pancakes   \n",
       "4  12282-2083  \" Our expectations of what civic engagement lo...   imagine   \n",
       "\n",
       "   grades1  meanGrade1                                          original2  \\\n",
       "0     1113         1.2  \" Gene Cernan , Last Astronaut on the Moon , <...   \n",
       "1     1200         0.6  \" I 'm done \" : Fed up with <California/> , so...   \n",
       "2     1200         0.6  \" I 'm done \" : Fed up with <California/> , so...   \n",
       "3    10110         0.6  \" I 'm done \" : Fed up with <California/> , so...   \n",
       "4        0         0.0  \" Our expectations of what civic engagement <l...   \n",
       "\n",
       "         edit2    grades2  meanGrade2  label  \n",
       "0  impregnated      30001         0.8      1  \n",
       "1     pancakes      10110         0.6      0  \n",
       "2         life          2         0.4      1  \n",
       "3         life          2         0.4      1  \n",
       "4       smells  100220010         0.6      2  "
      ]
     },
     "execution_count": 6,
     "metadata": {},
     "output_type": "execute_result"
    }
   ],
   "source": [
    "# Load data\n",
    "train_df = pd.read_csv('../task-2/train.csv')\n",
    "test_df = pd.read_csv('../task-2/dev.csv')\n",
    "train_df.head(5)"
   ]
  },
  {
   "cell_type": "code",
   "execution_count": 12,
   "metadata": {},
   "outputs": [
    {
     "data": {
      "text/html": [
       "<div>\n",
       "<style scoped>\n",
       "    .dataframe tbody tr th:only-of-type {\n",
       "        vertical-align: middle;\n",
       "    }\n",
       "\n",
       "    .dataframe tbody tr th {\n",
       "        vertical-align: top;\n",
       "    }\n",
       "\n",
       "    .dataframe thead th {\n",
       "        text-align: right;\n",
       "    }\n",
       "</style>\n",
       "<table border=\"1\" class=\"dataframe\">\n",
       "  <thead>\n",
       "    <tr style=\"text-align: right;\">\n",
       "      <th></th>\n",
       "      <th>id</th>\n",
       "      <th>original1</th>\n",
       "      <th>edit1</th>\n",
       "      <th>original2</th>\n",
       "      <th>edit2</th>\n",
       "    </tr>\n",
       "  </thead>\n",
       "  <tbody>\n",
       "    <tr>\n",
       "      <th>0</th>\n",
       "      <td>61-5576</td>\n",
       "      <td>\" Nutella &lt;riots/&gt; \" erupt in France over disc...</td>\n",
       "      <td>brownies</td>\n",
       "      <td>\" Nutella &lt;riots/&gt; \" erupt in France over disc...</td>\n",
       "      <td>sales</td>\n",
       "    </tr>\n",
       "    <tr>\n",
       "      <th>1</th>\n",
       "      <td>61-11943</td>\n",
       "      <td>\" Nutella &lt;riots/&gt; \" erupt in France over disc...</td>\n",
       "      <td>brownies</td>\n",
       "      <td>\" Nutella riots \" erupt in France over discoun...</td>\n",
       "      <td>Bunnies</td>\n",
       "    </tr>\n",
       "    <tr>\n",
       "      <th>2</th>\n",
       "      <td>5576-11943</td>\n",
       "      <td>\" Nutella &lt;riots/&gt; \" erupt in France over disc...</td>\n",
       "      <td>sales</td>\n",
       "      <td>\" Nutella riots \" erupt in France over discoun...</td>\n",
       "      <td>Bunnies</td>\n",
       "    </tr>\n",
       "    <tr>\n",
       "      <th>3</th>\n",
       "      <td>12581-9120</td>\n",
       "      <td>$ 45 billion added to health care bill for opi...</td>\n",
       "      <td>party</td>\n",
       "      <td>$ 45 billion added to health care bill for opi...</td>\n",
       "      <td>Handouts</td>\n",
       "    </tr>\n",
       "    <tr>\n",
       "      <th>4</th>\n",
       "      <td>3605-11504</td>\n",
       "      <td>' 400,000 &lt;People/&gt; ... Live In Hell On Earth ...</td>\n",
       "      <td>Goats</td>\n",
       "      <td>' 400,000 People ... Live In Hell On Earth ' :...</td>\n",
       "      <td>Disinfecting</td>\n",
       "    </tr>\n",
       "  </tbody>\n",
       "</table>\n",
       "</div>"
      ],
      "text/plain": [
       "           id                                          original1     edit1  \\\n",
       "0     61-5576  \" Nutella <riots/> \" erupt in France over disc...  brownies   \n",
       "1    61-11943  \" Nutella <riots/> \" erupt in France over disc...  brownies   \n",
       "2  5576-11943  \" Nutella <riots/> \" erupt in France over disc...     sales   \n",
       "3  12581-9120  $ 45 billion added to health care bill for opi...     party   \n",
       "4  3605-11504  ' 400,000 <People/> ... Live In Hell On Earth ...     Goats   \n",
       "\n",
       "                                           original2         edit2  \n",
       "0  \" Nutella <riots/> \" erupt in France over disc...         sales  \n",
       "1  \" Nutella riots \" erupt in France over discoun...       Bunnies  \n",
       "2  \" Nutella riots \" erupt in France over discoun...       Bunnies  \n",
       "3  $ 45 billion added to health care bill for opi...      Handouts  \n",
       "4  ' 400,000 People ... Live In Hell On Earth ' :...  Disinfecting  "
      ]
     },
     "execution_count": 12,
     "metadata": {},
     "output_type": "execute_result"
    }
   ],
   "source": [
    "test_df.head(5)"
   ]
  },
  {
   "cell_type": "code",
   "execution_count": 9,
   "metadata": {},
   "outputs": [
    {
     "name": "stdout",
     "output_type": "stream",
     "text": [
      "\" Gene Cernan , Last <Astronaut/> on the Moon , Dies at 82 \"\n",
      "\" Gene Cernan , Last Astronaut on the Moon , <Dies/> at 82 \"\n"
     ]
    }
   ],
   "source": [
    "print(train_df['original1'].iloc[0])\n",
    "print(train_df['original2'].iloc[0])"
   ]
  },
  {
   "cell_type": "code",
   "execution_count": 11,
   "metadata": {},
   "outputs": [
    {
     "name": "stdout",
     "output_type": "stream",
     "text": [
      "(9381, 10)\n",
      "(2355, 5)\n"
     ]
    }
   ],
   "source": [
    "print(train_df.shape)\n",
    "print(test_df.shape)"
   ]
  },
  {
   "cell_type": "code",
   "execution_count": 24,
   "metadata": {},
   "outputs": [
    {
     "data": {
      "text/plain": [
       "2.8"
      ]
     },
     "execution_count": 24,
     "metadata": {},
     "output_type": "execute_result"
    }
   ],
   "source": [
    "train_df['meanGrade1'].max()"
   ]
  },
  {
   "cell_type": "code",
   "execution_count": 43,
   "metadata": {},
   "outputs": [
    {
     "data": {
      "text/plain": [
       "<matplotlib.axes._subplots.AxesSubplot at 0x7fe9523236d0>"
      ]
     },
     "execution_count": 43,
     "metadata": {},
     "output_type": "execute_result"
    },
    {
     "data": {
      "image/png": "[encoded data removed]",
      "text/plain": [
       "<Figure size 432x288 with 1 Axes>"
      ]
     },
     "metadata": {
      "needs_background": "light"
     },
     "output_type": "display_data"
    }
   ],
   "source": [
    "bins = (np.arange(10 * train_df['meanGrade1'].max() + 2) / 10) - 0.05\n",
    "train_df['meanGrade1'].hist(bins = bins)"
   ]
  },
  {
   "cell_type": "code",
   "execution_count": 44,
   "metadata": {},
   "outputs": [
    {
     "data": {
      "text/plain": [
       "<matplotlib.axes._subplots.AxesSubplot at 0x7fe9529752d0>"
      ]
     },
     "execution_count": 44,
     "metadata": {},
     "output_type": "execute_result"
    },
    {
     "data": {
      "image/png": "[encoded data removed]",
      "text/plain": [
       "<Figure size 432x288 with 1 Axes>"
      ]
     },
     "metadata": {
      "needs_background": "light"
     },
     "output_type": "display_data"
    }
   ],
   "source": [
    "bins = (np.arange(10 * train_df['meanGrade2'].max() + 2) / 10) - 0.05\n",
    "train_df['meanGrade1'].hist(bins = bins)"
   ]
  },
  {
   "cell_type": "markdown",
   "metadata": {},
   "source": [
    "### Training corpus\n",
    "\n",
    "training_vocab = 12031 words\n",
    "trainin_tokenized_corpus = 9381 words"
   ]
  }
 ],
 "metadata": {
  "kernelspec": {
   "display_name": "Python 3",
   "language": "python",
   "name": "python3"
  },
  "language_info": {
   "codemirror_mode": {
    "name": "ipython",
    "version": 3
   },
   "file_extension": ".py",
   "mimetype": "text/x-python",
   "name": "python",
   "nbconvert_exporter": "python",
   "pygments_lexer": "ipython3",
   "version": "3.7.6"
  }
 },
 "nbformat": 4,
 "nbformat_minor": 4
}
